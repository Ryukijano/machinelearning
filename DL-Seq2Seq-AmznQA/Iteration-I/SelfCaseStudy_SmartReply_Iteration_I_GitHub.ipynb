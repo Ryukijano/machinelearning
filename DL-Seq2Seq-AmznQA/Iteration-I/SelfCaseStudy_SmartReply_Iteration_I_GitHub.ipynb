{
  "nbformat": 4,
  "nbformat_minor": 0,
  "metadata": {
    "colab": {
      "name": "SelfCaseStudy_SmartReply_Iteration-I_GitHub.ipynb",
      "provenance": [],
      "authorship_tag": "ABX9TyNRP+9tfzPfiIzToiqwXSy2",
      "include_colab_link": true
    },
    "kernelspec": {
      "name": "python3",
      "display_name": "Python 3"
    }
  },
  "cells": [
    {
      "cell_type": "markdown",
      "metadata": {
        "id": "view-in-github",
        "colab_type": "text"
      },
      "source": [
        "<a href=\"https://colab.research.google.com/github/hsomaiya/machinelearning/blob/master/DL-Seq2Seq-AmznQA/Iteration-I/SelfCaseStudy_SmartReply_Iteration_I_GitHub.ipynb\" target=\"_parent\"><img src=\"https://colab.research.google.com/assets/colab-badge.svg\" alt=\"Open In Colab\"/></a>"
      ]
    },
    {
      "cell_type": "markdown",
      "metadata": {
        "colab_type": "text",
        "id": "gmVD81LmNFj5"
      },
      "source": [
        "\n",
        "## Data Collection, Processing and Analysis"
      ]
    },
    {
      "cell_type": "markdown",
      "metadata": {
        "colab_type": "text",
        "id": "NZ7Ryq4bNFj8"
      },
      "source": [
        "### 1. Importing libraries"
      ]
    },
    {
      "cell_type": "code",
      "metadata": {
        "colab_type": "code",
        "id": "gACzczixNFj9",
        "colab": {}
      },
      "source": [
        "import gzip\n",
        "import json\n",
        "import matplotlib.pyplot as plt\n",
        "import numpy as np\n",
        "import os\n",
        "import pandas as pd\n",
        "import re"
      ],
      "execution_count": null,
      "outputs": []
    },
    {
      "cell_type": "markdown",
      "metadata": {
        "colab_type": "text",
        "id": "pt9HKF1CNFj_"
      },
      "source": [
        "### 2. Downloading dataset"
      ]
    },
    {
      "cell_type": "markdown",
      "metadata": {
        "colab_type": "text",
        "id": "wA3zcK9HNFj_"
      },
      "source": [
        "Steps:\n",
        "1. Download CurlWget in Google Chrome Browser https://chrome.google.com/webstore/detail/curlwget/jmocjfidanebdlinpbcdkcmgdifblncg/related?hl=en\n",
        "2. Watch the tutorial uploaded by author\n",
        "3. Download 17 dataset from Questions with multiple answers section of Amazon question/answer data link http://jmcauley.ucsd.edu/data/amazon/qa/"
      ]
    },
    {
      "cell_type": "code",
      "metadata": {
        "colab_type": "code",
        "id": "Y46tey0INFj_",
        "colab": {}
      },
      "source": [
        "os.chdir('/content')"
      ],
      "execution_count": null,
      "outputs": []
    },
    {
      "cell_type": "code",
      "metadata": {
        "colab_type": "code",
        "id": "ZTDi5M7ANFkB",
        "colab": {}
      },
      "source": [
        "!wget -qq --header=\"Host: jmcauley.ucsd.edu\" --header=\"User-Agent: Mozilla/5.0 (Windows NT 10.0; Win64; x64) AppleWebKit/537.36 (KHTML, like Gecko) Chrome/83.0.4103.116 Safari/537.36\" --header=\"Accept: text/html,application/xhtml+xml,application/xml;q=0.9,image/webp,image/apng,*/*;q=0.8,application/signed-exchange;v=b3;q=0.9\" --header=\"Accept-Language: en-US,en;q=0.9\" --header=\"Referer: http://jmcauley.ucsd.edu/data/amazon/qa/\" --header=\"Cookie: __extfc=1\" --header=\"Connection: keep-alive\" \"http://jmcauley.ucsd.edu/data/amazon/qa/icdm/QA_Automotive.json.gz\" -c -O 'QA_Automotive.json.gz'\n",
        "!wget -qq --header=\"Host: jmcauley.ucsd.edu\" --header=\"User-Agent: Mozilla/5.0 (Windows NT 10.0; Win64; x64) AppleWebKit/537.36 (KHTML, like Gecko) Chrome/83.0.4103.116 Safari/537.36\" --header=\"Accept: text/html,application/xhtml+xml,application/xml;q=0.9,image/webp,image/apng,*/*;q=0.8,application/signed-exchange;v=b3;q=0.9\" --header=\"Accept-Language: en-US,en;q=0.9\" --header=\"Referer: http://jmcauley.ucsd.edu/data/amazon/qa/\" --header=\"Cookie: __extfc=1\" --header=\"Connection: keep-alive\" \"http://jmcauley.ucsd.edu/data/amazon/qa/icdm/QA_Baby.json.gz\" -c -O 'QA_Baby.json.gz'\n",
        "!wget -qq --header=\"Host: jmcauley.ucsd.edu\" --header=\"User-Agent: Mozilla/5.0 (Windows NT 10.0; Win64; x64) AppleWebKit/537.36 (KHTML, like Gecko) Chrome/83.0.4103.116 Safari/537.36\" --header=\"Accept: text/html,application/xhtml+xml,application/xml;q=0.9,image/webp,image/apng,*/*;q=0.8,application/signed-exchange;v=b3;q=0.9\" --header=\"Accept-Language: en-US,en;q=0.9\" --header=\"Referer: http://jmcauley.ucsd.edu/data/amazon/qa/\" --header=\"Cookie: __extfc=1\" --header=\"Connection: keep-alive\" \"http://jmcauley.ucsd.edu/data/amazon/qa/icdm/QA_Beauty.json.gz\" -c -O 'QA_Beauty.json.gz'\n",
        "!wget -qq --header=\"Host: jmcauley.ucsd.edu\" --header=\"User-Agent: Mozilla/5.0 (Windows NT 10.0; Win64; x64) AppleWebKit/537.36 (KHTML, like Gecko) Chrome/83.0.4103.116 Safari/537.36\" --header=\"Accept: text/html,application/xhtml+xml,application/xml;q=0.9,image/webp,image/apng,*/*;q=0.8,application/signed-exchange;v=b3;q=0.9\" --header=\"Accept-Language: en-US,en;q=0.9\" --header=\"Referer: http://jmcauley.ucsd.edu/data/amazon/qa/\" --header=\"Cookie: __extfc=1\" --header=\"Connection: keep-alive\" \"http://jmcauley.ucsd.edu/data/amazon/qa/icdm/QA_Cell_Phones_and_Accessories.json.gz\" -c -O 'QA_Cell_Phones_and_Accessories.json.gz'\n",
        "!wget -qq --header=\"Host: jmcauley.ucsd.edu\" --header=\"User-Agent: Mozilla/5.0 (Windows NT 10.0; Win64; x64) AppleWebKit/537.36 (KHTML, like Gecko) Chrome/83.0.4103.116 Safari/537.36\" --header=\"Accept: text/html,application/xhtml+xml,application/xml;q=0.9,image/webp,image/apng,*/*;q=0.8,application/signed-exchange;v=b3;q=0.9\" --header=\"Accept-Language: en-US,en;q=0.9\" --header=\"Referer: http://jmcauley.ucsd.edu/data/amazon/qa/\" --header=\"Cookie: __extfc=1\" --header=\"Connection: keep-alive\" \"http://jmcauley.ucsd.edu/data/amazon/qa/icdm/QA_Clothing_Shoes_and_Jewelry.json.gz\" -c -O 'QA_Clothing_Shoes_and_Jewelry.json.gz'\n",
        "!wget -qq --header=\"Host: jmcauley.ucsd.edu\" --header=\"User-Agent: Mozilla/5.0 (Windows NT 10.0; Win64; x64) AppleWebKit/537.36 (KHTML, like Gecko) Chrome/83.0.4103.116 Safari/537.36\" --header=\"Accept: text/html,application/xhtml+xml,application/xml;q=0.9,image/webp,image/apng,*/*;q=0.8,application/signed-exchange;v=b3;q=0.9\" --header=\"Accept-Language: en-US,en;q=0.9\" --header=\"Referer: http://jmcauley.ucsd.edu/data/amazon/qa/\" --header=\"Cookie: __extfc=1\" --header=\"Connection: keep-alive\" \"http://jmcauley.ucsd.edu/data/amazon/qa/icdm/QA_Electronics.json.gz\" -c -O 'QA_Electronics.json.gz'\n",
        "!wget -qq --header=\"Host: jmcauley.ucsd.edu\" --header=\"User-Agent: Mozilla/5.0 (Windows NT 10.0; Win64; x64) AppleWebKit/537.36 (KHTML, like Gecko) Chrome/83.0.4103.116 Safari/537.36\" --header=\"Accept: text/html,application/xhtml+xml,application/xml;q=0.9,image/webp,image/apng,*/*;q=0.8,application/signed-exchange;v=b3;q=0.9\" --header=\"Accept-Language: en-US,en;q=0.9\" --header=\"Referer: http://jmcauley.ucsd.edu/data/amazon/qa/\" --header=\"Cookie: __extfc=1\" --header=\"Connection: keep-alive\" \"http://jmcauley.ucsd.edu/data/amazon/qa/icdm/QA_Grocery_and_Gourmet_Food.json.gz\" -c -O 'QA_Grocery_and_Gourmet_Food.json.gz'\n",
        "!wget -qq --header=\"Host: jmcauley.ucsd.edu\" --header=\"User-Agent: Mozilla/5.0 (Windows NT 10.0; Win64; x64) AppleWebKit/537.36 (KHTML, like Gecko) Chrome/83.0.4103.116 Safari/537.36\" --header=\"Accept: text/html,application/xhtml+xml,application/xml;q=0.9,image/webp,image/apng,*/*;q=0.8,application/signed-exchange;v=b3;q=0.9\" --header=\"Accept-Language: en-US,en;q=0.9\" --header=\"Referer: http://jmcauley.ucsd.edu/data/amazon/qa/\" --header=\"Cookie: __extfc=1\" --header=\"Connection: keep-alive\" \"http://jmcauley.ucsd.edu/data/amazon/qa/icdm/QA_Health_and_Personal_Care.json.gz\" -c -O 'QA_Health_and_Personal_Care.json.gz'\n",
        "!wget -qq --header=\"Host: jmcauley.ucsd.edu\" --header=\"User-Agent: Mozilla/5.0 (Windows NT 10.0; Win64; x64) AppleWebKit/537.36 (KHTML, like Gecko) Chrome/83.0.4103.116 Safari/537.36\" --header=\"Accept: text/html,application/xhtml+xml,application/xml;q=0.9,image/webp,image/apng,*/*;q=0.8,application/signed-exchange;v=b3;q=0.9\" --header=\"Accept-Language: en-US,en;q=0.9\" --header=\"Referer: http://jmcauley.ucsd.edu/data/amazon/qa/\" --header=\"Cookie: __extfc=1\" --header=\"Connection: keep-alive\" \"http://jmcauley.ucsd.edu/data/amazon/qa/icdm/QA_Home_and_Kitchen.json.gz\" -c -O 'QA_Home_and_Kitchen.json.gz'\n",
        "!wget -qq --header=\"Host: jmcauley.ucsd.edu\" --header=\"User-Agent: Mozilla/5.0 (Windows NT 10.0; Win64; x64) AppleWebKit/537.36 (KHTML, like Gecko) Chrome/83.0.4103.116 Safari/537.36\" --header=\"Accept: text/html,application/xhtml+xml,application/xml;q=0.9,image/webp,image/apng,*/*;q=0.8,application/signed-exchange;v=b3;q=0.9\" --header=\"Accept-Language: en-US,en;q=0.9\" --header=\"Referer: http://jmcauley.ucsd.edu/data/amazon/qa/\" --header=\"Cookie: __extfc=1\" --header=\"Connection: keep-alive\" \"http://jmcauley.ucsd.edu/data/amazon/qa/icdm/QA_Musical_Instruments.json.gz\" -c -O 'QA_Musical_Instruments.json.gz'\n",
        "!wget -qq --header=\"Host: jmcauley.ucsd.edu\" --header=\"User-Agent: Mozilla/5.0 (Windows NT 10.0; Win64; x64) AppleWebKit/537.36 (KHTML, like Gecko) Chrome/83.0.4103.116 Safari/537.36\" --header=\"Accept: text/html,application/xhtml+xml,application/xml;q=0.9,image/webp,image/apng,*/*;q=0.8,application/signed-exchange;v=b3;q=0.9\" --header=\"Accept-Language: en-US,en;q=0.9\" --header=\"Referer: http://jmcauley.ucsd.edu/data/amazon/qa/\" --header=\"Cookie: __extfc=1\" --header=\"Connection: keep-alive\" \"http://jmcauley.ucsd.edu/data/amazon/qa/icdm/QA_Office_Products.json.gz\" -c -O 'QA_Office_Products.json.gz'\n",
        "!wget -qq --header=\"Host: jmcauley.ucsd.edu\" --header=\"User-Agent: Mozilla/5.0 (Windows NT 10.0; Win64; x64) AppleWebKit/537.36 (KHTML, like Gecko) Chrome/83.0.4103.116 Safari/537.36\" --header=\"Accept: text/html,application/xhtml+xml,application/xml;q=0.9,image/webp,image/apng,*/*;q=0.8,application/signed-exchange;v=b3;q=0.9\" --header=\"Accept-Language: en-US,en;q=0.9\" --header=\"Referer: http://jmcauley.ucsd.edu/data/amazon/qa/\" --header=\"Cookie: __extfc=1\" --header=\"Connection: keep-alive\" \"http://jmcauley.ucsd.edu/data/amazon/qa/icdm/QA_Patio_Lawn_and_Garden.json.gz\" -c -O 'QA_Patio_Lawn_and_Garden.json.gz'\n",
        "!wget -qq --header=\"Host: jmcauley.ucsd.edu\" --header=\"User-Agent: Mozilla/5.0 (Windows NT 10.0; Win64; x64) AppleWebKit/537.36 (KHTML, like Gecko) Chrome/83.0.4103.116 Safari/537.36\" --header=\"Accept: text/html,application/xhtml+xml,application/xml;q=0.9,image/webp,image/apng,*/*;q=0.8,application/signed-exchange;v=b3;q=0.9\" --header=\"Accept-Language: en-US,en;q=0.9\" --header=\"Referer: http://jmcauley.ucsd.edu/data/amazon/qa/\" --header=\"Cookie: __extfc=1\" --header=\"Connection: keep-alive\" \"http://jmcauley.ucsd.edu/data/amazon/qa/icdm/QA_Pet_Supplies.json.gz\" -c -O 'QA_Pet_Supplies.json.gz'\n",
        "!wget -qq --header=\"Host: jmcauley.ucsd.edu\" --header=\"User-Agent: Mozilla/5.0 (Windows NT 10.0; Win64; x64) AppleWebKit/537.36 (KHTML, like Gecko) Chrome/83.0.4103.116 Safari/537.36\" --header=\"Accept: text/html,application/xhtml+xml,application/xml;q=0.9,image/webp,image/apng,*/*;q=0.8,application/signed-exchange;v=b3;q=0.9\" --header=\"Accept-Language: en-US,en;q=0.9\" --header=\"Referer: http://jmcauley.ucsd.edu/data/amazon/qa/\" --header=\"Cookie: __extfc=1\" --header=\"Connection: keep-alive\" \"http://jmcauley.ucsd.edu/data/amazon/qa/icdm/QA_Sports_and_Outdoors.json.gz\" -c -O 'QA_Sports_and_Outdoors.json.gz'\n",
        "!wget -qq --header=\"Host: jmcauley.ucsd.edu\" --header=\"User-Agent: Mozilla/5.0 (Windows NT 10.0; Win64; x64) AppleWebKit/537.36 (KHTML, like Gecko) Chrome/83.0.4103.116 Safari/537.36\" --header=\"Accept: text/html,application/xhtml+xml,application/xml;q=0.9,image/webp,image/apng,*/*;q=0.8,application/signed-exchange;v=b3;q=0.9\" --header=\"Accept-Language: en-US,en;q=0.9\" --header=\"Referer: http://jmcauley.ucsd.edu/data/amazon/qa/\" --header=\"Cookie: __extfc=1\" --header=\"Connection: keep-alive\" \"http://jmcauley.ucsd.edu/data/amazon/qa/icdm/QA_Tools_and_Home_Improvement.json.gz\" -c -O 'QA_Tools_and_Home_Improvement.json.gz'\n",
        "!wget -qq --header=\"Host: jmcauley.ucsd.edu\" --header=\"User-Agent: Mozilla/5.0 (Windows NT 10.0; Win64; x64) AppleWebKit/537.36 (KHTML, like Gecko) Chrome/83.0.4103.116 Safari/537.36\" --header=\"Accept: text/html,application/xhtml+xml,application/xml;q=0.9,image/webp,image/apng,*/*;q=0.8,application/signed-exchange;v=b3;q=0.9\" --header=\"Accept-Language: en-US,en;q=0.9\" --header=\"Referer: http://jmcauley.ucsd.edu/data/amazon/qa/\" --header=\"Cookie: __extfc=1\" --header=\"Connection: keep-alive\" \"http://jmcauley.ucsd.edu/data/amazon/qa/icdm/QA_Toys_and_Games.json.gz\" -c -O 'QA_Toys_and_Games.json.gz'\n",
        "!wget -qq --header=\"Host: jmcauley.ucsd.edu\" --header=\"User-Agent: Mozilla/5.0 (Windows NT 10.0; Win64; x64) AppleWebKit/537.36 (KHTML, like Gecko) Chrome/83.0.4103.116 Safari/537.36\" --header=\"Accept: text/html,application/xhtml+xml,application/xml;q=0.9,image/webp,image/apng,*/*;q=0.8,application/signed-exchange;v=b3;q=0.9\" --header=\"Accept-Language: en-US,en;q=0.9\" --header=\"Referer: http://jmcauley.ucsd.edu/data/amazon/qa/\" --header=\"Cookie: __extfc=1\" --header=\"Connection: keep-alive\" \"http://jmcauley.ucsd.edu/data/amazon/qa/icdm/QA_Video_Games.json.gz\" -c -O 'QA_Video_Games.json.gz'"
      ],
      "execution_count": null,
      "outputs": []
    },
    {
      "cell_type": "code",
      "metadata": {
        "colab_type": "code",
        "id": "tDcfmUhMNFkC",
        "colab": {}
      },
      "source": [
        "rootdir='/content'"
      ],
      "execution_count": null,
      "outputs": []
    },
    {
      "cell_type": "code",
      "metadata": {
        "colab_type": "code",
        "id": "sktmN-kyNFkD",
        "colab": {}
      },
      "source": [
        "from datetime import datetime\n",
        "\n",
        "def timer(start_time=None):\n",
        "  \"\"\" \n",
        "  Measure the block's execution time using the clock \n",
        "  \"\"\"\n",
        "  if not start_time:\n",
        "    start_time = datetime.now()\n",
        "    return start_time\n",
        "  elif start_time:\n",
        "    thour, temp_sec = divmod((datetime.now() - start_time).total_seconds(), 3600)\n",
        "    tmin, tsec = divmod(temp_sec, 60)\n",
        "    print('Time taken: %i hours %i minutes and %s seconds.' % (thour, tmin, round(tsec, 2)))"
      ],
      "execution_count": null,
      "outputs": []
    },
    {
      "cell_type": "markdown",
      "metadata": {
        "colab_type": "text",
        "id": "qFJp2UO_NFkE"
      },
      "source": [
        "### 3. Extracting data"
      ]
    },
    {
      "cell_type": "code",
      "metadata": {
        "colab_type": "code",
        "id": "P126qfTqNFkE",
        "colab": {}
      },
      "source": [
        "def parseJson(mFile):\n",
        "  \"\"\" \n",
        "  Parses (unzip and read) the *.json.gz file \n",
        "  \"\"\"\n",
        "  gzipFile = gzip.open(mFile, 'rb')\n",
        "  for line in gzipFile:\n",
        "    yield eval(line)\n",
        "\n",
        "def showFileContents(dir, totalLinesLimit=1):\n",
        "  \"\"\" \n",
        "  Displays the contents of the *.json.gz file\n",
        "  If the totalLinesLimit is greater than single\n",
        "  *.json.gz file, then read remaining lines \n",
        "  from the next *.json.gz file \n",
        "  \"\"\"\n",
        "  \n",
        "  if totalLinesLimit < 1:\n",
        "    print(\"Invalid number of totalLinesLimit\")\n",
        "    return\n",
        "\n",
        "  for mFile in sorted(os.listdir(rootdir)):\n",
        "    linesCount = 0\n",
        "    if mFile.endswith(\".json.gz\"):\n",
        "      print(\"Viewing file:\", mFile)\n",
        "      jsonFile = parseJson(mFile)\n",
        "      for line in jsonFile: \n",
        "        print(line)\n",
        "        linesCount +=1\n",
        "        if linesCount == totalLinesLimit:\n",
        "          return\n",
        "          \n",
        "def createDataFrame(dir, retain_additional_info=False):\n",
        "  \"\"\" \n",
        "  Creates and returns a pandas.Dataframe from all *.json.gz files.\n",
        "  If the flag retain_additional_info is True, this function\n",
        "  will collect additional data from all the *.json.gz file, \n",
        "  and return this along with the pandas.Dataframe \n",
        "  \"\"\"\n",
        "  if retain_additional_info:\n",
        "    info = dict()\n",
        "    numOfAns = dict()\n",
        "    quesType = dict()\n",
        "    quesOneWord = dict()\n",
        "    quesTwoWords = dict()\n",
        "    quesLen = dict()\n",
        "    ansType = dict()\n",
        "    ansScore = dict()\n",
        "    ansHelpful = dict()\n",
        "    ansOneWord = dict()\n",
        "    ansTwoWords = dict()\n",
        "    ansLen = dict()\n",
        "\n",
        "  questions = list()\n",
        "  answers = list()\n",
        "  questionsType = list()\n",
        "\n",
        "  # For each file\n",
        "  for mFile in sorted(os.listdir(rootdir)):\n",
        "    # If file is a json.gz file\n",
        "    if mFile.endswith(\".json.gz\"):\n",
        "      start_time = timer()\n",
        "      print(\"Processing file:\", mFile)\n",
        "      # Parse the file\n",
        "      jsonFile = parseJson(mFile)\n",
        "      # For each line in the parsed file\n",
        "      for line in jsonFile: \n",
        "        # For each question present in the line\n",
        "        for j in range(len(line.get('questions'))):  \n",
        "          # Get the question text\n",
        "          question = line.get('questions')[j].get('questionText')\n",
        "          qtype =  line.get('questions')[j].get('questionType')\n",
        "\n",
        "          if retain_additional_info:\n",
        "            # Collecting additional info\n",
        "            nAns = len(line.get('questions')[j].get('answers'))\n",
        "            \n",
        "            qlen = len(question)\n",
        "            qsplit = question.split(' ')\n",
        "            # Storing additional info in the dictionary\n",
        "            if qlen == 1:\n",
        "              quesOneWord[tuple(qsplit)] = quesOneWord.get(tuple(qsplit), 0) + 1\n",
        "            else:\n",
        "              quesTwoWords[tuple(qsplit[:2])] = quesTwoWords.get(tuple(qsplit[:2]), 0) + 1\n",
        "            \n",
        "            numOfAns[nAns] = numOfAns.get(nAns, 0) + 1\n",
        "            quesType[qtype] = quesType.get(qtype, 0) + 1\n",
        "            quesLen[qlen] = quesLen.get(qlen, 0) + 1        \n",
        "\n",
        "          # For each answer to the question\n",
        "          for i in range(nAns):           \n",
        "            # Store the question\n",
        "            questions.append(question)\n",
        "            # Store the question type\n",
        "            questionsType.append(qtype)\n",
        "            # Store the answer\n",
        "            answer = line.get('questions')[j].get('answers')[i].get('answerText')\n",
        "            answers.append(answer)\n",
        "            \n",
        "            if retain_additional_info:\n",
        "              # Collecting additional info\n",
        "              atype =  line.get('questions')[j].get('answers')[i].get('answerType')\n",
        "              aScore =  line.get('questions')[j].get('answers')[i].get('answerScore')\n",
        "              aHelpful =  line.get('questions')[j].get('answers')[i].get('helpful')\n",
        "              alen = len(answer)\n",
        "              asplit = answer.split(' ')\n",
        "              # Storing additional info in the dictionary\n",
        "              ansLen[alen] = ansLen.get(alen, 0) + 1\n",
        "              if alen == 1:\n",
        "                ansOneWord[tuple(asplit)] = ansOneWord.get(tuple(asplit), 0) + 1\n",
        "              else:\n",
        "                ansTwoWords[tuple(asplit[:2])] = ansTwoWords.get(tuple(asplit[:2]), 0) + 1\n",
        "\n",
        "              if atype:\n",
        "                ansType[atype] = ansType.get(atype, 0) + 1\n",
        "              else:\n",
        "                ansType['Undefined'] = ansType.get('Undefined', 0) + 1\n",
        "              \n",
        "              if aScore:\n",
        "                ansScore[aScore] = ansScore.get(aScore, 0) + 1\n",
        "              else:\n",
        "                ansScore['Undefined'] = ansScore.get('Undefined', 0) + 1\n",
        "              \n",
        "              if aHelpful:\n",
        "                # aHelpful is a list and a list is mutable and therefore non-hashable. \n",
        "                # Dictionary keys need to be hashable. \n",
        "                ansHelpful[tuple(aHelpful)] = ansHelpful.get(tuple(aHelpful), 0) + 1\n",
        "              else:\n",
        "                ansHelpful['Undefined'] = ansHelpful.get('Undefined', 0) + 1\n",
        "                   \n",
        "      timer(start_time)\n",
        "  if retain_additional_info:\n",
        "    info['numOfAns'] = numOfAns\n",
        "    info['quesType'] = quesType\n",
        "    info['ansType'] = ansType\n",
        "    info['ansHelpful'] = ansHelpful\n",
        "    info['ansScore'] = ansScore\n",
        "    info['quesLen'] = quesLen\n",
        "    info['ansLen'] = ansLen\n",
        "    info['quesOneWord'] = quesOneWord\n",
        "    info['quesTwoWords'] = quesTwoWords\n",
        "    info['ansOneWord'] = ansOneWord\n",
        "    info['ansTwoWords'] = ansTwoWords\n",
        "    return pd.DataFrame(list(zip(questions, questionsType, answers)), columns =['Questions', 'Questions Type', 'Answers']), info\n",
        "  else:\n",
        "    return pd.DataFrame(list(zip(questions, questionsType, answers)), columns =['Questions', 'Questions Type','Answers'])"
      ],
      "execution_count": null,
      "outputs": []
    },
    {
      "cell_type": "markdown",
      "metadata": {
        "colab_type": "text",
        "id": "aHJWjCDBNFkF"
      },
      "source": [
        "#### 3.1. Viewing file contents"
      ]
    },
    {
      "cell_type": "code",
      "metadata": {
        "colab_type": "code",
        "id": "ZIBmPqiBNFkF",
        "colab": {
          "base_uri": "https://localhost:8080/",
          "height": 72
        },
        "outputId": "87ed2aac-7ef9-4c77-9e18-1de16de55af9"
      },
      "source": [
        "showFileContents(rootdir)"
      ],
      "execution_count": null,
      "outputs": [
        {
          "output_type": "stream",
          "text": [
            "Viewing file: QA_Automotive.json.gz\n",
            "{'asin': 'B000182CPM', 'questions': [{'questionType': 'open-ended', 'askerID': 'A26FXHGNE8HHIU', 'questionTime': 'December 29, 2014', 'questionText': 'Will these fit my 2002 Ford F150 XLT?', 'answers': [{'answerText': \"It's all custom mounting, where there's a will there's a way, don't see why not, figure 15minutes per mud flap, there isn't any hardware included just the stamped sheet metal pieces\", 'answererID': 'AQZ8QLPPYA359', 'answerTime': 'December 29, 2014', 'helpful': [0, 0]}, {'answerText': 'You will need to drill another hole in Mud flap & bed frame for added stability.  the added bolt & nut makes it a tighter fit, you only get two existing holes on the bed frame with plastic mud flaps when you bought the truck.  These Dee Zee flaps are much heavier than the plastic/rubber flaps originally provided on truck.', 'answererID': 'A246IDL7UXVCQO', 'answerTime': 'December 29, 2014', 'helpful': [0, 0]}]}, {'questionType': 'yes/no', 'askerID': 'A365S8H55GGXPD', 'questionTime': 'July 19, 2013', 'questionText': 'is the hardware for installation included', 'answers': [{'answerText': \"It's been a while since I installed them, but I don't think any installation hardware is included.\", 'answererID': 'A3BWPG98KF0TAV', 'answerTime': 'July 19, 2013', 'helpful': [0, 0], 'answerType': '?', 'answerScore': '0.5428'}, {'answerText': '1 pair rear flaps and mounting hardware.', 'answererID': '1', 'answerTime': 'July 19, 2013', 'helpful': [0, 0], 'answerType': '?', 'answerScore': '0.5565'}, {'answerText': \"I didn't buy these for myself I bought them for our son-in-law for a Christmas gift but I think they came with the hardware.\", 'answererID': 'A1MGZTOLD2C0VS', 'answerTime': 'July 19, 2013', 'helpful': [0, 0], 'answerType': '?', 'answerScore': '0.4623'}, {'answerText': 'no', 'answererID': 'A1GU54G5GCLOGV', 'answerTime': 'July 20, 2013', 'helpful': [0, 0], 'answerType': 'N', 'answerScore': '0.0366'}]}, {'questionType': 'yes/no', 'askerID': 'A365S8H55GGXPD', 'questionTime': 'July 19, 2013', 'questionText': 'will they fit 2013 f350 dually', 'answers': [{'answerText': \"Not sure, maybe measuring width of wheels and width of flaps.  Sorry I couldn't be more help.\", 'answererID': 'A2FQI9PZSTWQTO', 'answerTime': 'July 19, 2013', 'helpful': [0, 0], 'answerType': '?', 'answerScore': '0.1260'}, {'answerText': 'They will fit the front, but will be to skinny to cover both rear wheels.', 'answererID': 'A2LXOUIQAP0Y9U', 'answerTime': 'July 19, 2013', 'helpful': [0, 0], 'answerType': '?', 'answerScore': '0.5869'}]}]}\n"
          ],
          "name": "stdout"
        }
      ]
    },
    {
      "cell_type": "markdown",
      "metadata": {
        "colab_type": "text",
        "id": "7CZb4Z8vNFkH"
      },
      "source": [
        "#### 3.2. Creating a dataframe and get additional information about the data"
      ]
    },
    {
      "cell_type": "code",
      "metadata": {
        "colab_type": "code",
        "id": "mjKQYhp9NFkH",
        "colab": {
          "base_uri": "https://localhost:8080/",
          "height": 638
        },
        "outputId": "587b8a03-05a0-4b65-b73b-02f98a458e8c"
      },
      "source": [
        "start_time = timer()\n",
        "df, info = createDataFrame(rootdir, retain_additional_info=True)\n",
        "timer(start_time)"
      ],
      "execution_count": null,
      "outputs": [
        {
          "output_type": "stream",
          "text": [
            "Processing file: QA_Automotive.json.gz\n",
            "Time taken: 0 hours 0 minutes and 7.82 seconds.\n",
            "Processing file: QA_Baby.json.gz\n",
            "Time taken: 0 hours 0 minutes and 2.83 seconds.\n",
            "Processing file: QA_Beauty.json.gz\n",
            "Time taken: 0 hours 0 minutes and 4.3 seconds.\n",
            "Processing file: QA_Cell_Phones_and_Accessories.json.gz\n",
            "Time taken: 0 hours 0 minutes and 7.79 seconds.\n",
            "Processing file: QA_Clothing_Shoes_and_Jewelry.json.gz\n",
            "Time taken: 0 hours 0 minutes and 2.16 seconds.\n",
            "Processing file: QA_Electronics.json.gz\n",
            "Time taken: 0 hours 0 minutes and 31.09 seconds.\n",
            "Processing file: QA_Grocery_and_Gourmet_Food.json.gz\n",
            "Time taken: 0 hours 0 minutes and 2.1 seconds.\n",
            "Processing file: QA_Health_and_Personal_Care.json.gz\n",
            "Time taken: 0 hours 0 minutes and 8.8 seconds.\n",
            "Processing file: QA_Home_and_Kitchen.json.gz\n",
            "Time taken: 0 hours 0 minutes and 20.45 seconds.\n",
            "Processing file: QA_Musical_Instruments.json.gz\n",
            "Time taken: 0 hours 0 minutes and 2.45 seconds.\n",
            "Processing file: QA_Office_Products.json.gz\n",
            "Time taken: 0 hours 0 minutes and 4.6 seconds.\n",
            "Processing file: QA_Patio_Lawn_and_Garden.json.gz\n",
            "Time taken: 0 hours 0 minutes and 6.65 seconds.\n",
            "Processing file: QA_Pet_Supplies.json.gz\n",
            "Time taken: 0 hours 0 minutes and 4.67 seconds.\n",
            "Processing file: QA_Sports_and_Outdoors.json.gz\n",
            "Time taken: 0 hours 0 minutes and 15.0 seconds.\n",
            "Processing file: QA_Tools_and_Home_Improvement.json.gz\n",
            "Time taken: 0 hours 0 minutes and 11.14 seconds.\n",
            "Processing file: QA_Toys_and_Games.json.gz\n",
            "Time taken: 0 hours 0 minutes and 5.09 seconds.\n",
            "Processing file: QA_Video_Games.json.gz\n",
            "Time taken: 0 hours 0 minutes and 0.99 seconds.\n",
            "Time taken: 0 hours 2 minutes and 21.52 seconds.\n"
          ],
          "name": "stdout"
        }
      ]
    },
    {
      "cell_type": "markdown",
      "metadata": {
        "colab_type": "text",
        "id": "7HwN7b_CNFkI"
      },
      "source": [
        "#### 3.3. Viewing the dataframe information"
      ]
    },
    {
      "cell_type": "code",
      "metadata": {
        "colab_type": "code",
        "id": "PzXv60D6NubT",
        "colab": {
          "base_uri": "https://localhost:8080/",
          "height": 187
        },
        "outputId": "5a70b349-5ecd-4717-e25d-523a24b3e730"
      },
      "source": [
        "df.info()"
      ],
      "execution_count": null,
      "outputs": [
        {
          "output_type": "stream",
          "text": [
            "<class 'pandas.core.frame.DataFrame'>\n",
            "RangeIndex: 4019744 entries, 0 to 4019743\n",
            "Data columns (total 3 columns):\n",
            " #   Column          Dtype \n",
            "---  ------          ----- \n",
            " 0   Questions       object\n",
            " 1   Questions Type  object\n",
            " 2   Answers         object\n",
            "dtypes: object(3)\n",
            "memory usage: 92.0+ MB\n"
          ],
          "name": "stdout"
        }
      ]
    },
    {
      "cell_type": "markdown",
      "metadata": {
        "colab_type": "text",
        "id": "oT38uij7NFkK"
      },
      "source": [
        "#### 3.4. Displaying the contents of a dataframe"
      ]
    },
    {
      "cell_type": "code",
      "metadata": {
        "colab_type": "code",
        "id": "mWew3Dn4Ny-8",
        "colab": {
          "base_uri": "https://localhost:8080/",
          "height": 419
        },
        "outputId": "802c9dd0-3103-4527-cfa3-6b6ad1386664"
      },
      "source": [
        "df"
      ],
      "execution_count": null,
      "outputs": [
        {
          "output_type": "execute_result",
          "data": {
            "text/html": [
              "<div>\n",
              "<style scoped>\n",
              "    .dataframe tbody tr th:only-of-type {\n",
              "        vertical-align: middle;\n",
              "    }\n",
              "\n",
              "    .dataframe tbody tr th {\n",
              "        vertical-align: top;\n",
              "    }\n",
              "\n",
              "    .dataframe thead th {\n",
              "        text-align: right;\n",
              "    }\n",
              "</style>\n",
              "<table border=\"1\" class=\"dataframe\">\n",
              "  <thead>\n",
              "    <tr style=\"text-align: right;\">\n",
              "      <th></th>\n",
              "      <th>Questions</th>\n",
              "      <th>Questions Type</th>\n",
              "      <th>Answers</th>\n",
              "    </tr>\n",
              "  </thead>\n",
              "  <tbody>\n",
              "    <tr>\n",
              "      <th>0</th>\n",
              "      <td>Will these fit my 2002 Ford F150 XLT?</td>\n",
              "      <td>open-ended</td>\n",
              "      <td>It's all custom mounting, where there's a will...</td>\n",
              "    </tr>\n",
              "    <tr>\n",
              "      <th>1</th>\n",
              "      <td>Will these fit my 2002 Ford F150 XLT?</td>\n",
              "      <td>open-ended</td>\n",
              "      <td>You will need to drill another hole in Mud fla...</td>\n",
              "    </tr>\n",
              "    <tr>\n",
              "      <th>2</th>\n",
              "      <td>is the hardware for installation included</td>\n",
              "      <td>yes/no</td>\n",
              "      <td>It's been a while since I installed them, but ...</td>\n",
              "    </tr>\n",
              "    <tr>\n",
              "      <th>3</th>\n",
              "      <td>is the hardware for installation included</td>\n",
              "      <td>yes/no</td>\n",
              "      <td>1 pair rear flaps and mounting hardware.</td>\n",
              "    </tr>\n",
              "    <tr>\n",
              "      <th>4</th>\n",
              "      <td>is the hardware for installation included</td>\n",
              "      <td>yes/no</td>\n",
              "      <td>I didn't buy these for myself I bought them fo...</td>\n",
              "    </tr>\n",
              "    <tr>\n",
              "      <th>...</th>\n",
              "      <td>...</td>\n",
              "      <td>...</td>\n",
              "      <td>...</td>\n",
              "    </tr>\n",
              "    <tr>\n",
              "      <th>4019739</th>\n",
              "      <td>Would it work on a lap top</td>\n",
              "      <td>open-ended</td>\n",
              "      <td>theres specs on the game requirements on the a...</td>\n",
              "    </tr>\n",
              "    <tr>\n",
              "      <th>4019740</th>\n",
              "      <td>Would it work on a lap top</td>\n",
              "      <td>open-ended</td>\n",
              "      <td>Short answer yes it will. It all depends on yo...</td>\n",
              "    </tr>\n",
              "    <tr>\n",
              "      <th>4019741</th>\n",
              "      <td>Would it work on a lap top</td>\n",
              "      <td>open-ended</td>\n",
              "      <td>yes it would work great on a lap top</td>\n",
              "    </tr>\n",
              "    <tr>\n",
              "      <th>4019742</th>\n",
              "      <td>can u mod this one</td>\n",
              "      <td>yes/no</td>\n",
              "      <td>Yes you can. I personally download from spinti...</td>\n",
              "    </tr>\n",
              "    <tr>\n",
              "      <th>4019743</th>\n",
              "      <td>can u mod this one</td>\n",
              "      <td>yes/no</td>\n",
              "      <td>Yes I can</td>\n",
              "    </tr>\n",
              "  </tbody>\n",
              "</table>\n",
              "<p>4019744 rows × 3 columns</p>\n",
              "</div>"
            ],
            "text/plain": [
              "                                         Questions  ...                                            Answers\n",
              "0            Will these fit my 2002 Ford F150 XLT?  ...  It's all custom mounting, where there's a will...\n",
              "1            Will these fit my 2002 Ford F150 XLT?  ...  You will need to drill another hole in Mud fla...\n",
              "2        is the hardware for installation included  ...  It's been a while since I installed them, but ...\n",
              "3        is the hardware for installation included  ...           1 pair rear flaps and mounting hardware.\n",
              "4        is the hardware for installation included  ...  I didn't buy these for myself I bought them fo...\n",
              "...                                            ...  ...                                                ...\n",
              "4019739                 Would it work on a lap top  ...  theres specs on the game requirements on the a...\n",
              "4019740                 Would it work on a lap top  ...  Short answer yes it will. It all depends on yo...\n",
              "4019741                 Would it work on a lap top  ...               yes it would work great on a lap top\n",
              "4019742                         can u mod this one  ...  Yes you can. I personally download from spinti...\n",
              "4019743                         can u mod this one  ...                                          Yes I can\n",
              "\n",
              "[4019744 rows x 3 columns]"
            ]
          },
          "metadata": {
            "tags": []
          },
          "execution_count": 12
        }
      ]
    },
    {
      "cell_type": "markdown",
      "metadata": {
        "colab_type": "text",
        "id": "UvFagXz9NFkL"
      },
      "source": [
        "#### 3.4. Displaying the additional information captured"
      ]
    },
    {
      "cell_type": "code",
      "metadata": {
        "colab_type": "code",
        "id": "xbap48F1NFkL",
        "colab": {
          "base_uri": "https://localhost:8080/",
          "height": 204
        },
        "outputId": "3a89af72-1bf0-4642-adb0-4f817507550a"
      },
      "source": [
        "for k, v in info.items():\n",
        "  print(k,len(v))"
      ],
      "execution_count": null,
      "outputs": [
        {
          "output_type": "stream",
          "text": [
            "numOfAns 10\n",
            "quesType 2\n",
            "ansType 4\n",
            "ansHelpful 1063\n",
            "ansScore 9997\n",
            "quesLen 1933\n",
            "ansLen 5714\n",
            "quesOneWord 21\n",
            "quesTwoWords 76785\n",
            "ansOneWord 62\n",
            "ansTwoWords 487229\n"
          ],
          "name": "stdout"
        }
      ]
    },
    {
      "cell_type": "markdown",
      "metadata": {
        "colab_type": "text",
        "id": "Ug2aiAODNFkM"
      },
      "source": [
        "#### 3.5. Visualizing bar plots of the additional information captured"
      ]
    },
    {
      "cell_type": "code",
      "metadata": {
        "colab_type": "code",
        "id": "ZT0_IH_TNFkM",
        "colab": {}
      },
      "source": [
        "def generateBarPlot(mDict, title, xlabel, ylabel, top=None, reverse=True, ha='center'):\n",
        "  \"\"\" \n",
        "  Generates a bar plot from a dictionary.\n",
        "  If top is specified, then this function first sorts the dictionary\n",
        "  in reverse order and selects 'top' values. \n",
        "  \"\"\"\n",
        "  if top is None:\n",
        "    plt.bar(list(mDict.keys()), mDict.values(), align='center')\n",
        "  else:\n",
        "    mDictSorted = sorted(mDict.items(), key=lambda x: x[1], reverse=reverse)[:top]\n",
        "    plt.bar(range(len(mDictSorted)), [val[1] for val in mDictSorted])\n",
        "    plt.xticks(range(len(mDictSorted)), [val[0] for val in mDictSorted], ha=ha)\n",
        "    plt.xticks(rotation=70)\n",
        "  plt.title(title)\n",
        "  plt.xlabel(xlabel)\n",
        "  plt.ylabel(ylabel)\n",
        "  plt.show()"
      ],
      "execution_count": null,
      "outputs": []
    },
    {
      "cell_type": "code",
      "metadata": {
        "colab_type": "code",
        "id": "zIFAo1edNFkN",
        "colab": {
          "base_uri": "https://localhost:8080/",
          "height": 295
        },
        "outputId": "07add1c8-b4e3-4297-d9ae-ffa2606d9313"
      },
      "source": [
        "generateBarPlot(info['quesType'], 'Number of Question Type', 'Question Type', 'Count of Questions')"
      ],
      "execution_count": null,
      "outputs": [
        {
          "output_type": "display_data",
          "data": {
            "image/png": "[encoded data removed]",
            "text/plain": [
              "<Figure size 432x288 with 1 Axes>"
            ]
          },
          "metadata": {
            "tags": [],
            "needs_background": "light"
          }
        }
      ]
    },
    {
      "cell_type": "markdown",
      "metadata": {
        "colab_type": "text",
        "id": "q8DNyHzqNFkO"
      },
      "source": [
        "There are more open-ended questions compared to yes/no."
      ]
    },
    {
      "cell_type": "code",
      "metadata": {
        "colab_type": "code",
        "id": "csx_PBEUNFkP",
        "colab": {
          "base_uri": "https://localhost:8080/",
          "height": 307
        },
        "outputId": "a9dd6afa-07de-4613-aaf9-159d2b9de1f2"
      },
      "source": [
        "generateBarPlot(info['quesLen'], 'Length of Question', 'Length', 'Count of Questions', top=25)"
      ],
      "execution_count": null,
      "outputs": [
        {
          "output_type": "display_data",
          "data": {
            "image/png": "[encoded data removed]",
            "text/plain": [
              "<Figure size 432x288 with 1 Axes>"
            ]
          },
          "metadata": {
            "tags": [],
            "needs_background": "light"
          }
        }
      ]
    },
    {
      "cell_type": "markdown",
      "metadata": {
        "colab_type": "text",
        "id": "YFIfKh9RNFkV"
      },
      "source": [
        "There are many questions with length = 150 and most of the questions have length greater than 20."
      ]
    },
    {
      "cell_type": "code",
      "metadata": {
        "colab_type": "code",
        "id": "TUqQIO0hNFkW",
        "colab": {
          "base_uri": "https://localhost:8080/",
          "height": 314
        },
        "outputId": "000d127a-a302-4136-8edc-c63f4eadce4f"
      },
      "source": [
        "generateBarPlot(info['quesOneWord'], 'First Word of Question', 'Word', 'Count of Questions',top=25, ha='right')"
      ],
      "execution_count": null,
      "outputs": [
        {
          "output_type": "display_data",
          "data": {
            "image/png": "[encoded data removed]",
            "text/plain": [
              "<Figure size 432x288 with 1 Axes>"
            ]
          },
          "metadata": {
            "tags": [],
            "needs_background": "light"
          }
        }
      ]
    },
    {
      "cell_type": "markdown",
      "metadata": {
        "colab_type": "text",
        "id": "mMeZ8kUvNFkX"
      },
      "source": [
        "There are some questions in the uncleaned dataset with length = 1 and the only word in the question is a junk word."
      ]
    },
    {
      "cell_type": "code",
      "metadata": {
        "colab_type": "code",
        "id": "7KJUFPu0NFkX",
        "colab": {
          "base_uri": "https://localhost:8080/",
          "height": 359
        },
        "outputId": "4e4fd9ee-662e-4b2e-e141-ea8f6d78a4d8"
      },
      "source": [
        "generateBarPlot(info['quesTwoWords'], 'First Two Words of Question', 'Words', 'Count of Questions', top=25, ha='right')"
      ],
      "execution_count": null,
      "outputs": [
        {
          "output_type": "display_data",
          "data": {
            "image/png": "[encoded data removed]",
            "text/plain": [
              "<Figure size 432x288 with 1 Axes>"
            ]
          },
          "metadata": {
            "tags": [],
            "needs_background": "light"
          }
        }
      ]
    },
    {
      "cell_type": "markdown",
      "metadata": {
        "colab_type": "text",
        "id": "iF_mEeMqNFkY"
      },
      "source": [
        "There are many questions that starts with the same first two words."
      ]
    },
    {
      "cell_type": "code",
      "metadata": {
        "colab_type": "code",
        "id": "yH4017LHNFkY",
        "colab": {
          "base_uri": "https://localhost:8080/",
          "height": 295
        },
        "outputId": "9249a186-7133-46d9-8f43-0cd26f730c6b"
      },
      "source": [
        "generateBarPlot(info['ansType'], 'Type of Answers', 'Type', 'Number of Answers')"
      ],
      "execution_count": null,
      "outputs": [
        {
          "output_type": "display_data",
          "data": {
            "image/png": "[encoded data removed]",
            "text/plain": [
              "<Figure size 432x288 with 1 Axes>"
            ]
          },
          "metadata": {
            "tags": [],
            "needs_background": "light"
          }
        }
      ]
    },
    {
      "cell_type": "markdown",
      "metadata": {
        "colab_type": "text",
        "id": "3tBsv6UlNFkZ"
      },
      "source": [
        "Most of the answers have no 'answerType' defined."
      ]
    },
    {
      "cell_type": "code",
      "metadata": {
        "colab_type": "code",
        "id": "vpZCaNu5NFkZ",
        "colab": {
          "base_uri": "https://localhost:8080/",
          "height": 295
        },
        "outputId": "2ab89fc9-be1c-48ed-935b-d64d46044c7a"
      },
      "source": [
        "generateBarPlot(info['numOfAns'], 'Number of Answers to Questions', 'Number of Answers', 'Count of Questions')"
      ],
      "execution_count": null,
      "outputs": [
        {
          "output_type": "display_data",
          "data": {
            "image/png": "[encoded data removed]",
            "text/plain": [
              "<Figure size 432x288 with 1 Axes>"
            ]
          },
          "metadata": {
            "tags": [],
            "needs_background": "light"
          }
        }
      ]
    },
    {
      "cell_type": "markdown",
      "metadata": {
        "colab_type": "text",
        "id": "4_uNSX_INFka"
      },
      "source": [
        "Most of the questions have more than one answer."
      ]
    },
    {
      "cell_type": "code",
      "metadata": {
        "colab_type": "code",
        "id": "5XZk-ddHNFka",
        "colab": {
          "base_uri": "https://localhost:8080/",
          "height": 301
        },
        "outputId": "c442c933-5980-46fb-d039-2e0cdcb06da7"
      },
      "source": [
        "generateBarPlot(info['ansLen'], 'Length of Answers', 'Length', 'Count of Answers', top=25)"
      ],
      "execution_count": null,
      "outputs": [
        {
          "output_type": "display_data",
          "data": {
            "image/png": "[encoded data removed]",
            "text/plain": [
              "<Figure size 432x288 with 1 Axes>"
            ]
          },
          "metadata": {
            "tags": [],
            "needs_background": "light"
          }
        }
      ]
    },
    {
      "cell_type": "markdown",
      "metadata": {
        "colab_type": "text",
        "id": "qyMUGoHtNFkb"
      },
      "source": [
        "Most of the answers have length greater than or equal to two."
      ]
    },
    {
      "cell_type": "code",
      "metadata": {
        "colab_type": "code",
        "id": "dZnYhVHHNFkb",
        "colab": {
          "base_uri": "https://localhost:8080/",
          "height": 314
        },
        "outputId": "54a08a30-9d76-4189-a098-45671e79458e"
      },
      "source": [
        "generateBarPlot(info['ansOneWord'], 'First Word of Answer', 'Word', 'Count of Answers',top=25, ha='right')"
      ],
      "execution_count": null,
      "outputs": [
        {
          "output_type": "display_data",
          "data": {
            "image/png": "[encoded data removed]",
            "text/plain": [
              "<Figure size 432x288 with 1 Axes>"
            ]
          },
          "metadata": {
            "tags": [],
            "needs_background": "light"
          }
        }
      ]
    },
    {
      "cell_type": "markdown",
      "metadata": {
        "colab_type": "text",
        "id": "4ifQ6jl-NFkc"
      },
      "source": [
        "There are some answers in the uncleaned dataset with length = 1 and the only word in the answer is a junk word."
      ]
    },
    {
      "cell_type": "code",
      "metadata": {
        "colab_type": "code",
        "id": "36IRKQ4hNFkd",
        "colab": {
          "base_uri": "https://localhost:8080/",
          "height": 351
        },
        "outputId": "5af8dab3-7b15-43a3-c03e-143b44675dac"
      },
      "source": [
        "generateBarPlot(info['ansTwoWords'], 'First Two Words of Answer', 'Words', 'Count of Answers', top=25, ha='right')"
      ],
      "execution_count": null,
      "outputs": [
        {
          "output_type": "display_data",
          "data": {
            "image/png": "[encoded data removed]",
            "text/plain": [
              "<Figure size 432x288 with 1 Axes>"
            ]
          },
          "metadata": {
            "tags": [],
            "needs_background": "light"
          }
        }
      ]
    },
    {
      "cell_type": "markdown",
      "metadata": {
        "colab_type": "text",
        "id": "X6UEwm4GNFke"
      },
      "source": [
        "There are many answers that starts with the same first two words."
      ]
    },
    {
      "cell_type": "code",
      "metadata": {
        "colab_type": "code",
        "id": "OIiG3vJHNFke",
        "colab": {
          "base_uri": "https://localhost:8080/",
          "height": 314
        },
        "outputId": "9d3f48d6-b772-48e8-d601-cb73139ac5f4"
      },
      "source": [
        "generateBarPlot(info['ansHelpful'], 'Helpfulness of Answer', 'Helpful Votes', 'Count', top=25, ha='right')"
      ],
      "execution_count": null,
      "outputs": [
        {
          "output_type": "display_data",
          "data": {
            "image/png": "[encoded data removed]",
            "text/plain": [
              "<Figure size 432x288 with 1 Axes>"
            ]
          },
          "metadata": {
            "tags": [],
            "needs_background": "light"
          }
        }
      ]
    },
    {
      "cell_type": "markdown",
      "metadata": {
        "colab_type": "text",
        "id": "ldK32ls0NFkg"
      },
      "source": [
        "Most of the answers have received 0 upvotes and 0 downvotes."
      ]
    },
    {
      "cell_type": "code",
      "metadata": {
        "colab_type": "code",
        "id": "DDAjIlPxNFkg",
        "colab": {
          "base_uri": "https://localhost:8080/",
          "height": 337
        },
        "outputId": "af60df7a-fe75-411c-bceb-0ef8185355bf"
      },
      "source": [
        "generateBarPlot(info['ansScore'], 'Scores of Answer', 'Scores', 'Count', top=25, ha='right')"
      ],
      "execution_count": null,
      "outputs": [
        {
          "output_type": "display_data",
          "data": {
            "image/png": "[encoded data removed]",
            "text/plain": [
              "<Figure size 432x288 with 1 Axes>"
            ]
          },
          "metadata": {
            "tags": [],
            "needs_background": "light"
          }
        }
      ]
    },
    {
      "cell_type": "markdown",
      "metadata": {
        "colab_type": "text",
        "id": "IWjSeKuiNFkh"
      },
      "source": [
        "Most of the answers have not been scored as they do not have \n",
        "'answerScore' in the raw dataset."
      ]
    },
    {
      "cell_type": "markdown",
      "metadata": {
        "colab_type": "text",
        "id": "OekVwGjGNFki"
      },
      "source": [
        "#### 3.6. Preprocessing the dataset"
      ]
    },
    {
      "cell_type": "code",
      "metadata": {
        "colab_type": "code",
        "id": "TMOATnzHNFki",
        "colab": {}
      },
      "source": [
        "def decontracted(phrase):\n",
        "    \"\"\" \n",
        "    Performs decontraction on the phrase.\n",
        "    \"\"\"\n",
        "    phrase = re.sub(r\"won't\", \"will not\", phrase)\n",
        "    phrase = re.sub(r\"can\\'t\", \"can not\", phrase)\n",
        "\n",
        "    phrase = re.sub(r\"n\\'t\", \" not\", phrase)\n",
        "    phrase = re.sub(r\"\\'re\", \" are\", phrase)\n",
        "    phrase = re.sub(r\"\\'s\", \" is\", phrase)\n",
        "    phrase = re.sub(r\"\\'d\", \" would\", phrase)\n",
        "    phrase = re.sub(r\"\\'ll\", \" will\", phrase)\n",
        "    phrase = re.sub(r\"\\'t\", \" not\", phrase)\n",
        "    phrase = re.sub(r\"\\'ve\", \" have\", phrase)\n",
        "    phrase = re.sub(r\"\\'m\", \" am\", phrase)\n",
        "    return phrase"
      ],
      "execution_count": null,
      "outputs": []
    },
    {
      "cell_type": "code",
      "metadata": {
        "colab_type": "code",
        "id": "dPDvAr_aNFkj",
        "colab": {}
      },
      "source": [
        "def removeHTML(text):\n",
        "  \"\"\" \n",
        "  Removes HTML tags from the text.\n",
        "  \"\"\"\n",
        "  return re.sub(r'((www\\.[^\\s]+)|(https?://[^\\s]+))','', text)"
      ],
      "execution_count": null,
      "outputs": []
    },
    {
      "cell_type": "code",
      "metadata": {
        "colab_type": "code",
        "id": "fq4ck-k7NFkj",
        "colab": {}
      },
      "source": [
        "def preprocess(corpus):\n",
        "  \"\"\" \n",
        "  Cleans and removes unwanted characters from the corpus. \n",
        "  \"\"\"\n",
        "  preprocessed = list()\n",
        "  for sentence in corpus:\n",
        "    sent = removeHTML(sentence)\n",
        "    sent = decontracted(sentence)\n",
        "    sent = sent.replace('\\\\r', ' ')\n",
        "    sent = sent.replace('\\\\\"', ' ')\n",
        "    sent = sent.replace('\\\\n', ' ')\n",
        "    sent = re.sub('[^A-Za-z0-9]+', ' ', sent)\n",
        "    preprocessed.append(sent.lower().strip())\n",
        "  return preprocessed"
      ],
      "execution_count": null,
      "outputs": []
    },
    {
      "cell_type": "code",
      "metadata": {
        "colab_type": "code",
        "id": "h1910iTQNFkk",
        "colab": {
          "base_uri": "https://localhost:8080/",
          "height": 34
        },
        "outputId": "508af6c6-dbde-457f-8377-9cab9e7eaa5e"
      },
      "source": [
        "start_time = timer()\n",
        "df['Questions'] = preprocess(df['Questions'])\n",
        "timer(start_time)"
      ],
      "execution_count": null,
      "outputs": [
        {
          "output_type": "stream",
          "text": [
            "Time taken: 0 hours 1 minutes and 14.82 seconds.\n"
          ],
          "name": "stdout"
        }
      ]
    },
    {
      "cell_type": "code",
      "metadata": {
        "colab_type": "code",
        "id": "OTComf29NFkl",
        "colab": {
          "base_uri": "https://localhost:8080/",
          "height": 34
        },
        "outputId": "b08cfe44-20ff-4e77-81e2-684e4d789592"
      },
      "source": [
        "start_time = timer()\n",
        "df['Answers'] = preprocess(df['Answers'])\n",
        "timer(start_time)"
      ],
      "execution_count": null,
      "outputs": [
        {
          "output_type": "stream",
          "text": [
            "Time taken: 0 hours 1 minutes and 57.88 seconds.\n"
          ],
          "name": "stdout"
        }
      ]
    },
    {
      "cell_type": "markdown",
      "metadata": {
        "colab_type": "text",
        "id": "us0jKKnrNFkm"
      },
      "source": [
        "#### 3.7. Processing the duplicates"
      ]
    },
    {
      "cell_type": "code",
      "metadata": {
        "colab_type": "code",
        "id": "h1DjnWABNFkm",
        "colab": {
          "base_uri": "https://localhost:8080/",
          "height": 34
        },
        "outputId": "afaed978-5e81-414c-80ce-2a7c4a8390d3"
      },
      "source": [
        "print(\"Number of duplicates:\", df.duplicated().sum())"
      ],
      "execution_count": null,
      "outputs": [
        {
          "output_type": "stream",
          "text": [
            "Number of duplicates: 454432\n"
          ],
          "name": "stdout"
        }
      ]
    },
    {
      "cell_type": "code",
      "metadata": {
        "colab_type": "code",
        "id": "4e_fbm9ANFkn",
        "colab": {}
      },
      "source": [
        "df.drop_duplicates(inplace=True)\n",
        "df.reset_index(drop=True, inplace=True)"
      ],
      "execution_count": null,
      "outputs": []
    },
    {
      "cell_type": "code",
      "metadata": {
        "colab_type": "code",
        "id": "zGGeW0zsNFko",
        "colab": {
          "base_uri": "https://localhost:8080/",
          "height": 34
        },
        "outputId": "b006bff4-75f6-4647-cae3-ec3fa29335c9"
      },
      "source": [
        "print(\"Shape of data after removing the duplicates:\", df.shape)"
      ],
      "execution_count": null,
      "outputs": [
        {
          "output_type": "stream",
          "text": [
            "Shape of data after removing the duplicates: (3565312, 3)\n"
          ],
          "name": "stdout"
        }
      ]
    },
    {
      "cell_type": "markdown",
      "metadata": {
        "colab_type": "text",
        "id": "3OeFw-acNFkp"
      },
      "source": [
        "#### 3.8. Finding length of questions and answers after preprocessing"
      ]
    },
    {
      "cell_type": "code",
      "metadata": {
        "colab_type": "code",
        "id": "eeIbmAKPNFkp",
        "colab": {}
      },
      "source": [
        "df['Question Length'] = df['Questions'].str.split().apply(len)"
      ],
      "execution_count": null,
      "outputs": []
    },
    {
      "cell_type": "code",
      "metadata": {
        "colab_type": "code",
        "id": "XkG1DTF-NFkq",
        "colab": {}
      },
      "source": [
        "df['Answer Length'] = df['Answers'].str.split().apply(len)"
      ],
      "execution_count": null,
      "outputs": []
    },
    {
      "cell_type": "code",
      "metadata": {
        "colab_type": "code",
        "id": "lCBvfjIANFkr",
        "colab": {
          "base_uri": "https://localhost:8080/",
          "height": 419
        },
        "outputId": "dc5dcf1c-e13b-45d5-9ace-0f62b5534ece"
      },
      "source": [
        "df"
      ],
      "execution_count": null,
      "outputs": [
        {
          "output_type": "execute_result",
          "data": {
            "text/html": [
              "<div>\n",
              "<style scoped>\n",
              "    .dataframe tbody tr th:only-of-type {\n",
              "        vertical-align: middle;\n",
              "    }\n",
              "\n",
              "    .dataframe tbody tr th {\n",
              "        vertical-align: top;\n",
              "    }\n",
              "\n",
              "    .dataframe thead th {\n",
              "        text-align: right;\n",
              "    }\n",
              "</style>\n",
              "<table border=\"1\" class=\"dataframe\">\n",
              "  <thead>\n",
              "    <tr style=\"text-align: right;\">\n",
              "      <th></th>\n",
              "      <th>Questions</th>\n",
              "      <th>Questions Type</th>\n",
              "      <th>Answers</th>\n",
              "      <th>Question Length</th>\n",
              "      <th>Answer Length</th>\n",
              "    </tr>\n",
              "  </thead>\n",
              "  <tbody>\n",
              "    <tr>\n",
              "      <th>0</th>\n",
              "      <td>will these fit my 2002 ford f150 xlt</td>\n",
              "      <td>open-ended</td>\n",
              "      <td>it is all custom mounting where there is a wil...</td>\n",
              "      <td>8</td>\n",
              "      <td>36</td>\n",
              "    </tr>\n",
              "    <tr>\n",
              "      <th>1</th>\n",
              "      <td>will these fit my 2002 ford f150 xlt</td>\n",
              "      <td>open-ended</td>\n",
              "      <td>you will need to drill another hole in mud fla...</td>\n",
              "      <td>8</td>\n",
              "      <td>59</td>\n",
              "    </tr>\n",
              "    <tr>\n",
              "      <th>2</th>\n",
              "      <td>is the hardware for installation included</td>\n",
              "      <td>yes/no</td>\n",
              "      <td>it is been a while since i installed them but ...</td>\n",
              "      <td>6</td>\n",
              "      <td>19</td>\n",
              "    </tr>\n",
              "    <tr>\n",
              "      <th>3</th>\n",
              "      <td>is the hardware for installation included</td>\n",
              "      <td>yes/no</td>\n",
              "      <td>1 pair rear flaps and mounting hardware</td>\n",
              "      <td>6</td>\n",
              "      <td>7</td>\n",
              "    </tr>\n",
              "    <tr>\n",
              "      <th>4</th>\n",
              "      <td>is the hardware for installation included</td>\n",
              "      <td>yes/no</td>\n",
              "      <td>i did not buy these for myself i bought them f...</td>\n",
              "      <td>6</td>\n",
              "      <td>27</td>\n",
              "    </tr>\n",
              "    <tr>\n",
              "      <th>...</th>\n",
              "      <td>...</td>\n",
              "      <td>...</td>\n",
              "      <td>...</td>\n",
              "      <td>...</td>\n",
              "      <td>...</td>\n",
              "    </tr>\n",
              "    <tr>\n",
              "      <th>3565307</th>\n",
              "      <td>would it work on a lap top</td>\n",
              "      <td>open-ended</td>\n",
              "      <td>theres specs on the game requirements on the a...</td>\n",
              "      <td>7</td>\n",
              "      <td>25</td>\n",
              "    </tr>\n",
              "    <tr>\n",
              "      <th>3565308</th>\n",
              "      <td>would it work on a lap top</td>\n",
              "      <td>open-ended</td>\n",
              "      <td>short answer yes it will it all depends on you...</td>\n",
              "      <td>7</td>\n",
              "      <td>72</td>\n",
              "    </tr>\n",
              "    <tr>\n",
              "      <th>3565309</th>\n",
              "      <td>would it work on a lap top</td>\n",
              "      <td>open-ended</td>\n",
              "      <td>yes it would work great on a lap top</td>\n",
              "      <td>7</td>\n",
              "      <td>9</td>\n",
              "    </tr>\n",
              "    <tr>\n",
              "      <th>3565310</th>\n",
              "      <td>can u mod this one</td>\n",
              "      <td>yes/no</td>\n",
              "      <td>yes you can i personally download from spintir...</td>\n",
              "      <td>5</td>\n",
              "      <td>68</td>\n",
              "    </tr>\n",
              "    <tr>\n",
              "      <th>3565311</th>\n",
              "      <td>can u mod this one</td>\n",
              "      <td>yes/no</td>\n",
              "      <td>yes i can</td>\n",
              "      <td>5</td>\n",
              "      <td>3</td>\n",
              "    </tr>\n",
              "  </tbody>\n",
              "</table>\n",
              "<p>3565312 rows × 5 columns</p>\n",
              "</div>"
            ],
            "text/plain": [
              "                                         Questions  ... Answer Length\n",
              "0             will these fit my 2002 ford f150 xlt  ...            36\n",
              "1             will these fit my 2002 ford f150 xlt  ...            59\n",
              "2        is the hardware for installation included  ...            19\n",
              "3        is the hardware for installation included  ...             7\n",
              "4        is the hardware for installation included  ...            27\n",
              "...                                            ...  ...           ...\n",
              "3565307                 would it work on a lap top  ...            25\n",
              "3565308                 would it work on a lap top  ...            72\n",
              "3565309                 would it work on a lap top  ...             9\n",
              "3565310                         can u mod this one  ...            68\n",
              "3565311                         can u mod this one  ...             3\n",
              "\n",
              "[3565312 rows x 5 columns]"
            ]
          },
          "metadata": {
            "tags": []
          },
          "execution_count": 24
        }
      ]
    },
    {
      "cell_type": "code",
      "metadata": {
        "colab_type": "code",
        "id": "uk8cqo06NFks",
        "colab": {
          "base_uri": "https://localhost:8080/",
          "height": 293
        },
        "outputId": "47867fa4-7d50-4f6e-fdc9-fa231f340b6e"
      },
      "source": [
        "df['Question Length'].hist(bins=50)"
      ],
      "execution_count": null,
      "outputs": [
        {
          "output_type": "execute_result",
          "data": {
            "text/plain": [
              "<matplotlib.axes._subplots.AxesSubplot at 0x7f5cd73d0588>"
            ]
          },
          "metadata": {
            "tags": []
          },
          "execution_count": 56
        },
        {
          "output_type": "display_data",
          "data": {
            "image/png": "[encoded data removed]",
            "text/plain": [
              "<Figure size 432x288 with 1 Axes>"
            ]
          },
          "metadata": {
            "tags": [],
            "needs_background": "light"
          }
        }
      ]
    },
    {
      "cell_type": "code",
      "metadata": {
        "colab_type": "code",
        "id": "_PKA7tz1NFkt",
        "colab": {
          "base_uri": "https://localhost:8080/",
          "height": 293
        },
        "outputId": "9f6d3372-637d-4c29-a2c8-18bb50401061"
      },
      "source": [
        "df['Answer Length'].hist(bins=50)"
      ],
      "execution_count": null,
      "outputs": [
        {
          "output_type": "execute_result",
          "data": {
            "text/plain": [
              "<matplotlib.axes._subplots.AxesSubplot at 0x7f5cd8df34a8>"
            ]
          },
          "metadata": {
            "tags": []
          },
          "execution_count": 57
        },
        {
          "output_type": "display_data",
          "data": {
            "image/png": "[encoded data removed]",
            "text/plain": [
              "<Figure size 432x288 with 1 Axes>"
            ]
          },
          "metadata": {
            "tags": [],
            "needs_background": "light"
          }
        }
      ]
    },
    {
      "cell_type": "markdown",
      "metadata": {
        "colab_type": "text",
        "id": "g-zh6u6GNFku"
      },
      "source": [
        "#### 3.9. Removing some entires"
      ]
    },
    {
      "cell_type": "code",
      "metadata": {
        "colab_type": "code",
        "id": "Lp_derReNFku",
        "colab": {
          "base_uri": "https://localhost:8080/",
          "height": 102
        },
        "outputId": "0ed5b66a-8334-47ef-bbea-f77a1bd19bd9"
      },
      "source": [
        "print('Total number of entries:', df.shape[0])\n",
        "print('Maximum question length:', df['Question Length'].max())\n",
        "print('Maximum answer length:', df['Answer Length'].max())\n",
        "print('Number of questions with no answers after preprocessing:',df[df['Answer Length'] < 1].shape[0])\n",
        "print('Number of answers with no questions after preprocessing:',df[df['Question Length'] < 1].shape[0])"
      ],
      "execution_count": null,
      "outputs": [
        {
          "output_type": "stream",
          "text": [
            "Total number of entries: 3565312\n",
            "Maximum question length: 3547\n",
            "Maximum answer length: 5666\n",
            "Number of questions with no answers after preprocessing: 369\n",
            "Number of answers with no questions after preprocessing: 209\n"
          ],
          "name": "stdout"
        }
      ]
    },
    {
      "cell_type": "markdown",
      "metadata": {
        "colab_type": "text",
        "id": "5yKAIdvnNFkv"
      },
      "source": [
        "##### 3.9.1. Removing empty answers"
      ]
    },
    {
      "cell_type": "code",
      "metadata": {
        "colab_type": "code",
        "id": "KmZQj62HNFkv",
        "colab": {
          "base_uri": "https://localhost:8080/",
          "height": 34
        },
        "outputId": "33bbcfca-6bec-4819-d704-216e791d8a20"
      },
      "source": [
        "df = df[df['Answer Length'] > 0]\n",
        "df.shape"
      ],
      "execution_count": null,
      "outputs": [
        {
          "output_type": "execute_result",
          "data": {
            "text/plain": [
              "(3564943, 5)"
            ]
          },
          "metadata": {
            "tags": []
          },
          "execution_count": 63
        }
      ]
    },
    {
      "cell_type": "markdown",
      "metadata": {
        "colab_type": "text",
        "id": "in-laVJSNFkw"
      },
      "source": [
        "##### 3.9.2. Removing empty questions"
      ]
    },
    {
      "cell_type": "code",
      "metadata": {
        "colab_type": "code",
        "id": "pm3mQy0ENFkw",
        "colab": {
          "base_uri": "https://localhost:8080/",
          "height": 34
        },
        "outputId": "1e9dc57f-d4d7-4c15-f211-e6330d115d69"
      },
      "source": [
        "df = df[df['Question Length'] > 0]\n",
        "df.shape"
      ],
      "execution_count": null,
      "outputs": [
        {
          "output_type": "execute_result",
          "data": {
            "text/plain": [
              "(3564734, 5)"
            ]
          },
          "metadata": {
            "tags": []
          },
          "execution_count": 64
        }
      ]
    },
    {
      "cell_type": "markdown",
      "metadata": {
        "colab_type": "text",
        "id": "0do0-AgiNFky"
      },
      "source": [
        "##### 3.9.3. Removing answers of length more than three"
      ]
    },
    {
      "cell_type": "code",
      "metadata": {
        "colab_type": "code",
        "id": "-MutNEDGNFky",
        "colab": {
          "base_uri": "https://localhost:8080/",
          "height": 34
        },
        "outputId": "4e03abc2-bd7d-4a04-f8dc-930056fa2d55"
      },
      "source": [
        "df = df[df['Answer Length'] < 4]\n",
        "df.shape"
      ],
      "execution_count": null,
      "outputs": [
        {
          "output_type": "execute_result",
          "data": {
            "text/plain": [
              "(320593, 5)"
            ]
          },
          "metadata": {
            "tags": []
          },
          "execution_count": 65
        }
      ]
    },
    {
      "cell_type": "code",
      "metadata": {
        "colab_type": "code",
        "id": "e6HPH4bMNFkz",
        "colab": {}
      },
      "source": [
        "df.reset_index(drop=True, inplace=True)"
      ],
      "execution_count": null,
      "outputs": []
    },
    {
      "cell_type": "code",
      "metadata": {
        "colab_type": "code",
        "id": "w8ycIr3mNFk0",
        "colab": {
          "base_uri": "https://localhost:8080/",
          "height": 68
        },
        "outputId": "2dd287a2-ab40-42ed-815d-78b67bfd81e1"
      },
      "source": [
        "print('Total number of entries:', df.shape[0])\n",
        "print('Maximum question length:', df['Question Length'].max())\n",
        "print('Maximum answer length:', df['Answer Length'].max())"
      ],
      "execution_count": null,
      "outputs": [
        {
          "output_type": "stream",
          "text": [
            "Total number of entries: 320593\n",
            "Maximum question length: 1546\n",
            "Maximum answer length: 3\n"
          ],
          "name": "stdout"
        }
      ]
    },
    {
      "cell_type": "code",
      "metadata": {
        "colab_type": "code",
        "id": "gz0KqvHTNFk1",
        "colab": {
          "base_uri": "https://localhost:8080/",
          "height": 68
        },
        "outputId": "cf3535c3-b537-46aa-94db-d519a34e3b45"
      },
      "source": [
        "df['Questions Type'].value_counts()"
      ],
      "execution_count": null,
      "outputs": [
        {
          "output_type": "execute_result",
          "data": {
            "text/plain": [
              "open-ended    261134\n",
              "yes/no         59459\n",
              "Name: Questions Type, dtype: int64"
            ]
          },
          "metadata": {
            "tags": []
          },
          "execution_count": 70
        }
      ]
    },
    {
      "cell_type": "markdown",
      "metadata": {
        "colab_type": "text",
        "id": "ERohrHuwNFk2"
      },
      "source": [
        "##### 3.9.4. Removing questions of length more than eleven"
      ]
    },
    {
      "cell_type": "code",
      "metadata": {
        "colab_type": "code",
        "id": "ZLcx31e1NFk3",
        "colab": {
          "base_uri": "https://localhost:8080/",
          "height": 34
        },
        "outputId": "a11a18a1-1a19-4633-db6c-71467ac62c88"
      },
      "source": [
        "print(\"Average question length:\", df['Question Length'].mean())"
      ],
      "execution_count": null,
      "outputs": [
        {
          "output_type": "stream",
          "text": [
            "Average question length: 11.3684578265901\n"
          ],
          "name": "stdout"
        }
      ]
    },
    {
      "cell_type": "code",
      "metadata": {
        "colab_type": "code",
        "id": "oyaEyNYaNFk4",
        "colab": {}
      },
      "source": [
        "df = df[df[\"Question Length\"] < 12]\n",
        "df.reset_index(drop=True, inplace=True)"
      ],
      "execution_count": null,
      "outputs": []
    },
    {
      "cell_type": "code",
      "metadata": {
        "colab_type": "code",
        "id": "hq4xMYnDNFk4",
        "colab": {
          "base_uri": "https://localhost:8080/",
          "height": 34
        },
        "outputId": "0cffa6e5-f67c-4d4a-c6f6-caa7e6830605"
      },
      "source": [
        "print(\"Shape of dataset:\", df.shape)"
      ],
      "execution_count": null,
      "outputs": [
        {
          "output_type": "stream",
          "text": [
            "Shape of dataset: (213791, 5)\n"
          ],
          "name": "stdout"
        }
      ]
    },
    {
      "cell_type": "code",
      "metadata": {
        "colab_type": "code",
        "id": "aidTQKmsNFk6",
        "colab": {}
      },
      "source": [
        "# Viewing an entry whose question length is eleven\n",
        "df.iloc[7,0] \n",
        "# Output \n",
        "# is this a set or do i have to order 2"
      ],
      "execution_count": null,
      "outputs": []
    },
    {
      "cell_type": "code",
      "metadata": {
        "colab_type": "code",
        "id": "aB9oNxlQNFk7",
        "colab": {
          "base_uri": "https://localhost:8080/",
          "height": 1000
        },
        "outputId": "f8d7bfc5-8563-4346-a514-07281e10423e"
      },
      "source": [
        "df.head(60)"
      ],
      "execution_count": null,
      "outputs": [
        {
          "output_type": "execute_result",
          "data": {
            "text/html": [
              "<div>\n",
              "<style scoped>\n",
              "    .dataframe tbody tr th:only-of-type {\n",
              "        vertical-align: middle;\n",
              "    }\n",
              "\n",
              "    .dataframe tbody tr th {\n",
              "        vertical-align: top;\n",
              "    }\n",
              "\n",
              "    .dataframe thead th {\n",
              "        text-align: right;\n",
              "    }\n",
              "</style>\n",
              "<table border=\"1\" class=\"dataframe\">\n",
              "  <thead>\n",
              "    <tr style=\"text-align: right;\">\n",
              "      <th></th>\n",
              "      <th>Questions</th>\n",
              "      <th>Questions Type</th>\n",
              "      <th>Answers</th>\n",
              "      <th>Question Length</th>\n",
              "      <th>Answer Length</th>\n",
              "    </tr>\n",
              "  </thead>\n",
              "  <tbody>\n",
              "    <tr>\n",
              "      <th>0</th>\n",
              "      <td>is the hardware for installation included</td>\n",
              "      <td>yes/no</td>\n",
              "      <td>no</td>\n",
              "      <td>6</td>\n",
              "      <td>1</td>\n",
              "    </tr>\n",
              "    <tr>\n",
              "      <th>1</th>\n",
              "      <td>will they fit 2014 mazda 3 sport</td>\n",
              "      <td>yes/no</td>\n",
              "      <td>no</td>\n",
              "      <td>7</td>\n",
              "      <td>1</td>\n",
              "    </tr>\n",
              "    <tr>\n",
              "      <th>2</th>\n",
              "      <td>will they fit 2014 mazda 3 sport</td>\n",
              "      <td>yes/no</td>\n",
              "      <td>nope</td>\n",
              "      <td>7</td>\n",
              "      <td>1</td>\n",
              "    </tr>\n",
              "    <tr>\n",
              "      <th>3</th>\n",
              "      <td>do they fit a 1998 gmc sierra 3 door</td>\n",
              "      <td>open-ended</td>\n",
              "      <td>yes</td>\n",
              "      <td>9</td>\n",
              "      <td>1</td>\n",
              "    </tr>\n",
              "    <tr>\n",
              "      <th>4</th>\n",
              "      <td>will this product work with a 1995 buick rivera</td>\n",
              "      <td>yes/no</td>\n",
              "      <td>yes it will</td>\n",
              "      <td>9</td>\n",
              "      <td>3</td>\n",
              "    </tr>\n",
              "    <tr>\n",
              "      <th>5</th>\n",
              "      <td>will this work on the generation 1 alpha</td>\n",
              "      <td>open-ended</td>\n",
              "      <td>yes it will</td>\n",
              "      <td>8</td>\n",
              "      <td>3</td>\n",
              "    </tr>\n",
              "    <tr>\n",
              "      <th>6</th>\n",
              "      <td>is it easy to install</td>\n",
              "      <td>yes/no</td>\n",
              "      <td>very easy</td>\n",
              "      <td>5</td>\n",
              "      <td>2</td>\n",
              "    </tr>\n",
              "    <tr>\n",
              "      <th>7</th>\n",
              "      <td>is this a set or do i have to order 2</td>\n",
              "      <td>open-ended</td>\n",
              "      <td>order 2</td>\n",
              "      <td>11</td>\n",
              "      <td>2</td>\n",
              "    </tr>\n",
              "    <tr>\n",
              "      <th>8</th>\n",
              "      <td>it comes with door assembly</td>\n",
              "      <td>open-ended</td>\n",
              "      <td>yesterday</td>\n",
              "      <td>5</td>\n",
              "      <td>1</td>\n",
              "    </tr>\n",
              "    <tr>\n",
              "      <th>9</th>\n",
              "      <td>is this a 12 volt igitor or 110</td>\n",
              "      <td>open-ended</td>\n",
              "      <td>yes 12 volt</td>\n",
              "      <td>8</td>\n",
              "      <td>3</td>\n",
              "    </tr>\n",
              "    <tr>\n",
              "      <th>10</th>\n",
              "      <td>is this a 12 volt igitor or 110</td>\n",
              "      <td>open-ended</td>\n",
              "      <td>12 volt</td>\n",
              "      <td>8</td>\n",
              "      <td>2</td>\n",
              "    </tr>\n",
              "    <tr>\n",
              "      <th>11</th>\n",
              "      <td>are these compatible with any multimeter</td>\n",
              "      <td>open-ended</td>\n",
              "      <td>yes</td>\n",
              "      <td>6</td>\n",
              "      <td>1</td>\n",
              "    </tr>\n",
              "    <tr>\n",
              "      <th>12</th>\n",
              "      <td>what size is the wire</td>\n",
              "      <td>open-ended</td>\n",
              "      <td>36</td>\n",
              "      <td>5</td>\n",
              "      <td>1</td>\n",
              "    </tr>\n",
              "    <tr>\n",
              "      <th>13</th>\n",
              "      <td>will this fit a 2001 chevy malibu</td>\n",
              "      <td>open-ended</td>\n",
              "      <td>yes</td>\n",
              "      <td>7</td>\n",
              "      <td>1</td>\n",
              "    </tr>\n",
              "    <tr>\n",
              "      <th>14</th>\n",
              "      <td>will this fit a 2001 chevy malibu</td>\n",
              "      <td>open-ended</td>\n",
              "      <td>yes it will</td>\n",
              "      <td>7</td>\n",
              "      <td>3</td>\n",
              "    </tr>\n",
              "    <tr>\n",
              "      <th>15</th>\n",
              "      <td>does this package include the wires needed for...</td>\n",
              "      <td>open-ended</td>\n",
              "      <td>no</td>\n",
              "      <td>9</td>\n",
              "      <td>1</td>\n",
              "    </tr>\n",
              "    <tr>\n",
              "      <th>16</th>\n",
              "      <td>will it have mirror pockets</td>\n",
              "      <td>open-ended</td>\n",
              "      <td>no mirror pockets</td>\n",
              "      <td>5</td>\n",
              "      <td>3</td>\n",
              "    </tr>\n",
              "    <tr>\n",
              "      <th>17</th>\n",
              "      <td>does this fit jeep liberty</td>\n",
              "      <td>open-ended</td>\n",
              "      <td>yes it does</td>\n",
              "      <td>5</td>\n",
              "      <td>3</td>\n",
              "    </tr>\n",
              "    <tr>\n",
              "      <th>18</th>\n",
              "      <td>do all three coils come with the kit</td>\n",
              "      <td>yes/no</td>\n",
              "      <td>yes</td>\n",
              "      <td>8</td>\n",
              "      <td>1</td>\n",
              "    </tr>\n",
              "    <tr>\n",
              "      <th>19</th>\n",
              "      <td>where does the small jack oplug into the es2500</td>\n",
              "      <td>open-ended</td>\n",
              "      <td>at the back</td>\n",
              "      <td>9</td>\n",
              "      <td>3</td>\n",
              "    </tr>\n",
              "    <tr>\n",
              "      <th>20</th>\n",
              "      <td>will this work with the battery pack es5000</td>\n",
              "      <td>open-ended</td>\n",
              "      <td>yes</td>\n",
              "      <td>8</td>\n",
              "      <td>1</td>\n",
              "    </tr>\n",
              "    <tr>\n",
              "      <th>21</th>\n",
              "      <td>will this work with the battery pack es5000</td>\n",
              "      <td>open-ended</td>\n",
              "      <td>yes it will</td>\n",
              "      <td>8</td>\n",
              "      <td>3</td>\n",
              "    </tr>\n",
              "    <tr>\n",
              "      <th>22</th>\n",
              "      <td>hi did that charger works for es 5000 charger pac</td>\n",
              "      <td>open-ended</td>\n",
              "      <td>yes it did</td>\n",
              "      <td>10</td>\n",
              "      <td>3</td>\n",
              "    </tr>\n",
              "    <tr>\n",
              "      <th>23</th>\n",
              "      <td>hi did that charger works for es 5000 charger pac</td>\n",
              "      <td>open-ended</td>\n",
              "      <td>yes</td>\n",
              "      <td>10</td>\n",
              "      <td>1</td>\n",
              "    </tr>\n",
              "    <tr>\n",
              "      <th>24</th>\n",
              "      <td>what are the dimensions</td>\n",
              "      <td>open-ended</td>\n",
              "      <td>dimensions of what</td>\n",
              "      <td>4</td>\n",
              "      <td>3</td>\n",
              "    </tr>\n",
              "    <tr>\n",
              "      <th>25</th>\n",
              "      <td>does it test capacitors accurately</td>\n",
              "      <td>yes/no</td>\n",
              "      <td>yes and perfect</td>\n",
              "      <td>5</td>\n",
              "      <td>3</td>\n",
              "    </tr>\n",
              "    <tr>\n",
              "      <th>26</th>\n",
              "      <td>does it test capacitors accurately</td>\n",
              "      <td>yes/no</td>\n",
              "      <td>yes</td>\n",
              "      <td>5</td>\n",
              "      <td>1</td>\n",
              "    </tr>\n",
              "    <tr>\n",
              "      <th>27</th>\n",
              "      <td>can you get replacement filters from your loca...</td>\n",
              "      <td>yes/no</td>\n",
              "      <td>yes</td>\n",
              "      <td>10</td>\n",
              "      <td>1</td>\n",
              "    </tr>\n",
              "    <tr>\n",
              "      <th>28</th>\n",
              "      <td>will this fit a small suv</td>\n",
              "      <td>yes/no</td>\n",
              "      <td>yes</td>\n",
              "      <td>6</td>\n",
              "      <td>1</td>\n",
              "    </tr>\n",
              "    <tr>\n",
              "      <th>29</th>\n",
              "      <td>do it require roof mat</td>\n",
              "      <td>open-ended</td>\n",
              "      <td>yes</td>\n",
              "      <td>5</td>\n",
              "      <td>1</td>\n",
              "    </tr>\n",
              "    <tr>\n",
              "      <th>30</th>\n",
              "      <td>do it require roof mat</td>\n",
              "      <td>open-ended</td>\n",
              "      <td>no</td>\n",
              "      <td>5</td>\n",
              "      <td>1</td>\n",
              "    </tr>\n",
              "    <tr>\n",
              "      <th>31</th>\n",
              "      <td>will this work on a 1996 buick lesabre</td>\n",
              "      <td>open-ended</td>\n",
              "      <td>yes</td>\n",
              "      <td>8</td>\n",
              "      <td>1</td>\n",
              "    </tr>\n",
              "    <tr>\n",
              "      <th>32</th>\n",
              "      <td>will it work on a 04 silverado 5 3l</td>\n",
              "      <td>yes/no</td>\n",
              "      <td>yes</td>\n",
              "      <td>9</td>\n",
              "      <td>1</td>\n",
              "    </tr>\n",
              "    <tr>\n",
              "      <th>33</th>\n",
              "      <td>will it work on 99 silverado v8</td>\n",
              "      <td>yes/no</td>\n",
              "      <td>yes it will</td>\n",
              "      <td>7</td>\n",
              "      <td>3</td>\n",
              "    </tr>\n",
              "    <tr>\n",
              "      <th>34</th>\n",
              "      <td>will this work for 2004 dodge dakota</td>\n",
              "      <td>open-ended</td>\n",
              "      <td>no</td>\n",
              "      <td>7</td>\n",
              "      <td>1</td>\n",
              "    </tr>\n",
              "    <tr>\n",
              "      <th>35</th>\n",
              "      <td>can the individual gauges be removed from the ...</td>\n",
              "      <td>open-ended</td>\n",
              "      <td>yes</td>\n",
              "      <td>9</td>\n",
              "      <td>1</td>\n",
              "    </tr>\n",
              "    <tr>\n",
              "      <th>36</th>\n",
              "      <td>can the individual gauges be removed from the ...</td>\n",
              "      <td>open-ended</td>\n",
              "      <td>no</td>\n",
              "      <td>9</td>\n",
              "      <td>1</td>\n",
              "    </tr>\n",
              "    <tr>\n",
              "      <th>37</th>\n",
              "      <td>is each guage 2 1 16 dia</td>\n",
              "      <td>yes/no</td>\n",
              "      <td>yes</td>\n",
              "      <td>7</td>\n",
              "      <td>1</td>\n",
              "    </tr>\n",
              "    <tr>\n",
              "      <th>38</th>\n",
              "      <td>these are eletric and not mechanacal right</td>\n",
              "      <td>open-ended</td>\n",
              "      <td>correct</td>\n",
              "      <td>7</td>\n",
              "      <td>1</td>\n",
              "    </tr>\n",
              "    <tr>\n",
              "      <th>39</th>\n",
              "      <td>can i use this product on my ge clean steel fr...</td>\n",
              "      <td>yes/no</td>\n",
              "      <td>yes you can</td>\n",
              "      <td>11</td>\n",
              "      <td>3</td>\n",
              "    </tr>\n",
              "    <tr>\n",
              "      <th>40</th>\n",
              "      <td>are the last two numbers the gal</td>\n",
              "      <td>yes/no</td>\n",
              "      <td>no</td>\n",
              "      <td>7</td>\n",
              "      <td>1</td>\n",
              "    </tr>\n",
              "    <tr>\n",
              "      <th>41</th>\n",
              "      <td>is that 7 7 lbs for all 4 or each</td>\n",
              "      <td>open-ended</td>\n",
              "      <td>all 4</td>\n",
              "      <td>10</td>\n",
              "      <td>2</td>\n",
              "    </tr>\n",
              "    <tr>\n",
              "      <th>42</th>\n",
              "      <td>is that 7 7 lbs for all 4 or each</td>\n",
              "      <td>open-ended</td>\n",
              "      <td>for all four</td>\n",
              "      <td>10</td>\n",
              "      <td>3</td>\n",
              "    </tr>\n",
              "    <tr>\n",
              "      <th>43</th>\n",
              "      <td>will it fit a toyota prius</td>\n",
              "      <td>yes/no</td>\n",
              "      <td>yes</td>\n",
              "      <td>6</td>\n",
              "      <td>1</td>\n",
              "    </tr>\n",
              "    <tr>\n",
              "      <th>44</th>\n",
              "      <td>can this mount be used upside down to raise th...</td>\n",
              "      <td>open-ended</td>\n",
              "      <td>yes</td>\n",
              "      <td>11</td>\n",
              "      <td>1</td>\n",
              "    </tr>\n",
              "    <tr>\n",
              "      <th>45</th>\n",
              "      <td>how big is the pin hole</td>\n",
              "      <td>open-ended</td>\n",
              "      <td>one inch</td>\n",
              "      <td>6</td>\n",
              "      <td>2</td>\n",
              "    </tr>\n",
              "    <tr>\n",
              "      <th>46</th>\n",
              "      <td>what are the dimensions of this item</td>\n",
              "      <td>open-ended</td>\n",
              "      <td>19 3 4</td>\n",
              "      <td>7</td>\n",
              "      <td>3</td>\n",
              "    </tr>\n",
              "    <tr>\n",
              "      <th>47</th>\n",
              "      <td>how many pads are in the box</td>\n",
              "      <td>open-ended</td>\n",
              "      <td>one</td>\n",
              "      <td>7</td>\n",
              "      <td>1</td>\n",
              "    </tr>\n",
              "    <tr>\n",
              "      <th>48</th>\n",
              "      <td>does this come with nuts and bolts</td>\n",
              "      <td>open-ended</td>\n",
              "      <td>yes it does</td>\n",
              "      <td>7</td>\n",
              "      <td>3</td>\n",
              "    </tr>\n",
              "    <tr>\n",
              "      <th>49</th>\n",
              "      <td>disconnect what terminal</td>\n",
              "      <td>open-ended</td>\n",
              "      <td>black</td>\n",
              "      <td>3</td>\n",
              "      <td>1</td>\n",
              "    </tr>\n",
              "    <tr>\n",
              "      <th>50</th>\n",
              "      <td>disconnect what terminal</td>\n",
              "      <td>open-ended</td>\n",
              "      <td>negative terminal</td>\n",
              "      <td>3</td>\n",
              "      <td>2</td>\n",
              "    </tr>\n",
              "    <tr>\n",
              "      <th>51</th>\n",
              "      <td>which rwrrminanwhich terminal disconnect pos o...</td>\n",
              "      <td>open-ended</td>\n",
              "      <td>neg</td>\n",
              "      <td>7</td>\n",
              "      <td>1</td>\n",
              "    </tr>\n",
              "    <tr>\n",
              "      <th>52</th>\n",
              "      <td>your add shows five is it priced for five or one</td>\n",
              "      <td>open-ended</td>\n",
              "      <td>mine included five</td>\n",
              "      <td>11</td>\n",
              "      <td>3</td>\n",
              "    </tr>\n",
              "    <tr>\n",
              "      <th>53</th>\n",
              "      <td>how long are the pin switches in total</td>\n",
              "      <td>open-ended</td>\n",
              "      <td>about three inches</td>\n",
              "      <td>8</td>\n",
              "      <td>3</td>\n",
              "    </tr>\n",
              "    <tr>\n",
              "      <th>54</th>\n",
              "      <td>how long are the pin switches in total</td>\n",
              "      <td>open-ended</td>\n",
              "      <td>about 3 inches</td>\n",
              "      <td>8</td>\n",
              "      <td>3</td>\n",
              "    </tr>\n",
              "    <tr>\n",
              "      <th>55</th>\n",
              "      <td>do they need to be gapped</td>\n",
              "      <td>open-ended</td>\n",
              "      <td>nope</td>\n",
              "      <td>6</td>\n",
              "      <td>1</td>\n",
              "    </tr>\n",
              "    <tr>\n",
              "      <th>56</th>\n",
              "      <td>what color does the epoxy dry as</td>\n",
              "      <td>open-ended</td>\n",
              "      <td>metallic grey</td>\n",
              "      <td>7</td>\n",
              "      <td>2</td>\n",
              "    </tr>\n",
              "    <tr>\n",
              "      <th>57</th>\n",
              "      <td>what color does the epoxy dry as</td>\n",
              "      <td>open-ended</td>\n",
              "      <td>medium grey</td>\n",
              "      <td>7</td>\n",
              "      <td>2</td>\n",
              "    </tr>\n",
              "    <tr>\n",
              "      <th>58</th>\n",
              "      <td>what color does the epoxy dry as</td>\n",
              "      <td>open-ended</td>\n",
              "      <td>light grey</td>\n",
              "      <td>7</td>\n",
              "      <td>2</td>\n",
              "    </tr>\n",
              "    <tr>\n",
              "      <th>59</th>\n",
              "      <td>what color does the epoxy dry as</td>\n",
              "      <td>open-ended</td>\n",
              "      <td>dark gray</td>\n",
              "      <td>7</td>\n",
              "      <td>2</td>\n",
              "    </tr>\n",
              "  </tbody>\n",
              "</table>\n",
              "</div>"
            ],
            "text/plain": [
              "                                            Questions  ... Answer Length\n",
              "0           is the hardware for installation included  ...             1\n",
              "1                    will they fit 2014 mazda 3 sport  ...             1\n",
              "2                    will they fit 2014 mazda 3 sport  ...             1\n",
              "3                do they fit a 1998 gmc sierra 3 door  ...             1\n",
              "4     will this product work with a 1995 buick rivera  ...             3\n",
              "5            will this work on the generation 1 alpha  ...             3\n",
              "6                               is it easy to install  ...             2\n",
              "7               is this a set or do i have to order 2  ...             2\n",
              "8                         it comes with door assembly  ...             1\n",
              "9                     is this a 12 volt igitor or 110  ...             3\n",
              "10                    is this a 12 volt igitor or 110  ...             2\n",
              "11           are these compatible with any multimeter  ...             1\n",
              "12                              what size is the wire  ...             1\n",
              "13                  will this fit a 2001 chevy malibu  ...             1\n",
              "14                  will this fit a 2001 chevy malibu  ...             3\n",
              "15  does this package include the wires needed for...  ...             1\n",
              "16                        will it have mirror pockets  ...             3\n",
              "17                         does this fit jeep liberty  ...             3\n",
              "18               do all three coils come with the kit  ...             1\n",
              "19    where does the small jack oplug into the es2500  ...             3\n",
              "20        will this work with the battery pack es5000  ...             1\n",
              "21        will this work with the battery pack es5000  ...             3\n",
              "22  hi did that charger works for es 5000 charger pac  ...             3\n",
              "23  hi did that charger works for es 5000 charger pac  ...             1\n",
              "24                            what are the dimensions  ...             3\n",
              "25                 does it test capacitors accurately  ...             3\n",
              "26                 does it test capacitors accurately  ...             1\n",
              "27  can you get replacement filters from your loca...  ...             1\n",
              "28                          will this fit a small suv  ...             1\n",
              "29                             do it require roof mat  ...             1\n",
              "30                             do it require roof mat  ...             1\n",
              "31             will this work on a 1996 buick lesabre  ...             1\n",
              "32                will it work on a 04 silverado 5 3l  ...             1\n",
              "33                    will it work on 99 silverado v8  ...             3\n",
              "34               will this work for 2004 dodge dakota  ...             1\n",
              "35  can the individual gauges be removed from the ...  ...             1\n",
              "36  can the individual gauges be removed from the ...  ...             1\n",
              "37                           is each guage 2 1 16 dia  ...             1\n",
              "38         these are eletric and not mechanacal right  ...             1\n",
              "39  can i use this product on my ge clean steel fr...  ...             3\n",
              "40                   are the last two numbers the gal  ...             1\n",
              "41                  is that 7 7 lbs for all 4 or each  ...             2\n",
              "42                  is that 7 7 lbs for all 4 or each  ...             3\n",
              "43                         will it fit a toyota prius  ...             1\n",
              "44  can this mount be used upside down to raise th...  ...             1\n",
              "45                            how big is the pin hole  ...             2\n",
              "46               what are the dimensions of this item  ...             3\n",
              "47                       how many pads are in the box  ...             1\n",
              "48                 does this come with nuts and bolts  ...             3\n",
              "49                           disconnect what terminal  ...             1\n",
              "50                           disconnect what terminal  ...             2\n",
              "51  which rwrrminanwhich terminal disconnect pos o...  ...             1\n",
              "52   your add shows five is it priced for five or one  ...             3\n",
              "53             how long are the pin switches in total  ...             3\n",
              "54             how long are the pin switches in total  ...             3\n",
              "55                          do they need to be gapped  ...             1\n",
              "56                   what color does the epoxy dry as  ...             2\n",
              "57                   what color does the epoxy dry as  ...             2\n",
              "58                   what color does the epoxy dry as  ...             2\n",
              "59                   what color does the epoxy dry as  ...             2\n",
              "\n",
              "[60 rows x 5 columns]"
            ]
          },
          "metadata": {
            "tags": []
          },
          "execution_count": 99
        }
      ]
    },
    {
      "cell_type": "markdown",
      "metadata": {
        "colab_type": "text",
        "id": "HZiXkRtrNFk-"
      },
      "source": [
        "#### 3.10. Saving the dataset"
      ]
    },
    {
      "cell_type": "code",
      "metadata": {
        "colab_type": "code",
        "id": "cPZQs0h6NFk_",
        "colab": {}
      },
      "source": [
        "df.to_csv('amazonqa_preprocessed.csv', index=False)"
      ],
      "execution_count": null,
      "outputs": []
    },
    {
      "cell_type": "markdown",
      "metadata": {
        "id": "YRvcAZERtFcw",
        "colab_type": "text"
      },
      "source": [
        "## Train and Evaulate Models"
      ]
    },
    {
      "cell_type": "markdown",
      "metadata": {
        "id": "_3sB2nNltdBY",
        "colab_type": "text"
      },
      "source": [
        "### 1. Importing libraries"
      ]
    },
    {
      "cell_type": "code",
      "metadata": {
        "id": "ckgRoB5eXz83",
        "colab_type": "code",
        "colab": {
          "base_uri": "https://localhost:8080/"
        },
        "outputId": "b29c4ac0-7ce4-4051-a6b2-25d18307fcd6"
      },
      "source": [
        "# Caution: Save all the data and then install as you need to restart the runtime\n",
        "!pip install -qq tf-nightly==2.4.0-dev20200815"
      ],
      "execution_count": null,
      "outputs": [
        {
          "output_type": "stream",
          "text": [
            "\u001b[K     |████████████████████████████████| 324.0MB 53kB/s \n",
            "\u001b[K     |████████████████████████████████| 6.8MB 42.7MB/s \n",
            "\u001b[K     |████████████████████████████████| 460kB 56.7MB/s \n",
            "\u001b[?25h"
          ],
          "name": "stdout"
        }
      ]
    },
    {
      "cell_type": "code",
      "metadata": {
        "id": "auFMjWDcGQf0",
        "colab_type": "code",
        "colab": {}
      },
      "source": [
        "from nltk.translate.bleu_score import corpus_bleu\n",
        "from numpy import argmax, array, asarray, zeros, save, load\n",
        "import random\n",
        "from sklearn.model_selection import train_test_split\n",
        "import shutil\n",
        "import tensorflow as tf\n",
        "from tensorflow.keras.optimizers import Adam\n",
        "from tensorflow.keras.preprocessing.sequence import pad_sequences\n",
        "from tensorflow.keras.preprocessing.text import Tokenizer\n",
        "from tqdm import tqdm"
      ],
      "execution_count": null,
      "outputs": []
    },
    {
      "cell_type": "code",
      "metadata": {
        "colab_type": "code",
        "id": "lgPhsPULYZPJ",
        "colab": {
          "base_uri": "https://localhost:8080/",
          "height": 33
        },
        "outputId": "ebda3f47-520f-41a7-bf85-3855f1296840"
      },
      "source": [
        "print(tf.__version__)"
      ],
      "execution_count": null,
      "outputs": [
        {
          "output_type": "stream",
          "text": [
            "2.4.0-dev20200815\n"
          ],
          "name": "stdout"
        }
      ]
    },
    {
      "cell_type": "code",
      "metadata": {
        "id": "C3WfIRCTX0rr",
        "colab_type": "code",
        "colab": {
          "base_uri": "https://localhost:8080/",
          "height": 521
        },
        "outputId": "660eb351-de86-4b2d-a600-8c34b9d9fec1"
      },
      "source": [
        "from tensorflow.python.client import device_lib\n",
        "print(device_lib.list_local_devices())"
      ],
      "execution_count": null,
      "outputs": [
        {
          "output_type": "stream",
          "text": [
            "[name: \"/device:CPU:0\"\n",
            "device_type: \"CPU\"\n",
            "memory_limit: 268435456\n",
            "locality {\n",
            "}\n",
            "incarnation: 2778770363263105402\n",
            ", name: \"/device:XLA_CPU:0\"\n",
            "device_type: \"XLA_CPU\"\n",
            "memory_limit: 17179869184\n",
            "locality {\n",
            "}\n",
            "incarnation: 16934503265440686773\n",
            "physical_device_desc: \"device: XLA_CPU device\"\n",
            ", name: \"/device:XLA_GPU:0\"\n",
            "device_type: \"XLA_GPU\"\n",
            "memory_limit: 17179869184\n",
            "locality {\n",
            "}\n",
            "incarnation: 6273840346236124179\n",
            "physical_device_desc: \"device: XLA_GPU device\"\n",
            ", name: \"/device:GPU:0\"\n",
            "device_type: \"GPU\"\n",
            "memory_limit: 14611321984\n",
            "locality {\n",
            "  bus_id: 1\n",
            "  links {\n",
            "  }\n",
            "}\n",
            "incarnation: 17919152378396512523\n",
            "physical_device_desc: \"device: 0, name: Tesla T4, pci bus id: 0000:00:04.0, compute capability: 7.5\"\n",
            "]\n"
          ],
          "name": "stdout"
        }
      ]
    },
    {
      "cell_type": "code",
      "metadata": {
        "id": "vw9JAj7FuSke",
        "colab_type": "code",
        "colab": {}
      },
      "source": [
        "SEED = 42\n",
        "os.environ['PYTHONHASHSEED']=str(SEED)\n",
        "os.environ['TF_CUDNN_DETERMINISTIC'] = '1'  # TF 2.1+\n",
        "random.seed(SEED)\n",
        "np.random.seed(SEED)\n",
        "tf.random.set_seed(SEED)"
      ],
      "execution_count": null,
      "outputs": []
    },
    {
      "cell_type": "markdown",
      "metadata": {
        "id": "NPEMRI6IuLsU",
        "colab_type": "text"
      },
      "source": [
        "### 2. Read the dataset"
      ]
    },
    {
      "cell_type": "code",
      "metadata": {
        "id": "gSJiwur1t6Ps",
        "colab_type": "code",
        "colab": {}
      },
      "source": [
        "os.chdir('/content')"
      ],
      "execution_count": null,
      "outputs": []
    },
    {
      "cell_type": "code",
      "metadata": {
        "id": "M0PbSLlNK9b9",
        "colab_type": "code",
        "colab": {}
      },
      "source": [
        "df = pd.read_csv('amazonqa_preprocessed.csv')"
      ],
      "execution_count": null,
      "outputs": []
    },
    {
      "cell_type": "markdown",
      "metadata": {
        "id": "kxhnEYBA_puB",
        "colab_type": "text"
      },
      "source": [
        "### 3. Modify the dataset"
      ]
    },
    {
      "cell_type": "code",
      "metadata": {
        "id": "ccogiz0EidG2",
        "colab_type": "code",
        "colab": {
          "base_uri": "https://localhost:8080/",
          "height": 391
        },
        "outputId": "916fbe8a-4b6b-4d5e-8697-171ab685888a"
      },
      "source": [
        "df['Answers'] = df['Answers'].apply(lambda x : '<start> '+ x + ' <end>')\n",
        "df['QA'] = df['Questions'].astype(str) + ' ' + df['Answers'].astype(str)\n",
        "df"
      ],
      "execution_count": null,
      "outputs": [
        {
          "output_type": "execute_result",
          "data": {
            "text/html": [
              "<div>\n",
              "<style scoped>\n",
              "    .dataframe tbody tr th:only-of-type {\n",
              "        vertical-align: middle;\n",
              "    }\n",
              "\n",
              "    .dataframe tbody tr th {\n",
              "        vertical-align: top;\n",
              "    }\n",
              "\n",
              "    .dataframe thead th {\n",
              "        text-align: right;\n",
              "    }\n",
              "</style>\n",
              "<table border=\"1\" class=\"dataframe\">\n",
              "  <thead>\n",
              "    <tr style=\"text-align: right;\">\n",
              "      <th></th>\n",
              "      <th>Questions</th>\n",
              "      <th>Questions Type</th>\n",
              "      <th>Answers</th>\n",
              "      <th>Question Length</th>\n",
              "      <th>Answer Length</th>\n",
              "      <th>QA</th>\n",
              "    </tr>\n",
              "  </thead>\n",
              "  <tbody>\n",
              "    <tr>\n",
              "      <th>0</th>\n",
              "      <td>is the hardware for installation included</td>\n",
              "      <td>yes/no</td>\n",
              "      <td>&lt;start&gt; no &lt;end&gt;</td>\n",
              "      <td>6</td>\n",
              "      <td>1</td>\n",
              "      <td>is the hardware for installation included &lt;sta...</td>\n",
              "    </tr>\n",
              "    <tr>\n",
              "      <th>1</th>\n",
              "      <td>will they fit 2014 mazda 3 sport</td>\n",
              "      <td>yes/no</td>\n",
              "      <td>&lt;start&gt; no &lt;end&gt;</td>\n",
              "      <td>7</td>\n",
              "      <td>1</td>\n",
              "      <td>will they fit 2014 mazda 3 sport &lt;start&gt; no &lt;end&gt;</td>\n",
              "    </tr>\n",
              "    <tr>\n",
              "      <th>2</th>\n",
              "      <td>will they fit 2014 mazda 3 sport</td>\n",
              "      <td>yes/no</td>\n",
              "      <td>&lt;start&gt; nope &lt;end&gt;</td>\n",
              "      <td>7</td>\n",
              "      <td>1</td>\n",
              "      <td>will they fit 2014 mazda 3 sport &lt;start&gt; nope ...</td>\n",
              "    </tr>\n",
              "    <tr>\n",
              "      <th>3</th>\n",
              "      <td>do they fit a 1998 gmc sierra 3 door</td>\n",
              "      <td>open-ended</td>\n",
              "      <td>&lt;start&gt; yes &lt;end&gt;</td>\n",
              "      <td>9</td>\n",
              "      <td>1</td>\n",
              "      <td>do they fit a 1998 gmc sierra 3 door &lt;start&gt; y...</td>\n",
              "    </tr>\n",
              "    <tr>\n",
              "      <th>4</th>\n",
              "      <td>will this product work with a 1995 buick rivera</td>\n",
              "      <td>yes/no</td>\n",
              "      <td>&lt;start&gt; yes it will &lt;end&gt;</td>\n",
              "      <td>9</td>\n",
              "      <td>3</td>\n",
              "      <td>will this product work with a 1995 buick river...</td>\n",
              "    </tr>\n",
              "    <tr>\n",
              "      <th>...</th>\n",
              "      <td>...</td>\n",
              "      <td>...</td>\n",
              "      <td>...</td>\n",
              "      <td>...</td>\n",
              "      <td>...</td>\n",
              "      <td>...</td>\n",
              "    </tr>\n",
              "    <tr>\n",
              "      <th>213786</th>\n",
              "      <td>does this game have a multiplayer mode</td>\n",
              "      <td>open-ended</td>\n",
              "      <td>&lt;start&gt; no &lt;end&gt;</td>\n",
              "      <td>7</td>\n",
              "      <td>1</td>\n",
              "      <td>does this game have a multiplayer mode &lt;start&gt;...</td>\n",
              "    </tr>\n",
              "    <tr>\n",
              "      <th>213787</th>\n",
              "      <td>does it fit to the ps4</td>\n",
              "      <td>yes/no</td>\n",
              "      <td>&lt;start&gt; yep &lt;end&gt;</td>\n",
              "      <td>6</td>\n",
              "      <td>1</td>\n",
              "      <td>does it fit to the ps4 &lt;start&gt; yep &lt;end&gt;</td>\n",
              "    </tr>\n",
              "    <tr>\n",
              "      <th>213788</th>\n",
              "      <td>does it fit to the ps4</td>\n",
              "      <td>yes/no</td>\n",
              "      <td>&lt;start&gt; yes &lt;end&gt;</td>\n",
              "      <td>6</td>\n",
              "      <td>1</td>\n",
              "      <td>does it fit to the ps4 &lt;start&gt; yes &lt;end&gt;</td>\n",
              "    </tr>\n",
              "    <tr>\n",
              "      <th>213789</th>\n",
              "      <td>would it work on a lap top</td>\n",
              "      <td>open-ended</td>\n",
              "      <td>&lt;start&gt; yes it will &lt;end&gt;</td>\n",
              "      <td>7</td>\n",
              "      <td>3</td>\n",
              "      <td>would it work on a lap top &lt;start&gt; yes it will...</td>\n",
              "    </tr>\n",
              "    <tr>\n",
              "      <th>213790</th>\n",
              "      <td>can u mod this one</td>\n",
              "      <td>yes/no</td>\n",
              "      <td>&lt;start&gt; yes i can &lt;end&gt;</td>\n",
              "      <td>5</td>\n",
              "      <td>3</td>\n",
              "      <td>can u mod this one &lt;start&gt; yes i can &lt;end&gt;</td>\n",
              "    </tr>\n",
              "  </tbody>\n",
              "</table>\n",
              "<p>213791 rows × 6 columns</p>\n",
              "</div>"
            ],
            "text/plain": [
              "                                              Questions  ...                                                 QA\n",
              "0             is the hardware for installation included  ...  is the hardware for installation included <sta...\n",
              "1                      will they fit 2014 mazda 3 sport  ...  will they fit 2014 mazda 3 sport <start> no <end>\n",
              "2                      will they fit 2014 mazda 3 sport  ...  will they fit 2014 mazda 3 sport <start> nope ...\n",
              "3                  do they fit a 1998 gmc sierra 3 door  ...  do they fit a 1998 gmc sierra 3 door <start> y...\n",
              "4       will this product work with a 1995 buick rivera  ...  will this product work with a 1995 buick river...\n",
              "...                                                 ...  ...                                                ...\n",
              "213786           does this game have a multiplayer mode  ...  does this game have a multiplayer mode <start>...\n",
              "213787                           does it fit to the ps4  ...           does it fit to the ps4 <start> yep <end>\n",
              "213788                           does it fit to the ps4  ...           does it fit to the ps4 <start> yes <end>\n",
              "213789                       would it work on a lap top  ...  would it work on a lap top <start> yes it will...\n",
              "213790                               can u mod this one  ...         can u mod this one <start> yes i can <end>\n",
              "\n",
              "[213791 rows x 6 columns]"
            ]
          },
          "metadata": {
            "tags": []
          },
          "execution_count": 10
        }
      ]
    },
    {
      "cell_type": "code",
      "metadata": {
        "id": "VqgayRTsIX4Z",
        "colab_type": "code",
        "colab": {}
      },
      "source": [
        "df.to_csv('amazonqa_preprocessed_modified.csv', index=False)"
      ],
      "execution_count": null,
      "outputs": []
    },
    {
      "cell_type": "code",
      "metadata": {
        "id": "MLo7tgPCIj-o",
        "colab_type": "code",
        "colab": {}
      },
      "source": [
        "df = pd.read_csv('amazonqa_preprocessed_modified.csv')"
      ],
      "execution_count": null,
      "outputs": []
    },
    {
      "cell_type": "markdown",
      "metadata": {
        "id": "GqmjpfwO_8C1",
        "colab_type": "text"
      },
      "source": [
        "### 4. Split the dataset"
      ]
    },
    {
      "cell_type": "code",
      "metadata": {
        "id": "wtFfwMmFlKB6",
        "colab_type": "code",
        "colab": {}
      },
      "source": [
        "enc_in_train, enc_in_test, qa_train, qa_test, dec_in_train, dec_in_test = train_test_split(df['Questions'], df['QA'], df['Answers'], test_size=0.005, random_state=SEED)\n",
        "enc_in_train, enc_in_val, qa_train, qa_val, dec_in_train, dec_in_val = train_test_split( enc_in_train, qa_train, dec_in_train, test_size=0.2, random_state=SEED)"
      ],
      "execution_count": null,
      "outputs": []
    },
    {
      "cell_type": "markdown",
      "metadata": {
        "id": "BEcyJVg7__dY",
        "colab_type": "text"
      },
      "source": [
        "### 5. Tokenize the text sequences"
      ]
    },
    {
      "cell_type": "code",
      "metadata": {
        "id": "hHw2_m29mEn9",
        "colab_type": "code",
        "colab": {}
      },
      "source": [
        "def create_tokenizer(lines):\n",
        "  \"\"\"\n",
        "    Fit a tokenizer\n",
        "  \"\"\"\n",
        "  tokenizer = Tokenizer(filters='')\n",
        "  tokenizer.fit_on_texts(lines)\n",
        "  return tokenizer"
      ],
      "execution_count": null,
      "outputs": []
    },
    {
      "cell_type": "code",
      "metadata": {
        "id": "8xG5urzB1H6s",
        "colab_type": "code",
        "colab": {
          "base_uri": "https://localhost:8080/",
          "height": 66
        },
        "outputId": "c09c4562-6b03-4061-83af-0f86afb15551"
      },
      "source": [
        "qa_tokenizer = create_tokenizer(df['QA'])\n",
        "qa_vocab_size = len(qa_tokenizer.word_index) + 1\n",
        "ques_length = df['Question Length'].max()\n",
        "ans_length = df['Answer Length'].max()\n",
        "print('Questions and Answers Vocabulary Size: %d' % qa_vocab_size)\n",
        "print('Questions Max Length: %d' % (ques_length))\n",
        "print('Answers Max Length: %d' % (ans_length))"
      ],
      "execution_count": null,
      "outputs": [
        {
          "output_type": "stream",
          "text": [
            "Questions and Answers Vocabulary Size: 41397\n",
            "Questions Max Length: 11\n",
            "Answers Max Length: 3\n"
          ],
          "name": "stdout"
        }
      ]
    },
    {
      "cell_type": "code",
      "metadata": {
        "id": "aqOXNNSz4eSe",
        "colab_type": "code",
        "colab": {}
      },
      "source": [
        "import pickle\n",
        "\n",
        "# saving tokenizer\n",
        "with open('qa_tokenizer', 'wb') as handle:\n",
        "    pickle.dump(qa_tokenizer, handle)"
      ],
      "execution_count": null,
      "outputs": []
    },
    {
      "cell_type": "markdown",
      "metadata": {
        "id": "NhZmxbc-AJJ7",
        "colab_type": "text"
      },
      "source": [
        "### 6. Encode and pad the text sequences"
      ]
    },
    {
      "cell_type": "code",
      "metadata": {
        "id": "IwP8Rk51pj-V",
        "colab_type": "code",
        "colab": {}
      },
      "source": [
        "def encode_sequences(tokenizer, length, lines):\n",
        "  \"\"\"\n",
        "    Encode and pad sequences\n",
        "  \"\"\"\n",
        "  # Integer encode sequences\n",
        "  X = tokenizer.texts_to_sequences(lines)\n",
        "  # Pad sequences with 0 values\n",
        "  X = pad_sequences(X, maxlen=length, padding='post')\n",
        "  return X"
      ],
      "execution_count": null,
      "outputs": []
    },
    {
      "cell_type": "code",
      "metadata": {
        "id": "aFrOrt5YnRqF",
        "colab_type": "code",
        "colab": {
          "base_uri": "https://localhost:8080/",
          "height": 310
        },
        "outputId": "a34833e8-3de5-4ce8-d86e-600487572363"
      },
      "source": [
        "print('>> Before')\n",
        "print('> Shape')\n",
        "print('enc_in_train:', enc_in_train.shape)\n",
        "print('enc_in_val:', enc_in_val.shape)\n",
        "print('enc_in_test:', enc_in_test.shape)\n",
        "print('dec_in_train:', dec_in_train.shape)\n",
        "print('dec_in_val:', dec_in_val.shape)\n",
        "print('dec_in_test:', dec_in_test.shape)\n",
        "\n",
        "enc_in_train = encode_sequences(qa_tokenizer, ques_length, enc_in_train)\n",
        "enc_in_val = encode_sequences(qa_tokenizer, ques_length, enc_in_val)\n",
        "enc_in_test = encode_sequences(qa_tokenizer, ques_length, enc_in_test)\n",
        "\n",
        "dec_in_train = encode_sequences(qa_tokenizer, ans_length+2, dec_in_train)\n",
        "dec_in_val = encode_sequences(qa_tokenizer, ans_length+2, dec_in_val)\n",
        "dec_in_test = encode_sequences(qa_tokenizer, ans_length+2, dec_in_test)\n",
        "\n",
        "print('\\n\\n>> After')\n",
        "print('> Shape')\n",
        "print('enc_in_train:', enc_in_train.shape)\n",
        "print('enc_in_val:', enc_in_val.shape)\n",
        "print('enc_in_test:', enc_in_test.shape)\n",
        "print('dec_in_train:', dec_in_train.shape)\n",
        "print('dec_in_val:', dec_in_val.shape)\n",
        "print('dec_in_test:', dec_in_test.shape)"
      ],
      "execution_count": null,
      "outputs": [
        {
          "output_type": "stream",
          "text": [
            ">> Before\n",
            "> Shape\n",
            "enc_in_train: (170177,)\n",
            "enc_in_val: (42545,)\n",
            "enc_in_test: (1069,)\n",
            "dec_in_train: (170177,)\n",
            "dec_in_val: (42545,)\n",
            "dec_in_test: (1069,)\n",
            "\n",
            "\n",
            ">> After\n",
            "> Shape\n",
            "enc_in_train: (170177, 11)\n",
            "enc_in_val: (42545, 11)\n",
            "enc_in_test: (1069, 11)\n",
            "dec_in_train: (170177, 5)\n",
            "dec_in_val: (42545, 5)\n",
            "dec_in_test: (1069, 5)\n"
          ],
          "name": "stdout"
        }
      ]
    },
    {
      "cell_type": "markdown",
      "metadata": {
        "id": "Jh3QlGjDDYNR",
        "colab_type": "text"
      },
      "source": [
        "### 7. Create lookup maps"
      ]
    },
    {
      "cell_type": "code",
      "metadata": {
        "id": "kSDdNP6wsodh",
        "colab_type": "code",
        "colab": {
          "base_uri": "https://localhost:8080/"
        },
        "outputId": "186195e7-72df-48c9-9be6-e5feadc1a221"
      },
      "source": [
        "qa_vocab = qa_tokenizer.word_index\n",
        "word2id = dict()\n",
        "id2word = dict()\n",
        "for k, v in qa_vocab.items():\n",
        "    word2id[k] = v\n",
        "    id2word[v] = k\n",
        "print('Size of word2id:', len(word2id))\n",
        "print('Size of id2word:', len(id2word))"
      ],
      "execution_count": null,
      "outputs": [
        {
          "output_type": "stream",
          "text": [
            "Size of word2id: 41396\n",
            "Size of id2word: 41396\n"
          ],
          "name": "stdout"
        }
      ]
    },
    {
      "cell_type": "markdown",
      "metadata": {
        "id": "HFQ1mNxYDfrH",
        "colab_type": "text"
      },
      "source": [
        "### 8. Load pretrained word embeddings"
      ]
    },
    {
      "cell_type": "code",
      "metadata": {
        "id": "vjEAlfWCRiPe",
        "colab_type": "code",
        "colab": {}
      },
      "source": [
        "!wget -qq https://dl.fbaipublicfiles.com/fasttext/vectors-english/wiki-news-300d-1M.vec.zip"
      ],
      "execution_count": null,
      "outputs": []
    },
    {
      "cell_type": "code",
      "metadata": {
        "id": "iIQvAgBDxwGG",
        "colab_type": "code",
        "colab": {}
      },
      "source": [
        "!unzip -qq wiki-news-300d-1M.vec.zip"
      ],
      "execution_count": null,
      "outputs": []
    },
    {
      "cell_type": "code",
      "metadata": {
        "id": "yx3CF85YyKuS",
        "colab_type": "code",
        "colab": {
          "base_uri": "https://localhost:8080/",
          "height": 34
        },
        "outputId": "fa69e9f7-1e0f-4682-cfee-bee3f2f9c27c"
      },
      "source": [
        "# load the pre-trained word-embedding vectors \n",
        "embeddings_index = dict()\n",
        "for i, line in enumerate(open('wiki-news-300d-1M.vec')):\n",
        "    values = line.split()\n",
        "    embeddings_index[values[0]] = asarray(values[1:], dtype='float32')\n",
        "    \n",
        "print('Found %s word vectors' % len(embeddings_index))"
      ],
      "execution_count": null,
      "outputs": [
        {
          "output_type": "stream",
          "text": [
            "Found 999995 word vectors\n"
          ],
          "name": "stdout"
        }
      ]
    },
    {
      "cell_type": "markdown",
      "metadata": {
        "id": "ug183UU2Drp1",
        "colab_type": "text"
      },
      "source": [
        "### 9. Generate word embeddings"
      ]
    },
    {
      "cell_type": "code",
      "metadata": {
        "id": "qRXLt5kcw-DJ",
        "colab_type": "code",
        "colab": {
          "base_uri": "https://localhost:8080/",
          "height": 34
        },
        "outputId": "7a04966d-19d4-45ce-af46-489fb11ed7ac"
      },
      "source": [
        "# create token-embedding mapping\n",
        "embedding_matrix = zeros((qa_vocab_size, 300))\n",
        "for word, i in qa_vocab.items():\n",
        "    embedding_vector = embeddings_index.get(word)\n",
        "    if embedding_vector is not None:\n",
        "        embedding_matrix[i] = embedding_vector\n",
        "        \n",
        "print(embedding_matrix.shape)"
      ],
      "execution_count": null,
      "outputs": [
        {
          "output_type": "stream",
          "text": [
            "(41397, 300)\n"
          ],
          "name": "stdout"
        }
      ]
    },
    {
      "cell_type": "code",
      "metadata": {
        "id": "tQAmubAQyHEG",
        "colab_type": "code",
        "colab": {}
      },
      "source": [
        "save('embedding_matrix', embedding_matrix)"
      ],
      "execution_count": null,
      "outputs": []
    },
    {
      "cell_type": "code",
      "metadata": {
        "id": "DmSmhTYb09Fy",
        "colab_type": "code",
        "colab": {}
      },
      "source": [
        "embedding_matrix = load('embedding_matrix.npy')"
      ],
      "execution_count": null,
      "outputs": []
    },
    {
      "cell_type": "markdown",
      "metadata": {
        "id": "ZAD3dpRMD0CZ",
        "colab_type": "text"
      },
      "source": [
        "### 10. Modeling"
      ]
    },
    {
      "cell_type": "markdown",
      "metadata": {
        "id": "fE4RNrvzOF8u",
        "colab_type": "text"
      },
      "source": [
        "#### 10.1. Baseline Model"
      ]
    },
    {
      "cell_type": "markdown",
      "metadata": {
        "id": "_gD1YtRREBRT",
        "colab_type": "text"
      },
      "source": [
        "##### 10.1.1. Create a tf.data dataset"
      ]
    },
    {
      "cell_type": "code",
      "metadata": {
        "id": "Xbt4fGYS14Ht",
        "colab_type": "code",
        "colab": {}
      },
      "source": [
        "BATCH_SIZE = 512\n",
        "embedding_dim = 300\n",
        "units = 1024\n",
        "max_ques_length = ques_length\n",
        "max_ans_length = ans_length + 2 # +2 for start and end token"
      ],
      "execution_count": null,
      "outputs": []
    },
    {
      "cell_type": "code",
      "metadata": {
        "id": "n3iS-79l1mal",
        "colab_type": "code",
        "colab": {}
      },
      "source": [
        "BUFFER_SIZE_TRAIN = len(enc_in_train)\n",
        "steps_per_epoch_train = BUFFER_SIZE_TRAIN//BATCH_SIZE\n",
        "\n",
        "dataset_train = tf.data.Dataset.from_tensor_slices((enc_in_train, dec_in_train)).shuffle(BUFFER_SIZE_TRAIN)\n",
        "dataset_train = dataset_train.batch(BATCH_SIZE, drop_remainder=True)"
      ],
      "execution_count": null,
      "outputs": []
    },
    {
      "cell_type": "code",
      "metadata": {
        "id": "Rt6ljPZv6pwS",
        "colab_type": "code",
        "colab": {}
      },
      "source": [
        "BUFFER_SIZE_VAL = len(enc_in_val)\n",
        "steps_per_epoch_val = BUFFER_SIZE_VAL//BATCH_SIZE\n",
        "\n",
        "dataset_val = tf.data.Dataset.from_tensor_slices((enc_in_val, dec_in_val)).shuffle(BUFFER_SIZE_VAL)\n",
        "dataset_val = dataset_val.batch(BATCH_SIZE, drop_remainder=True)"
      ],
      "execution_count": null,
      "outputs": []
    },
    {
      "cell_type": "code",
      "metadata": {
        "id": "J8yCMtjq2xRx",
        "colab_type": "code",
        "colab": {
          "base_uri": "https://localhost:8080/"
        },
        "outputId": "04805bdb-2630-4bfc-d79f-31efe883b7b6"
      },
      "source": [
        "example_input_batch, example_target_batch = next(iter(dataset_train))\n",
        "example_input_batch.shape, example_target_batch.shape"
      ],
      "execution_count": null,
      "outputs": [
        {
          "output_type": "execute_result",
          "data": {
            "text/plain": [
              "(TensorShape([512, 11]), TensorShape([512, 5]))"
            ]
          },
          "metadata": {
            "tags": []
          },
          "execution_count": 24
        }
      ]
    },
    {
      "cell_type": "markdown",
      "metadata": {
        "id": "8pnzUWTgEFnk",
        "colab_type": "text"
      },
      "source": [
        "##### 10.1.2. Write the encoder and decoder model"
      ]
    },
    {
      "cell_type": "code",
      "metadata": {
        "id": "72F1xcZLsEwr",
        "colab_type": "code",
        "colab": {}
      },
      "source": [
        "class Encoder(tf.keras.Model):\n",
        "    def __init__(self, vocab_size, embedding_dim, enc_units, batch_sz):\n",
        "        super(Encoder, self).__init__()\n",
        "        self.batch_sz = batch_sz\n",
        "        self.enc_units = enc_units\n",
        "        self.embedding = tf.keras.layers.Embedding(vocab_size, embedding_dim, input_length=max_ques_length, \n",
        "                                                   weights=[embedding_matrix], trainable=False)\n",
        "        self.lstm = tf.keras.layers.LSTM(self.enc_units,\n",
        "                                   return_sequences=True,\n",
        "                                   return_state=True)\n",
        "        \n",
        "    def call(self, x, hidden):\n",
        "        # x shape == (batch_size, max_ques_length)\n",
        "        x = self.embedding(x)\n",
        "        # x shape == (batch_size, max_ques_length, embedding_dim)\n",
        "        output, state_h, state_c = self.lstm(x, initial_state = hidden)\n",
        "        # output shape == (batch_size, max_ques_length, enc_units)\n",
        "        # state_h shape == (batch_size, enc_units)\n",
        "        # state_c shape == (batch_size, enc_units)\n",
        "        return output, state_h, state_c\n",
        "\n",
        "    def initialize_hidden_state(self):\n",
        "        return (tf.zeros((self.batch_sz, self.enc_units)),\n",
        "                tf.zeros((self.batch_sz, self.enc_units)))\n",
        "\n",
        "class Decoder(tf.keras.Model):\n",
        "    def __init__(self, vocab_size, embedding_dim, dec_units, batch_sz):\n",
        "        super(Decoder, self).__init__()\n",
        "        self.batch_sz = batch_sz\n",
        "        self.dec_units = dec_units\n",
        "        self.embedding = tf.keras.layers.Embedding(vocab_size, embedding_dim, input_length=max_ans_length, \n",
        "                                                   weights=[embedding_matrix], trainable=False)\n",
        "        self.lstm = tf.keras.layers.LSTM(self.dec_units,\n",
        "                                   return_sequences=True,\n",
        "                                   return_state=True)\n",
        "        self.fc = tf.keras.layers.Dense(vocab_size)\n",
        "        \n",
        "    def call(self, x, hidden, enc_output):\n",
        "        # x shape == (batch_size, 1)\n",
        "        # hidden shape == tuple of two (batch_size, enc_units)\n",
        "        # enc_output shape == (batch_size, max_ques_length, enc_units)\n",
        "\n",
        "        # x shape after passing through embedding == (batch_size, 1, embedding_dim)\n",
        "        x = self.embedding(x)\n",
        "\n",
        "        # passing the concatenated vector to the LSTM\n",
        "        output, state_h, state_c = self.lstm(x, initial_state=hidden)\n",
        "        # output shape == (batch_size, 1, dec_units)\n",
        "        # state_h shape == (batch_size, dec_units)\n",
        "        # state_c shape == (batch_size, dec_units)\n",
        " \n",
        "        output = tf.reshape(output, (-1, output.shape[2]))\n",
        "        # output shape == (batch_size * 1, dec_units)\n",
        "        \n",
        "        x = self.fc(output)\n",
        "        # output shape == (batch_size, vocab)\n",
        "        \n",
        "        return x, state_h, state_c\n",
        "\n",
        "        \n",
        "    def initialize_hidden_state(self):\n",
        "        return (tf.zeros((self.batch_sz, self.dec_units)),\n",
        "                tf.zeros((self.batch_sz, self.dec_units)))"
      ],
      "execution_count": null,
      "outputs": []
    },
    {
      "cell_type": "code",
      "metadata": {
        "id": "eD_hI9dDbC1e",
        "colab_type": "code",
        "colab": {
          "base_uri": "https://localhost:8080/"
        },
        "outputId": "852e2968-50d5-49b4-8958-d2c8af139df7"
      },
      "source": [
        "encoder = Encoder(qa_vocab_size, embedding_dim, units, BATCH_SIZE)\n",
        "\n",
        "# sample input\n",
        "sample_hidden = encoder.initialize_hidden_state()\n",
        "sample_output, sample_state_hidden, sample_state_cell = encoder(example_input_batch, sample_hidden)\n",
        "print ('Encoder output shape: (batch size, sequence length, units) {}'.format(sample_output.shape))\n",
        "print ('Encoder hidden state shape: (batch size, units) {}'.format(sample_state_hidden.shape))\n",
        "print ('Encoder cell state shape: (batch size, units) {}'.format(sample_state_cell.shape))"
      ],
      "execution_count": null,
      "outputs": [
        {
          "output_type": "stream",
          "text": [
            "Encoder output shape: (batch size, sequence length, units) (512, 11, 1024)\n",
            "Encoder hidden state shape: (batch size, units) (512, 1024)\n",
            "Encoder cell state shape: (batch size, units) (512, 1024)\n"
          ],
          "name": "stdout"
        }
      ]
    },
    {
      "cell_type": "code",
      "metadata": {
        "id": "nLn605zd_m2r",
        "colab_type": "code",
        "colab": {
          "base_uri": "https://localhost:8080/",
          "height": 221
        },
        "outputId": "3800eba7-2c8d-46e0-d9c3-67b359a099da"
      },
      "source": [
        "encoder.summary()"
      ],
      "execution_count": null,
      "outputs": [
        {
          "output_type": "stream",
          "text": [
            "Model: \"encoder\"\n",
            "_________________________________________________________________\n",
            "Layer (type)                 Output Shape              Param #   \n",
            "=================================================================\n",
            "embedding (Embedding)        multiple                  12419100  \n",
            "_________________________________________________________________\n",
            "lstm (LSTM)                  multiple                  5427200   \n",
            "=================================================================\n",
            "Total params: 17,846,300\n",
            "Trainable params: 5,427,200\n",
            "Non-trainable params: 12,419,100\n",
            "_________________________________________________________________\n"
          ],
          "name": "stdout"
        }
      ]
    },
    {
      "cell_type": "code",
      "metadata": {
        "id": "WYHSXPw04aZD",
        "colab_type": "code",
        "colab": {
          "base_uri": "https://localhost:8080/"
        },
        "outputId": "38b62b30-e15d-47a6-a052-7ddf0bcffb07"
      },
      "source": [
        "decoder = Decoder(qa_vocab_size, embedding_dim, units, BATCH_SIZE)\n",
        "\n",
        "sample_decoder_output, _, _ = decoder(tf.random.uniform((BATCH_SIZE, 1)),\n",
        "                                      sample_hidden, sample_output)\n",
        "\n",
        "print ('Decoder output shape: (batch_size, vocab size) {}'.format(sample_decoder_output.shape))"
      ],
      "execution_count": null,
      "outputs": [
        {
          "output_type": "stream",
          "text": [
            "Decoder output shape: (batch_size, vocab size) (512, 41397)\n"
          ],
          "name": "stdout"
        }
      ]
    },
    {
      "cell_type": "code",
      "metadata": {
        "id": "hDaeTPfL_p_6",
        "colab_type": "code",
        "colab": {
          "base_uri": "https://localhost:8080/",
          "height": 255
        },
        "outputId": "2cedb767-df08-4596-a2dd-b3734b01b167"
      },
      "source": [
        "decoder.summary()"
      ],
      "execution_count": null,
      "outputs": [
        {
          "output_type": "stream",
          "text": [
            "Model: \"decoder\"\n",
            "_________________________________________________________________\n",
            "Layer (type)                 Output Shape              Param #   \n",
            "=================================================================\n",
            "embedding_1 (Embedding)      multiple                  12419100  \n",
            "_________________________________________________________________\n",
            "lstm_1 (LSTM)                multiple                  5427200   \n",
            "_________________________________________________________________\n",
            "dense (Dense)                multiple                  42431925  \n",
            "=================================================================\n",
            "Total params: 60,278,225\n",
            "Trainable params: 47,859,125\n",
            "Non-trainable params: 12,419,100\n",
            "_________________________________________________________________\n"
          ],
          "name": "stdout"
        }
      ]
    },
    {
      "cell_type": "markdown",
      "metadata": {
        "id": "0k47TOA-EPuO",
        "colab_type": "text"
      },
      "source": [
        "##### 10.1.3. Define the optimizer and the loss function"
      ]
    },
    {
      "cell_type": "code",
      "metadata": {
        "id": "GHp5Mc92jxTh",
        "colab_type": "code",
        "colab": {}
      },
      "source": [
        "optimizer = tf.keras.optimizers.Adam()\n",
        "loss_object = tf.keras.losses.SparseCategoricalCrossentropy(\n",
        "    from_logits=True, reduction='none')\n",
        "\n",
        "def loss_function(real, pred):\n",
        "  mask = tf.math.logical_not(tf.math.equal(real, 0))\n",
        "  loss_ = loss_object(real, pred)\n",
        "\n",
        "  mask = tf.cast(mask, dtype=loss_.dtype)\n",
        "  loss_ *= mask\n",
        "  return tf.reduce_sum(loss_)/tf.reduce_sum(mask)"
      ],
      "execution_count": null,
      "outputs": []
    },
    {
      "cell_type": "markdown",
      "metadata": {
        "id": "SNBuyUd2Fqq_",
        "colab_type": "text"
      },
      "source": [
        "##### 10.1.4. Checkpoints (Object-based saving)"
      ]
    },
    {
      "cell_type": "code",
      "metadata": {
        "id": "0s8c3YvIkBzP",
        "colab_type": "code",
        "colab": {}
      },
      "source": [
        "checkpoint_dir = './baseline_checkpoints'\n",
        "checkpoint_prefix = os.path.join(checkpoint_dir, \"ckpt\")\n",
        "checkpoint = tf.train.Checkpoint(optimizer=optimizer,\n",
        "                                 encoder=encoder,\n",
        "                                 decoder=decoder)"
      ],
      "execution_count": null,
      "outputs": []
    },
    {
      "cell_type": "markdown",
      "metadata": {
        "id": "pkb_eR4EGfOI",
        "colab_type": "text"
      },
      "source": [
        "##### 10.1.5. Setup TensorBoard logging"
      ]
    },
    {
      "cell_type": "code",
      "metadata": {
        "id": "dz0bK832c3nq",
        "colab_type": "code",
        "colab": {}
      },
      "source": [
        "if not os.path.exists('logs'):\n",
        "  os.makedirs('logs')\n",
        "else:\n",
        "  shutil.rmtree('logs', ignore_errors=True)\n",
        "  os.makedirs('logs')"
      ],
      "execution_count": null,
      "outputs": []
    },
    {
      "cell_type": "code",
      "metadata": {
        "id": "AgphkLbnd2p2",
        "colab_type": "code",
        "colab": {}
      },
      "source": [
        "current_time = datetime.now().strftime(\"%Y%m%d-%H%M%S\")\n",
        "log_dir = 'logs/gradient_tape/' + current_time + '/baseline'\n",
        "summary_writer = tf.summary.create_file_writer(log_dir)"
      ],
      "execution_count": null,
      "outputs": []
    },
    {
      "cell_type": "markdown",
      "metadata": {
        "id": "lSI_7M_WF1jR",
        "colab_type": "text"
      },
      "source": [
        "##### 10.1.6. Training\n",
        "1.   Pass the input through the encoder which return encoder output and the encoder hidden state.\n",
        "2.   The encoder output, encoder hidden state and the decoder input (which is the start token) is passed to the decoder.\n",
        "3.   The decoder returns the predictions and the decoder hidden state.\n",
        "4.   The decoder hidden state is then passed back into the model and the predictions are used to calculate the loss.\n",
        "5.   Use teacher forcing to decide the next input to the decoder.\n",
        "6.   Teacher forcing is the technique where the target word is passed as the next input to the decoder.\n",
        "7.   The final step is to calculate the gradients and apply it to the optimizer and backpropagate."
      ]
    },
    {
      "cell_type": "code",
      "metadata": {
        "id": "tkjZzGV90jWi",
        "colab_type": "code",
        "colab": {}
      },
      "source": [
        "@tf.function\n",
        "def train_step(inp, targ, enc_hidden):\n",
        "  loss = 0\n",
        "\n",
        "  with tf.GradientTape() as tape:\n",
        "    enc_outputs = encoder(inp, enc_hidden)\n",
        "\n",
        "    enc_output = enc_outputs[0]\n",
        "\n",
        "    enc_states = enc_outputs[1:]\n",
        "\n",
        "    dec_state_h, dec_state_c = enc_states\n",
        "\n",
        "    dec_input = tf.expand_dims([word2id['<start>']] * BATCH_SIZE, 1)\n",
        "\n",
        "    # Teacher forcing - feeding the target as the next input\n",
        "    for t in range(1, targ.shape[1]):\n",
        "      # passing enc_output to the decoder\n",
        "      predictions, dec_state_h, dec_state_c = \\\n",
        "                      decoder(dec_input, (dec_state_h, dec_state_c), enc_output)\n",
        "\n",
        "      loss += loss_function(targ[:, t], predictions)\n",
        "\n",
        "      # using teacher forcing\n",
        "      dec_input = tf.expand_dims(targ[:, t], 1)\n",
        "\n",
        "  batch_loss = (loss / int(targ.shape[1]))\n",
        "\n",
        "  variables = encoder.trainable_variables + decoder.trainable_variables\n",
        "\n",
        "  gradients = tape.gradient(loss, variables)\n",
        "\n",
        "  optimizer.apply_gradients(zip(gradients, variables))\n",
        "\n",
        "  return batch_loss"
      ],
      "execution_count": null,
      "outputs": []
    },
    {
      "cell_type": "code",
      "metadata": {
        "id": "p8O_0uHE2Q1I",
        "colab_type": "code",
        "colab": {}
      },
      "source": [
        "EPOCHS = 10"
      ],
      "execution_count": null,
      "outputs": []
    },
    {
      "cell_type": "code",
      "metadata": {
        "id": "Ym3GgdOrLUoC",
        "colab_type": "code",
        "colab": {}
      },
      "source": [
        "def train(EPOCHS):\n",
        "  loss_train = list()\n",
        "  loss_val = list()\n",
        "\n",
        "  for epoch in range(EPOCHS):\n",
        "      # Training\n",
        "      start_time = timer()\n",
        "      print(\"----- Training -----\")\n",
        "      enc_hidden_train = encoder.initialize_hidden_state()\n",
        "      total_loss_train = 0\n",
        "\n",
        "      for (batch, (inp, targ)) in enumerate(dataset_train.take(steps_per_epoch_train)):\n",
        "        batch_loss = train_step(inp, targ, enc_hidden_train)\n",
        "        total_loss_train += batch_loss\n",
        "\n",
        "        if batch % 100 == 0:\n",
        "          print('Epoch {} Batch {} Loss {:.4f}'.format(epoch + 1,\n",
        "                                                      batch,\n",
        "                                                      batch_loss.numpy()))\n",
        "      \n",
        "      print('Epoch {} Loss {:.4f}'.format(epoch + 1,\n",
        "                                          total_loss_train / steps_per_epoch_train))\n",
        "      \n",
        "      temp_loss_train = total_loss_train / steps_per_epoch_train\n",
        "      loss_train.append(temp_loss_train)\n",
        "      with summary_writer.as_default():\n",
        "          tf.summary.scalar('loss', temp_loss_train, step=epoch)\n",
        "\n",
        "      timer(start_time)\n",
        "      \n",
        "      # Validation\n",
        "      start_time = timer()\n",
        "      print(\"----- Validation -----\")\n",
        "      enc_hidden_val = encoder.initialize_hidden_state()\n",
        "      total_loss_val = 0\n",
        "\n",
        "      for (batch, (inp, targ)) in enumerate(dataset_val.take(steps_per_epoch_val)):\n",
        "        batch_loss = train_step(inp, targ, enc_hidden_val)\n",
        "        total_loss_val += batch_loss\n",
        "\n",
        "        if batch % 40 == 0:\n",
        "          print('Epoch {} Batch {} Val-Loss {:.4f}'.format(epoch + 1,\n",
        "                                                      batch,\n",
        "                                                      batch_loss.numpy()))\n",
        "      \n",
        "      print('Epoch {} Val-Loss {:.4f}'.format(epoch + 1,\n",
        "                                          total_loss_val / steps_per_epoch_val))\n",
        "      \n",
        "      # saving (checkpoint) the model every 10 epochs\n",
        "      if (epoch + 1) % 10 == 0:\n",
        "        checkpoint.save(file_prefix = checkpoint_prefix)\n",
        "\n",
        "      temp_loss_val = total_loss_val / steps_per_epoch_val\n",
        "      loss_val.append(temp_loss_val)\n",
        "      with summary_writer.as_default():\n",
        "          tf.summary.scalar('val-loss', temp_loss_val, step=epoch)\n",
        "\n",
        "     \n",
        "      if epoch == EPOCHS-1:\n",
        "        for (batch, (inp, targ)) in enumerate(dataset_val.take(1)):\n",
        "          # Bracket the function call with\n",
        "          # tf.summary.trace_on() and tf.summary.trace_export().\n",
        "          tf.summary.trace_on(graph=True, profiler=True)\n",
        "          batch_loss = train_step(inp, targ, enc_hidden_val)\n",
        "          with summary_writer.as_default():\n",
        "              tf.summary.trace_export(\n",
        "                  name=\"step\",\n",
        "                  step=0,\n",
        "                  profiler_outdir=log_dir)\n",
        "\n",
        "      timer(start_time)\n",
        "  return loss_train, loss_val"
      ],
      "execution_count": null,
      "outputs": []
    },
    {
      "cell_type": "code",
      "metadata": {
        "id": "wy1ncNJUUYHq",
        "colab_type": "code",
        "colab": {
          "base_uri": "https://localhost:8080/",
          "height": 1000
        },
        "outputId": "50eb7eb7-4e79-4c41-e533-b53b05a7d4a2"
      },
      "source": [
        "start_time = timer()\n",
        "loss_train, loss_val = train(EPOCHS)\n",
        "timer(start_time)"
      ],
      "execution_count": null,
      "outputs": [
        {
          "output_type": "stream",
          "text": [
            "----- Training -----\n",
            "Epoch 1 Batch 0 Loss 8.5056\n",
            "Epoch 1 Batch 100 Loss 2.4755\n",
            "Epoch 1 Batch 200 Loss 2.3776\n",
            "Epoch 1 Batch 300 Loss 2.2612\n",
            "Epoch 1 Loss 2.5321\n",
            "Time taken: 0 hours 1 minutes and 35.78 seconds.\n",
            "----- Validation -----\n",
            "Epoch 1 Batch 0 Val-Loss 2.2064\n",
            "Epoch 1 Batch 40 Val-Loss 2.1309\n",
            "Epoch 1 Batch 80 Val-Loss 2.0769\n",
            "Epoch 1 Val-Loss 2.1176\n",
            "Time taken: 0 hours 0 minutes and 22.77 seconds.\n",
            "----- Training -----\n",
            "Epoch 2 Batch 0 Loss 2.1049\n",
            "Epoch 2 Batch 100 Loss 1.8405\n",
            "Epoch 2 Batch 200 Loss 1.8577\n",
            "Epoch 2 Batch 300 Loss 1.8234\n",
            "Epoch 2 Loss 1.8822\n",
            "Time taken: 0 hours 1 minutes and 33.68 seconds.\n",
            "----- Validation -----\n",
            "Epoch 2 Batch 0 Val-Loss 1.7192\n",
            "Epoch 2 Batch 40 Val-Loss 1.7450\n",
            "Epoch 2 Batch 80 Val-Loss 1.6631\n",
            "Epoch 2 Val-Loss 1.7552\n",
            "Time taken: 0 hours 0 minutes and 23.56 seconds.\n",
            "----- Training -----\n",
            "Epoch 3 Batch 0 Loss 1.7110\n",
            "Epoch 3 Batch 100 Loss 1.6652\n",
            "Epoch 3 Batch 200 Loss 1.5830\n",
            "Epoch 3 Batch 300 Loss 1.5443\n",
            "Epoch 3 Loss 1.6584\n",
            "Time taken: 0 hours 1 minutes and 33.88 seconds.\n",
            "----- Validation -----\n",
            "Epoch 3 Batch 0 Val-Loss 1.6809\n",
            "Epoch 3 Batch 40 Val-Loss 1.5336\n",
            "Epoch 3 Batch 80 Val-Loss 1.4928\n",
            "Epoch 3 Val-Loss 1.5811\n",
            "Time taken: 0 hours 0 minutes and 23.59 seconds.\n",
            "----- Training -----\n",
            "Epoch 4 Batch 0 Loss 1.4884\n",
            "Epoch 4 Batch 100 Loss 1.4098\n",
            "Epoch 4 Batch 200 Loss 1.5705\n",
            "Epoch 4 Batch 300 Loss 1.4823\n",
            "Epoch 4 Loss 1.5132\n",
            "Time taken: 0 hours 1 minutes and 34.24 seconds.\n",
            "----- Validation -----\n",
            "Epoch 4 Batch 0 Val-Loss 1.5937\n",
            "Epoch 4 Batch 40 Val-Loss 1.3530\n",
            "Epoch 4 Batch 80 Val-Loss 1.4505\n",
            "Epoch 4 Val-Loss 1.4556\n",
            "Time taken: 0 hours 0 minutes and 23.55 seconds.\n",
            "----- Training -----\n",
            "Epoch 5 Batch 0 Loss 1.3699\n",
            "Epoch 5 Batch 100 Loss 1.4119\n",
            "Epoch 5 Batch 200 Loss 1.4593\n",
            "Epoch 5 Batch 300 Loss 1.3222\n",
            "Epoch 5 Loss 1.4118\n",
            "Time taken: 0 hours 1 minutes and 34.17 seconds.\n",
            "----- Validation -----\n",
            "Epoch 5 Batch 0 Val-Loss 1.2765\n",
            "Epoch 5 Batch 40 Val-Loss 1.3882\n",
            "Epoch 5 Batch 80 Val-Loss 1.2762\n",
            "Epoch 5 Val-Loss 1.3620\n",
            "Time taken: 0 hours 0 minutes and 23.55 seconds.\n",
            "----- Training -----\n",
            "Epoch 6 Batch 0 Loss 1.3279\n",
            "Epoch 6 Batch 100 Loss 1.3157\n",
            "Epoch 6 Batch 200 Loss 1.2724\n",
            "Epoch 6 Batch 300 Loss 1.4175\n",
            "Epoch 6 Loss 1.3277\n",
            "Time taken: 0 hours 1 minutes and 34.23 seconds.\n",
            "----- Validation -----\n",
            "Epoch 6 Batch 0 Val-Loss 1.3710\n",
            "Epoch 6 Batch 40 Val-Loss 1.2304\n",
            "Epoch 6 Batch 80 Val-Loss 1.2076\n",
            "Epoch 6 Val-Loss 1.2821\n",
            "Time taken: 0 hours 0 minutes and 23.54 seconds.\n",
            "----- Training -----\n",
            "Epoch 7 Batch 0 Loss 1.3048\n",
            "Epoch 7 Batch 100 Loss 1.3050\n",
            "Epoch 7 Batch 200 Loss 1.2670\n",
            "Epoch 7 Batch 300 Loss 1.3274\n",
            "Epoch 7 Loss 1.2527\n",
            "Time taken: 0 hours 1 minutes and 34.23 seconds.\n",
            "----- Validation -----\n",
            "Epoch 7 Batch 0 Val-Loss 1.1780\n",
            "Epoch 7 Batch 40 Val-Loss 1.2341\n",
            "Epoch 7 Batch 80 Val-Loss 1.1725\n",
            "Epoch 7 Val-Loss 1.2098\n",
            "Time taken: 0 hours 0 minutes and 23.54 seconds.\n",
            "----- Training -----\n",
            "Epoch 8 Batch 0 Loss 1.3021\n",
            "Epoch 8 Batch 100 Loss 1.2213\n",
            "Epoch 8 Batch 200 Loss 1.1208\n",
            "Epoch 8 Batch 300 Loss 1.1575\n",
            "Epoch 8 Loss 1.1828\n",
            "Time taken: 0 hours 1 minutes and 34.25 seconds.\n",
            "----- Validation -----\n",
            "Epoch 8 Batch 0 Val-Loss 1.0658\n",
            "Epoch 8 Batch 40 Val-Loss 1.1274\n",
            "Epoch 8 Batch 80 Val-Loss 1.1620\n",
            "Epoch 8 Val-Loss 1.1553\n",
            "Time taken: 0 hours 0 minutes and 23.57 seconds.\n",
            "----- Training -----\n",
            "Epoch 9 Batch 0 Loss 1.1126\n",
            "Epoch 9 Batch 100 Loss 1.0930\n",
            "Epoch 9 Batch 200 Loss 1.1351\n",
            "Epoch 9 Batch 300 Loss 1.1441\n",
            "Epoch 9 Loss 1.1194\n",
            "Time taken: 0 hours 1 minutes and 34.27 seconds.\n",
            "----- Validation -----\n",
            "Epoch 9 Batch 0 Val-Loss 1.0827\n",
            "Epoch 9 Batch 40 Val-Loss 1.0197\n",
            "Epoch 9 Batch 80 Val-Loss 1.1122\n",
            "Epoch 9 Val-Loss 1.0884\n",
            "Time taken: 0 hours 0 minutes and 23.54 seconds.\n",
            "----- Training -----\n",
            "Epoch 10 Batch 0 Loss 1.1051\n",
            "Epoch 10 Batch 100 Loss 1.0779\n",
            "Epoch 10 Batch 200 Loss 0.9717\n",
            "Epoch 10 Batch 300 Loss 1.0286\n",
            "Epoch 10 Loss 1.0581\n",
            "Time taken: 0 hours 1 minutes and 34.24 seconds.\n",
            "----- Validation -----\n",
            "Epoch 10 Batch 0 Val-Loss 1.0787\n",
            "Epoch 10 Batch 40 Val-Loss 1.0623\n",
            "Epoch 10 Batch 80 Val-Loss 0.9785\n",
            "Epoch 10 Val-Loss 1.0331\n",
            "WARNING:tensorflow:From /usr/local/lib/python3.6/dist-packages/tensorflow/python/ops/summary_ops_v2.py:1297: start (from tensorflow.python.eager.profiler) is deprecated and will be removed after 2020-07-01.\n",
            "Instructions for updating:\n",
            "use `tf.profiler.experimental.start` instead.\n",
            "WARNING:tensorflow:From /usr/local/lib/python3.6/dist-packages/tensorflow/python/ops/summary_ops_v2.py:1353: stop (from tensorflow.python.eager.profiler) is deprecated and will be removed after 2020-07-01.\n",
            "Instructions for updating:\n",
            "use `tf.profiler.experimental.stop` instead.\n",
            "WARNING:tensorflow:From /usr/local/lib/python3.6/dist-packages/tensorflow/python/ops/summary_ops_v2.py:1353: save (from tensorflow.python.eager.profiler) is deprecated and will be removed after 2020-07-01.\n",
            "Instructions for updating:\n",
            "`tf.python.eager.profiler` has deprecated, use `tf.profiler` instead.\n",
            "WARNING:tensorflow:From /usr/local/lib/python3.6/dist-packages/tensorflow/python/eager/profiler.py:151: maybe_create_event_file (from tensorflow.python.eager.profiler) is deprecated and will be removed after 2020-07-01.\n",
            "Instructions for updating:\n",
            "`tf.python.eager.profiler` has deprecated, use `tf.profiler` instead.\n",
            "Time taken: 0 hours 0 minutes and 27.06 seconds.\n",
            "Time taken: 0 hours 19 minutes and 41.27 seconds.\n"
          ],
          "name": "stdout"
        }
      ]
    },
    {
      "cell_type": "markdown",
      "metadata": {
        "id": "JHpYIzTcG9rt",
        "colab_type": "text"
      },
      "source": [
        "##### 10.1.7. Save model weights"
      ]
    },
    {
      "cell_type": "code",
      "metadata": {
        "id": "O3YYVwfL_2J-",
        "colab_type": "code",
        "colab": {}
      },
      "source": [
        "encoder.save_weights('baseline_encoder_weights.h5')\n",
        "decoder.save_weights('baseline_decoder_weights.h5')"
      ],
      "execution_count": null,
      "outputs": []
    },
    {
      "cell_type": "code",
      "metadata": {
        "id": "PTsoDC8012Oc",
        "colab_type": "code",
        "colab": {
          "base_uri": "https://localhost:8080/"
        },
        "outputId": "540a643b-d5af-4776-fbeb-e30ea1b06a78"
      },
      "source": [
        "!tar cvzf baseline_checkpoints.tar.gz ./baseline_checkpoints/checkpoint ./baseline_checkpoints/ckpt-1.data-00000-of-00001 ./baseline_checkpoints/ckpt-1.index ./baseline_encoder_weights.h5 ./baseline_decoder_weights.h5"
      ],
      "execution_count": null,
      "outputs": [
        {
          "output_type": "stream",
          "text": [
            "./baseline_checkpoints/checkpoint\n",
            "./baseline_checkpoints/ckpt-1.data-00000-of-00001\n",
            "./baseline_checkpoints/ckpt-1.index\n",
            "./baseline_encoder_weights.h5\n",
            "./baseline_decoder_weights.h5\n"
          ],
          "name": "stdout"
        }
      ]
    },
    {
      "cell_type": "code",
      "metadata": {
        "id": "xbDSU90Sna2Z",
        "colab_type": "code",
        "colab": {
          "base_uri": "https://localhost:8080/",
          "height": 70
        },
        "outputId": "9a9e5441-95df-47be-fd47-a8f24dfa168f"
      },
      "source": [
        "!tar xvzf ./checkpoints.gz ./baseline_checkpoints/"
      ],
      "execution_count": null,
      "outputs": [
        {
          "output_type": "stream",
          "text": [
            "./baseline_checkpoints/checkpoint\n",
            "./baseline_checkpoints/ckpt-13.data-00000-of-00001\n",
            "./baseline_checkpoints/ckpt-13.index\n"
          ],
          "name": "stdout"
        }
      ]
    },
    {
      "cell_type": "markdown",
      "metadata": {
        "id": "OdAPbKgKHB5T",
        "colab_type": "text"
      },
      "source": [
        "##### 10.1.8. Plot the model's loss"
      ]
    },
    {
      "cell_type": "code",
      "metadata": {
        "id": "Rd1e036xMluP",
        "colab_type": "code",
        "colab": {}
      },
      "source": [
        "def plot_loss(EPOCHS, loss_train, loss_val):\n",
        "  epochs = range(EPOCHS)\n",
        "  plt.plot(epochs, loss_train, 'b', label='Training loss')\n",
        "  plt.plot(epochs, loss_val, 'r', label='Validation loss')\n",
        "  plt.title('Training and Validation loss')\n",
        "  plt.xlabel('Epochs')\n",
        "  plt.ylabel('Sparse categorical crossentropy loss')\n",
        "  plt.legend()\n",
        "  plt.show()"
      ],
      "execution_count": null,
      "outputs": []
    },
    {
      "cell_type": "code",
      "metadata": {
        "id": "uQhNDwcIDHzE",
        "colab_type": "code",
        "colab": {
          "base_uri": "https://localhost:8080/",
          "height": 295
        },
        "outputId": "cefc2455-15fe-4ed9-f45b-899939b2951a"
      },
      "source": [
        "plot_loss(EPOCHS, loss_train, loss_val)"
      ],
      "execution_count": null,
      "outputs": [
        {
          "output_type": "display_data",
          "data": {
            "image/png": "[encoded data removed]",
            "text/plain": [
              "<Figure size 432x288 with 1 Axes>"
            ]
          },
          "metadata": {
            "tags": [],
            "needs_background": "light"
          }
        }
      ]
    },
    {
      "cell_type": "markdown",
      "metadata": {
        "id": "4pmHWK_yG7EV",
        "colab_type": "text"
      },
      "source": [
        "##### 10.1.9. Inference\n",
        "1.   The evaluate function is similar to the training loop, except we don't use teacher forcing here. The input to the decoder at each time step is its previous predictions along with the hidden state and the encoder output.\n",
        "2.   Stop predicting when the model predicts the end token."
      ]
    },
    {
      "cell_type": "code",
      "metadata": {
        "id": "XVqLOQfI92Ev",
        "colab_type": "code",
        "colab": {}
      },
      "source": [
        "## Beam Search\n",
        "def evaluate_beam(inputs, encoder, decoder, max_length_inp, max_length_targ, special_input=False, beam_index=3):\n",
        "    \"\"\"\n",
        "      inputs type = numpy.ndarray \n",
        "      inputs shape = (1, max_length_inp)\n",
        "    \"\"\"\n",
        "\n",
        "    if special_input:\n",
        "      inputs = tf.zeros((1, max_length_inp), dtype=tf.dtypes.int32)\n",
        "      sentence = 'All zeros'\n",
        "    else:\n",
        "      sentence = ''\n",
        "      for i in inputs[0]:\n",
        "          if i == 0: # break if post padding detected\n",
        "              break\n",
        "          sentence = sentence + id2word[i] + ' '\n",
        "      inputs = tf.convert_to_tensor(inputs)\n",
        "\n",
        "    start = [word2id['<start>']]\n",
        "    \n",
        "    # result[0][0] = index of the starting word\n",
        "    # result[0][1] = probability of the word predicted\n",
        "    result = [[start, 0.0]]\n",
        "\n",
        "    enc_hidden = (tf.zeros((1, units)), tf.zeros((1, units)))\n",
        "    enc_outputs = encoder(inputs, enc_hidden)\n",
        "    enc_output = enc_outputs[0]\n",
        "    enc_states = enc_outputs[1:]\n",
        "    dec_state_h, dec_state_c = enc_states\n",
        "    dec_input = tf.expand_dims([word2id['<start>']], 0)\n",
        "\n",
        "    # (max_length_targ-1) because start token is already added in the result\n",
        "    while len(result[0][0]) < (max_length_targ-1):\n",
        "        temp = []\n",
        "        for s in result:\n",
        "\n",
        "          predictions, dec_state_h, dec_state_c = \\\n",
        "                      decoder(dec_input, (dec_state_h, dec_state_c), enc_output)\n",
        "\n",
        "         \n",
        "          \n",
        "          # Getting the top <beam_index>(n) predictions\n",
        "          word_preds = np.argsort(predictions[0])[-beam_index:]\n",
        "          \n",
        "          # creating a new list so as to put them via the model again\n",
        "          for w in word_preds:       \n",
        "            next_cap, prob = s[0][:], s[1]\n",
        "            next_cap.append(w)\n",
        "            prob += predictions[0][w]\n",
        "            temp.append([next_cap, prob])\n",
        "        result = temp\n",
        "        # Sorting according to the probabilities\n",
        "        result = sorted(result, reverse=False, key=lambda l: l[1])\n",
        "        # Getting the top words\n",
        "        result = result[-beam_index:]\n",
        "        \n",
        "        predicted_id = result[-1] # with Max Probability\n",
        "        pred_list = predicted_id[0]\n",
        "        \n",
        "        prd_id = pred_list[-1] \n",
        "\n",
        "        if(prd_id!=word2id['<end>']):\n",
        "          dec_input = tf.expand_dims([prd_id], 0)  # Decoder input is the word predicted with highest probability among the top_k words predicted\n",
        "        else:\n",
        "          break\n",
        "\n",
        "    result = result[-1][0]\n",
        "    \n",
        "    intermediate_result = [id2word[i] for i in result]\n",
        "    \n",
        "    final_result = []\n",
        "    for i in intermediate_result:\n",
        "        if i != '<end>':\n",
        "            final_result.append(i)\n",
        "        else:\n",
        "            break\n",
        "\n",
        "    \n",
        "    final_result = ' '.join(final_result[1:])\n",
        "    return final_result, sentence"
      ],
      "execution_count": null,
      "outputs": []
    },
    {
      "cell_type": "code",
      "metadata": {
        "id": "XaCBOhv-AW_t",
        "colab_type": "code",
        "colab": {}
      },
      "source": [
        "## Greedy Search\n",
        "def evaluate(inputs, encoder, decoder, max_length_inp, max_length_targ, special_input=False):\n",
        "    \"\"\"\n",
        "      inputs type = numpy.ndarray \n",
        "      inputs shape = (1, max_length_inp)\n",
        "    \"\"\"\n",
        "    if special_input:\n",
        "      inputs = tf.zeros((1, max_length_inp), dtype=tf.dtypes.int32)\n",
        "      sentence = 'All zeros'\n",
        "    else:\n",
        "      sentence = ''\n",
        "      for i in inputs[0]:\n",
        "          if i == 0: # break if post padding detected\n",
        "              break\n",
        "          sentence = sentence + id2word[i] + ' '\n",
        "      inputs = tf.convert_to_tensor(inputs)\n",
        "    \n",
        "    result = ''\n",
        "    enc_hidden = (tf.zeros((1, units)), tf.zeros((1, units)))\n",
        "    enc_outputs = encoder(inputs, enc_hidden)\n",
        "    enc_output = enc_outputs[0]\n",
        "    enc_states = enc_outputs[1:]\n",
        "    dec_state_h, dec_state_c = enc_states\n",
        "\n",
        "    dec_input = tf.expand_dims([word2id['<start>']], 0)\n",
        "    for t in range(max_length_targ): # limit the length of the decoded sequence\n",
        "        predictions, dec_state_h, dec_state_c = \\\n",
        "                      decoder(dec_input, (dec_state_h, dec_state_c), enc_output)\n",
        "        predicted_id = tf.argmax(predictions[0]).numpy()\n",
        "        result += id2word[predicted_id] + ' '\n",
        "        if id2word[predicted_id] == '<end>':\n",
        "            return result, sentence\n",
        "        dec_input = tf.expand_dims([predicted_id], 0)\n",
        "    return result, sentence"
      ],
      "execution_count": null,
      "outputs": []
    },
    {
      "cell_type": "code",
      "metadata": {
        "id": "Wzskp6UjBzC3",
        "colab_type": "code",
        "colab": {}
      },
      "source": [
        "def process(str):\n",
        "  str = str.replace('<start>','')\n",
        "  str = str.replace('<end>','')\n",
        "  return str.strip()\n",
        "\n",
        "def predict(encoder, decoder, dataset_input, dataset_output, mode, count=10, first_half=True, special_input=False, beam_search=False):   \n",
        "  start = 0\n",
        "\n",
        "  if mode == 'random':\n",
        "    end = count\n",
        "  elif mode == 'corpus':\n",
        "    end = len(dataset_input)\n",
        "    predicted_answer_list = list()\n",
        "    actual_answer_list = list()\n",
        "  elif mode == 'debug':\n",
        "    question_list = list()\n",
        "    predicted_answer_list = list()\n",
        "    actual_answer_list = list()\n",
        "    if first_half:\n",
        "      end = int(len(dataset_input)/2)\n",
        "    else:\n",
        "      start = int(len(dataset_input)/2)\n",
        "      end = len(dataset_input)\n",
        "\n",
        "  \n",
        "  for j in tqdm(range(start, end)):\n",
        "      actual_ans = ''\n",
        "      if mode == 'random':\n",
        "        k = np.random.randint(len(dataset_input))\n",
        "        random_input = dataset_input[k]\n",
        "        random_output = dataset_output[k]\n",
        "      elif mode == 'corpus' or mode == 'debug':\n",
        "        random_input = dataset_input[j]\n",
        "        random_output = dataset_output[j]\n",
        "\n",
        "      random_input = np.expand_dims(random_input, 0)\n",
        "      if beam_search:\n",
        "         predicted_ans, ques = evaluate_beam(random_input, encoder, decoder, max_ques_length, max_ans_length, special_input=special_input)\n",
        "      else:\n",
        "        predicted_ans, ques = evaluate(random_input, encoder, decoder, max_ques_length, max_ans_length, special_input=special_input)\n",
        "      for i in random_output:\n",
        "          if i == 0: # break if post padding detected\n",
        "            break\n",
        "          actual_ans = actual_ans + id2word[i] + ' '\n",
        "      \n",
        "      if mode == 'debug':\n",
        "        question_list.append(process(ques))\n",
        "        predicted_answer_list.append(process(predicted_ans))\n",
        "        actual_answer_list.append(process(actual_ans))\n",
        "\n",
        "      if mode == 'random':  \n",
        "        print()\n",
        "        print('Question: {}'.format(process(ques)))\n",
        "        print('Actual answer: {}'.format(process(actual_ans)))\n",
        "        print('Predicted answer: {}'.format(process(predicted_ans)))\n",
        "      elif mode == 'corpus': \n",
        "        hypothesis = process(predicted_ans).split(' ')\n",
        "        reference = process(actual_ans).split(' ')\n",
        "        references = [reference] # list of references for 1 sentence.\n",
        "        actual_answer_list.append(references) # list of references for all sentences in corpus.\n",
        "        predicted_answer_list.append(hypothesis) # list of hypotheses that corresponds to list of references.\n",
        "        \n",
        "\n",
        "  if mode == 'debug':\n",
        "    return question_list, predicted_answer_list, actual_answer_list\n",
        "  elif mode == 'corpus':\n",
        "    return predicted_answer_list, actual_answer_list\n",
        "  elif mode == 'random':\n",
        "    return"
      ],
      "execution_count": null,
      "outputs": []
    },
    {
      "cell_type": "markdown",
      "metadata": {
        "id": "m7hWoJO6Hxdq",
        "colab_type": "text"
      },
      "source": [
        "##### 10.1.10. Restore the latest checkpoint and test"
      ]
    },
    {
      "cell_type": "code",
      "metadata": {
        "id": "zOc6z0llD-EV",
        "colab_type": "code",
        "colab": {
          "base_uri": "https://localhost:8080/",
          "height": 34
        },
        "outputId": "901bd6d9-be17-40f4-fb21-55432f512ce2"
      },
      "source": [
        "# restoring the latest checkpoint in checkpoint_dir\n",
        "checkpoint.restore(tf.train.latest_checkpoint(checkpoint_dir))"
      ],
      "execution_count": null,
      "outputs": [
        {
          "output_type": "execute_result",
          "data": {
            "text/plain": [
              "<tensorflow.python.training.tracking.util.CheckpointLoadStatus at 0x7fb31ff40da0>"
            ]
          },
          "metadata": {
            "tags": []
          },
          "execution_count": 33
        }
      ]
    },
    {
      "cell_type": "markdown",
      "metadata": {
        "id": "K142r_KsHWBj",
        "colab_type": "text"
      },
      "source": [
        "###### 10.1.10.1. Inference using greedy search"
      ]
    },
    {
      "cell_type": "code",
      "metadata": {
        "id": "UJdINywjQ_uN",
        "colab_type": "code",
        "colab": {
          "base_uri": "https://localhost:8080/",
          "height": 683
        },
        "outputId": "c5b9d43e-5c35-47cd-953b-32b47c745b17"
      },
      "source": [
        "predict(encoder, decoder, enc_in_test, dec_in_test, 'random')"
      ],
      "execution_count": null,
      "outputs": [
        {
          "output_type": "stream",
          "text": [
            "100%|██████████| 10/10 [00:00<00:00, 53.51it/s]"
          ],
          "name": "stderr"
        },
        {
          "output_type": "stream",
          "text": [
            "\n",
            "Question: is this color white of grey\n",
            "Actual answer: it is grey\n",
            "Predicted answer: yes\n",
            "\n",
            "Question: does it have an extra outlet feature\n",
            "Actual answer: no extra outlet\n",
            "Predicted answer: yes\n",
            "\n",
            "Question: what model number is it thanks\n",
            "Actual answer: sx733\n",
            "Predicted answer: a1428\n",
            "\n",
            "Question: is this item compatible with a model hr44 700\n",
            "Actual answer: yes\n",
            "Predicted answer: yes\n",
            "\n",
            "Question: does it come with warranty\n",
            "Actual answer: no\n",
            "Predicted answer: yes\n",
            "\n",
            "Question: will this fit a rossi or taurus 98\n",
            "Actual answer: yes\n",
            "Predicted answer: yes\n",
            "\n",
            "Question: wich material is made it\n",
            "Actual answer: it is plastic\n",
            "Predicted answer: plastic\n",
            "\n",
            "Question: does paper come with it\n",
            "Actual answer: yes\n",
            "Predicted answer: no\n",
            "\n",
            "Question: can the stand be removed to mount it on a wall\n",
            "Actual answer: yes\n",
            "Predicted answer: yes\n",
            "\n",
            "Question: how long is the supplied cord\n",
            "Actual answer: 3 feet\n",
            "Predicted answer: about 6 feet\n"
          ],
          "name": "stdout"
        },
        {
          "output_type": "stream",
          "text": [
            "\n"
          ],
          "name": "stderr"
        }
      ]
    },
    {
      "cell_type": "code",
      "metadata": {
        "colab_type": "code",
        "id": "terw-mksGqea",
        "colab": {
          "base_uri": "https://localhost:8080/"
        },
        "outputId": "8580a413-8666-4ae6-c0af-f8f2fc51f753"
      },
      "source": [
        "predict(encoder, decoder, enc_in_test, dec_in_test, 'random', count=1, special_input=True)"
      ],
      "execution_count": null,
      "outputs": [
        {
          "output_type": "stream",
          "text": [
            "100%|██████████| 1/1 [00:00<00:00, 53.05it/s]"
          ],
          "name": "stderr"
        },
        {
          "output_type": "stream",
          "text": [
            "\n",
            "Question: All zeros\n",
            "Actual answer: yes\n",
            "Predicted answer: yes\n"
          ],
          "name": "stdout"
        },
        {
          "output_type": "stream",
          "text": [
            "\n"
          ],
          "name": "stderr"
        }
      ]
    },
    {
      "cell_type": "code",
      "metadata": {
        "id": "Y1QsyLn20JkY",
        "colab_type": "code",
        "colab": {
          "base_uri": "https://localhost:8080/"
        },
        "outputId": "3d7e5e7e-cb47-4730-d016-1b622839e9b1"
      },
      "source": [
        "start_time = timer()\n",
        "predicted_answer_list, actual_answer_list = predict(encoder, decoder, enc_in_test, dec_in_test, 'corpus')\n",
        "timer(start_time)"
      ],
      "execution_count": null,
      "outputs": [
        {
          "output_type": "stream",
          "text": [
            "100%|██████████| 1069/1069 [00:16<00:00, 64.09it/s]"
          ],
          "name": "stderr"
        },
        {
          "output_type": "stream",
          "text": [
            "Time taken: 0 hours 0 minutes and 16.68 seconds.\n"
          ],
          "name": "stdout"
        },
        {
          "output_type": "stream",
          "text": [
            "\n"
          ],
          "name": "stderr"
        }
      ]
    },
    {
      "cell_type": "markdown",
      "metadata": {
        "id": "ALOj6u_HHcwF",
        "colab_type": "text"
      },
      "source": [
        "###### 10.1.10.2. Inference with beam search"
      ]
    },
    {
      "cell_type": "code",
      "metadata": {
        "colab_type": "code",
        "id": "NT7h16dNGqec",
        "colab": {
          "base_uri": "https://localhost:8080/",
          "height": 683
        },
        "outputId": "7607037e-0513-4300-994a-c56fac62311d"
      },
      "source": [
        "predict(encoder, decoder, enc_in_test, dec_in_test, 'random', beam_search=True)"
      ],
      "execution_count": null,
      "outputs": [
        {
          "output_type": "stream",
          "text": [
            "\r  0%|          | 0/10 [00:00<?, ?it/s]"
          ],
          "name": "stderr"
        },
        {
          "output_type": "stream",
          "text": [
            "\n",
            "Question: is there a slide lock\n",
            "Actual answer: yes there is\n",
            "Predicted answer: no\n"
          ],
          "name": "stdout"
        },
        {
          "output_type": "stream",
          "text": [
            "\r 30%|███       | 3/10 [00:00<00:00, 22.68it/s]"
          ],
          "name": "stderr"
        },
        {
          "output_type": "stream",
          "text": [
            "\n",
            "Question: is it lamented\n",
            "Actual answer: no\n",
            "Predicted answer: no\n",
            "\n",
            "Question: how many bbs does the mag hold\n",
            "Actual answer: 500 round capacity\n",
            "Predicted answer: 2\n",
            "\n",
            "Question: is it work with both 110v and 220v\n",
            "Actual answer: yes\n",
            "Predicted answer: no\n",
            "\n",
            "Question: how tall are these dividers 2 3 4\n",
            "Actual answer: 2 1 2\n",
            "Predicted answer: 3\n"
          ],
          "name": "stdout"
        },
        {
          "output_type": "stream",
          "text": [
            "\r 60%|██████    | 6/10 [00:00<00:00, 22.58it/s]"
          ],
          "name": "stderr"
        },
        {
          "output_type": "stream",
          "text": [
            "\n",
            "Question: how many tags are included in this order\n",
            "Actual answer: 4\n",
            "Predicted answer: one\n"
          ],
          "name": "stdout"
        },
        {
          "output_type": "stream",
          "text": [
            "100%|██████████| 10/10 [00:00<00:00, 22.49it/s]"
          ],
          "name": "stderr"
        },
        {
          "output_type": "stream",
          "text": [
            "\n",
            "Question: is this brushwork men only\n",
            "Actual answer: what is brushwork\n",
            "Predicted answer: yes\n",
            "\n",
            "Question: how much ram does it have\n",
            "Actual answer: 4 gb\n",
            "Predicted answer: 2gb\n",
            "\n",
            "Question: metal\n",
            "Actual answer: yes metal\n",
            "Predicted answer: yes\n",
            "\n",
            "Question: this work with computer to tv\n",
            "Actual answer: no just phone\n",
            "Predicted answer: yes\n"
          ],
          "name": "stdout"
        },
        {
          "output_type": "stream",
          "text": [
            "\n"
          ],
          "name": "stderr"
        }
      ]
    },
    {
      "cell_type": "code",
      "metadata": {
        "colab_type": "code",
        "id": "PUfQZQuGr5bG",
        "colab": {
          "base_uri": "https://localhost:8080/"
        },
        "outputId": "6206b473-77e5-4fb5-9ef9-0a883be49325"
      },
      "source": [
        "predict(encoder, decoder, enc_in_test, dec_in_test, 'random', count=1, special_input=True, beam_search=True)"
      ],
      "execution_count": null,
      "outputs": [
        {
          "output_type": "stream",
          "text": [
            "100%|██████████| 1/1 [00:00<00:00, 21.28it/s]"
          ],
          "name": "stderr"
        },
        {
          "output_type": "stream",
          "text": [
            "\n",
            "Question: All zeros\n",
            "Actual answer: 120\n",
            "Predicted answer: yes\n"
          ],
          "name": "stdout"
        },
        {
          "output_type": "stream",
          "text": [
            "\n"
          ],
          "name": "stderr"
        }
      ]
    },
    {
      "cell_type": "code",
      "metadata": {
        "colab_type": "code",
        "id": "uN3ZVSJNGqee",
        "colab": {
          "base_uri": "https://localhost:8080/"
        },
        "outputId": "0434ced3-1737-4edb-e91a-983c4928816b"
      },
      "source": [
        "start_time = timer()\n",
        "predicted_answer_list, actual_answer_list = predict(encoder, decoder, enc_in_test, dec_in_test, 'corpus', beam_search=True)\n",
        "timer(start_time)"
      ],
      "execution_count": null,
      "outputs": [
        {
          "output_type": "stream",
          "text": [
            "100%|██████████| 1069/1069 [00:45<00:00, 23.63it/s]"
          ],
          "name": "stderr"
        },
        {
          "output_type": "stream",
          "text": [
            "Time taken: 0 hours 0 minutes and 45.25 seconds.\n"
          ],
          "name": "stdout"
        },
        {
          "output_type": "stream",
          "text": [
            "\n"
          ],
          "name": "stderr"
        }
      ]
    },
    {
      "cell_type": "markdown",
      "metadata": {
        "id": "U5xsMvU1ICss",
        "colab_type": "text"
      },
      "source": [
        "##### 10.1.11. Calculate BLEU Score"
      ]
    },
    {
      "cell_type": "markdown",
      "metadata": {
        "id": "ZZtcYcoWIhDf",
        "colab_type": "text"
      },
      "source": [
        "###### 10.1.11.1. With greedy search inference"
      ]
    },
    {
      "cell_type": "code",
      "metadata": {
        "id": "et97sa4_QLDX",
        "colab_type": "code",
        "colab": {
          "base_uri": "https://localhost:8080/"
        },
        "outputId": "151f9b54-6bd9-44da-a560-5bad0c587395"
      },
      "source": [
        "start_time = timer()\n",
        "print('BLEU-1: %f' % corpus_bleu(actual_answer_list, predicted_answer_list, weights=(1.0, 0, 0, 0)))\n",
        "print('BLEU-2: %f' % corpus_bleu(actual_answer_list, predicted_answer_list, weights=(0.5, 0.5, 0, 0)))\n",
        "print('BLEU-3: %f' % corpus_bleu(actual_answer_list, predicted_answer_list, weights=(0.3, 0.3, 0.3, 0)))\n",
        "print('BLEU-4: %f' % corpus_bleu(actual_answer_list, predicted_answer_list, weights=(0.25, 0.25, 0.25, 0.25)))\n",
        "timer(start_time)"
      ],
      "execution_count": null,
      "outputs": [
        {
          "output_type": "stream",
          "text": [
            "/usr/local/lib/python3.6/dist-packages/nltk/translate/bleu_score.py:490: UserWarning: \n",
            "Corpus/Sentence contains 0 counts of 4-gram overlaps.\n",
            "BLEU scores might be undesirable; use SmoothingFunction().\n",
            "  warnings.warn(_msg)\n"
          ],
          "name": "stderr"
        },
        {
          "output_type": "stream",
          "text": [
            "BLEU-1: 0.281552\n",
            "BLEU-2: 0.079612\n",
            "BLEU-3: 0.048143\n",
            "BLEU-4: 0.075227\n",
            "Time taken: 0 hours 0 minutes and 0.16 seconds.\n"
          ],
          "name": "stdout"
        }
      ]
    },
    {
      "cell_type": "markdown",
      "metadata": {
        "colab_type": "text",
        "id": "XHpXJflvIq4_"
      },
      "source": [
        "###### 10.1.11.2. With beam search inference"
      ]
    },
    {
      "cell_type": "code",
      "metadata": {
        "colab_type": "code",
        "id": "yshCJfpWIq4_",
        "colab": {
          "base_uri": "https://localhost:8080/",
          "height": 163
        },
        "outputId": "851e2779-d727-4a28-e184-8441600ece6f"
      },
      "source": [
        "start_time = timer()\n",
        "print('BLEU-1: %f' % corpus_bleu(actual_answer_list, predicted_answer_list, weights=(1.0, 0, 0, 0)))\n",
        "print('BLEU-2: %f' % corpus_bleu(actual_answer_list, predicted_answer_list, weights=(0.5, 0.5, 0, 0)))\n",
        "print('BLEU-3: %f' % corpus_bleu(actual_answer_list, predicted_answer_list, weights=(0.3, 0.3, 0.3, 0)))\n",
        "print('BLEU-4: %f' % corpus_bleu(actual_answer_list, predicted_answer_list, weights=(0.25, 0.25, 0.25, 0.25)))\n",
        "timer(start_time)"
      ],
      "execution_count": null,
      "outputs": [
        {
          "output_type": "stream",
          "text": [
            "/usr/local/lib/python3.6/dist-packages/nltk/translate/bleu_score.py:490: UserWarning: \n",
            "Corpus/Sentence contains 0 counts of 2-gram overlaps.\n",
            "BLEU scores might be undesirable; use SmoothingFunction().\n",
            "  warnings.warn(_msg)\n"
          ],
          "name": "stderr"
        },
        {
          "output_type": "stream",
          "text": [
            "BLEU-1: 0.203690\n",
            "BLEU-2: 0.296788\n",
            "BLEU-3: 0.345014\n",
            "BLEU-4: 0.358249\n",
            "Time taken: 0 hours 0 minutes and 0.16 seconds.\n"
          ],
          "name": "stdout"
        }
      ]
    },
    {
      "cell_type": "markdown",
      "metadata": {
        "id": "_Z49xrdVPrjZ",
        "colab_type": "text"
      },
      "source": [
        "##### 10.1.12. TensorBoard"
      ]
    },
    {
      "cell_type": "code",
      "metadata": {
        "id": "U3jk-lyjMpmW",
        "colab_type": "code",
        "colab": {}
      },
      "source": [
        "# Code to zip the logs\n",
        "!zip -rqq logs.zip logs"
      ],
      "execution_count": null,
      "outputs": []
    },
    {
      "cell_type": "code",
      "metadata": {
        "id": "Qsv9lfK_NJh4",
        "colab_type": "code",
        "colab": {}
      },
      "source": [
        "# Code to download logs zip\n",
        "try:\n",
        "  from google.colab import files\n",
        "except ImportError:\n",
        "   pass\n",
        "else:\n",
        "  files.download('logs.zip')"
      ],
      "execution_count": null,
      "outputs": []
    },
    {
      "cell_type": "code",
      "metadata": {
        "id": "DHP-gq3BOnTx",
        "colab_type": "code",
        "colab": {}
      },
      "source": [
        "# Load the TensorBoard notebook extension\n",
        "%load_ext tensorboard"
      ],
      "execution_count": null,
      "outputs": []
    },
    {
      "cell_type": "code",
      "metadata": {
        "id": "MHE3IQV7OqVg",
        "colab_type": "code",
        "colab": {}
      },
      "source": [
        "%tensorboard --logdir logs/gradient_tape/20200718-162358/baseline/"
      ],
      "execution_count": null,
      "outputs": []
    },
    {
      "cell_type": "markdown",
      "metadata": {
        "id": "F1OznUpaEONh",
        "colab_type": "text"
      },
      "source": [
        "#### 10.2. Baseline Model with Masking"
      ]
    },
    {
      "cell_type": "markdown",
      "metadata": {
        "colab_type": "text",
        "id": "Q4PNsBbfWXq8"
      },
      "source": [
        "##### 10.2.1. Create a tf.data dataset"
      ]
    },
    {
      "cell_type": "code",
      "metadata": {
        "id": "cy7FmQQ2PXY4",
        "colab_type": "code",
        "colab": {}
      },
      "source": [
        "# Use code cell from 10.1.1."
      ],
      "execution_count": null,
      "outputs": []
    },
    {
      "cell_type": "markdown",
      "metadata": {
        "colab_type": "text",
        "id": "Q8cinbZuEd-6"
      },
      "source": [
        "##### 10.2.2. Write the encoder and decoder model"
      ]
    },
    {
      "cell_type": "code",
      "metadata": {
        "colab_type": "code",
        "id": "Zcdx2pirEd-9",
        "colab": {}
      },
      "source": [
        "class Encoder(tf.keras.Model):\n",
        "    def __init__(self, vocab_size, embedding_dim, enc_units, batch_sz):\n",
        "        super(Encoder, self).__init__()\n",
        "        self.batch_sz = batch_sz\n",
        "        self.enc_units = enc_units\n",
        "        self.embedding = tf.keras.layers.Embedding(vocab_size, embedding_dim, \n",
        "                                                   input_length=max_ques_length, \n",
        "                                                   weights=[embedding_matrix], \n",
        "                                                   trainable=False, mask_zero=True)\n",
        "        self.lstm = tf.keras.layers.LSTM(self.enc_units,\n",
        "                                   return_sequences=True,\n",
        "                                   return_state=True)\n",
        "        \n",
        "    def call(self, inputs, hidden):\n",
        "        # inputs shape == (batch_size, max_ques_length)\n",
        "        x = self.embedding(inputs)\n",
        "        # x shape == (batch_size, max_ques_length, embedding_dim)\n",
        "        mask = self.embedding.compute_mask(inputs)\n",
        "        # mask shape == (batch_size, max_ques_length)\n",
        "        output, state_h, state_c = self.lstm(x, initial_state=hidden, mask=mask)\n",
        "        # output shape == (batch_size, max_ques_length, enc_units)\n",
        "        # state_h shape == (batch_size, enc_units)\n",
        "        # state_c shape == (batch_size, enc_units)\n",
        "        return output, state_h, state_c\n",
        "\n",
        "    def initialize_hidden_state(self):\n",
        "        return (tf.zeros((self.batch_sz, self.enc_units)),\n",
        "                tf.zeros((self.batch_sz, self.enc_units)))\n",
        "\n",
        "class Decoder(tf.keras.Model):\n",
        "    def __init__(self, vocab_size, embedding_dim, dec_units, batch_sz):\n",
        "        super(Decoder, self).__init__()\n",
        "        self.batch_sz = batch_sz\n",
        "        self.dec_units = dec_units\n",
        "        self.embedding = tf.keras.layers.Embedding(vocab_size, embedding_dim, \n",
        "                                                   input_length=max_ans_length, \n",
        "                                                   weights=[embedding_matrix], \n",
        "                                                   trainable=False, mask_zero=True)\n",
        "        self.lstm = tf.keras.layers.LSTM(self.dec_units,\n",
        "                                   return_sequences=True,\n",
        "                                   return_state=True)\n",
        "        self.fc = tf.keras.layers.Dense(vocab_size)\n",
        "        \n",
        "    def call(self, inputs, hidden, enc_output):\n",
        "        # inputs shape == (batch_size, 1)\n",
        "        # hidden shape == tuple of two (batch_size, enc_units)\n",
        "        # enc_output shape == (batch_size, max_ques_length, enc_units)\n",
        "\n",
        "        # x shape after passing through embedding and masking == (batch_size, 1, embedding_dim)\n",
        "        x = self.embedding(inputs)\n",
        "        mask = self.embedding.compute_mask(inputs)\n",
        "        # mask shape == (batch_size, 1)\n",
        "        \n",
        "        # passing the concatenated vector to the LSTM\n",
        "        output, state_h, state_c = self.lstm(x, initial_state=hidden, mask=mask)\n",
        "        # output shape == (batch_size, 1, dec_units)\n",
        "        # state_h shape == (batch_size, dec_units)\n",
        "        # state_c shape == (batch_size, dec_units)\n",
        " \n",
        "        output = tf.reshape(output, (-1, output.shape[2]))\n",
        "        # output shape == (batch_size * 1, dec_units)\n",
        "        \n",
        "        x = self.fc(output)\n",
        "        # output shape == (batch_size, vocab)\n",
        "        \n",
        "        return x, state_h, state_c\n",
        "\n",
        "        \n",
        "    def initialize_hidden_state(self):\n",
        "        return (tf.zeros((self.batch_sz, self.dec_units)),\n",
        "                tf.zeros((self.batch_sz, self.dec_units)))"
      ],
      "execution_count": null,
      "outputs": []
    },
    {
      "cell_type": "code",
      "metadata": {
        "colab_type": "code",
        "id": "tS-PAyz2Ed_C",
        "colab": {
          "base_uri": "https://localhost:8080/"
        },
        "outputId": "2ceca994-a6c6-4807-d60d-635da535216e"
      },
      "source": [
        "encoder = Encoder(qa_vocab_size, embedding_dim, units, BATCH_SIZE)\n",
        "\n",
        "# sample input\n",
        "sample_hidden = encoder.initialize_hidden_state()\n",
        "sample_output, sample_state_hidden, sample_state_cell = encoder(example_input_batch, sample_hidden)\n",
        "print ('Encoder output shape: (batch size, sequence length, units) {}'.format(sample_output.shape))\n",
        "print ('Encoder hidden state shape: (batch size, units) {}'.format(sample_state_hidden.shape))\n",
        "print ('Encoder cell state shape: (batch size, units) {}'.format(sample_state_cell.shape))"
      ],
      "execution_count": null,
      "outputs": [
        {
          "output_type": "stream",
          "text": [
            "Encoder output shape: (batch size, sequence length, units) (512, 11, 1024)\n",
            "Encoder hidden state shape: (batch size, units) (512, 1024)\n",
            "Encoder cell state shape: (batch size, units) (512, 1024)\n"
          ],
          "name": "stdout"
        }
      ]
    },
    {
      "cell_type": "code",
      "metadata": {
        "colab_type": "code",
        "id": "u_UFdaIoEd_G",
        "colab": {
          "base_uri": "https://localhost:8080/",
          "height": 221
        },
        "outputId": "4b063c3a-da46-432e-ce05-5ba021fc2194"
      },
      "source": [
        "encoder.summary()"
      ],
      "execution_count": null,
      "outputs": [
        {
          "output_type": "stream",
          "text": [
            "Model: \"encoder\"\n",
            "_________________________________________________________________\n",
            "Layer (type)                 Output Shape              Param #   \n",
            "=================================================================\n",
            "embedding (Embedding)        multiple                  12419100  \n",
            "_________________________________________________________________\n",
            "lstm (LSTM)                  multiple                  5427200   \n",
            "=================================================================\n",
            "Total params: 17,846,300\n",
            "Trainable params: 5,427,200\n",
            "Non-trainable params: 12,419,100\n",
            "_________________________________________________________________\n"
          ],
          "name": "stdout"
        }
      ]
    },
    {
      "cell_type": "code",
      "metadata": {
        "colab_type": "code",
        "id": "B_iZT8dWEd_J",
        "colab": {
          "base_uri": "https://localhost:8080/"
        },
        "outputId": "af4d10bc-4871-4326-871b-700bc95954e3"
      },
      "source": [
        "decoder = Decoder(qa_vocab_size, embedding_dim, units, BATCH_SIZE)\n",
        "\n",
        "sample_decoder_output, _, _ = decoder(tf.random.uniform((BATCH_SIZE, 1)),\n",
        "                                      sample_hidden, sample_output)\n",
        "\n",
        "print ('Decoder output shape: (batch_size, vocab size) {}'.format(sample_decoder_output.shape))"
      ],
      "execution_count": null,
      "outputs": [
        {
          "output_type": "stream",
          "text": [
            "Decoder output shape: (batch_size, vocab size) (512, 41397)\n"
          ],
          "name": "stdout"
        }
      ]
    },
    {
      "cell_type": "code",
      "metadata": {
        "colab_type": "code",
        "id": "UPxaw1p-Ed_M",
        "colab": {
          "base_uri": "https://localhost:8080/",
          "height": 255
        },
        "outputId": "073a4a1d-c899-45cc-cdf0-f7255517c387"
      },
      "source": [
        "decoder.summary()"
      ],
      "execution_count": null,
      "outputs": [
        {
          "output_type": "stream",
          "text": [
            "Model: \"decoder\"\n",
            "_________________________________________________________________\n",
            "Layer (type)                 Output Shape              Param #   \n",
            "=================================================================\n",
            "embedding_1 (Embedding)      multiple                  12419100  \n",
            "_________________________________________________________________\n",
            "lstm_1 (LSTM)                multiple                  5427200   \n",
            "_________________________________________________________________\n",
            "dense (Dense)                multiple                  42431925  \n",
            "=================================================================\n",
            "Total params: 60,278,225\n",
            "Trainable params: 47,859,125\n",
            "Non-trainable params: 12,419,100\n",
            "_________________________________________________________________\n"
          ],
          "name": "stdout"
        }
      ]
    },
    {
      "cell_type": "markdown",
      "metadata": {
        "colab_type": "text",
        "id": "G_a4kD1EEd_P"
      },
      "source": [
        "##### 10.2.3. Define the optimizer and the loss function"
      ]
    },
    {
      "cell_type": "code",
      "metadata": {
        "colab_type": "code",
        "id": "dRfQE6XyEd_Q",
        "colab": {}
      },
      "source": [
        "optimizer = tf.keras.optimizers.Adam()\n",
        "loss_object = tf.keras.losses.SparseCategoricalCrossentropy(\n",
        "    from_logits=True, reduction='none')\n",
        "\n",
        "def loss_function(real, pred):\n",
        "  mask = tf.math.logical_not(tf.math.equal(real, 0))\n",
        "  loss_ = loss_object(real, pred)\n",
        "\n",
        "  mask = tf.cast(mask, dtype=loss_.dtype)\n",
        "  loss_ *= mask\n",
        "  return tf.reduce_sum(loss_)/tf.reduce_sum(mask)"
      ],
      "execution_count": null,
      "outputs": []
    },
    {
      "cell_type": "markdown",
      "metadata": {
        "colab_type": "text",
        "id": "RRlQVlHtEd_S"
      },
      "source": [
        "##### 10.2.4. Checkpoints (Object-based saving)"
      ]
    },
    {
      "cell_type": "code",
      "metadata": {
        "colab_type": "code",
        "id": "ncoftYGYEd_T",
        "colab": {}
      },
      "source": [
        "checkpoint_dir = './baseline_mask_checkpoints'\n",
        "checkpoint_prefix = os.path.join(checkpoint_dir, \"ckpt\")\n",
        "checkpoint = tf.train.Checkpoint(optimizer=optimizer,\n",
        "                                 encoder=encoder,\n",
        "                                 decoder=decoder)"
      ],
      "execution_count": null,
      "outputs": []
    },
    {
      "cell_type": "markdown",
      "metadata": {
        "colab_type": "text",
        "id": "J-UMdcs8Ed_V"
      },
      "source": [
        "##### 10.2.5. Setup TensorBoard logging"
      ]
    },
    {
      "cell_type": "code",
      "metadata": {
        "colab_type": "code",
        "id": "SPrZdr9EEd_V",
        "colab": {}
      },
      "source": [
        "if not os.path.exists('logs'):\n",
        "  os.makedirs('logs')"
      ],
      "execution_count": null,
      "outputs": []
    },
    {
      "cell_type": "code",
      "metadata": {
        "colab_type": "code",
        "id": "t1Dv-7AjEd_Y",
        "colab": {}
      },
      "source": [
        "current_time = datetime.now().strftime(\"%Y%m%d-%H%M%S\")\n",
        "log_dir = 'logs/gradient_tape/' + current_time + '/baseline_mask'\n",
        "summary_writer = tf.summary.create_file_writer(log_dir)"
      ],
      "execution_count": null,
      "outputs": []
    },
    {
      "cell_type": "markdown",
      "metadata": {
        "colab_type": "text",
        "id": "-Luc1hPFEd_a"
      },
      "source": [
        "##### 10.2.6. Training\n"
      ]
    },
    {
      "cell_type": "code",
      "metadata": {
        "colab_type": "code",
        "id": "uLdoNKRZv7sA",
        "colab": {}
      },
      "source": [
        "@tf.function\n",
        "def train_step(inp, targ, enc_hidden):\n",
        "  loss = 0\n",
        "\n",
        "  with tf.GradientTape() as tape:\n",
        "    enc_outputs = encoder(inp, enc_hidden)\n",
        "\n",
        "    enc_output = enc_outputs[0]\n",
        "\n",
        "    enc_states = enc_outputs[1:]\n",
        "\n",
        "    dec_state_h, dec_state_c = enc_states\n",
        "\n",
        "    dec_input = tf.expand_dims([word2id['<start>']] * BATCH_SIZE, 1)\n",
        "\n",
        "    # Teacher forcing - feeding the target as the next input\n",
        "    for t in range(1, targ.shape[1]):\n",
        "      # passing enc_output to the decoder\n",
        "      predictions, dec_state_h, dec_state_c = \\\n",
        "                      decoder(dec_input, (dec_state_h, dec_state_c), enc_output)\n",
        "\n",
        "      loss += loss_function(targ[:, t], predictions)\n",
        "\n",
        "      # using teacher forcing\n",
        "      dec_input = tf.expand_dims(targ[:, t], 1)\n",
        "\n",
        "  batch_loss = (loss / int(targ.shape[1]))\n",
        "\n",
        "  variables = encoder.trainable_variables + decoder.trainable_variables\n",
        "\n",
        "  gradients = tape.gradient(loss, variables)\n",
        "\n",
        "  optimizer.apply_gradients(zip(gradients, variables))\n",
        "\n",
        "  return batch_loss"
      ],
      "execution_count": null,
      "outputs": []
    },
    {
      "cell_type": "code",
      "metadata": {
        "colab_type": "code",
        "id": "gyeg52LsEd_d",
        "colab": {}
      },
      "source": [
        "EPOCHS = 10"
      ],
      "execution_count": null,
      "outputs": []
    },
    {
      "cell_type": "code",
      "metadata": {
        "id": "KVJA8T-gP9GE",
        "colab_type": "code",
        "colab": {}
      },
      "source": [
        "# train function defined in code cells of 10.1.6."
      ],
      "execution_count": null,
      "outputs": []
    },
    {
      "cell_type": "code",
      "metadata": {
        "id": "Fx1WWOQp-Umz",
        "colab_type": "code",
        "colab": {
          "base_uri": "https://localhost:8080/",
          "height": 1000
        },
        "outputId": "35694629-4309-44c6-939e-7666e96d574e"
      },
      "source": [
        "start_time = timer()\n",
        "loss_train, loss_val = train(EPOCHS)\n",
        "timer(start_time)"
      ],
      "execution_count": null,
      "outputs": [
        {
          "output_type": "stream",
          "text": [
            "----- Training -----\n",
            "Epoch 1 Batch 0 Loss 8.5038\n",
            "Epoch 1 Batch 100 Loss 2.3414\n",
            "Epoch 1 Batch 200 Loss 2.2563\n",
            "Epoch 1 Batch 300 Loss 2.0175\n",
            "Epoch 1 Loss 2.4611\n",
            "Time taken: 0 hours 1 minutes and 44.43 seconds.\n",
            "----- Validation -----\n",
            "Epoch 1 Batch 0 Val-Loss 2.0161\n",
            "Epoch 1 Batch 40 Val-Loss 1.9703\n",
            "Epoch 1 Batch 80 Val-Loss 2.0853\n",
            "Epoch 1 Val-Loss 1.9649\n",
            "Time taken: 0 hours 0 minutes and 23.63 seconds.\n",
            "----- Training -----\n",
            "Epoch 2 Batch 0 Loss 1.9365\n",
            "Epoch 2 Batch 100 Loss 1.8856\n",
            "Epoch 2 Batch 200 Loss 1.7784\n",
            "Epoch 2 Batch 300 Loss 1.7213\n",
            "Epoch 2 Loss 1.7898\n",
            "Time taken: 0 hours 1 minutes and 34.03 seconds.\n",
            "----- Validation -----\n",
            "Epoch 2 Batch 0 Val-Loss 1.7267\n",
            "Epoch 2 Batch 40 Val-Loss 1.5795\n",
            "Epoch 2 Batch 80 Val-Loss 1.5434\n",
            "Epoch 2 Val-Loss 1.6866\n",
            "Time taken: 0 hours 0 minutes and 23.57 seconds.\n",
            "----- Training -----\n",
            "Epoch 3 Batch 0 Loss 1.6393\n",
            "Epoch 3 Batch 100 Loss 1.6722\n",
            "Epoch 3 Batch 200 Loss 1.5774\n",
            "Epoch 3 Batch 300 Loss 1.5980\n",
            "Epoch 3 Loss 1.6022\n",
            "Time taken: 0 hours 1 minutes and 34.17 seconds.\n",
            "----- Validation -----\n",
            "Epoch 3 Batch 0 Val-Loss 1.4827\n",
            "Epoch 3 Batch 40 Val-Loss 1.5773\n",
            "Epoch 3 Batch 80 Val-Loss 1.5747\n",
            "Epoch 3 Val-Loss 1.5281\n",
            "Time taken: 0 hours 0 minutes and 23.54 seconds.\n",
            "----- Training -----\n",
            "Epoch 4 Batch 0 Loss 1.7014\n",
            "Epoch 4 Batch 100 Loss 1.4647\n",
            "Epoch 4 Batch 200 Loss 1.3928\n",
            "Epoch 4 Batch 300 Loss 1.5005\n",
            "Epoch 4 Loss 1.4777\n",
            "Time taken: 0 hours 1 minutes and 34.22 seconds.\n",
            "----- Validation -----\n",
            "Epoch 4 Batch 0 Val-Loss 1.6247\n",
            "Epoch 4 Batch 40 Val-Loss 1.4030\n",
            "Epoch 4 Batch 80 Val-Loss 1.4513\n",
            "Epoch 4 Val-Loss 1.4204\n",
            "Time taken: 0 hours 0 minutes and 23.56 seconds.\n",
            "----- Training -----\n",
            "Epoch 5 Batch 0 Loss 1.4814\n",
            "Epoch 5 Batch 100 Loss 1.3389\n",
            "Epoch 5 Batch 200 Loss 1.4640\n",
            "Epoch 5 Batch 300 Loss 1.4191\n",
            "Epoch 5 Loss 1.3847\n",
            "Time taken: 0 hours 1 minutes and 34.29 seconds.\n",
            "----- Validation -----\n",
            "Epoch 5 Batch 0 Val-Loss 1.3407\n",
            "Epoch 5 Batch 40 Val-Loss 1.2960\n",
            "Epoch 5 Batch 80 Val-Loss 1.3461\n",
            "Epoch 5 Val-Loss 1.3354\n",
            "Time taken: 0 hours 0 minutes and 23.56 seconds.\n",
            "----- Training -----\n",
            "Epoch 6 Batch 0 Loss 1.3053\n",
            "Epoch 6 Batch 100 Loss 1.3627\n",
            "Epoch 6 Batch 200 Loss 1.3072\n",
            "Epoch 6 Batch 300 Loss 1.3182\n",
            "Epoch 6 Loss 1.3062\n",
            "Time taken: 0 hours 1 minutes and 34.27 seconds.\n",
            "----- Validation -----\n",
            "Epoch 6 Batch 0 Val-Loss 1.3262\n",
            "Epoch 6 Batch 40 Val-Loss 1.2039\n",
            "Epoch 6 Batch 80 Val-Loss 1.2735\n",
            "Epoch 6 Val-Loss 1.2607\n",
            "Time taken: 0 hours 0 minutes and 23.57 seconds.\n",
            "----- Training -----\n",
            "Epoch 7 Batch 0 Loss 1.1957\n",
            "Epoch 7 Batch 100 Loss 1.2838\n",
            "Epoch 7 Batch 200 Loss 1.2848\n",
            "Epoch 7 Batch 300 Loss 1.2133\n",
            "Epoch 7 Loss 1.2368\n",
            "Time taken: 0 hours 1 minutes and 34.28 seconds.\n",
            "----- Validation -----\n",
            "Epoch 7 Batch 0 Val-Loss 1.2240\n",
            "Epoch 7 Batch 40 Val-Loss 1.1557\n",
            "Epoch 7 Batch 80 Val-Loss 1.2483\n",
            "Epoch 7 Val-Loss 1.1916\n",
            "Time taken: 0 hours 0 minutes and 23.56 seconds.\n",
            "----- Training -----\n",
            "Epoch 8 Batch 0 Loss 1.1974\n",
            "Epoch 8 Batch 100 Loss 1.2151\n",
            "Epoch 8 Batch 200 Loss 1.1457\n",
            "Epoch 8 Batch 300 Loss 1.1502\n",
            "Epoch 8 Loss 1.1715\n",
            "Time taken: 0 hours 1 minutes and 34.28 seconds.\n",
            "----- Validation -----\n",
            "Epoch 8 Batch 0 Val-Loss 1.1892\n",
            "Epoch 8 Batch 40 Val-Loss 1.0712\n",
            "Epoch 8 Batch 80 Val-Loss 1.0832\n",
            "Epoch 8 Val-Loss 1.1277\n",
            "Time taken: 0 hours 0 minutes and 23.56 seconds.\n",
            "----- Training -----\n",
            "Epoch 9 Batch 0 Loss 1.1830\n",
            "Epoch 9 Batch 100 Loss 1.2142\n",
            "Epoch 9 Batch 200 Loss 1.0292\n",
            "Epoch 9 Batch 300 Loss 1.2087\n",
            "Epoch 9 Loss 1.1087\n",
            "Time taken: 0 hours 1 minutes and 34.27 seconds.\n",
            "----- Validation -----\n",
            "Epoch 9 Batch 0 Val-Loss 1.1098\n",
            "Epoch 9 Batch 40 Val-Loss 0.9661\n",
            "Epoch 9 Batch 80 Val-Loss 1.0499\n",
            "Epoch 9 Val-Loss 1.0677\n",
            "Time taken: 0 hours 0 minutes and 23.57 seconds.\n",
            "----- Training -----\n",
            "Epoch 10 Batch 0 Loss 1.0655\n",
            "Epoch 10 Batch 100 Loss 1.0043\n",
            "Epoch 10 Batch 200 Loss 1.1371\n",
            "Epoch 10 Batch 300 Loss 1.1213\n",
            "Epoch 10 Loss 1.0487\n",
            "Time taken: 0 hours 1 minutes and 34.29 seconds.\n",
            "----- Validation -----\n",
            "Epoch 10 Batch 0 Val-Loss 1.0242\n",
            "Epoch 10 Batch 40 Val-Loss 1.0664\n",
            "Epoch 10 Batch 80 Val-Loss 1.0719\n",
            "Epoch 10 Val-Loss 1.0106\n",
            "Time taken: 0 hours 0 minutes and 26.86 seconds.\n",
            "Time taken: 0 hours 19 minutes and 51.52 seconds.\n"
          ],
          "name": "stdout"
        }
      ]
    },
    {
      "cell_type": "markdown",
      "metadata": {
        "colab_type": "text",
        "id": "HH65S99aEd_i"
      },
      "source": [
        "##### 10.2.7. Save model weights"
      ]
    },
    {
      "cell_type": "code",
      "metadata": {
        "colab_type": "code",
        "id": "3y105BCREd_j",
        "colab": {}
      },
      "source": [
        "encoder.save_weights('baseline_mask_encoder_weights.h5')\n",
        "decoder.save_weights('baseline_mask_decoder_weights.h5')"
      ],
      "execution_count": null,
      "outputs": []
    },
    {
      "cell_type": "code",
      "metadata": {
        "id": "UnQq2BgMLgaE",
        "colab_type": "code",
        "colab": {
          "base_uri": "https://localhost:8080/",
          "height": 98
        },
        "outputId": "6e72b014-1a93-49a2-ded6-3e07c27ef196"
      },
      "source": [
        "!tar cvzf baseline_mask_checkpoints.tar.gz ./baseline_mask_checkpoints/checkpoint ./baseline_mask_checkpoints/ckpt-1.data-00000-of-00001 ./baseline_mask_checkpoints/ckpt-1.index ./baseline_mask_encoder_weights.h5 ./baseline_mask_decoder_weights.h5"
      ],
      "execution_count": null,
      "outputs": [
        {
          "output_type": "stream",
          "text": [
            "./baseline_mask_checkpoints/checkpoint\n",
            "./baseline_mask_checkpoints/ckpt-1.data-00000-of-00001\n",
            "./baseline_mask_checkpoints/ckpt-1.index\n",
            "./baseline_mask_encoder_weights.h5\n",
            "./baseline_mask_decoder_weights.h5\n"
          ],
          "name": "stdout"
        }
      ]
    },
    {
      "cell_type": "markdown",
      "metadata": {
        "colab_type": "text",
        "id": "IpZevv-3Ed_n"
      },
      "source": [
        "##### 10.2.8. Plot the model's loss"
      ]
    },
    {
      "cell_type": "code",
      "metadata": {
        "id": "gIcQ3IT2QJAc",
        "colab_type": "code",
        "colab": {}
      },
      "source": [
        "# plot_loss function defined in 10.1.8."
      ],
      "execution_count": null,
      "outputs": []
    },
    {
      "cell_type": "code",
      "metadata": {
        "colab_type": "code",
        "id": "HpvAgCRhEd_n",
        "colab": {
          "base_uri": "https://localhost:8080/",
          "height": 295
        },
        "outputId": "6ea6b7f9-613d-4b7b-a051-a5f2372fc280"
      },
      "source": [
        "plot_loss(EPOCHS, loss_train, loss_val)"
      ],
      "execution_count": null,
      "outputs": [
        {
          "output_type": "display_data",
          "data": {
            "image/png": "[encoded data removed]",
            "text/plain": [
              "<Figure size 432x288 with 1 Axes>"
            ]
          },
          "metadata": {
            "tags": [],
            "needs_background": "light"
          }
        }
      ]
    },
    {
      "cell_type": "markdown",
      "metadata": {
        "colab_type": "text",
        "id": "vKfcb4IRiUwO"
      },
      "source": [
        "##### 10.2.9. Inference\n"
      ]
    },
    {
      "cell_type": "code",
      "metadata": {
        "id": "qTiVzi0nQTDH",
        "colab_type": "code",
        "colab": {}
      },
      "source": [
        "# Use code cells of 10.1.9."
      ],
      "execution_count": null,
      "outputs": []
    },
    {
      "cell_type": "markdown",
      "metadata": {
        "colab_type": "text",
        "id": "jNu4YLBBJ_a6"
      },
      "source": [
        "##### 10.2.10. Restore the latest checkpoint and test"
      ]
    },
    {
      "cell_type": "code",
      "metadata": {
        "colab_type": "code",
        "id": "UUeuGEx7J_a7",
        "colab": {
          "base_uri": "https://localhost:8080/",
          "height": 34
        },
        "outputId": "00aa2cce-4514-4373-80d6-894f834343c1"
      },
      "source": [
        "# restoring the latest checkpoint in checkpoint_dir\n",
        "checkpoint.restore(tf.train.latest_checkpoint(checkpoint_dir))"
      ],
      "execution_count": null,
      "outputs": [
        {
          "output_type": "execute_result",
          "data": {
            "text/plain": [
              "<tensorflow.python.training.tracking.util.CheckpointLoadStatus at 0x7f8c54335cf8>"
            ]
          },
          "metadata": {
            "tags": []
          },
          "execution_count": 190
        }
      ]
    },
    {
      "cell_type": "markdown",
      "metadata": {
        "colab_type": "text",
        "id": "ymedqRWSJ_a9"
      },
      "source": [
        "###### 10.2.10.1. Inference with greedy search"
      ]
    },
    {
      "cell_type": "code",
      "metadata": {
        "colab_type": "code",
        "id": "k7828BJ_J_a-",
        "colab": {
          "base_uri": "https://localhost:8080/",
          "height": 683
        },
        "outputId": "eb7beefe-d46d-4b15-bf1f-19312a4603af"
      },
      "source": [
        "predict(encoder, decoder, enc_in_test, dec_in_test, 'random')"
      ],
      "execution_count": null,
      "outputs": [
        {
          "output_type": "stream",
          "text": [
            " 50%|█████     | 5/10 [00:00<00:00, 44.29it/s]"
          ],
          "name": "stderr"
        },
        {
          "output_type": "stream",
          "text": [
            "\n",
            "Question: which chelating agent is is edta eddha\n",
            "Actual answer: it is eddha\n",
            "Predicted answer: amg\n",
            "\n",
            "Question: has the watch software to pc\n",
            "Actual answer: nope\n",
            "Predicted answer: yes\n",
            "\n",
            "Question: is it 220 volt\n",
            "Actual answer: 240\n",
            "Predicted answer: yes\n",
            "\n",
            "Question: would this fit in hyundai eon\n",
            "Actual answer: yes\n",
            "Predicted answer: yes\n",
            "\n",
            "Question: is it 220 volt\n",
            "Actual answer: 240\n",
            "Predicted answer: yes\n",
            "\n",
            "Question: i wanted to know if the item is dual voltage\n",
            "Actual answer: no\n",
            "Predicted answer: yes\n",
            "\n",
            "Question: are these bottles really made with glass than you\n",
            "Actual answer: yes\n",
            "Predicted answer: yes\n",
            "\n",
            "Question: is it 4 5 mm or 5 5 mm\n",
            "Actual answer: 5 5mm\n",
            "Predicted answer: 3 8\n",
            "\n",
            "Question: can this fit on 8 year old\n",
            "Actual answer: yes\n",
            "Predicted answer: yes\n"
          ],
          "name": "stdout"
        },
        {
          "output_type": "stream",
          "text": [
            "100%|██████████| 10/10 [00:00<00:00, 39.78it/s]"
          ],
          "name": "stderr"
        },
        {
          "output_type": "stream",
          "text": [
            "\n",
            "Question: how small does it fold up\n",
            "Actual answer: 7 x4 roughly\n",
            "Predicted answer: about 15 inches\n"
          ],
          "name": "stdout"
        },
        {
          "output_type": "stream",
          "text": [
            "\n"
          ],
          "name": "stderr"
        }
      ]
    },
    {
      "cell_type": "code",
      "metadata": {
        "colab_type": "code",
        "id": "M3BEVlKkJ_a_",
        "colab": {
          "base_uri": "https://localhost:8080/",
          "height": 98
        },
        "outputId": "1d07db15-a204-404b-cd74-dc07cf45fea9"
      },
      "source": [
        "predict(encoder, decoder, enc_in_test, dec_in_test, 'random', count=1, special_input=True)"
      ],
      "execution_count": null,
      "outputs": [
        {
          "output_type": "stream",
          "text": [
            "100%|██████████| 1/1 [00:00<00:00, 16.09it/s]"
          ],
          "name": "stderr"
        },
        {
          "output_type": "stream",
          "text": [
            "\n",
            "Question: All zeros\n",
            "Actual answer: yes\n",
            "Predicted answer: yes\n"
          ],
          "name": "stdout"
        },
        {
          "output_type": "stream",
          "text": [
            "\n"
          ],
          "name": "stderr"
        }
      ]
    },
    {
      "cell_type": "code",
      "metadata": {
        "colab_type": "code",
        "id": "zo-PEI29J_bC",
        "colab": {
          "base_uri": "https://localhost:8080/",
          "height": 50
        },
        "outputId": "c1fcb11b-ed1e-4757-90e6-ab7f84d02b3b"
      },
      "source": [
        "start_time = timer()\n",
        "predicted_answer_list, actual_answer_list = predict(encoder, decoder, enc_in_test, dec_in_test, 'corpus')\n",
        "timer(start_time)"
      ],
      "execution_count": null,
      "outputs": [
        {
          "output_type": "stream",
          "text": [
            "100%|██████████| 1069/1069 [00:22<00:00, 46.85it/s]"
          ],
          "name": "stderr"
        },
        {
          "output_type": "stream",
          "text": [
            "Time taken: 0 hours 0 minutes and 22.82 seconds.\n"
          ],
          "name": "stdout"
        },
        {
          "output_type": "stream",
          "text": [
            "\n"
          ],
          "name": "stderr"
        }
      ]
    },
    {
      "cell_type": "markdown",
      "metadata": {
        "colab_type": "text",
        "id": "Bcz-WPADJ_bE"
      },
      "source": [
        "###### 10.2.10.2. Inference with beam search"
      ]
    },
    {
      "cell_type": "code",
      "metadata": {
        "colab_type": "code",
        "id": "IM-ZvJGkJ_bF",
        "colab": {
          "base_uri": "https://localhost:8080/"
        },
        "outputId": "1c803a3f-659b-48e2-deb6-d3591266a0d4"
      },
      "source": [
        "predict(encoder, decoder, enc_in_test, dec_in_test, 'random', beam_search=True)"
      ],
      "execution_count": null,
      "outputs": [
        {
          "output_type": "stream",
          "text": [
            "\r  0%|          | 0/10 [00:00<?, ?it/s]"
          ],
          "name": "stderr"
        },
        {
          "output_type": "stream",
          "text": [
            "\n",
            "Question: will this work on an atwood 8520 iv\n",
            "Actual answer: yes\n",
            "Predicted answer: yes\n"
          ],
          "name": "stdout"
        },
        {
          "output_type": "stream",
          "text": [
            " 50%|█████     | 5/10 [00:00<00:00, 20.01it/s]"
          ],
          "name": "stderr"
        },
        {
          "output_type": "stream",
          "text": [
            "\n",
            "Question: is this 32 bit or 64 bit i need 32 bit\n",
            "Actual answer: 64 bit\n",
            "Predicted answer: 64\n",
            "\n",
            "Question: does it have a disk player\n",
            "Actual answer: no disc player\n",
            "Predicted answer: yes\n",
            "\n",
            "Question: are the switches relay driven or hard wired to the plugs\n",
            "Actual answer: hard wired\n",
            "Predicted answer: they\n",
            "\n",
            "Question: is this caffeinated\n",
            "Actual answer: yes it is\n",
            "Predicted answer: no\n",
            "\n",
            "Question: what size primary jets is 1407 eldebrock carb\n",
            "Actual answer: 098\n",
            "Predicted answer: full\n"
          ],
          "name": "stdout"
        },
        {
          "output_type": "stream",
          "text": [
            "100%|██████████| 10/10 [00:00<00:00, 20.45it/s]"
          ],
          "name": "stderr"
        },
        {
          "output_type": "stream",
          "text": [
            "\n",
            "Question: is there a size xsmall\n",
            "Actual answer: small medium\n",
            "Predicted answer: yes\n",
            "\n",
            "Question: will this work for a kawasaki jd 1996 engine fe 290das08\n",
            "Actual answer: yes\n",
            "Predicted answer: yes\n",
            "\n",
            "Question: does this have an hdmi port\n",
            "Actual answer: yes\n",
            "Predicted answer: yes\n",
            "\n",
            "Question: is it lamented\n",
            "Actual answer: no\n",
            "Predicted answer: yes\n"
          ],
          "name": "stdout"
        },
        {
          "output_type": "stream",
          "text": [
            "\n"
          ],
          "name": "stderr"
        }
      ]
    },
    {
      "cell_type": "code",
      "metadata": {
        "colab_type": "code",
        "id": "pkHs30DwtPUH",
        "colab": {
          "base_uri": "https://localhost:8080/"
        },
        "outputId": "0bb58778-b153-4c21-a304-a1ec725a03fc"
      },
      "source": [
        "predict(encoder, decoder, enc_in_test, dec_in_test, 'random', count=1, special_input=True, beam_search=True)"
      ],
      "execution_count": null,
      "outputs": [
        {
          "output_type": "stream",
          "text": [
            "100%|██████████| 1/1 [00:00<00:00, 15.65it/s]"
          ],
          "name": "stderr"
        },
        {
          "output_type": "stream",
          "text": [
            "\n",
            "Question: All zeros\n",
            "Actual answer: yes\n",
            "Predicted answer: yes\n"
          ],
          "name": "stdout"
        },
        {
          "output_type": "stream",
          "text": [
            "\n"
          ],
          "name": "stderr"
        }
      ]
    },
    {
      "cell_type": "code",
      "metadata": {
        "colab_type": "code",
        "id": "FjQDd4pUJ_bH",
        "colab": {
          "base_uri": "https://localhost:8080/"
        },
        "outputId": "ca5e0247-06c4-4f3e-ad9a-197659399af9"
      },
      "source": [
        "start_time = timer()\n",
        "predicted_answer_list, actual_answer_list = predict(encoder, decoder, enc_in_test, dec_in_test, 'corpus', beam_search=True)\n",
        "timer(start_time)"
      ],
      "execution_count": null,
      "outputs": [
        {
          "output_type": "stream",
          "text": [
            "100%|██████████| 1069/1069 [00:50<00:00, 21.00it/s]"
          ],
          "name": "stderr"
        },
        {
          "output_type": "stream",
          "text": [
            "Time taken: 0 hours 0 minutes and 50.9 seconds.\n"
          ],
          "name": "stdout"
        },
        {
          "output_type": "stream",
          "text": [
            "\n"
          ],
          "name": "stderr"
        }
      ]
    },
    {
      "cell_type": "markdown",
      "metadata": {
        "colab_type": "text",
        "id": "19wb4ZdeJ_bJ"
      },
      "source": [
        "##### 10.2.11. Calculate BLEU Score"
      ]
    },
    {
      "cell_type": "markdown",
      "metadata": {
        "colab_type": "text",
        "id": "NBrSWGxGJ_bJ"
      },
      "source": [
        "###### 10.2.11.1. With greedy search inference"
      ]
    },
    {
      "cell_type": "code",
      "metadata": {
        "id": "UVGFORFkKkk-",
        "colab_type": "code",
        "colab": {
          "base_uri": "https://localhost:8080/",
          "height": 163
        },
        "outputId": "ac015baf-d3b9-41c9-d4f7-ec4faa832468"
      },
      "source": [
        "start_time = timer()\n",
        "print('BLEU-1: %f' % corpus_bleu(actual_answer_list, predicted_answer_list, weights=(1.0, 0, 0, 0)))\n",
        "print('BLEU-2: %f' % corpus_bleu(actual_answer_list, predicted_answer_list, weights=(0.5, 0.5, 0, 0)))\n",
        "print('BLEU-3: %f' % corpus_bleu(actual_answer_list, predicted_answer_list, weights=(0.3, 0.3, 0.3, 0)))\n",
        "print('BLEU-4: %f' % corpus_bleu(actual_answer_list, predicted_answer_list, weights=(0.25, 0.25, 0.25, 0.25)))\n",
        "timer(start_time)"
      ],
      "execution_count": null,
      "outputs": [
        {
          "output_type": "stream",
          "text": [
            "/usr/local/lib/python3.6/dist-packages/nltk/translate/bleu_score.py:490: UserWarning: \n",
            "Corpus/Sentence contains 0 counts of 4-gram overlaps.\n",
            "BLEU scores might be undesirable; use SmoothingFunction().\n",
            "  warnings.warn(_msg)\n"
          ],
          "name": "stderr"
        },
        {
          "output_type": "stream",
          "text": [
            "BLEU-1: 0.260386\n",
            "BLEU-2: 0.047829\n",
            "BLEU-3: 0.020671\n",
            "BLEU-4: 0.036751\n",
            "Time taken: 0 hours 0 minutes and 0.16 seconds.\n"
          ],
          "name": "stdout"
        }
      ]
    },
    {
      "cell_type": "markdown",
      "metadata": {
        "colab_type": "text",
        "id": "TWxiIpojJ_bK"
      },
      "source": [
        "###### 10.2.11.2. With beam search inference"
      ]
    },
    {
      "cell_type": "code",
      "metadata": {
        "colab_type": "code",
        "id": "SgxCn-EeJ_bK",
        "colab": {
          "base_uri": "https://localhost:8080/",
          "height": 163
        },
        "outputId": "799a40d0-4b4c-4f74-bde0-1ed8150a17ae"
      },
      "source": [
        "start_time = timer()\n",
        "print('BLEU-1: %f' % corpus_bleu(actual_answer_list, predicted_answer_list, weights=(1.0, 0, 0, 0)))\n",
        "print('BLEU-2: %f' % corpus_bleu(actual_answer_list, predicted_answer_list, weights=(0.5, 0.5, 0, 0)))\n",
        "print('BLEU-3: %f' % corpus_bleu(actual_answer_list, predicted_answer_list, weights=(0.3, 0.3, 0.3, 0)))\n",
        "print('BLEU-4: %f' % corpus_bleu(actual_answer_list, predicted_answer_list, weights=(0.25, 0.25, 0.25, 0.25)))\n",
        "timer(start_time)"
      ],
      "execution_count": null,
      "outputs": [
        {
          "output_type": "stream",
          "text": [
            "/usr/local/lib/python3.6/dist-packages/nltk/translate/bleu_score.py:490: UserWarning: \n",
            "Corpus/Sentence contains 0 counts of 2-gram overlaps.\n",
            "BLEU scores might be undesirable; use SmoothingFunction().\n",
            "  warnings.warn(_msg)\n"
          ],
          "name": "stderr"
        },
        {
          "output_type": "stream",
          "text": [
            "BLEU-1: 0.200704\n",
            "BLEU-2: 0.294351\n",
            "BLEU-3: 0.343076\n",
            "BLEU-4: 0.356468\n",
            "Time taken: 0 hours 0 minutes and 0.14 seconds.\n"
          ],
          "name": "stdout"
        }
      ]
    },
    {
      "cell_type": "markdown",
      "metadata": {
        "colab_type": "text",
        "id": "2mcmlPAZEeAH"
      },
      "source": [
        "##### 10.2.12. TensorBoard"
      ]
    },
    {
      "cell_type": "code",
      "metadata": {
        "colab_type": "code",
        "id": "_9YlkjCpEeAH",
        "colab": {}
      },
      "source": [
        "# Code to zip the logs\n",
        "!zip -rqq logs.zip logs"
      ],
      "execution_count": null,
      "outputs": []
    },
    {
      "cell_type": "code",
      "metadata": {
        "colab_type": "code",
        "id": "lUR_dOW3EeAL",
        "colab": {}
      },
      "source": [
        "# Code to download logs zip\n",
        "try:\n",
        "  from google.colab import files\n",
        "except ImportError:\n",
        "   pass\n",
        "else:\n",
        "  files.download('logs.zip')"
      ],
      "execution_count": null,
      "outputs": []
    },
    {
      "cell_type": "code",
      "metadata": {
        "colab_type": "code",
        "id": "R1kmYmfsEeAN",
        "colab": {}
      },
      "source": [
        "# Load the TensorBoard notebook extension\n",
        "%load_ext tensorboard"
      ],
      "execution_count": null,
      "outputs": []
    },
    {
      "cell_type": "code",
      "metadata": {
        "colab_type": "code",
        "id": "kCmgG8iVEeAQ",
        "colab": {}
      },
      "source": [
        "%tensorboard --logdir logs/gradient_tape/20200720-042440/baseline_mask/"
      ],
      "execution_count": null,
      "outputs": []
    },
    {
      "cell_type": "markdown",
      "metadata": {
        "colab_type": "text",
        "id": "iWtyDgp987sF"
      },
      "source": [
        "#### 10.3. Attention Model with Masking"
      ]
    },
    {
      "cell_type": "markdown",
      "metadata": {
        "colab_type": "text",
        "id": "YhanjY8WkcSG"
      },
      "source": [
        "##### 10.3.1. Create a tf.data dataset"
      ]
    },
    {
      "cell_type": "code",
      "metadata": {
        "id": "3-g9my1uQzx9",
        "colab_type": "code",
        "colab": {}
      },
      "source": [
        "# Use code cells of 10.1.1."
      ],
      "execution_count": null,
      "outputs": []
    },
    {
      "cell_type": "markdown",
      "metadata": {
        "colab_type": "text",
        "id": "FDZIzI-k87sN"
      },
      "source": [
        "##### 10.3.2. Write the encoder and decoder model"
      ]
    },
    {
      "cell_type": "markdown",
      "metadata": {
        "id": "utAzF0cmmHsh",
        "colab_type": "text"
      },
      "source": [
        "###### 10.3.2.1. Custom Masking Layer"
      ]
    },
    {
      "cell_type": "code",
      "metadata": {
        "id": "oZVHhtkYsqFn",
        "colab_type": "code",
        "colab": {}
      },
      "source": [
        "class CustomMaskingLayer(tf.keras.layers.Layer):\n",
        "    def __init__(self, mask_zero=False, **kwargs):\n",
        "        super(CustomMaskingLayer, self).__init__(**kwargs)\n",
        "        self.mask_zero = mask_zero\n",
        "\n",
        "    def compute_mask(self, inputs, mask=None):\n",
        "        if not self.mask_zero:\n",
        "            return None\n",
        "        return tf.not_equal(inputs, 0.0)"
      ],
      "execution_count": null,
      "outputs": []
    },
    {
      "cell_type": "code",
      "metadata": {
        "id": "CYzoQNuLn-6P",
        "colab_type": "code",
        "colab": {}
      },
      "source": [
        "class Encoder(tf.keras.Model):\n",
        "    def __init__(self, vocab_size, embedding_dim, enc_units, batch_sz):\n",
        "        super(Encoder, self).__init__()\n",
        "        self.batch_sz = batch_sz\n",
        "        self.enc_units = enc_units\n",
        "        self.embedding = tf.keras.layers.Embedding(vocab_size, embedding_dim, \n",
        "                                                   input_length=max_ques_length, \n",
        "                                                   weights=[embedding_matrix], \n",
        "                                                   trainable=False, mask_zero=True)\n",
        "        self.lstm = tf.keras.layers.LSTM(self.enc_units,\n",
        "                                   return_sequences=True,\n",
        "                                   return_state=True)\n",
        "        \n",
        "    def call(self, inputs, hidden):\n",
        "        # inputs shape == (batch_size, max_ques_length)\n",
        "        x = self.embedding(inputs)\n",
        "        # x shape == (batch_size, max_ques_length, embedding_dim)\n",
        "        mask = self.embedding.compute_mask(inputs)\n",
        "        # mask shape == (batch_size, max_ques_length)\n",
        "        output, state_h, state_c = self.lstm(x, initial_state=hidden, mask=mask)\n",
        "        # output shape == (batch_size, max_ques_length, enc_units)\n",
        "        # state_h shape == (batch_size, enc_units)\n",
        "        # state_c shape == (batch_size, enc_units)\n",
        "        return output, state_h, state_c\n",
        "\n",
        "    def initialize_hidden_state(self):\n",
        "        return (tf.zeros((self.batch_sz, self.enc_units)),\n",
        "                tf.zeros((self.batch_sz, self.enc_units)))\n",
        "\n",
        "class Decoder(tf.keras.Model):\n",
        "    def __init__(self, vocab_size, embedding_dim, dec_units, batch_sz):\n",
        "        super(Decoder, self).__init__()\n",
        "        self.batch_sz = batch_sz\n",
        "        self.dec_units = dec_units\n",
        "        self.embedding = tf.keras.layers.Embedding(vocab_size, embedding_dim, \n",
        "                                                   input_length=max_ans_length, \n",
        "                                                   weights=[embedding_matrix], \n",
        "                                                   trainable=False, mask_zero=True)\n",
        "        \n",
        "        self.lstm = tf.keras.layers.LSTM(self.dec_units,\n",
        "                                   return_sequences=True,\n",
        "                                   return_state=True)\n",
        "        self.fc = tf.keras.layers.Dense(vocab_size)\n",
        "        self.attention = tf.keras.layers.AdditiveAttention()\n",
        "\n",
        "        self.masking_hidden = CustomMaskingLayer(mask_zero=True)\n",
        "        self.masking_enc_ouput = CustomMaskingLayer(mask_zero=True)\n",
        "        \n",
        "    def call(self, inputs, hidden, enc_output):\n",
        "        # inputs shape == (batch_size, 1)\n",
        "        # hidden shape == tuple of two (batch_size, enc_units)\n",
        "        # enc_output shape == (batch_size, max_ques_length, enc_units)\n",
        "\n",
        "        hidden_with_time_axis = tf.expand_dims(hidden[0], 1)\n",
        "        # hidden_with_time_axis shape == (batch_size, 1, enc_units)\n",
        "        \n",
        "        mask_hidden = self.masking_hidden(hidden_with_time_axis[:,:,0])\n",
        "        hidden_with_time_axis_mask = self.masking_hidden.compute_mask(mask_hidden)\n",
        "\n",
        "        \n",
        "        # hidden_with_time_axis_mask shape == (batch_size, 1)\n",
        "        \n",
        "        mask_enc_output = self.masking_enc_ouput(enc_output[:,:,0])\n",
        "        enc_output_mask = self.masking_enc_ouput.compute_mask(mask_enc_output)\n",
        "        \n",
        "        # enc_output_mask shape == (batch_size, max_ques_length)\n",
        "        \n",
        "        \n",
        "        context_vector = self.attention(inputs=[hidden_with_time_axis, enc_output],\n",
        "                                        mask=[hidden_with_time_axis_mask, enc_output_mask])\n",
        "        \n",
        "        # context_vector shape == (batch_size, 1, enc_units)\n",
        "\n",
        "        \n",
        "        # x shape after passing through embedding == (batch_size, 1, embedding_dim)\n",
        "        x = self.embedding(inputs)\n",
        "        \n",
        "        mask = self.embedding.compute_mask(inputs)\n",
        "        # mask shape == (batch_size, 1)\n",
        "\n",
        "        # x shape after concatenation == (batch_size, 1, embedding_dim + hidden_size)\n",
        "        x = tf.concat([context_vector, x], axis=-1)\n",
        "        \n",
        "        # passing the concatenated vector to the LSTM\n",
        "        output, state_h, state_c = self.lstm(x, initial_state=hidden, mask=mask)\n",
        "        # output shape == (batch_size, 1, dec_units)\n",
        "        # state_h shape == (batch_size, dec_units)\n",
        "        # state_c shape == (batch_size, dec_units)\n",
        " \n",
        "        output = tf.reshape(output, (-1, output.shape[2]))\n",
        "        # output shape == (batch_size * 1, dec_units)\n",
        "        \n",
        "        x = self.fc(output)\n",
        "        # output shape == (batch_size, vocab)\n",
        "        \n",
        "        return x, state_h, state_c\n",
        "\n",
        "    def initialize_hidden_state(self):\n",
        "        return (tf.zeros((self.batch_sz, self.dec_units)),\n",
        "                tf.zeros((self.batch_sz, self.dec_units)))"
      ],
      "execution_count": null,
      "outputs": []
    },
    {
      "cell_type": "code",
      "metadata": {
        "colab_type": "code",
        "id": "kSdbegpVpLZy",
        "colab": {
          "base_uri": "https://localhost:8080/",
          "height": 66
        },
        "outputId": "f27e5b48-8c1e-41eb-e19b-bd40f70f3cba"
      },
      "source": [
        "encoder = Encoder(qa_vocab_size, embedding_dim, units, BATCH_SIZE)\n",
        "\n",
        "# sample input\n",
        "sample_hidden = encoder.initialize_hidden_state()\n",
        "sample_output, sample_state_hidden, sample_state_cell = encoder(example_input_batch, sample_hidden)\n",
        "print ('Encoder output shape: (batch size, sequence length, units) {}'.format(sample_output.shape))\n",
        "print ('Encoder hidden state shape: (batch size, units) {}'.format(sample_state_hidden.shape))\n",
        "print ('Encoder cell state shape: (batch size, units) {}'.format(sample_state_cell.shape))"
      ],
      "execution_count": null,
      "outputs": [
        {
          "output_type": "stream",
          "text": [
            "Encoder output shape: (batch size, sequence length, units) (512, 11, 1024)\n",
            "Encoder hidden state shape: (batch size, units) (512, 1024)\n",
            "Encoder cell state shape: (batch size, units) (512, 1024)\n"
          ],
          "name": "stdout"
        }
      ]
    },
    {
      "cell_type": "code",
      "metadata": {
        "colab_type": "code",
        "id": "rB_haBR5pLZ1",
        "colab": {
          "base_uri": "https://localhost:8080/",
          "height": 221
        },
        "outputId": "6c20dc9a-a3bc-453e-9a64-f7e628863514"
      },
      "source": [
        "encoder.summary()"
      ],
      "execution_count": null,
      "outputs": [
        {
          "output_type": "stream",
          "text": [
            "Model: \"encoder\"\n",
            "_________________________________________________________________\n",
            "Layer (type)                 Output Shape              Param #   \n",
            "=================================================================\n",
            "embedding (Embedding)        multiple                  12419100  \n",
            "_________________________________________________________________\n",
            "lstm (LSTM)                  multiple                  5427200   \n",
            "=================================================================\n",
            "Total params: 17,846,300\n",
            "Trainable params: 5,427,200\n",
            "Non-trainable params: 12,419,100\n",
            "_________________________________________________________________\n"
          ],
          "name": "stdout"
        }
      ]
    },
    {
      "cell_type": "code",
      "metadata": {
        "colab_type": "code",
        "id": "bf6wJIQppLZ3",
        "colab": {
          "base_uri": "https://localhost:8080/",
          "height": 33
        },
        "outputId": "6323bf4c-fff6-4fbc-921f-f2f6406733e9"
      },
      "source": [
        "decoder = Decoder(qa_vocab_size, embedding_dim, units, BATCH_SIZE)\n",
        "\n",
        "sample_decoder_output, _, _ = decoder(tf.random.uniform((BATCH_SIZE, 1)),\n",
        "                                      sample_hidden, sample_output)\n",
        "\n",
        "print ('Decoder output shape: (batch_size, vocab size) {}'.format(sample_decoder_output.shape))"
      ],
      "execution_count": null,
      "outputs": [
        {
          "output_type": "stream",
          "text": [
            "Decoder output shape: (batch_size, vocab size) (512, 41397)\n"
          ],
          "name": "stdout"
        }
      ]
    },
    {
      "cell_type": "code",
      "metadata": {
        "colab_type": "code",
        "id": "Pq2qnvmipLZ4",
        "colab": {
          "base_uri": "https://localhost:8080/",
          "height": 357
        },
        "outputId": "0c7c4e60-1956-442b-a877-fabcedeb7fd0"
      },
      "source": [
        "decoder.summary()"
      ],
      "execution_count": null,
      "outputs": [
        {
          "output_type": "stream",
          "text": [
            "Model: \"decoder\"\n",
            "_________________________________________________________________\n",
            "Layer (type)                 Output Shape              Param #   \n",
            "=================================================================\n",
            "embedding_1 (Embedding)      multiple                  12419100  \n",
            "_________________________________________________________________\n",
            "lstm_1 (LSTM)                multiple                  9621504   \n",
            "_________________________________________________________________\n",
            "dense (Dense)                multiple                  42431925  \n",
            "_________________________________________________________________\n",
            "additive_attention (Additive multiple                  1024      \n",
            "_________________________________________________________________\n",
            "custom_masking_layer (Custom multiple                  0         \n",
            "_________________________________________________________________\n",
            "custom_masking_layer_1 (Cust multiple                  0         \n",
            "=================================================================\n",
            "Total params: 64,473,553\n",
            "Trainable params: 52,054,453\n",
            "Non-trainable params: 12,419,100\n",
            "_________________________________________________________________\n"
          ],
          "name": "stdout"
        }
      ]
    },
    {
      "cell_type": "markdown",
      "metadata": {
        "id": "HLteo5vPmKHc",
        "colab_type": "text"
      },
      "source": [
        "###### 10.3.2.2. tf.keras.layers.Masking Layer"
      ]
    },
    {
      "cell_type": "code",
      "metadata": {
        "colab_type": "code",
        "id": "S5nVpc5D87sO",
        "colab": {}
      },
      "source": [
        "class Encoder(tf.keras.Model):\n",
        "    def __init__(self, vocab_size, embedding_dim, enc_units, batch_sz):\n",
        "        super(Encoder, self).__init__()\n",
        "        self.batch_sz = batch_sz\n",
        "        self.enc_units = enc_units\n",
        "        self.embedding = tf.keras.layers.Embedding(vocab_size, embedding_dim, \n",
        "                                                   input_length=max_ques_length, \n",
        "                                                   weights=[embedding_matrix], \n",
        "                                                   trainable=False, mask_zero=True)\n",
        "        self.lstm = tf.keras.layers.LSTM(self.enc_units,\n",
        "                                   return_sequences=True,\n",
        "                                   return_state=True)\n",
        "        \n",
        "    def call(self, inputs, hidden):\n",
        "        # inputs shape == (batch_size, max_ques_length)\n",
        "        x = self.embedding(inputs)\n",
        "        # x shape == (batch_size, max_ques_length, embedding_dim)\n",
        "        mask = self.embedding.compute_mask(inputs)\n",
        "        # mask shape == (batch_size, max_ques_length)\n",
        "        output, state_h, state_c = self.lstm(x, initial_state=hidden, mask=mask)\n",
        "        # output shape == (batch_size, max_ques_length, enc_units)\n",
        "        # state_h shape == (batch_size, enc_units)\n",
        "        # state_c shape == (batch_size, enc_units)\n",
        "        return output, state_h, state_c\n",
        "\n",
        "    def initialize_hidden_state(self):\n",
        "        return (tf.zeros((self.batch_sz, self.enc_units)),\n",
        "                tf.zeros((self.batch_sz, self.enc_units)))\n",
        "\n",
        "class Decoder(tf.keras.Model):\n",
        "    def __init__(self, vocab_size, embedding_dim, dec_units, batch_sz):\n",
        "        super(Decoder, self).__init__()\n",
        "        self.batch_sz = batch_sz\n",
        "        self.dec_units = dec_units\n",
        "        self.embedding = tf.keras.layers.Embedding(vocab_size, embedding_dim, \n",
        "                                                   input_length=max_ans_length, \n",
        "                                                   weights=[embedding_matrix], \n",
        "                                                   trainable=False, mask_zero=True)\n",
        "        \n",
        "        self.lstm = tf.keras.layers.LSTM(self.dec_units,\n",
        "                                   return_sequences=True,\n",
        "                                   return_state=True)\n",
        "        self.fc = tf.keras.layers.Dense(vocab_size)\n",
        "        self.attention = tf.keras.layers.AdditiveAttention()\n",
        "\n",
        "        self.masking_hidden = tf.keras.layers.Masking()\n",
        "        self.masking_enc_output = tf.keras.layers.Masking()\n",
        "        \n",
        "    def call(self, inputs, hidden, enc_output):\n",
        "        # inputs shape == (batch_size, 1)\n",
        "        # hidden shape == tuple of two (batch_size, enc_units)\n",
        "        # enc_output shape == (batch_size, max_ques_length, enc_units)\n",
        "\n",
        "        hidden_with_time_axis = tf.expand_dims(hidden[0], 1)\n",
        "        # hidden_with_time_axis shape == (batch_size, 1, enc_units)\n",
        "        \n",
        "        hidden_with_time_axis_mask = self.masking_hidden(hidden_with_time_axis)\n",
        "        # hidden_with_time_axis_mask._keras_mask shape == (batch_size, 1)\n",
        "        \n",
        "        enc_output_mask = self.masking_enc_output(enc_output)\n",
        "        # enc_output_mask._keras_mask shape == (batch_size, max_ques_length)\n",
        "        \n",
        "        context_vector = self.attention(inputs=[hidden_with_time_axis, enc_output],\n",
        "                                        mask=[hidden_with_time_axis_mask._keras_mask, enc_output_mask._keras_mask])\n",
        "        # context_vector shape == (batch_size, 1, enc_units)\n",
        "\n",
        "        \n",
        "        # x shape after passing through embedding == (batch_size, 1, embedding_dim)\n",
        "        x = self.embedding(inputs)\n",
        "\n",
        "        mask = self.embedding.compute_mask(inputs)\n",
        "        # mask shape == (batch_size, 1)\n",
        "\n",
        "        # x shape after concatenation == (batch_size, 1, embedding_dim + hidden_size)\n",
        "        x = tf.concat([context_vector, x], axis=-1)\n",
        "        \n",
        "        # passing the concatenated vector to the LSTM\n",
        "        output, state_h, state_c = self.lstm(x, initial_state=hidden, mask=mask)\n",
        "        # output shape == (batch_size, 1, dec_units)\n",
        "        # state_h shape == (batch_size, dec_units)\n",
        "        # state_c shape == (batch_size, dec_units)\n",
        " \n",
        "        output = tf.reshape(output, (-1, output.shape[2]))\n",
        "        # output shape == (batch_size * 1, dec_units)\n",
        "        \n",
        "        x = self.fc(output)\n",
        "        # output shape == (batch_size, vocab)\n",
        "        \n",
        "        return x, state_h, state_c\n",
        "\n",
        "    def initialize_hidden_state(self):\n",
        "        return (tf.zeros((self.batch_sz, self.dec_units)),\n",
        "                tf.zeros((self.batch_sz, self.dec_units)))"
      ],
      "execution_count": null,
      "outputs": []
    },
    {
      "cell_type": "code",
      "metadata": {
        "colab_type": "code",
        "id": "--Ty7qMA87sT",
        "colab": {
          "base_uri": "https://localhost:8080/"
        },
        "outputId": "1f7dea2a-badd-485b-aa84-38927bf03b48"
      },
      "source": [
        "encoder = Encoder(qa_vocab_size, embedding_dim, units, BATCH_SIZE)\n",
        "\n",
        "# sample input\n",
        "sample_hidden = encoder.initialize_hidden_state()\n",
        "sample_output, sample_state_hidden, sample_state_cell = encoder(example_input_batch, sample_hidden)\n",
        "print ('Encoder output shape: (batch size, sequence length, units) {}'.format(sample_output.shape))\n",
        "print ('Encoder hidden state shape: (batch size, units) {}'.format(sample_state_hidden.shape))\n",
        "print ('Encoder cell state shape: (batch size, units) {}'.format(sample_state_cell.shape))"
      ],
      "execution_count": null,
      "outputs": [
        {
          "output_type": "stream",
          "text": [
            "Encoder output shape: (batch size, sequence length, units) (512, 11, 1024)\n",
            "Encoder hidden state shape: (batch size, units) (512, 1024)\n",
            "Encoder cell state shape: (batch size, units) (512, 1024)\n"
          ],
          "name": "stdout"
        }
      ]
    },
    {
      "cell_type": "code",
      "metadata": {
        "colab_type": "code",
        "id": "MUSqSEzI87sX",
        "colab": {
          "base_uri": "https://localhost:8080/",
          "height": 221
        },
        "outputId": "741af6aa-ea05-47c5-dd10-76892ff90b0d"
      },
      "source": [
        "encoder.summary()"
      ],
      "execution_count": null,
      "outputs": [
        {
          "output_type": "stream",
          "text": [
            "Model: \"encoder\"\n",
            "_________________________________________________________________\n",
            "Layer (type)                 Output Shape              Param #   \n",
            "=================================================================\n",
            "embedding (Embedding)        multiple                  12419100  \n",
            "_________________________________________________________________\n",
            "lstm (LSTM)                  multiple                  5427200   \n",
            "=================================================================\n",
            "Total params: 17,846,300\n",
            "Trainable params: 5,427,200\n",
            "Non-trainable params: 12,419,100\n",
            "_________________________________________________________________\n"
          ],
          "name": "stdout"
        }
      ]
    },
    {
      "cell_type": "code",
      "metadata": {
        "colab_type": "code",
        "id": "YDISTsCZ87sa",
        "colab": {
          "base_uri": "https://localhost:8080/"
        },
        "outputId": "0b32c06d-7a6c-48af-9f92-60f6a3253cae"
      },
      "source": [
        "decoder = Decoder(qa_vocab_size, embedding_dim, units, BATCH_SIZE)\n",
        "\n",
        "sample_decoder_output, _, _ = decoder(tf.random.uniform((BATCH_SIZE, 1)),\n",
        "                                      sample_hidden, sample_output)\n",
        "\n",
        "print ('Decoder output shape: (batch_size, vocab size) {}'.format(sample_decoder_output.shape))"
      ],
      "execution_count": null,
      "outputs": [
        {
          "output_type": "stream",
          "text": [
            "Decoder output shape: (batch_size, vocab size) (512, 41397)\n"
          ],
          "name": "stdout"
        }
      ]
    },
    {
      "cell_type": "code",
      "metadata": {
        "colab_type": "code",
        "id": "vBfe-sP187sd",
        "colab": {
          "base_uri": "https://localhost:8080/",
          "height": 357
        },
        "outputId": "44ac84af-5570-4733-8063-15bc9d14a658"
      },
      "source": [
        "decoder.summary()"
      ],
      "execution_count": null,
      "outputs": [
        {
          "output_type": "stream",
          "text": [
            "Model: \"decoder\"\n",
            "_________________________________________________________________\n",
            "Layer (type)                 Output Shape              Param #   \n",
            "=================================================================\n",
            "embedding_1 (Embedding)      multiple                  12419100  \n",
            "_________________________________________________________________\n",
            "lstm_1 (LSTM)                multiple                  9621504   \n",
            "_________________________________________________________________\n",
            "dense (Dense)                multiple                  42431925  \n",
            "_________________________________________________________________\n",
            "additive_attention (Additive multiple                  1024      \n",
            "_________________________________________________________________\n",
            "masking (Masking)            multiple                  0         \n",
            "_________________________________________________________________\n",
            "masking_1 (Masking)          multiple                  0         \n",
            "=================================================================\n",
            "Total params: 64,473,553\n",
            "Trainable params: 52,054,453\n",
            "Non-trainable params: 12,419,100\n",
            "_________________________________________________________________\n"
          ],
          "name": "stdout"
        }
      ]
    },
    {
      "cell_type": "markdown",
      "metadata": {
        "colab_type": "text",
        "id": "8IKHO-rM87sg"
      },
      "source": [
        "##### 10.3.3. Define the optimizer and the loss function"
      ]
    },
    {
      "cell_type": "markdown",
      "metadata": {
        "id": "1uv7v8y-_fLx",
        "colab_type": "text"
      },
      "source": [
        "###### 10.3.3.1. Custom Masking Layer"
      ]
    },
    {
      "cell_type": "code",
      "metadata": {
        "colab_type": "code",
        "id": "FyTmQFKL87sg",
        "colab": {}
      },
      "source": [
        "optimizer = tf.keras.optimizers.Adam()\n",
        "loss_object = tf.keras.losses.SparseCategoricalCrossentropy(\n",
        "    from_logits=True, reduction='none')\n",
        "\n",
        "def loss_function(real, pred):\n",
        "  mask = tf.math.logical_not(tf.math.equal(real, 0))\n",
        "  loss_ = loss_object(real, pred)\n",
        "\n",
        "  mask = tf.cast(mask, dtype=loss_.dtype)\n",
        "  loss_ *= mask\n",
        "  return tf.reduce_sum(loss_)/tf.reduce_sum(mask)"
      ],
      "execution_count": null,
      "outputs": []
    },
    {
      "cell_type": "markdown",
      "metadata": {
        "id": "j1R-bLuA_lFC",
        "colab_type": "text"
      },
      "source": [
        "###### 10.3.3.2. tf.keras.layers.Masking Layer"
      ]
    },
    {
      "cell_type": "code",
      "metadata": {
        "id": "mDfe0IbA23ah",
        "colab_type": "code",
        "colab": {}
      },
      "source": [
        "optimizer = tf.keras.optimizers.Adam()\n",
        "loss_object = tf.keras.losses.SparseCategoricalCrossentropy(\n",
        "    from_logits=True, reduction='none')\n",
        "\n",
        "def loss_function(real, pred):\n",
        "  mask = tf.math.logical_not(tf.math.equal(real, 0))\n",
        "  loss_ = loss_object(real, pred)\n",
        "\n",
        "  mask = tf.cast(mask, dtype=loss_.dtype)\n",
        "  loss_ *= mask\n",
        "  return tf.reduce_sum(loss_)/tf.reduce_sum(mask)"
      ],
      "execution_count": null,
      "outputs": []
    },
    {
      "cell_type": "markdown",
      "metadata": {
        "colab_type": "text",
        "id": "1xDwSlHL87sj"
      },
      "source": [
        "##### 10.3.4. Checkpoints (Object-based saving)"
      ]
    },
    {
      "cell_type": "markdown",
      "metadata": {
        "id": "BSexjUZinHaD",
        "colab_type": "text"
      },
      "source": [
        "###### 10.3.4.1. Custom Masking Layer"
      ]
    },
    {
      "cell_type": "code",
      "metadata": {
        "colab_type": "code",
        "id": "8C4WxMv-87sk",
        "colab": {}
      },
      "source": [
        "checkpoint_dir = './attention_one_checkpoints'\n",
        "checkpoint_prefix = os.path.join(checkpoint_dir, \"ckpt\")\n",
        "checkpoint = tf.train.Checkpoint(optimizer=optimizer,\n",
        "                                 encoder=encoder,\n",
        "                                 decoder=decoder)"
      ],
      "execution_count": null,
      "outputs": []
    },
    {
      "cell_type": "markdown",
      "metadata": {
        "id": "FCmTEfibnKO-",
        "colab_type": "text"
      },
      "source": [
        "###### 10.3.4.2. tf.keras.layers.Masking Layer"
      ]
    },
    {
      "cell_type": "code",
      "metadata": {
        "id": "0Ru6_ohInDm-",
        "colab_type": "code",
        "colab": {}
      },
      "source": [
        "checkpoint_dir = './attention_two_checkpoints'\n",
        "checkpoint_prefix = os.path.join(checkpoint_dir, \"ckpt\")\n",
        "checkpoint = tf.train.Checkpoint(optimizer=optimizer,\n",
        "                                 encoder=encoder,\n",
        "                                 decoder=decoder)"
      ],
      "execution_count": null,
      "outputs": []
    },
    {
      "cell_type": "markdown",
      "metadata": {
        "colab_type": "text",
        "id": "1tjYhtRp87sm"
      },
      "source": [
        "##### 10.3.5. Setup TensorBoard logging"
      ]
    },
    {
      "cell_type": "code",
      "metadata": {
        "colab_type": "code",
        "id": "rzFK-HaC87sn",
        "colab": {}
      },
      "source": [
        "if not os.path.exists('logs'):\n",
        "  os.makedirs('logs')"
      ],
      "execution_count": null,
      "outputs": []
    },
    {
      "cell_type": "markdown",
      "metadata": {
        "id": "nJEtBDXl_yr4",
        "colab_type": "text"
      },
      "source": [
        "###### 10.3.5.1. Custom Masking Layer"
      ]
    },
    {
      "cell_type": "code",
      "metadata": {
        "id": "1zZT18evmjHC",
        "colab_type": "code",
        "colab": {}
      },
      "source": [
        "current_time = datetime.now().strftime(\"%Y%m%d-%H%M%S\")\n",
        "log_dir = 'logs/gradient_tape/' + current_time + '/attention_one'\n",
        "summary_writer = tf.summary.create_file_writer(log_dir)"
      ],
      "execution_count": null,
      "outputs": []
    },
    {
      "cell_type": "markdown",
      "metadata": {
        "id": "Tj8yKArr_wHS",
        "colab_type": "text"
      },
      "source": [
        "###### 10.3.5.2. tf.keras.layers.Masking Layer"
      ]
    },
    {
      "cell_type": "code",
      "metadata": {
        "id": "QSrxUx-1MByv",
        "colab_type": "code",
        "colab": {}
      },
      "source": [
        "current_time = datetime.now().strftime(\"%Y%m%d-%H%M%S\")\n",
        "log_dir = 'logs/gradient_tape/' + current_time + '/attention_two'\n",
        "summary_writer = tf.summary.create_file_writer(log_dir)"
      ],
      "execution_count": null,
      "outputs": []
    },
    {
      "cell_type": "markdown",
      "metadata": {
        "colab_type": "text",
        "id": "5M41myzG87sr"
      },
      "source": [
        "##### 10.3.6. Training\n"
      ]
    },
    {
      "cell_type": "code",
      "metadata": {
        "colab_type": "code",
        "id": "8z9r1N4S87sx",
        "colab": {}
      },
      "source": [
        "EPOCHS = 10"
      ],
      "execution_count": null,
      "outputs": []
    },
    {
      "cell_type": "code",
      "metadata": {
        "id": "lNTdmMlARRl9",
        "colab_type": "code",
        "colab": {}
      },
      "source": [
        "# train function is defined in 10.1.6."
      ],
      "execution_count": null,
      "outputs": []
    },
    {
      "cell_type": "markdown",
      "metadata": {
        "colab_type": "text",
        "id": "8kVm2Dl_rDsi"
      },
      "source": [
        "###### 10.3.6.1. Custom Masking Layer"
      ]
    },
    {
      "cell_type": "code",
      "metadata": {
        "id": "F-B96RHTmnV5",
        "colab_type": "code",
        "colab": {}
      },
      "source": [
        "@tf.function\n",
        "def train_step(inp, targ, enc_hidden):\n",
        "  loss = 0\n",
        "\n",
        "  with tf.GradientTape() as tape:\n",
        "    enc_outputs = encoder(inp, enc_hidden)\n",
        "\n",
        "    enc_output = enc_outputs[0]\n",
        "\n",
        "    enc_states = enc_outputs[1:]\n",
        "\n",
        "    dec_state_h, dec_state_c = enc_states\n",
        "\n",
        "    dec_input = tf.expand_dims([word2id['<start>']] * BATCH_SIZE, 1)\n",
        "\n",
        "    # Teacher forcing - feeding the target as the next input\n",
        "    for t in range(1, targ.shape[1]):\n",
        "      # passing enc_output to the decoder\n",
        "      predictions, dec_state_h, dec_state_c = \\\n",
        "                      decoder(dec_input, (dec_state_h, dec_state_c), enc_output)\n",
        "\n",
        "      loss += loss_function(targ[:, t], predictions)\n",
        "\n",
        "      # using teacher forcing\n",
        "      dec_input = tf.expand_dims(targ[:, t], 1)\n",
        "\n",
        "  batch_loss = (loss / int(targ.shape[1]))\n",
        "\n",
        "  variables = encoder.trainable_variables + decoder.trainable_variables\n",
        "\n",
        "  gradients = tape.gradient(loss, variables)\n",
        "\n",
        "  optimizer.apply_gradients(zip(gradients, variables))\n",
        "\n",
        "  return batch_loss"
      ],
      "execution_count": null,
      "outputs": []
    },
    {
      "cell_type": "code",
      "metadata": {
        "colab_type": "code",
        "id": "jOOR_p_TrDsj",
        "colab": {
          "base_uri": "https://localhost:8080/",
          "height": 1000
        },
        "outputId": "ca757dbb-339a-4afd-e479-7e023c42f9ee"
      },
      "source": [
        "start_time = timer()\n",
        "loss_train, loss_val = train(EPOCHS)\n",
        "timer(start_time)"
      ],
      "execution_count": null,
      "outputs": [
        {
          "output_type": "stream",
          "text": [
            "----- Training -----\n",
            "Epoch 1 Batch 0 Loss 8.5055\n",
            "Epoch 1 Batch 100 Loss 2.6240\n",
            "Epoch 1 Batch 200 Loss 2.3223\n",
            "Epoch 1 Batch 300 Loss 2.1641\n",
            "Epoch 1 Loss 2.5454\n",
            "Time taken: 0 hours 1 minutes and 55.45 seconds.\n",
            "----- Validation -----\n",
            "Epoch 1 Batch 0 Val-Loss 2.0912\n",
            "Epoch 1 Batch 40 Val-Loss 2.2105\n",
            "Epoch 1 Batch 80 Val-Loss 2.1711\n",
            "Epoch 1 Val-Loss 2.1598\n",
            "Time taken: 0 hours 0 minutes and 25.95 seconds.\n",
            "----- Training -----\n",
            "Epoch 2 Batch 0 Loss 2.0315\n",
            "Epoch 2 Batch 100 Loss 1.8984\n",
            "Epoch 2 Batch 200 Loss 2.0149\n",
            "Epoch 2 Batch 300 Loss 1.9631\n",
            "Epoch 2 Loss 1.9329\n",
            "Time taken: 0 hours 1 minutes and 44.04 seconds.\n",
            "----- Validation -----\n",
            "Epoch 2 Batch 0 Val-Loss 1.7362\n",
            "Epoch 2 Batch 40 Val-Loss 1.8448\n",
            "Epoch 2 Batch 80 Val-Loss 1.6969\n",
            "Epoch 2 Val-Loss 1.7679\n",
            "Time taken: 0 hours 0 minutes and 26.13 seconds.\n",
            "----- Training -----\n",
            "Epoch 3 Batch 0 Loss 1.7871\n",
            "Epoch 3 Batch 100 Loss 1.6353\n",
            "Epoch 3 Batch 200 Loss 1.6599\n",
            "Epoch 3 Batch 300 Loss 1.6539\n",
            "Epoch 3 Loss 1.6505\n",
            "Time taken: 0 hours 1 minutes and 44.76 seconds.\n",
            "----- Validation -----\n",
            "Epoch 3 Batch 0 Val-Loss 1.5992\n",
            "Epoch 3 Batch 40 Val-Loss 1.6127\n",
            "Epoch 3 Batch 80 Val-Loss 1.4812\n",
            "Epoch 3 Val-Loss 1.5590\n",
            "Time taken: 0 hours 0 minutes and 26.26 seconds.\n",
            "----- Training -----\n",
            "Epoch 4 Batch 0 Loss 1.4316\n",
            "Epoch 4 Batch 100 Loss 1.6345\n",
            "Epoch 4 Batch 200 Loss 1.6203\n",
            "Epoch 4 Batch 300 Loss 1.5615\n",
            "Epoch 4 Loss 1.4944\n",
            "Time taken: 0 hours 1 minutes and 44.89 seconds.\n",
            "----- Validation -----\n",
            "Epoch 4 Batch 0 Val-Loss 1.4619\n",
            "Epoch 4 Batch 40 Val-Loss 1.3499\n",
            "Epoch 4 Batch 80 Val-Loss 1.4478\n",
            "Epoch 4 Val-Loss 1.4332\n",
            "Time taken: 0 hours 0 minutes and 26.24 seconds.\n",
            "----- Training -----\n",
            "Epoch 5 Batch 0 Loss 1.3996\n",
            "Epoch 5 Batch 100 Loss 1.3464\n",
            "Epoch 5 Batch 200 Loss 1.3981\n",
            "Epoch 5 Batch 300 Loss 1.2873\n",
            "Epoch 5 Loss 1.3861\n",
            "Time taken: 0 hours 1 minutes and 44.85 seconds.\n",
            "----- Validation -----\n",
            "Epoch 5 Batch 0 Val-Loss 1.3176\n",
            "Epoch 5 Batch 40 Val-Loss 1.3054\n",
            "Epoch 5 Batch 80 Val-Loss 1.3564\n",
            "Epoch 5 Val-Loss 1.3366\n",
            "Time taken: 0 hours 0 minutes and 26.26 seconds.\n",
            "----- Training -----\n",
            "Epoch 6 Batch 0 Loss 1.4005\n",
            "Epoch 6 Batch 100 Loss 1.2308\n",
            "Epoch 6 Batch 200 Loss 1.3395\n",
            "Epoch 6 Batch 300 Loss 1.2722\n",
            "Epoch 6 Loss 1.2969\n",
            "Time taken: 0 hours 1 minutes and 44.99 seconds.\n",
            "----- Validation -----\n",
            "Epoch 6 Batch 0 Val-Loss 1.2988\n",
            "Epoch 6 Batch 40 Val-Loss 1.2233\n",
            "Epoch 6 Batch 80 Val-Loss 1.2426\n",
            "Epoch 6 Val-Loss 1.2518\n",
            "Time taken: 0 hours 0 minutes and 26.25 seconds.\n",
            "----- Training -----\n",
            "Epoch 7 Batch 0 Loss 1.1861\n",
            "Epoch 7 Batch 100 Loss 1.1901\n",
            "Epoch 7 Batch 200 Loss 1.2522\n",
            "Epoch 7 Batch 300 Loss 1.1431\n",
            "Epoch 7 Loss 1.2165\n",
            "Time taken: 0 hours 1 minutes and 45.13 seconds.\n",
            "----- Validation -----\n",
            "Epoch 7 Batch 0 Val-Loss 1.2447\n",
            "Epoch 7 Batch 40 Val-Loss 1.1451\n",
            "Epoch 7 Batch 80 Val-Loss 1.1898\n",
            "Epoch 7 Val-Loss 1.1733\n",
            "Time taken: 0 hours 0 minutes and 26.29 seconds.\n",
            "----- Training -----\n",
            "Epoch 8 Batch 0 Loss 1.2032\n",
            "Epoch 8 Batch 100 Loss 1.2055\n",
            "Epoch 8 Batch 200 Loss 1.0341\n",
            "Epoch 8 Batch 300 Loss 1.1532\n",
            "Epoch 8 Loss 1.1413\n",
            "Time taken: 0 hours 1 minutes and 45.14 seconds.\n",
            "----- Validation -----\n",
            "Epoch 8 Batch 0 Val-Loss 1.1275\n",
            "Epoch 8 Batch 40 Val-Loss 1.1407\n",
            "Epoch 8 Batch 80 Val-Loss 1.1244\n",
            "Epoch 8 Val-Loss 1.1011\n",
            "Time taken: 0 hours 0 minutes and 26.3 seconds.\n",
            "----- Training -----\n",
            "Epoch 9 Batch 0 Loss 1.0635\n",
            "Epoch 9 Batch 100 Loss 1.0789\n",
            "Epoch 9 Batch 200 Loss 1.0344\n",
            "Epoch 9 Batch 300 Loss 1.1162\n",
            "Epoch 9 Loss 1.0691\n",
            "Time taken: 0 hours 1 minutes and 45.08 seconds.\n",
            "----- Validation -----\n",
            "Epoch 9 Batch 0 Val-Loss 1.1208\n",
            "Epoch 9 Batch 40 Val-Loss 1.0131\n",
            "Epoch 9 Batch 80 Val-Loss 1.1143\n",
            "Epoch 9 Val-Loss 1.0330\n",
            "Time taken: 0 hours 0 minutes and 26.29 seconds.\n",
            "----- Training -----\n",
            "Epoch 10 Batch 0 Loss 1.0615\n",
            "Epoch 10 Batch 100 Loss 1.0319\n",
            "Epoch 10 Batch 200 Loss 1.0739\n",
            "Epoch 10 Batch 300 Loss 0.9113\n",
            "Epoch 10 Loss 1.0039\n",
            "Time taken: 0 hours 1 minutes and 45.26 seconds.\n",
            "----- Validation -----\n",
            "Epoch 10 Batch 0 Val-Loss 1.0167\n",
            "Epoch 10 Batch 40 Val-Loss 0.9377\n",
            "Epoch 10 Batch 80 Val-Loss 0.9625\n",
            "Epoch 10 Val-Loss 0.9739\n",
            "Time taken: 0 hours 0 minutes and 29.75 seconds.\n",
            "Time taken: 0 hours 22 minutes and 5.31 seconds.\n"
          ],
          "name": "stdout"
        }
      ]
    },
    {
      "cell_type": "markdown",
      "metadata": {
        "id": "x_XxHI3nnQU_",
        "colab_type": "text"
      },
      "source": [
        "###### 10.3.6.2. tf.keras.layers.Masking Layer"
      ]
    },
    {
      "cell_type": "code",
      "metadata": {
        "id": "yvPdNsti3f3y",
        "colab_type": "code",
        "colab": {}
      },
      "source": [
        "@tf.function\n",
        "def train_step(inp, targ, enc_hidden):\n",
        "  loss = 0\n",
        "\n",
        "  with tf.GradientTape() as tape:\n",
        "    enc_outputs = encoder(inp, enc_hidden)\n",
        "\n",
        "    enc_output = enc_outputs[0]\n",
        "\n",
        "    enc_states = enc_outputs[1:]\n",
        "\n",
        "    dec_state_h, dec_state_c = enc_states\n",
        "\n",
        "    dec_input = tf.expand_dims([word2id['<start>']] * BATCH_SIZE, 1)\n",
        "\n",
        "    # Teacher forcing - feeding the target as the next input\n",
        "    for t in range(1, targ.shape[1]):\n",
        "      # passing enc_output to the decoder\n",
        "      predictions, dec_state_h, dec_state_c = \\\n",
        "                      decoder(dec_input, (dec_state_h, dec_state_c), enc_output)\n",
        "\n",
        "      loss += loss_function(targ[:, t], predictions)\n",
        "\n",
        "      # using teacher forcing\n",
        "\n",
        "  batch_loss = (loss / int(targ.shape[1]))\n",
        "\n",
        "  variables = encoder.trainable_variables + decoder.trainable_variables\n",
        "\n",
        "  gradients = tape.gradient(loss, variables)\n",
        "\n",
        "  optimizer.apply_gradients(zip(gradients, variables))\n",
        "\n",
        "  return batch_loss"
      ],
      "execution_count": null,
      "outputs": []
    },
    {
      "cell_type": "code",
      "metadata": {
        "id": "6NEt4caW3mAs",
        "colab_type": "code",
        "colab": {
          "base_uri": "https://localhost:8080/",
          "height": 1000
        },
        "outputId": "809f7a4e-2000-48bd-d1e5-45d1bf515dce"
      },
      "source": [
        "start_time = timer()\n",
        "loss_train, loss_val = train(EPOCHS)\n",
        "timer(start_time)"
      ],
      "execution_count": null,
      "outputs": [
        {
          "output_type": "stream",
          "text": [
            "----- Training -----\n",
            "Epoch 1 Batch 0 Loss 8.5053\n",
            "Epoch 1 Batch 100 Loss 2.5622\n",
            "Epoch 1 Batch 200 Loss 2.5031\n",
            "Epoch 1 Batch 300 Loss 2.1383\n",
            "Epoch 1 Loss 2.5956\n",
            "Time taken: 0 hours 1 minutes and 56.64 seconds.\n",
            "----- Validation -----\n",
            "Epoch 1 Batch 0 Val-Loss 2.0893\n",
            "Epoch 1 Batch 40 Val-Loss 2.3307\n",
            "Epoch 1 Batch 80 Val-Loss 2.2090\n",
            "Epoch 1 Val-Loss 2.2740\n",
            "Time taken: 0 hours 0 minutes and 26.38 seconds.\n",
            "----- Training -----\n",
            "Epoch 2 Batch 0 Loss 2.2812\n",
            "Epoch 2 Batch 100 Loss 2.3082\n",
            "Epoch 2 Batch 200 Loss 2.0478\n",
            "Epoch 2 Batch 300 Loss 1.9882\n",
            "Epoch 2 Loss 2.1038\n",
            "Time taken: 0 hours 1 minutes and 45.82 seconds.\n",
            "----- Validation -----\n",
            "Epoch 2 Batch 0 Val-Loss 2.0731\n",
            "Epoch 2 Batch 40 Val-Loss 1.8414\n",
            "Epoch 2 Batch 80 Val-Loss 2.0027\n",
            "Epoch 2 Val-Loss 1.9693\n",
            "Time taken: 0 hours 0 minutes and 26.5 seconds.\n",
            "----- Training -----\n",
            "Epoch 3 Batch 0 Loss 1.9082\n",
            "Epoch 3 Batch 100 Loss 1.8855\n",
            "Epoch 3 Batch 200 Loss 1.8200\n",
            "Epoch 3 Batch 300 Loss 1.9009\n",
            "Epoch 3 Loss 1.8905\n",
            "Time taken: 0 hours 1 minutes and 46.94 seconds.\n",
            "----- Validation -----\n",
            "Epoch 3 Batch 0 Val-Loss 2.0518\n",
            "Epoch 3 Batch 40 Val-Loss 1.8754\n",
            "Epoch 3 Batch 80 Val-Loss 1.8672\n",
            "Epoch 3 Val-Loss 1.8225\n",
            "Time taken: 0 hours 0 minutes and 26.91 seconds.\n",
            "----- Training -----\n",
            "Epoch 4 Batch 0 Loss 1.7633\n",
            "Epoch 4 Batch 100 Loss 1.6570\n",
            "Epoch 4 Batch 200 Loss 1.7491\n",
            "Epoch 4 Batch 300 Loss 1.8631\n",
            "Epoch 4 Loss 1.7774\n",
            "Time taken: 0 hours 1 minutes and 47.3 seconds.\n",
            "----- Validation -----\n",
            "Epoch 4 Batch 0 Val-Loss 1.7827\n",
            "Epoch 4 Batch 40 Val-Loss 1.6378\n",
            "Epoch 4 Batch 80 Val-Loss 1.7131\n",
            "Epoch 4 Val-Loss 1.7273\n",
            "Time taken: 0 hours 0 minutes and 26.78 seconds.\n",
            "----- Training -----\n",
            "Epoch 5 Batch 0 Loss 1.6025\n",
            "Epoch 5 Batch 100 Loss 1.6929\n",
            "Epoch 5 Batch 200 Loss 1.7391\n",
            "Epoch 5 Batch 300 Loss 1.6773\n",
            "Epoch 5 Loss 1.6931\n",
            "Time taken: 0 hours 1 minutes and 47.3 seconds.\n",
            "----- Validation -----\n",
            "Epoch 5 Batch 0 Val-Loss 1.6553\n",
            "Epoch 5 Batch 40 Val-Loss 1.6389\n",
            "Epoch 5 Batch 80 Val-Loss 1.6079\n",
            "Epoch 5 Val-Loss 1.6492\n",
            "Time taken: 0 hours 0 minutes and 26.83 seconds.\n",
            "----- Training -----\n",
            "Epoch 6 Batch 0 Loss 1.6868\n",
            "Epoch 6 Batch 100 Loss 1.6875\n",
            "Epoch 6 Batch 200 Loss 1.5138\n",
            "Epoch 6 Batch 300 Loss 1.6358\n",
            "Epoch 6 Loss 1.6175\n",
            "Time taken: 0 hours 1 minutes and 47.53 seconds.\n",
            "----- Validation -----\n",
            "Epoch 6 Batch 0 Val-Loss 1.6360\n",
            "Epoch 6 Batch 40 Val-Loss 1.6048\n",
            "Epoch 6 Batch 80 Val-Loss 1.6161\n",
            "Epoch 6 Val-Loss 1.5746\n",
            "Time taken: 0 hours 0 minutes and 26.87 seconds.\n",
            "----- Training -----\n",
            "Epoch 7 Batch 0 Loss 1.5532\n",
            "Epoch 7 Batch 100 Loss 1.5004\n",
            "Epoch 7 Batch 200 Loss 1.4807\n",
            "Epoch 7 Batch 300 Loss 1.5233\n",
            "Epoch 7 Loss 1.5465\n",
            "Time taken: 0 hours 1 minutes and 47.53 seconds.\n",
            "----- Validation -----\n",
            "Epoch 7 Batch 0 Val-Loss 1.4863\n",
            "Epoch 7 Batch 40 Val-Loss 1.4998\n",
            "Epoch 7 Batch 80 Val-Loss 1.4795\n",
            "Epoch 7 Val-Loss 1.5053\n",
            "Time taken: 0 hours 0 minutes and 26.92 seconds.\n",
            "----- Training -----\n",
            "Epoch 8 Batch 0 Loss 1.5006\n",
            "Epoch 8 Batch 100 Loss 1.5177\n",
            "Epoch 8 Batch 200 Loss 1.5061\n",
            "Epoch 8 Batch 300 Loss 1.5683\n",
            "Epoch 8 Loss 1.4780\n",
            "Time taken: 0 hours 1 minutes and 47.67 seconds.\n",
            "----- Validation -----\n",
            "Epoch 8 Batch 0 Val-Loss 1.4113\n",
            "Epoch 8 Batch 40 Val-Loss 1.4623\n",
            "Epoch 8 Batch 80 Val-Loss 1.4052\n",
            "Epoch 8 Val-Loss 1.4382\n",
            "Time taken: 0 hours 0 minutes and 26.94 seconds.\n",
            "----- Training -----\n",
            "Epoch 9 Batch 0 Loss 1.3917\n",
            "Epoch 9 Batch 100 Loss 1.4308\n",
            "Epoch 9 Batch 200 Loss 1.4670\n",
            "Epoch 9 Batch 300 Loss 1.3660\n",
            "Epoch 9 Loss 1.4103\n",
            "Time taken: 0 hours 1 minutes and 47.7 seconds.\n",
            "----- Validation -----\n",
            "Epoch 9 Batch 0 Val-Loss 1.4774\n",
            "Epoch 9 Batch 40 Val-Loss 1.3237\n",
            "Epoch 9 Batch 80 Val-Loss 1.5211\n",
            "Epoch 9 Val-Loss 1.3728\n",
            "Time taken: 0 hours 0 minutes and 26.94 seconds.\n",
            "----- Training -----\n",
            "Epoch 10 Batch 0 Loss 1.3877\n",
            "Epoch 10 Batch 100 Loss 1.3929\n",
            "Epoch 10 Batch 200 Loss 1.3114\n",
            "Epoch 10 Batch 300 Loss 1.3726\n",
            "Epoch 10 Loss 1.3435\n",
            "Time taken: 0 hours 1 minutes and 47.65 seconds.\n",
            "----- Validation -----\n",
            "Epoch 10 Batch 0 Val-Loss 1.4254\n",
            "Epoch 10 Batch 40 Val-Loss 1.3458\n",
            "Epoch 10 Batch 80 Val-Loss 1.3145\n",
            "Epoch 10 Val-Loss 1.3068\n",
            "Time taken: 0 hours 0 minutes and 30.56 seconds.\n",
            "Time taken: 0 hours 22 minutes and 33.73 seconds.\n"
          ],
          "name": "stdout"
        }
      ]
    },
    {
      "cell_type": "markdown",
      "metadata": {
        "colab_type": "text",
        "id": "6Bloa8os87s2"
      },
      "source": [
        "##### 10.3.7. Save model weights"
      ]
    },
    {
      "cell_type": "markdown",
      "metadata": {
        "id": "I4Et1Tl3riCF",
        "colab_type": "text"
      },
      "source": [
        "###### 10.3.7.1. Custom Masking Layer"
      ]
    },
    {
      "cell_type": "code",
      "metadata": {
        "id": "gUvLGc6r7c7_",
        "colab_type": "code",
        "colab": {}
      },
      "source": [
        "encoder.save_weights('attention_one_encoder_weights.h5')\n",
        "decoder.save_weights('attention_one_decoder_weights.h5')"
      ],
      "execution_count": null,
      "outputs": []
    },
    {
      "cell_type": "code",
      "metadata": {
        "id": "2mfHKzvJL9vN",
        "colab_type": "code",
        "colab": {
          "base_uri": "https://localhost:8080/"
        },
        "outputId": "a766fbef-1af5-4f48-b78e-f031ca9a7bc8"
      },
      "source": [
        "!tar cvzf attention_one_checkpoints.tar.gz ./attention_one_checkpoints/checkpoint ./attention_one_checkpoints/ckpt-1.data-00000-of-00001 ./attention_one_checkpoints/ckpt-1.index ./attention_one_encoder_weights.h5 ./attention_one_decoder_weights.h5"
      ],
      "execution_count": null,
      "outputs": [
        {
          "output_type": "stream",
          "text": [
            "./attention_one_checkpoints/checkpoint\n",
            "./attention_one_checkpoints/ckpt-1.data-00000-of-00001\n",
            "./attention_one_checkpoints/ckpt-1.index\n",
            "./attention_one_encoder_weights.h5\n",
            "./attention_one_decoder_weights.h5\n"
          ],
          "name": "stdout"
        }
      ]
    },
    {
      "cell_type": "markdown",
      "metadata": {
        "id": "7wrFTu0yrkDH",
        "colab_type": "text"
      },
      "source": [
        "###### 10.3.7.2. tf.keras.layers.Masking Layer"
      ]
    },
    {
      "cell_type": "code",
      "metadata": {
        "id": "k0Z2mddrrdgb",
        "colab_type": "code",
        "colab": {}
      },
      "source": [
        "encoder.save_weights('attention_two_encoder_weights.h5')\n",
        "decoder.save_weights('attention_two_decoder_weights.h5')"
      ],
      "execution_count": null,
      "outputs": []
    },
    {
      "cell_type": "code",
      "metadata": {
        "colab_type": "code",
        "id": "UrkoZzOHrgWh",
        "colab": {
          "base_uri": "https://localhost:8080/"
        },
        "outputId": "2e069c82-07e5-4135-eaf0-d3f36587e75a"
      },
      "source": [
        "!tar cvzf attention_two_checkpoints.tar.gz ./attention_two_checkpoints/checkpoint ./attention_two_checkpoints/ckpt-1.data-00000-of-00001 ./attention_two_checkpoints/ckpt-1.index ./attention_two_encoder_weights.h5 ./attention_two_decoder_weights.h5"
      ],
      "execution_count": null,
      "outputs": [
        {
          "output_type": "stream",
          "text": [
            "./attention_two_checkpoints/checkpoint\n",
            "./attention_two_checkpoints/ckpt-1.data-00000-of-00001\n",
            "./attention_two_checkpoints/ckpt-1.index\n",
            "./attention_two_encoder_weights.h5\n",
            "./attention_two_decoder_weights.h5\n"
          ],
          "name": "stdout"
        }
      ]
    },
    {
      "cell_type": "code",
      "metadata": {
        "id": "w7Q6xSL_YgCQ",
        "colab_type": "code",
        "colab": {
          "base_uri": "https://localhost:8080/",
          "height": 70
        },
        "outputId": "9fa98391-fb5b-4bdd-8198-da9cc34025da"
      },
      "source": [
        "!tar xvzf checkpoints.tar.gz ./attention_two_checkpoints"
      ],
      "execution_count": null,
      "outputs": [
        {
          "output_type": "stream",
          "text": [
            "./attention_two_checkpoints/checkpoint\n",
            "./attention_two_checkpoints/ckpt-15.data-00000-of-00001\n",
            "./attention_two_checkpoints/ckpt-15.index\n"
          ],
          "name": "stdout"
        }
      ]
    },
    {
      "cell_type": "markdown",
      "metadata": {
        "colab_type": "text",
        "id": "FJ-Zo3Y187s5"
      },
      "source": [
        "##### 10.3.8. Plot the model's loss"
      ]
    },
    {
      "cell_type": "code",
      "metadata": {
        "id": "lAYsnIjcRbYo",
        "colab_type": "code",
        "colab": {}
      },
      "source": [
        "# plot_loss function is defined in 10.1.8."
      ],
      "execution_count": null,
      "outputs": []
    },
    {
      "cell_type": "markdown",
      "metadata": {
        "id": "mc_NJ0xKtBMf",
        "colab_type": "text"
      },
      "source": [
        "###### 10.3.8.1. Custom Masking Layer"
      ]
    },
    {
      "cell_type": "code",
      "metadata": {
        "colab_type": "code",
        "id": "YHufRzDxtIha",
        "colab": {
          "base_uri": "https://localhost:8080/"
        },
        "outputId": "ef0d0e10-9fe8-4066-a2cd-61e2ec18c3c5"
      },
      "source": [
        "plot_loss(EPOCHS, loss_train, loss_val)"
      ],
      "execution_count": null,
      "outputs": [
        {
          "output_type": "display_data",
          "data": {
            "image/png": "[encoded data removed]",
            "text/plain": [
              "<Figure size 432x288 with 1 Axes>"
            ]
          },
          "metadata": {
            "tags": [],
            "needs_background": "light"
          }
        }
      ]
    },
    {
      "cell_type": "markdown",
      "metadata": {
        "id": "Jwqae_3fsyk3",
        "colab_type": "text"
      },
      "source": [
        "###### 10.3.8.2. tf.keras.layers.Masking Layer"
      ]
    },
    {
      "cell_type": "code",
      "metadata": {
        "id": "hwvPuGAbrPmD",
        "colab_type": "code",
        "colab": {
          "base_uri": "https://localhost:8080/"
        },
        "outputId": "411a92c3-c8bf-4555-fb7c-d4b6f9d999a6"
      },
      "source": [
        "plot_loss(EPOCHS, loss_train, loss_val)"
      ],
      "execution_count": null,
      "outputs": [
        {
          "output_type": "display_data",
          "data": {
            "image/png": "[encoded data removed]",
            "text/plain": [
              "<Figure size 432x288 with 1 Axes>"
            ]
          },
          "metadata": {
            "tags": [],
            "needs_background": "light"
          }
        }
      ]
    },
    {
      "cell_type": "markdown",
      "metadata": {
        "colab_type": "text",
        "id": "ej4raFwh87s8"
      },
      "source": [
        "##### 10.3.9. Inference\n"
      ]
    },
    {
      "cell_type": "code",
      "metadata": {
        "id": "nPt-hVzBRhU5",
        "colab_type": "code",
        "colab": {}
      },
      "source": [
        "# Use code cells of 10.1.9."
      ],
      "execution_count": null,
      "outputs": []
    },
    {
      "cell_type": "markdown",
      "metadata": {
        "colab_type": "text",
        "id": "JyUpkt3eNXq5"
      },
      "source": [
        "##### 10.3.10. Restore the latest checkpoint and test (Custom Masking Layer)"
      ]
    },
    {
      "cell_type": "code",
      "metadata": {
        "colab_type": "code",
        "id": "yGd5g3YKNXq6",
        "colab": {
          "base_uri": "https://localhost:8080/",
          "height": 34
        },
        "outputId": "7b856549-062e-40da-a467-9901e9532e67"
      },
      "source": [
        "# restoring the latest checkpoint in checkpoint_dir\n",
        "checkpoint.restore(tf.train.latest_checkpoint(checkpoint_dir))"
      ],
      "execution_count": null,
      "outputs": [
        {
          "output_type": "execute_result",
          "data": {
            "text/plain": [
              "<tensorflow.python.training.tracking.util.CheckpointLoadStatus at 0x7f726de71198>"
            ]
          },
          "metadata": {
            "tags": []
          },
          "execution_count": 160
        }
      ]
    },
    {
      "cell_type": "markdown",
      "metadata": {
        "colab_type": "text",
        "id": "Jlyl5HvDNXq7"
      },
      "source": [
        "###### 10.3.10.1. Inference with greedy search"
      ]
    },
    {
      "cell_type": "code",
      "metadata": {
        "colab_type": "code",
        "id": "Te09nNkYNXq7",
        "colab": {
          "base_uri": "https://localhost:8080/",
          "height": 683
        },
        "outputId": "93ef36e7-fd64-4361-8b6b-8a712e4b14da"
      },
      "source": [
        "predict(encoder, decoder, enc_in_test, dec_in_test, 'random')"
      ],
      "execution_count": null,
      "outputs": [
        {
          "output_type": "stream",
          "text": [
            " 70%|███████   | 7/10 [00:00<00:00, 27.09it/s]"
          ],
          "name": "stderr"
        },
        {
          "output_type": "stream",
          "text": [
            "\n",
            "Question: which bey does it come with\n",
            "Actual answer: torch aries\n",
            "Predicted answer: the the flute\n",
            "\n",
            "Question: is her dress a two piece\n",
            "Actual answer: no\n",
            "Predicted answer: yes\n",
            "\n",
            "Question: how far apart are the wood slats\n",
            "Actual answer: abiut 8 inches\n",
            "Predicted answer: about 4 inches\n",
            "\n",
            "Question: will it work with sony google tv nsx 32gt1\n",
            "Actual answer: yes\n",
            "Predicted answer: yes\n",
            "\n",
            "Question: do you have extended warranty for 3 years\n",
            "Actual answer: no\n",
            "Predicted answer: yes\n",
            "\n",
            "Question: does this work on epson expression xp 211\n",
            "Actual answer: sorry not yet\n",
            "Predicted answer: yes\n",
            "\n",
            "Question: does it work on 220 volt\n",
            "Actual answer: no\n",
            "Predicted answer: no\n"
          ],
          "name": "stdout"
        },
        {
          "output_type": "stream",
          "text": [
            "\r100%|██████████| 10/10 [00:00<00:00, 32.01it/s]"
          ],
          "name": "stderr"
        },
        {
          "output_type": "stream",
          "text": [
            "\n",
            "Question: how many shields come in the package\n",
            "Actual answer: one\n",
            "Predicted answer: one\n",
            "\n",
            "Question: hi i can run photoshop ilustrator corel\n",
            "Actual answer: yes\n",
            "Predicted answer: yes\n",
            "\n",
            "Question: streaming amazon movies\n",
            "Actual answer: yes\n",
            "Predicted answer: yes\n"
          ],
          "name": "stdout"
        },
        {
          "output_type": "stream",
          "text": [
            "\n"
          ],
          "name": "stderr"
        }
      ]
    },
    {
      "cell_type": "code",
      "metadata": {
        "colab_type": "code",
        "id": "ol-2CxXqNXq8",
        "colab": {
          "base_uri": "https://localhost:8080/"
        },
        "outputId": "1638b219-4eba-4922-d597-d2f133fd8c5d"
      },
      "source": [
        "predict(encoder, decoder, enc_in_test, dec_in_test, 'random', count=1, special_input=True)"
      ],
      "execution_count": null,
      "outputs": [
        {
          "output_type": "stream",
          "text": [
            "100%|██████████| 1/1 [00:00<00:00, 21.14it/s]"
          ],
          "name": "stderr"
        },
        {
          "output_type": "stream",
          "text": [
            "\n",
            "Question: All zeros\n",
            "Actual answer: not sure\n",
            "Predicted answer: yes\n"
          ],
          "name": "stdout"
        },
        {
          "output_type": "stream",
          "text": [
            "\n"
          ],
          "name": "stderr"
        }
      ]
    },
    {
      "cell_type": "code",
      "metadata": {
        "colab_type": "code",
        "id": "TDJMsf_HNXq9",
        "colab": {
          "base_uri": "https://localhost:8080/"
        },
        "outputId": "c992825f-7705-41c7-cb8c-8ff75146aee4"
      },
      "source": [
        "start_time = timer()\n",
        "predicted_answer_list, actual_answer_list = predict(encoder, decoder, enc_in_test, dec_in_test, 'corpus')\n",
        "timer(start_time)"
      ],
      "execution_count": null,
      "outputs": [
        {
          "output_type": "stream",
          "text": [
            "100%|██████████| 1069/1069 [00:27<00:00, 38.42it/s]"
          ],
          "name": "stderr"
        },
        {
          "output_type": "stream",
          "text": [
            "Time taken: 0 hours 0 minutes and 27.83 seconds.\n"
          ],
          "name": "stdout"
        },
        {
          "output_type": "stream",
          "text": [
            "\n"
          ],
          "name": "stderr"
        }
      ]
    },
    {
      "cell_type": "markdown",
      "metadata": {
        "colab_type": "text",
        "id": "U2GtYZf5NXq_"
      },
      "source": [
        "###### 10.3.10.2. Inference with beam search"
      ]
    },
    {
      "cell_type": "code",
      "metadata": {
        "colab_type": "code",
        "id": "arjhwmJRNXq_",
        "colab": {
          "base_uri": "https://localhost:8080/",
          "height": 683
        },
        "outputId": "9f21f0be-680b-4d32-b74b-9de6f4daaa7f"
      },
      "source": [
        "predict(encoder, decoder, enc_in_test, dec_in_test, 'random', beam_search=True)"
      ],
      "execution_count": null,
      "outputs": [
        {
          "output_type": "stream",
          "text": [
            "\r  0%|          | 0/10 [00:00<?, ?it/s]"
          ],
          "name": "stderr"
        },
        {
          "output_type": "stream",
          "text": [
            "\n",
            "Question: i have 2007 nissan versa will this work for me\n",
            "Actual answer: yes\n",
            "Predicted answer: yes\n"
          ],
          "name": "stdout"
        },
        {
          "output_type": "stream",
          "text": [
            " 40%|████      | 4/10 [00:00<00:00, 16.63it/s]"
          ],
          "name": "stderr"
        },
        {
          "output_type": "stream",
          "text": [
            "\n",
            "Question: does this battery work in the d3300\n",
            "Actual answer: yes\n",
            "Predicted answer: yes\n",
            "\n",
            "Question: what is the length of the hose\n",
            "Actual answer: 5 ft long\n",
            "Predicted answer: about\n",
            "\n",
            "Question: does it work with skype on the pc\n",
            "Actual answer: yes\n",
            "Predicted answer: yes\n",
            "\n",
            "Question: is this compatible with the igroove model no 1000330\n",
            "Actual answer: yes\n",
            "Predicted answer: yes\n"
          ],
          "name": "stdout"
        },
        {
          "output_type": "stream",
          "text": [
            " 80%|████████  | 8/10 [00:00<00:00, 16.75it/s]"
          ],
          "name": "stderr"
        },
        {
          "output_type": "stream",
          "text": [
            "\n",
            "Question: is this an original oem samsung product\n",
            "Actual answer: yes it is\n",
            "Predicted answer: yes\n",
            "\n",
            "Question: are the saw mounting brackets included\n",
            "Actual answer: yes they were\n",
            "Predicted answer: yes\n",
            "\n",
            "Question: is it peel seel\n",
            "Actual answer: no\n",
            "Predicted answer: yes\n",
            "\n",
            "Question: does this model come with a storage case\n",
            "Actual answer: noe\n",
            "Predicted answer: no\n"
          ],
          "name": "stdout"
        },
        {
          "output_type": "stream",
          "text": [
            "100%|██████████| 10/10 [00:00<00:00, 16.81it/s]"
          ],
          "name": "stderr"
        },
        {
          "output_type": "stream",
          "text": [
            "\n",
            "Question: would this module be compatibile with 2014 mercedes benz c250w\n",
            "Actual answer: yes\n",
            "Predicted answer: yes\n"
          ],
          "name": "stdout"
        },
        {
          "output_type": "stream",
          "text": [
            "\n"
          ],
          "name": "stderr"
        }
      ]
    },
    {
      "cell_type": "code",
      "metadata": {
        "colab_type": "code",
        "id": "jmkzEUcDNXrA",
        "colab": {
          "base_uri": "https://localhost:8080/",
          "height": 98
        },
        "outputId": "784223c9-0b54-483b-e11d-f39b3d1f451e"
      },
      "source": [
        "predict(encoder, decoder, enc_in_test, dec_in_test, 'random', count=1, special_input=True, beam_search=True)"
      ],
      "execution_count": null,
      "outputs": [
        {
          "output_type": "stream",
          "text": [
            "100%|██████████| 1/1 [00:00<00:00, 12.94it/s]"
          ],
          "name": "stderr"
        },
        {
          "output_type": "stream",
          "text": [
            "\n",
            "Question: All zeros\n",
            "Actual answer: yes\n",
            "Predicted answer: yes\n"
          ],
          "name": "stdout"
        },
        {
          "output_type": "stream",
          "text": [
            "\n"
          ],
          "name": "stderr"
        }
      ]
    },
    {
      "cell_type": "code",
      "metadata": {
        "colab_type": "code",
        "id": "ORl4e2kMNXrB",
        "colab": {
          "base_uri": "https://localhost:8080/",
          "height": 50
        },
        "outputId": "5417bde6-2f87-4e0e-9f39-a6b5864fc51d"
      },
      "source": [
        "start_time = timer()\n",
        "predicted_answer_list, actual_answer_list = predict(encoder, decoder, enc_in_test, dec_in_test, 'corpus', beam_search=True)\n",
        "timer(start_time)"
      ],
      "execution_count": null,
      "outputs": [
        {
          "output_type": "stream",
          "text": [
            "100%|██████████| 1069/1069 [01:00<00:00, 17.56it/s]"
          ],
          "name": "stderr"
        },
        {
          "output_type": "stream",
          "text": [
            "Time taken: 0 hours 1 minutes and 0.9 seconds.\n"
          ],
          "name": "stdout"
        },
        {
          "output_type": "stream",
          "text": [
            "\n"
          ],
          "name": "stderr"
        }
      ]
    },
    {
      "cell_type": "markdown",
      "metadata": {
        "colab_type": "text",
        "id": "vqJKYgtqNnRE"
      },
      "source": [
        "##### 10.3.11. Restore the latest checkpoint and test (tf.keras.layers.Masking Layer)"
      ]
    },
    {
      "cell_type": "code",
      "metadata": {
        "colab_type": "code",
        "id": "-SuR8GknNnRF",
        "colab": {
          "base_uri": "https://localhost:8080/",
          "height": 34
        },
        "outputId": "349c478d-b65e-498a-dfa4-b69c27a4e8e8"
      },
      "source": [
        "# restoring the latest checkpoint in checkpoint_dir\n",
        "checkpoint.restore(tf.train.latest_checkpoint(checkpoint_dir))"
      ],
      "execution_count": null,
      "outputs": [
        {
          "output_type": "execute_result",
          "data": {
            "text/plain": [
              "<tensorflow.python.training.tracking.util.CheckpointLoadStatus at 0x7f10e2859f28>"
            ]
          },
          "metadata": {
            "tags": []
          },
          "execution_count": 32
        }
      ]
    },
    {
      "cell_type": "markdown",
      "metadata": {
        "colab_type": "text",
        "id": "ZDct7GYQNnRG"
      },
      "source": [
        "###### 10.3.11.1. Inference with greedy search"
      ]
    },
    {
      "cell_type": "code",
      "metadata": {
        "colab_type": "code",
        "id": "04iNYkDXO_67",
        "colab": {
          "base_uri": "https://localhost:8080/",
          "height": 683
        },
        "outputId": "9436b32b-2f5f-4d51-8f85-244d3ab88e8a"
      },
      "source": [
        "predict(encoder, decoder, enc_in_test, dec_in_test, 'random')"
      ],
      "execution_count": null,
      "outputs": [
        {
          "output_type": "stream",
          "text": [
            " 80%|████████  | 8/10 [00:00<00:00, 37.05it/s]"
          ],
          "name": "stderr"
        },
        {
          "output_type": "stream",
          "text": [
            "\n",
            "Question: how many cups dry rice\n",
            "Actual answer: for what\n",
            "Predicted answer: 8\n",
            "\n",
            "Question: ship to brazil\n",
            "Actual answer: yes\n",
            "Predicted answer: yes\n",
            "\n",
            "Question: does it play cd dvd\n",
            "Actual answer: yes\n",
            "Predicted answer: yes\n",
            "\n",
            "Question: are the handles removable\n",
            "Actual answer: no\n",
            "Predicted answer: yes\n",
            "\n",
            "Question: will it also work with a left hand exployer\n",
            "Actual answer: yes\n",
            "Predicted answer: yes\n",
            "\n",
            "Question: will it even work with a 18 55mm kit lens\n",
            "Actual answer: absolutely\n",
            "Predicted answer: yes\n",
            "\n",
            "Question: how far down does it hang from the ceiling\n",
            "Actual answer: 12 from ceiling\n",
            "Predicted answer: about inches inches\n",
            "\n",
            "Question: do the fingers break\n",
            "Actual answer: no\n",
            "Predicted answer: yes\n"
          ],
          "name": "stdout"
        },
        {
          "output_type": "stream",
          "text": [
            "\r100%|██████████| 10/10 [00:00<00:00, 36.41it/s]"
          ],
          "name": "stderr"
        },
        {
          "output_type": "stream",
          "text": [
            "\n",
            "Question: does this unit have a fan\n",
            "Actual answer: no\n",
            "Predicted answer: yes\n",
            "\n",
            "Question: where does it made\n",
            "Actual answer: made in china\n",
            "Predicted answer: china\n"
          ],
          "name": "stdout"
        },
        {
          "output_type": "stream",
          "text": [
            "\n"
          ],
          "name": "stderr"
        }
      ]
    },
    {
      "cell_type": "code",
      "metadata": {
        "colab_type": "code",
        "id": "SYbv4FOpRF2z",
        "colab": {
          "base_uri": "https://localhost:8080/",
          "height": 98
        },
        "outputId": "3baac89b-1ef3-4317-9f69-53a3a3ff04c8"
      },
      "source": [
        "predict(encoder, decoder, enc_in_test, dec_in_test, 'random', count=1, special_input=True)"
      ],
      "execution_count": null,
      "outputs": [
        {
          "output_type": "stream",
          "text": [
            "100%|██████████| 1/1 [00:00<00:00, 23.24it/s]"
          ],
          "name": "stderr"
        },
        {
          "output_type": "stream",
          "text": [
            "\n",
            "Question: All zeros\n",
            "Actual answer: yes\n",
            "Predicted answer: yes\n"
          ],
          "name": "stdout"
        },
        {
          "output_type": "stream",
          "text": [
            "\n"
          ],
          "name": "stderr"
        }
      ]
    },
    {
      "cell_type": "code",
      "metadata": {
        "colab_type": "code",
        "id": "Y2hy1hctO_6_",
        "colab": {
          "base_uri": "https://localhost:8080/",
          "height": 50
        },
        "outputId": "eb433eb7-90b3-418a-ecfc-424265ade7c2"
      },
      "source": [
        "start_time = timer()\n",
        "predicted_answer_list, actual_answer_list = predict(encoder, decoder, enc_in_test, dec_in_test, 'corpus')\n",
        "timer(start_time)"
      ],
      "execution_count": null,
      "outputs": [
        {
          "output_type": "stream",
          "text": [
            "100%|██████████| 1069/1069 [00:25<00:00, 41.76it/s]"
          ],
          "name": "stderr"
        },
        {
          "output_type": "stream",
          "text": [
            "Time taken: 0 hours 0 minutes and 25.6 seconds.\n"
          ],
          "name": "stdout"
        },
        {
          "output_type": "stream",
          "text": [
            "\n"
          ],
          "name": "stderr"
        }
      ]
    },
    {
      "cell_type": "markdown",
      "metadata": {
        "colab_type": "text",
        "id": "W-rw9qOXNnRJ"
      },
      "source": [
        "###### 10.3.11.2. Inference with beam search"
      ]
    },
    {
      "cell_type": "code",
      "metadata": {
        "colab_type": "code",
        "id": "GH0gIVhfRV7z",
        "colab": {
          "base_uri": "https://localhost:8080/"
        },
        "outputId": "97ecab9f-8245-4be5-c6c8-cb1ad9e3d822"
      },
      "source": [
        "predict(encoder, decoder, enc_in_test, dec_in_test, 'random', beam_search=True, count=10)"
      ],
      "execution_count": null,
      "outputs": [
        {
          "output_type": "stream",
          "text": [
            "\r  0%|          | 0/10 [00:00<?, ?it/s]"
          ],
          "name": "stderr"
        },
        {
          "output_type": "stream",
          "text": [
            "\n",
            "Question: is the black on black a shiny glossy black\n",
            "Actual answer: no\n",
            "Predicted answer: yes\n"
          ],
          "name": "stdout"
        },
        {
          "output_type": "stream",
          "text": [
            " 40%|████      | 4/10 [00:00<00:00, 17.73it/s]"
          ],
          "name": "stderr"
        },
        {
          "output_type": "stream",
          "text": [
            "\n",
            "Question: can it fit about 8 plants inside 7 gal pots\n",
            "Actual answer: yea no problem\n",
            "Predicted answer: yes\n",
            "\n",
            "Question: does it have 4 wheels\n",
            "Actual answer: yes 4 wheels\n",
            "Predicted answer: yes\n",
            "\n",
            "Question: how deep is it\n",
            "Actual answer: 20 inches\n",
            "Predicted answer: about\n",
            "\n",
            "Question: what size are the nipples for the coolant hose\n",
            "Actual answer: 5 8\n",
            "Predicted answer: 1\n"
          ],
          "name": "stdout"
        },
        {
          "output_type": "stream",
          "text": [
            " 80%|████████  | 8/10 [00:00<00:00, 18.01it/s]"
          ],
          "name": "stderr"
        },
        {
          "output_type": "stream",
          "text": [
            "\n",
            "Question: can i connect via bluetooth\n",
            "Actual answer: no bluetooth available\n",
            "Predicted answer: yes\n",
            "\n",
            "Question: what is the capacity of this carafe\n",
            "Actual answer: approximately 8 cups\n",
            "Predicted answer: 2\n",
            "\n",
            "Question: do we use filter for this coffee maker\n",
            "Actual answer: i do\n",
            "Predicted answer: yes\n",
            "\n",
            "Question: does this come with a monitor the description says 15 inches\n",
            "Actual answer: no\n",
            "Predicted answer: yes\n"
          ],
          "name": "stdout"
        },
        {
          "output_type": "stream",
          "text": [
            "100%|██████████| 10/10 [00:00<00:00, 17.91it/s]"
          ],
          "name": "stderr"
        },
        {
          "output_type": "stream",
          "text": [
            "\n",
            "Question: is the 3year warranty parts and labor included in this price\n",
            "Actual answer: yes\n",
            "Predicted answer: yes\n"
          ],
          "name": "stdout"
        },
        {
          "output_type": "stream",
          "text": [
            "\n"
          ],
          "name": "stderr"
        }
      ]
    },
    {
      "cell_type": "code",
      "metadata": {
        "colab_type": "code",
        "id": "xHS9CPVRRV71",
        "colab": {
          "base_uri": "https://localhost:8080/"
        },
        "outputId": "b5d29c95-e5c5-4d29-b230-c64041011f46"
      },
      "source": [
        "predict(encoder, decoder, enc_in_test, dec_in_test, 'random', count=1, special_input=True, beam_search=True)"
      ],
      "execution_count": null,
      "outputs": [
        {
          "output_type": "stream",
          "text": [
            "100%|██████████| 1/1 [00:00<00:00, 13.52it/s]"
          ],
          "name": "stderr"
        },
        {
          "output_type": "stream",
          "text": [
            "\n",
            "Question: All zeros\n",
            "Actual answer: no\n",
            "Predicted answer: yes\n"
          ],
          "name": "stdout"
        },
        {
          "output_type": "stream",
          "text": [
            "\n"
          ],
          "name": "stderr"
        }
      ]
    },
    {
      "cell_type": "code",
      "metadata": {
        "colab_type": "code",
        "id": "E_0vUDApRV72",
        "colab": {
          "base_uri": "https://localhost:8080/",
          "height": 50
        },
        "outputId": "1fa6793d-55ea-43a9-b360-76321599f4f8"
      },
      "source": [
        "start_time = timer()\n",
        "predicted_answer_list, actual_answer_list = predict(encoder, decoder, enc_in_test, dec_in_test, 'corpus', beam_search=True)\n",
        "timer(start_time)"
      ],
      "execution_count": null,
      "outputs": [
        {
          "output_type": "stream",
          "text": [
            "100%|██████████| 1069/1069 [00:59<00:00, 17.85it/s]"
          ],
          "name": "stderr"
        },
        {
          "output_type": "stream",
          "text": [
            "Time taken: 0 hours 0 minutes and 59.89 seconds.\n"
          ],
          "name": "stdout"
        },
        {
          "output_type": "stream",
          "text": [
            "\n"
          ],
          "name": "stderr"
        }
      ]
    },
    {
      "cell_type": "markdown",
      "metadata": {
        "colab_type": "text",
        "id": "KpQaiDa8NXrC"
      },
      "source": [
        "##### 10.3.12. Calculate BLEU Score (Custom Masking Layer)"
      ]
    },
    {
      "cell_type": "markdown",
      "metadata": {
        "colab_type": "text",
        "id": "wjdBTr8QNXrC"
      },
      "source": [
        "###### 10.3.12.1. With greedy search inference"
      ]
    },
    {
      "cell_type": "code",
      "metadata": {
        "colab_type": "code",
        "id": "PEzGL_lGNXrD",
        "colab": {
          "base_uri": "https://localhost:8080/",
          "height": 163
        },
        "outputId": "8ae9b824-dadc-44a4-b034-9c001f9e7cb2"
      },
      "source": [
        "start_time = timer()\n",
        "print('BLEU-1: %f' % corpus_bleu(actual_answer_list, predicted_answer_list, weights=(1.0, 0, 0, 0)))\n",
        "print('BLEU-2: %f' % corpus_bleu(actual_answer_list, predicted_answer_list, weights=(0.5, 0.5, 0, 0)))\n",
        "print('BLEU-3: %f' % corpus_bleu(actual_answer_list, predicted_answer_list, weights=(0.3, 0.3, 0.3, 0)))\n",
        "print('BLEU-4: %f' % corpus_bleu(actual_answer_list, predicted_answer_list, weights=(0.25, 0.25, 0.25, 0.25)))\n",
        "timer(start_time)"
      ],
      "execution_count": null,
      "outputs": [
        {
          "output_type": "stream",
          "text": [
            "BLEU-1: 0.272969\n",
            "BLEU-2: 0.060914\n",
            "BLEU-3: 0.033846\n",
            "BLEU-4: 0.055855\n",
            "Time taken: 0 hours 0 minutes and 0.15 seconds.\n"
          ],
          "name": "stdout"
        },
        {
          "output_type": "stream",
          "text": [
            "/usr/local/lib/python3.6/dist-packages/nltk/translate/bleu_score.py:490: UserWarning: \n",
            "Corpus/Sentence contains 0 counts of 4-gram overlaps.\n",
            "BLEU scores might be undesirable; use SmoothingFunction().\n",
            "  warnings.warn(_msg)\n"
          ],
          "name": "stderr"
        }
      ]
    },
    {
      "cell_type": "markdown",
      "metadata": {
        "colab_type": "text",
        "id": "5IsUIKzuNXrE"
      },
      "source": [
        "###### 10.3.12.2. With beam search inference"
      ]
    },
    {
      "cell_type": "code",
      "metadata": {
        "colab_type": "code",
        "id": "N_BkbnXmNXrE",
        "colab": {
          "base_uri": "https://localhost:8080/",
          "height": 163
        },
        "outputId": "a2b92d55-ebd4-45e1-91e4-a4301603a783"
      },
      "source": [
        "start_time = timer()\n",
        "print('BLEU-1: %f' % corpus_bleu(actual_answer_list, predicted_answer_list, weights=(1.0, 0, 0, 0)))\n",
        "print('BLEU-2: %f' % corpus_bleu(actual_answer_list, predicted_answer_list, weights=(0.5, 0.5, 0, 0)))\n",
        "print('BLEU-3: %f' % corpus_bleu(actual_answer_list, predicted_answer_list, weights=(0.3, 0.3, 0.3, 0)))\n",
        "print('BLEU-4: %f' % corpus_bleu(actual_answer_list, predicted_answer_list, weights=(0.25, 0.25, 0.25, 0.25)))\n",
        "timer(start_time)"
      ],
      "execution_count": null,
      "outputs": [
        {
          "output_type": "stream",
          "text": [
            "/usr/local/lib/python3.6/dist-packages/nltk/translate/bleu_score.py:490: UserWarning: \n",
            "Corpus/Sentence contains 0 counts of 2-gram overlaps.\n",
            "BLEU scores might be undesirable; use SmoothingFunction().\n",
            "  warnings.warn(_msg)\n"
          ],
          "name": "stderr"
        },
        {
          "output_type": "stream",
          "text": [
            "BLEU-1: 0.203530\n",
            "BLEU-2: 0.296417\n",
            "BLEU-3: 0.344518\n",
            "BLEU-4: 0.357717\n",
            "Time taken: 0 hours 0 minutes and 0.15 seconds.\n"
          ],
          "name": "stdout"
        }
      ]
    },
    {
      "cell_type": "markdown",
      "metadata": {
        "colab_type": "text",
        "id": "ABmtxeTrNnRP"
      },
      "source": [
        "##### 10.3.13. Calculate BLEU Score (tf.keras.layers.Masking Layer)"
      ]
    },
    {
      "cell_type": "markdown",
      "metadata": {
        "colab_type": "text",
        "id": "V8DRB-1ZNnRP"
      },
      "source": [
        "###### 10.3.13.1. With greedy search inference"
      ]
    },
    {
      "cell_type": "code",
      "metadata": {
        "colab_type": "code",
        "id": "nuULBcylP0vr",
        "colab": {
          "base_uri": "https://localhost:8080/",
          "height": 163
        },
        "outputId": "77b28a35-4c4d-4e2a-81e4-2d3c4cd107ea"
      },
      "source": [
        "start_time = timer()\n",
        "print('BLEU-1: %f' % corpus_bleu(actual_answer_list, predicted_answer_list, weights=(1.0, 0, 0, 0)))\n",
        "print('BLEU-2: %f' % corpus_bleu(actual_answer_list, predicted_answer_list, weights=(0.5, 0.5, 0, 0)))\n",
        "print('BLEU-3: %f' % corpus_bleu(actual_answer_list, predicted_answer_list, weights=(0.3, 0.3, 0.3, 0)))\n",
        "print('BLEU-4: %f' % corpus_bleu(actual_answer_list, predicted_answer_list, weights=(0.25, 0.25, 0.25, 0.25)))\n",
        "timer(start_time)"
      ],
      "execution_count": null,
      "outputs": [
        {
          "output_type": "stream",
          "text": [
            "/usr/local/lib/python3.6/dist-packages/nltk/translate/bleu_score.py:490: UserWarning: \n",
            "Corpus/Sentence contains 0 counts of 3-gram overlaps.\n",
            "BLEU scores might be undesirable; use SmoothingFunction().\n",
            "  warnings.warn(_msg)\n"
          ],
          "name": "stderr"
        },
        {
          "output_type": "stream",
          "text": [
            "BLEU-1: 0.243275\n",
            "BLEU-2: 0.028968\n",
            "BLEU-3: 0.093048\n",
            "BLEU-4: 0.124567\n",
            "Time taken: 0 hours 0 minutes and 0.14 seconds.\n"
          ],
          "name": "stdout"
        }
      ]
    },
    {
      "cell_type": "markdown",
      "metadata": {
        "colab_type": "text",
        "id": "qa5evwm_NnRQ"
      },
      "source": [
        "###### 10.3.13.2. With beam search inference"
      ]
    },
    {
      "cell_type": "code",
      "metadata": {
        "colab_type": "code",
        "id": "pPpqb4_BRpZd",
        "colab": {
          "base_uri": "https://localhost:8080/",
          "height": 163
        },
        "outputId": "57701e2b-fea2-472c-8b8c-c4704ef2d131"
      },
      "source": [
        "start_time = timer()\n",
        "print('BLEU-1: %f' % corpus_bleu(actual_answer_list, predicted_answer_list, weights=(1.0, 0, 0, 0)))\n",
        "print('BLEU-2: %f' % corpus_bleu(actual_answer_list, predicted_answer_list, weights=(0.5, 0.5, 0, 0)))\n",
        "print('BLEU-3: %f' % corpus_bleu(actual_answer_list, predicted_answer_list, weights=(0.3, 0.3, 0.3, 0)))\n",
        "print('BLEU-4: %f' % corpus_bleu(actual_answer_list, predicted_answer_list, weights=(0.25, 0.25, 0.25, 0.25)))\n",
        "timer(start_time)"
      ],
      "execution_count": null,
      "outputs": [
        {
          "output_type": "stream",
          "text": [
            "/usr/local/lib/python3.6/dist-packages/nltk/translate/bleu_score.py:490: UserWarning: \n",
            "Corpus/Sentence contains 0 counts of 2-gram overlaps.\n",
            "BLEU scores might be undesirable; use SmoothingFunction().\n",
            "  warnings.warn(_msg)\n"
          ],
          "name": "stderr"
        },
        {
          "output_type": "stream",
          "text": [
            "BLEU-1: 0.207569\n",
            "BLEU-2: 0.299343\n",
            "BLEU-3: 0.346555\n",
            "BLEU-4: 0.359478\n",
            "Time taken: 0 hours 0 minutes and 0.14 seconds.\n"
          ],
          "name": "stdout"
        }
      ]
    },
    {
      "cell_type": "markdown",
      "metadata": {
        "colab_type": "text",
        "id": "44V1OJNM87tN"
      },
      "source": [
        "##### 10.3.12. TensorBoard"
      ]
    },
    {
      "cell_type": "code",
      "metadata": {
        "colab_type": "code",
        "id": "AeHsf-Bm87tN",
        "colab": {}
      },
      "source": [
        "# Code to zip the logs\n",
        "!zip -rqq logs.zip logs"
      ],
      "execution_count": null,
      "outputs": []
    },
    {
      "cell_type": "code",
      "metadata": {
        "id": "MblaqrgoPC-Y",
        "colab_type": "code",
        "colab": {
          "base_uri": "https://localhost:8080/",
          "height": 621
        },
        "outputId": "0210d8ec-327b-44d0-81dd-188d8e4d2b07"
      },
      "source": [
        "!tar cvzf logs.tar.gz logs/"
      ],
      "execution_count": null,
      "outputs": [
        {
          "output_type": "stream",
          "text": [
            "logs/\n",
            "logs/gradient_tape/\n",
            "logs/gradient_tape/20200804-123625/\n",
            "logs/gradient_tape/20200804-123625/baseline_mask/\n",
            "logs/gradient_tape/20200804-123625/baseline_mask/events.out.tfevents.1596544585.6653b19621ce.196.1170266.v2\n",
            "logs/gradient_tape/20200804-123625/baseline_mask/events.out.tfevents.1596550972.6653b19621ce.profile-empty\n",
            "logs/gradient_tape/20200804-123625/baseline_mask/plugins/\n",
            "logs/gradient_tape/20200804-123625/baseline_mask/plugins/profile/\n",
            "logs/gradient_tape/20200804-123625/baseline_mask/plugins/profile/2020-08-04_14-22-52/\n",
            "logs/gradient_tape/20200804-123625/baseline_mask/plugins/profile/2020-08-04_14-22-52/local.trace\n",
            "logs/gradient_tape/20200804-162753/\n",
            "logs/gradient_tape/20200804-162753/attention_two/\n",
            "logs/gradient_tape/20200804-162753/attention_two/events.out.tfevents.1596565734.6653b19621ce.profile-empty\n",
            "logs/gradient_tape/20200804-162753/attention_two/plugins/\n",
            "logs/gradient_tape/20200804-162753/attention_two/plugins/profile/\n",
            "logs/gradient_tape/20200804-162753/attention_two/plugins/profile/2020-08-04_18-28-54/\n",
            "logs/gradient_tape/20200804-162753/attention_two/plugins/profile/2020-08-04_18-28-54/local.trace\n",
            "logs/gradient_tape/20200804-162753/attention_two/events.out.tfevents.1596558473.6653b19621ce.196.4355710.v2\n",
            "logs/gradient_tape/20200804-142523/\n",
            "logs/gradient_tape/20200804-142523/attention_one/\n",
            "logs/gradient_tape/20200804-142523/attention_one/events.out.tfevents.1596558307.6653b19621ce.profile-empty\n",
            "logs/gradient_tape/20200804-142523/attention_one/plugins/\n",
            "logs/gradient_tape/20200804-142523/attention_one/plugins/profile/\n",
            "logs/gradient_tape/20200804-142523/attention_one/plugins/profile/2020-08-04_16-25-07/\n",
            "logs/gradient_tape/20200804-142523/attention_one/plugins/profile/2020-08-04_16-25-07/local.trace\n",
            "logs/gradient_tape/20200804-142523/attention_one/events.out.tfevents.1596551123.6653b19621ce.196.2609577.v2\n",
            "logs/gradient_tape/20200804-102010/\n",
            "logs/gradient_tape/20200804-102010/baseline/\n",
            "logs/gradient_tape/20200804-102010/baseline/events.out.tfevents.1596536410.6653b19621ce.196.11641.v2\n",
            "logs/gradient_tape/20200804-102010/baseline/plugins/\n",
            "logs/gradient_tape/20200804-102010/baseline/plugins/profile/\n",
            "logs/gradient_tape/20200804-102010/baseline/plugins/profile/2020-08-04_12-07-21/\n",
            "logs/gradient_tape/20200804-102010/baseline/plugins/profile/2020-08-04_12-07-21/local.trace\n",
            "logs/gradient_tape/20200804-102010/baseline/events.out.tfevents.1596542841.6653b19621ce.profile-empty\n"
          ],
          "name": "stdout"
        }
      ]
    },
    {
      "cell_type": "code",
      "metadata": {
        "colab_type": "code",
        "id": "qcWe-zKg87tP",
        "colab": {}
      },
      "source": [
        "# Code to download logs zip\n",
        "try:\n",
        "  from google.colab import files\n",
        "except ImportError:\n",
        "   pass\n",
        "else:\n",
        "  files.download('logs.zip')"
      ],
      "execution_count": null,
      "outputs": []
    },
    {
      "cell_type": "code",
      "metadata": {
        "colab_type": "code",
        "id": "PYKaBYQb87tU",
        "colab": {
          "base_uri": "https://localhost:8080/",
          "height": 51
        },
        "outputId": "99116096-de8d-408b-d3fd-d4dd0598d3c5"
      },
      "source": [
        "# Load the TensorBoard notebook extension\n",
        "%load_ext tensorboard"
      ],
      "execution_count": null,
      "outputs": [
        {
          "output_type": "stream",
          "text": [
            "The tensorboard extension is already loaded. To reload it, use:\n",
            "  %reload_ext tensorboard\n"
          ],
          "name": "stdout"
        }
      ]
    },
    {
      "cell_type": "code",
      "metadata": {
        "colab_type": "code",
        "id": "yzCTb8H187tY",
        "colab": {}
      },
      "source": [
        "%tensorboard --logdir logs/gradient_tape/20200719-064637/attention_one/"
      ],
      "execution_count": null,
      "outputs": []
    },
    {
      "cell_type": "markdown",
      "metadata": {
        "id": "_x7pQj0hye1U",
        "colab_type": "text"
      },
      "source": [
        "#### 11. Model inferencing"
      ]
    },
    {
      "cell_type": "code",
      "metadata": {
        "id": "Y1kwGNZmHAnZ",
        "colab_type": "code",
        "colab": {
          "base_uri": "https://localhost:8080/",
          "height": 1000
        },
        "outputId": "abc2d6fb-ee5a-4a11-efb8-c8f2b24ebc5f"
      },
      "source": [
        "!python ./src/main.py \"Does this product come with any of the support tools or not?\""
      ],
      "execution_count": null,
      "outputs": [
        {
          "output_type": "stream",
          "text": [
            "2020-08-04 19:32:18.441419: I tensorflow/stream_executor/platform/default/dso_loader.cc:48] Successfully opened dynamic library libcudart.so.10.1\n",
            "2020-08-04 19:32:25.202700: I tensorflow/stream_executor/platform/default/dso_loader.cc:48] Successfully opened dynamic library libcuda.so.1\n",
            "2020-08-04 19:32:25.208868: I tensorflow/stream_executor/cuda/cuda_gpu_executor.cc:982] successful NUMA node read from SysFS had negative value (-1), but there must be at least one NUMA node, so returning NUMA node zero\n",
            "2020-08-04 19:32:25.209408: I tensorflow/core/common_runtime/gpu/gpu_device.cc:1716] Found device 0 with properties: \n",
            "pciBusID: 0000:00:04.0 name: Tesla T4 computeCapability: 7.5\n",
            "coreClock: 1.59GHz coreCount: 40 deviceMemorySize: 14.73GiB deviceMemoryBandwidth: 298.08GiB/s\n",
            "2020-08-04 19:32:25.209447: I tensorflow/stream_executor/platform/default/dso_loader.cc:48] Successfully opened dynamic library libcudart.so.10.1\n",
            "2020-08-04 19:32:25.250280: I tensorflow/stream_executor/platform/default/dso_loader.cc:48] Successfully opened dynamic library libcublas.so.10\n",
            "2020-08-04 19:32:25.257955: I tensorflow/stream_executor/platform/default/dso_loader.cc:48] Successfully opened dynamic library libcufft.so.10\n",
            "2020-08-04 19:32:25.266020: I tensorflow/stream_executor/platform/default/dso_loader.cc:48] Successfully opened dynamic library libcurand.so.10\n",
            "2020-08-04 19:32:25.276275: I tensorflow/stream_executor/platform/default/dso_loader.cc:48] Successfully opened dynamic library libcusolver.so.10\n",
            "2020-08-04 19:32:25.288307: I tensorflow/stream_executor/platform/default/dso_loader.cc:48] Successfully opened dynamic library libcusparse.so.10\n",
            "2020-08-04 19:32:25.314590: I tensorflow/stream_executor/platform/default/dso_loader.cc:48] Successfully opened dynamic library libcudnn.so.7\n",
            "2020-08-04 19:32:25.314746: I tensorflow/stream_executor/cuda/cuda_gpu_executor.cc:982] successful NUMA node read from SysFS had negative value (-1), but there must be at least one NUMA node, so returning NUMA node zero\n",
            "2020-08-04 19:32:25.315352: I tensorflow/stream_executor/cuda/cuda_gpu_executor.cc:982] successful NUMA node read from SysFS had negative value (-1), but there must be at least one NUMA node, so returning NUMA node zero\n",
            "2020-08-04 19:32:25.315818: I tensorflow/core/common_runtime/gpu/gpu_device.cc:1858] Adding visible gpu devices: 0\n",
            "2020-08-04 19:32:25.316191: I tensorflow/core/platform/cpu_feature_guard.cc:142] This TensorFlow binary is optimized with oneAPI Deep Neural Network Library (oneDNN) to use the following CPU instructions in performance-critical operations:  AVX2 FMA\n",
            "To enable them in other operations, rebuild TensorFlow with the appropriate compiler flags.\n",
            "2020-08-04 19:32:25.322164: I tensorflow/core/platform/profile_utils/cpu_utils.cc:104] CPU Frequency: 2200000000 Hz\n",
            "2020-08-04 19:32:25.322378: I tensorflow/compiler/xla/service/service.cc:168] XLA service 0x1b12f40 initialized for platform Host (this does not guarantee that XLA will be used). Devices:\n",
            "2020-08-04 19:32:25.322412: I tensorflow/compiler/xla/service/service.cc:176]   StreamExecutor device (0): Host, Default Version\n",
            "2020-08-04 19:32:25.432327: I tensorflow/stream_executor/cuda/cuda_gpu_executor.cc:982] successful NUMA node read from SysFS had negative value (-1), but there must be at least one NUMA node, so returning NUMA node zero\n",
            "2020-08-04 19:32:25.432937: I tensorflow/compiler/xla/service/service.cc:168] XLA service 0x1b13100 initialized for platform CUDA (this does not guarantee that XLA will be used). Devices:\n",
            "2020-08-04 19:32:25.432979: I tensorflow/compiler/xla/service/service.cc:176]   StreamExecutor device (0): Tesla T4, Compute Capability 7.5\n",
            "2020-08-04 19:32:25.433166: I tensorflow/stream_executor/cuda/cuda_gpu_executor.cc:982] successful NUMA node read from SysFS had negative value (-1), but there must be at least one NUMA node, so returning NUMA node zero\n",
            "2020-08-04 19:32:25.433635: I tensorflow/core/common_runtime/gpu/gpu_device.cc:1716] Found device 0 with properties: \n",
            "pciBusID: 0000:00:04.0 name: Tesla T4 computeCapability: 7.5\n",
            "coreClock: 1.59GHz coreCount: 40 deviceMemorySize: 14.73GiB deviceMemoryBandwidth: 298.08GiB/s\n",
            "2020-08-04 19:32:25.433679: I tensorflow/stream_executor/platform/default/dso_loader.cc:48] Successfully opened dynamic library libcudart.so.10.1\n",
            "2020-08-04 19:32:25.433718: I tensorflow/stream_executor/platform/default/dso_loader.cc:48] Successfully opened dynamic library libcublas.so.10\n",
            "2020-08-04 19:32:25.433739: I tensorflow/stream_executor/platform/default/dso_loader.cc:48] Successfully opened dynamic library libcufft.so.10\n",
            "2020-08-04 19:32:25.433760: I tensorflow/stream_executor/platform/default/dso_loader.cc:48] Successfully opened dynamic library libcurand.so.10\n",
            "2020-08-04 19:32:25.433781: I tensorflow/stream_executor/platform/default/dso_loader.cc:48] Successfully opened dynamic library libcusolver.so.10\n",
            "2020-08-04 19:32:25.433802: I tensorflow/stream_executor/platform/default/dso_loader.cc:48] Successfully opened dynamic library libcusparse.so.10\n",
            "2020-08-04 19:32:25.433823: I tensorflow/stream_executor/platform/default/dso_loader.cc:48] Successfully opened dynamic library libcudnn.so.7\n",
            "2020-08-04 19:32:25.433907: I tensorflow/stream_executor/cuda/cuda_gpu_executor.cc:982] successful NUMA node read from SysFS had negative value (-1), but there must be at least one NUMA node, so returning NUMA node zero\n",
            "2020-08-04 19:32:25.434375: I tensorflow/stream_executor/cuda/cuda_gpu_executor.cc:982] successful NUMA node read from SysFS had negative value (-1), but there must be at least one NUMA node, so returning NUMA node zero\n",
            "2020-08-04 19:32:25.434795: I tensorflow/core/common_runtime/gpu/gpu_device.cc:1858] Adding visible gpu devices: 0\n",
            "2020-08-04 19:32:25.434845: I tensorflow/stream_executor/platform/default/dso_loader.cc:48] Successfully opened dynamic library libcudart.so.10.1\n",
            "2020-08-04 19:32:26.186467: I tensorflow/core/common_runtime/gpu/gpu_device.cc:1257] Device interconnect StreamExecutor with strength 1 edge matrix:\n",
            "2020-08-04 19:32:26.186524: I tensorflow/core/common_runtime/gpu/gpu_device.cc:1263]      0 \n",
            "2020-08-04 19:32:26.186536: I tensorflow/core/common_runtime/gpu/gpu_device.cc:1276] 0:   N \n",
            "2020-08-04 19:32:26.186737: I tensorflow/stream_executor/cuda/cuda_gpu_executor.cc:982] successful NUMA node read from SysFS had negative value (-1), but there must be at least one NUMA node, so returning NUMA node zero\n",
            "2020-08-04 19:32:26.187276: I tensorflow/stream_executor/cuda/cuda_gpu_executor.cc:982] successful NUMA node read from SysFS had negative value (-1), but there must be at least one NUMA node, so returning NUMA node zero\n",
            "2020-08-04 19:32:26.187696: W tensorflow/core/common_runtime/gpu/gpu_bfc_allocator.cc:39] Overriding allow_growth setting because the TF_FORCE_GPU_ALLOW_GROWTH environment variable is set. Original config value was 0.\n",
            "2020-08-04 19:32:26.187736: I tensorflow/core/common_runtime/gpu/gpu_device.cc:1402] Created TensorFlow device (/job:localhost/replica:0/task:0/device:GPU:0 with 9470 MB memory) -> physical GPU (device: 0, name: Tesla T4, pci bus id: 0000:00:04.0, compute capability: 7.5)\n",
            "2020-08-04 19:32:26.251760: W tensorflow/core/framework/cpu_allocator_impl.cc:81] Allocation of 49676400 exceeds 10% of free system memory.\n",
            "2020-08-04 19:32:26.414216: W tensorflow/core/framework/cpu_allocator_impl.cc:81] Allocation of 16777216 exceeds 10% of free system memory.\n",
            "2020-08-04 19:32:26.428428: W tensorflow/core/framework/cpu_allocator_impl.cc:81] Allocation of 16777216 exceeds 10% of free system memory.\n",
            "2020-08-04 19:32:26.440851: W tensorflow/core/framework/cpu_allocator_impl.cc:81] Allocation of 16777216 exceeds 10% of free system memory.\n",
            "2020-08-04 19:32:26.501055: I tensorflow/stream_executor/platform/default/dso_loader.cc:48] Successfully opened dynamic library libcudnn.so.7\n",
            "2020-08-04 19:32:28.245072: I tensorflow/stream_executor/platform/default/dso_loader.cc:48] Successfully opened dynamic library libcublas.so.10\n",
            "2020-08-04 19:32:28.612383: W tensorflow/core/framework/cpu_allocator_impl.cc:81] Allocation of 49676400 exceeds 10% of free system memory.\n",
            "---- Without Beam Search ----\n",
            "Original Question: Does this product come with any of the support tools or not?\n",
            "Predicted Answer: no\n",
            "Time taken: 0 hours 0 minutes and 3.14 seconds.\n",
            "---- With Beam Search ----\n",
            "Original Question: Does this product come with any of the support tools or not?\n",
            "Predicted Answer: no\n",
            "Time taken: 0 hours 0 minutes and 0.05 seconds.\n",
            "WARNING:tensorflow:Unresolved object in checkpoint: (root).optimizer.iter\n",
            "WARNING:tensorflow:Unresolved object in checkpoint: (root).optimizer.beta_1\n",
            "WARNING:tensorflow:Unresolved object in checkpoint: (root).optimizer.beta_2\n",
            "WARNING:tensorflow:Unresolved object in checkpoint: (root).optimizer.decay\n",
            "WARNING:tensorflow:Unresolved object in checkpoint: (root).optimizer.learning_rate\n",
            "WARNING:tensorflow:A checkpoint was restored (e.g. tf.train.Checkpoint.restore or tf.keras.Model.load_weights) but not all checkpointed values were used. See above for specific issues. Use expect_partial() on the load status object, e.g. tf.train.Checkpoint.restore(...).expect_partial(), to silence these warnings, or use assert_consumed() to make the check explicit. See https://www.tensorflow.org/guide/checkpoint#loading_mechanics for details.\n"
          ],
          "name": "stdout"
        }
      ]
    }
  ]
}