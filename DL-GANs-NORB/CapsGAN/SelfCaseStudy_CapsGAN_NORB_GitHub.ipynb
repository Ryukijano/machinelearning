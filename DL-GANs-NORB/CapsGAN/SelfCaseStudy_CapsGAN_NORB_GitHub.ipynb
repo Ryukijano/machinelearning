{
  "nbformat": 4,
  "nbformat_minor": 0,
  "metadata": {
    "kernelspec": {
      "display_name": "Python 3",
      "language": "python",
      "name": "python3"
    },
    "language_info": {
      "codemirror_mode": {
        "name": "ipython",
        "version": 3
      },
      "file_extension": ".py",
      "mimetype": "text/x-python",
      "name": "python",
      "nbconvert_exporter": "python",
      "pygments_lexer": "ipython3",
      "version": "3.5.0"
    },
    "colab": {
      "name": "SelfCaseStudy_CapsGAN_NORB_GitHub.ipynb",
      "provenance": [],
      "include_colab_link": true
    },
    "accelerator": "GPU"
  },
  "cells": [
    {
      "cell_type": "markdown",
      "metadata": {
        "id": "view-in-github",
        "colab_type": "text"
      },
      "source": [
        "<a href=\"https://colab.research.google.com/github/hsomaiya/machinelearning/blob/master/DL-GANs-NORB/CapsGAN/SelfCaseStudy_CapsGAN_NORB_GitHub.ipynb\" target=\"_parent\"><img src=\"https://colab.research.google.com/assets/colab-badge.svg\" alt=\"Open In Colab\"/></a>"
      ]
    },
    {
      "cell_type": "code",
      "metadata": {
        "id": "1qEbU1UN1H3h",
        "colab_type": "code",
        "colab": {}
      },
      "source": [
        "# math libraries\n",
        "import numpy as np\n",
        "\n",
        "# ml libraries\n",
        "import tensorflow as tf # '2.2.0'\n",
        "from keras import layers, models, optimizers\n",
        "from keras import backend as K\n",
        "from keras.utils import to_categorical\n",
        "from keras.layers import Input, Dense, Reshape, Flatten, Dropout, Lambda, Concatenate, Multiply\n",
        "from keras.layers import BatchNormalization, Activation, ZeroPadding2D\n",
        "from keras.layers.advanced_activations import LeakyReLU\n",
        "from keras.layers.convolutional import UpSampling2D, Conv2D, Conv2DTranspose \n",
        "from keras.models import Sequential, Model\n",
        "from keras.optimizers import Adam\n",
        "from keras.preprocessing.image import ImageDataGenerator\n",
        "from keras import callbacks\n",
        "\n",
        "# dataset\n",
        "import tensorflow_datasets as tfds\n",
        "\n",
        "# visualization\n",
        "import skimage\n",
        "from skimage import data, color, exposure\n",
        "from skimage.transform import resize\n",
        "import matplotlib.pyplot as plt\n",
        "%matplotlib inline\n",
        "\n",
        "# sys and helpers\n",
        "import sys\n",
        "import os\n",
        "import glob\n",
        "from tqdm import tqdm\n",
        "from datetime import datetime"
      ],
      "execution_count": null,
      "outputs": []
    },
    {
      "cell_type": "code",
      "metadata": {
        "id": "zRja73PauNVS",
        "colab_type": "code",
        "colab": {}
      },
      "source": [
        "# device check\n",
        "from tensorflow.python.client import device_lib\n",
        "print('Devices:', device_lib.list_local_devices())\n",
        "\n",
        "# GPU check\n",
        "if not tf.test.gpu_device_name():\n",
        "    print('No GPU found.')\n",
        "else:\n",
        "    print('Default GPU Device: {}'.format(tf.test.gpu_device_name()))"
      ],
      "execution_count": null,
      "outputs": []
    },
    {
      "cell_type": "code",
      "metadata": {
        "id": "Ar2rqa-K2Dzl",
        "colab_type": "code",
        "colab": {}
      },
      "source": [
        "os.chdir('/content')"
      ],
      "execution_count": null,
      "outputs": []
    },
    {
      "cell_type": "code",
      "metadata": {
        "id": "nKJGexZOuD1z",
        "colab_type": "code",
        "colab": {}
      },
      "source": [
        "def timer(start_time=None):\n",
        "  if not start_time:\n",
        "      start_time = datetime.now()\n",
        "      return start_time\n",
        "  elif start_time:\n",
        "      thour, temp_sec = divmod((datetime.now() - start_time).total_seconds(), 3600)\n",
        "      tmin, tsec = divmod(temp_sec, 60)\n",
        "      print('Time taken: %i hours %i minutes and %s seconds.' % (thour, tmin, round(tsec, 2)))"
      ],
      "execution_count": null,
      "outputs": []
    },
    {
      "cell_type": "markdown",
      "metadata": {
        "id": "L2aeyvaF1H3k",
        "colab_type": "text"
      },
      "source": [
        "# Loading the data"
      ]
    },
    {
      "cell_type": "code",
      "metadata": {
        "id": "-71v-As61H3l",
        "colab_type": "code",
        "colab": {}
      },
      "source": [
        "def load_dataset(dataset, width, height, channels, class_label_list=None):\n",
        "  if dataset == 'smallnorb':\n",
        "      # load smallnorb dataset\n",
        "      X_train, y_train = tfds.as_numpy(tfds.load(\n",
        "                        'smallnorb',\n",
        "                        split='train', \n",
        "                        batch_size=-1, \n",
        "                        as_supervised=True,\n",
        "                    ))\n",
        "      \n",
        "      if class_label_list:\n",
        "          uniq_levels = np.unique(y_train)\n",
        "          uniq_counts = {level: sum(y_train == level) for level in uniq_levels}\n",
        "          # find observation index of each class levels\n",
        "          groupby_levels = {}\n",
        "          for ii, level in enumerate(uniq_levels):\n",
        "              obs_idx = [idx for idx, val in enumerate(y_train) if val == level]\n",
        "              groupby_levels[level] = obs_idx\n",
        "\n",
        "          copy_idx = []\n",
        "          for class_label in class_label_list:\n",
        "            copy_idx = copy_idx + groupby_levels.get(class_label)\n",
        "\n",
        "          X_train = X_train[copy_idx]\n",
        "\n",
        "      X_train = (X_train.astype(np.float32) - 127.5) / 127.5\n",
        "        \n",
        "  # defining input dims\n",
        "  img_rows = width\n",
        "  img_cols = height\n",
        "  channels = channels\n",
        "  img_shape = [img_rows, img_cols, channels]\n",
        "\n",
        "  return X_train, img_shape\n",
        "    \n",
        "\n",
        "dataset, shape = load_dataset('smallnorb', 96, 96, 1, [4])\n",
        "print('Dataset shape: {0}, Image shape: {1}'.format(dataset.shape, shape))"
      ],
      "execution_count": null,
      "outputs": []
    },
    {
      "cell_type": "code",
      "metadata": {
        "id": "kwzLU0VQ3XcI",
        "colab_type": "code",
        "colab": {
          "base_uri": "https://localhost:8080/",
          "height": 269
        },
        "outputId": "a10a5235-c6ab-4cda-b0b1-c84e923937f8"
      },
      "source": [
        "# plot first few images\n",
        "for i in range(9):\n",
        "\t# define subplot\n",
        "\tplt.subplot(330 + 1 + i)\n",
        "\t# plot raw pixel data\n",
        "\tplt.imshow(test_img[i,:,:,0], cmap=plt.get_cmap('gray'))\n",
        "# show the figure\n",
        "plt.show()"
      ],
      "execution_count": null,
      "outputs": [
        {
          "output_type": "display_data",
          "data": {
            "image/png": "[encoded data removed]",
            "text/plain": [
              "<Figure size 432x288 with 9 Axes>"
            ]
          },
          "metadata": {
            "tags": [],
            "needs_background": "light"
          }
        }
      ]
    },
    {
      "cell_type": "markdown",
      "metadata": {
        "id": "s-vvxBk31H3n",
        "colab_type": "text"
      },
      "source": [
        "## Helper functions for Capsule layers"
      ]
    },
    {
      "cell_type": "code",
      "metadata": {
        "id": "xZiT1MeA1H3n",
        "colab_type": "code",
        "colab": {}
      },
      "source": [
        "# squash function of capsule layers, borrowed from Xifeng Guo's implementation of Keras CapsNet `https://github.com/XifengGuo/CapsNet-Keras`\n",
        "def squash(vectors, axis=-1):\n",
        "    \"\"\"\n",
        "    The non-linear activation used in Capsule. It drives the length of a large vector to near 1 and small vector to 0\n",
        "    :param vectors: some vectors to be squashed, N-dim tensor\n",
        "    :param axis: the axis to squash\n",
        "    :return: a Tensor with same shape as input vectors\n",
        "    \"\"\"\n",
        "    s_squared_norm = K.sum(K.square(vectors), axis, keepdims=True)\n",
        "    scale = s_squared_norm / (1 + s_squared_norm) / K.sqrt(s_squared_norm + K.epsilon())\n",
        "    return scale * vectors"
      ],
      "execution_count": null,
      "outputs": []
    },
    {
      "cell_type": "markdown",
      "metadata": {
        "id": "Y_tvwESe1H3p",
        "colab_type": "text"
      },
      "source": [
        "## Defining the model"
      ]
    },
    {
      "cell_type": "code",
      "metadata": {
        "id": "C_vyWDLO1H3p",
        "colab_type": "code",
        "colab": {}
      },
      "source": [
        "# discriminator structure\n",
        "def build_discriminator():\n",
        "\n",
        "    \"\"\"\n",
        "    This is the part my 'Capsule Layer as a Discriminator in Generative Adversarial Networks' paper focuses on,\n",
        "    as it introduces a new structure to the discriminator of DCGAN by using Capsule Layers architecture from original\n",
        "    'Dynamic Routing Between Capsules' paper by S. Sabour, N. Frosst and G. Hinton.\n",
        "    \n",
        "    Discriminator takes real/generated images and outputs its prediction.\n",
        "    \"\"\"\n",
        "\n",
        "    # depending on dataset we define input shape for our network\n",
        "    img = Input(shape=(shape[0], shape[1], shape[2]))\n",
        "\n",
        "    # first typical convlayer outputs a 20x20x256 matrix\n",
        "    x = Conv2D(filters=256, kernel_size=9, strides=1, padding='valid', name='conv1')(img)\n",
        "    x = LeakyReLU()(x)\n",
        "    \n",
        "    # original 'Dynamic Routing Between Capsules' paper does not include the batch norm layer after the first conv group\n",
        "    x = BatchNormalization(momentum=0.8)(x)\n",
        "\n",
        "    \n",
        "    \"\"\"\n",
        "    NOTE: Capsule architecture starts from here.\n",
        "    \"\"\"\n",
        "    #\n",
        "    # primarycaps coming first\n",
        "    #\n",
        "    \n",
        "    # filters 256 (n_vectors=8 * channels=32)\n",
        "    x = Conv2D(filters=8 * 32, kernel_size=9, strides=2, padding='valid', name='primarycap_conv2')(x)\n",
        "    \n",
        "    # reshape into the 8D vector for all 32 feature maps combined\n",
        "    # (primary capsule has collections of activations which denote orientation of the digit\n",
        "    # while intensity of the vector which denotes the presence of the digit)\n",
        "    x = Reshape(target_shape=[-1, 8], name='primarycap_reshape')(x)\n",
        "    \n",
        "    # the purpose is to output a number between 0 and 1 for each capsule where the length of the input decides the amount\n",
        "    x = Lambda(squash, name='primarycap_squash')(x)\n",
        "    x = BatchNormalization(momentum=0.8)(x)\n",
        "\n",
        "\n",
        "    #\n",
        "    # digitcaps are here\n",
        "    #\n",
        "    \"\"\"\n",
        "    NOTE: My approach is a simplified version of digitcaps i.e. without expanding dimensions into\n",
        "    [None, 1, input_n_vectors, input_dim_capsule (feature maps)]\n",
        "    and tiling it into [None, num_capsule, input_n_vectors, input_dim_capsule (feature maps)].\n",
        "    Instead I replace it with ordinary Keras Dense layers as weight holders in the following lines.\n",
        "    \n",
        "    ANY CORRECTIONS ARE APPRECIATED IN THIS PART, PLEASE SUBMIT PULL REQUESTS!\n",
        "    \"\"\"\n",
        "    x = Flatten()(x)\n",
        "    # capsule (i) in a lower-level layer needs to decide how to send its output vector to higher-level capsules (j)\n",
        "    # it makes this decision by changing scalar weight (c=coupling coefficient) that will multiply its output vector and then be treated as input to a higher-level capsule\n",
        "    #\n",
        "    # uhat = prediction vector, w = weight matrix but will act as a dense layer, u = output from a previous layer\n",
        "    # uhat = u * w\n",
        "    # neurons 160 (num_capsules=10 * num_vectors=16)\n",
        "    uhat = Dense(160, kernel_initializer='he_normal', bias_initializer='zeros', name='uhat_digitcaps')(x)\n",
        "    \n",
        "    # c = coupling coefficient (softmax over the bias weights, log prior) | \"the coupling coefficients between capsule (i) and all the capsules in the layer above sum to 1\"\n",
        "    # we treat the coupling coefficiant as a softmax over bias weights from the previous dense layer\n",
        "    c = Activation('softmax', name='softmax_digitcaps1')(uhat) # softmax will make sure that each weight c_ij is a non-negative number and their sum equals to one\n",
        "    \n",
        "    # s_j (output of the current capsule level) = uhat * c\n",
        "    c = Dense(160)(c) # compute s_j\n",
        "    x = Multiply()([uhat, c])\n",
        "    \"\"\"\n",
        "    NOTE: Squashing the capsule outputs creates severe blurry artifacts, thus we replace it with Leaky ReLu.\n",
        "    \"\"\"\n",
        "    s_j = LeakyReLU()(x)\n",
        "\n",
        "\n",
        "    #\n",
        "    # we will repeat the routing part 2 more times (num_routing=3) to unfold the loop\n",
        "    #\n",
        "    c = Activation('softmax', name='softmax_digitcaps2')(s_j) # softmax will make sure that each weight c_ij is a non-negative number and their sum equals to one\n",
        "    c = Dense(160)(c) # compute s_j\n",
        "    x = Multiply()([uhat, c])\n",
        "    s_j = LeakyReLU()(x)\n",
        "\n",
        "    c = Activation('softmax', name='softmax_digitcaps3')(s_j) # softmax will make sure that each weight c_ij is a non-negative number and their sum equals to one\n",
        "    c = Dense(160)(c) # compute s_j\n",
        "    x = Multiply()([uhat, c])\n",
        "    s_j = LeakyReLU()(x)\n",
        "\n",
        "    pred = Dense(1, activation='sigmoid')(s_j)\n",
        "\n",
        "    \n",
        "    return Model(img, pred)"
      ],
      "execution_count": null,
      "outputs": []
    },
    {
      "cell_type": "code",
      "metadata": {
        "id": "8rYsm2Og1H3r",
        "colab_type": "code",
        "colab": {
          "base_uri": "https://localhost:8080/",
          "height": 1000
        },
        "outputId": "b87a1995-bcaf-4c02-9993-66fb2de87b60"
      },
      "source": [
        "# build and compile the discriminator\n",
        "discriminator = build_discriminator()\n",
        "print('DISCRIMINATOR:')\n",
        "discriminator.summary()\n",
        "discriminator.compile(loss='binary_crossentropy', optimizer=Adam(0.0002, 0.5), metrics=['accuracy'])"
      ],
      "execution_count": null,
      "outputs": [
        {
          "output_type": "stream",
          "text": [
            "DISCRIMINATOR:\n",
            "Model: \"model_1\"\n",
            "__________________________________________________________________________________________________\n",
            "Layer (type)                    Output Shape         Param #     Connected to                     \n",
            "==================================================================================================\n",
            "input_1 (InputLayer)            (None, 96, 96, 1)    0                                            \n",
            "__________________________________________________________________________________________________\n",
            "conv1 (Conv2D)                  (None, 88, 88, 256)  20992       input_1[0][0]                    \n",
            "__________________________________________________________________________________________________\n",
            "leaky_re_lu_1 (LeakyReLU)       (None, 88, 88, 256)  0           conv1[0][0]                      \n",
            "__________________________________________________________________________________________________\n",
            "batch_normalization_1 (BatchNor (None, 88, 88, 256)  1024        leaky_re_lu_1[0][0]              \n",
            "__________________________________________________________________________________________________\n",
            "primarycap_conv2 (Conv2D)       (None, 40, 40, 256)  5308672     batch_normalization_1[0][0]      \n",
            "__________________________________________________________________________________________________\n",
            "primarycap_reshape (Reshape)    (None, 51200, 8)     0           primarycap_conv2[0][0]           \n",
            "__________________________________________________________________________________________________\n",
            "primarycap_squash (Lambda)      (None, 51200, 8)     0           primarycap_reshape[0][0]         \n",
            "__________________________________________________________________________________________________\n",
            "batch_normalization_2 (BatchNor (None, 51200, 8)     32          primarycap_squash[0][0]          \n",
            "__________________________________________________________________________________________________\n",
            "flatten_1 (Flatten)             (None, 409600)       0           batch_normalization_2[0][0]      \n",
            "__________________________________________________________________________________________________\n",
            "uhat_digitcaps (Dense)          (None, 160)          65536160    flatten_1[0][0]                  \n",
            "__________________________________________________________________________________________________\n",
            "softmax_digitcaps1 (Activation) (None, 160)          0           uhat_digitcaps[0][0]             \n",
            "__________________________________________________________________________________________________\n",
            "dense_1 (Dense)                 (None, 160)          25760       softmax_digitcaps1[0][0]         \n",
            "__________________________________________________________________________________________________\n",
            "multiply_1 (Multiply)           (None, 160)          0           uhat_digitcaps[0][0]             \n",
            "                                                                 dense_1[0][0]                    \n",
            "__________________________________________________________________________________________________\n",
            "leaky_re_lu_2 (LeakyReLU)       (None, 160)          0           multiply_1[0][0]                 \n",
            "__________________________________________________________________________________________________\n",
            "softmax_digitcaps2 (Activation) (None, 160)          0           leaky_re_lu_2[0][0]              \n",
            "__________________________________________________________________________________________________\n",
            "dense_2 (Dense)                 (None, 160)          25760       softmax_digitcaps2[0][0]         \n",
            "__________________________________________________________________________________________________\n",
            "multiply_2 (Multiply)           (None, 160)          0           uhat_digitcaps[0][0]             \n",
            "                                                                 dense_2[0][0]                    \n",
            "__________________________________________________________________________________________________\n",
            "leaky_re_lu_3 (LeakyReLU)       (None, 160)          0           multiply_2[0][0]                 \n",
            "__________________________________________________________________________________________________\n",
            "softmax_digitcaps3 (Activation) (None, 160)          0           leaky_re_lu_3[0][0]              \n",
            "__________________________________________________________________________________________________\n",
            "dense_3 (Dense)                 (None, 160)          25760       softmax_digitcaps3[0][0]         \n",
            "__________________________________________________________________________________________________\n",
            "multiply_3 (Multiply)           (None, 160)          0           uhat_digitcaps[0][0]             \n",
            "                                                                 dense_3[0][0]                    \n",
            "__________________________________________________________________________________________________\n",
            "leaky_re_lu_4 (LeakyReLU)       (None, 160)          0           multiply_3[0][0]                 \n",
            "__________________________________________________________________________________________________\n",
            "dense_4 (Dense)                 (None, 1)            161         leaky_re_lu_4[0][0]              \n",
            "==================================================================================================\n",
            "Total params: 70,944,321\n",
            "Trainable params: 70,943,793\n",
            "Non-trainable params: 528\n",
            "__________________________________________________________________________________________________\n"
          ],
          "name": "stdout"
        }
      ]
    },
    {
      "cell_type": "code",
      "metadata": {
        "id": "xNNJHcLs1H3t",
        "colab_type": "code",
        "colab": {}
      },
      "source": [
        "# generator structure\n",
        "def build_generator():\n",
        "\n",
        "    \"\"\"\n",
        "    Generator follows the DCGAN architecture and creates generated image representations through learning.\n",
        "    \"\"\"\n",
        "\n",
        "    noise_shape = (100,)\n",
        "    x_noise = Input(shape=noise_shape)\n",
        "\n",
        "    # we apply different kernel sizes in order to match the original image size\n",
        "    \n",
        "    if (shape[0] == 96 and shape[1] == 96):\n",
        "        x = Dense(256 * 24 * 24, activation=\"relu\")(x_noise)\n",
        "        x = BatchNormalization()(x)\n",
        "        x = LeakyReLU(0.2)(x)\n",
        "        x = Reshape((24, 24, 256))(x)\n",
        "        x = Conv2DTranspose(128, (5, 5), strides=(1, 1), padding='same', use_bias=False)(x)\n",
        "        x = BatchNormalization()(x)\n",
        "        x = LeakyReLU(0.2)(x)\n",
        "        x = Conv2DTranspose(64, (5, 5), strides=(2, 2), padding='same', use_bias=False)(x)\n",
        "        x = BatchNormalization()(x)\n",
        "        x = LeakyReLU(0.2)(x)\n",
        "        gen_out = Conv2DTranspose(1, (5, 5), strides=(2, 2), padding='same', use_bias=False, activation='tanh')(x)\n",
        "        \n",
        "        return Model(x_noise, gen_out)"
      ],
      "execution_count": null,
      "outputs": []
    },
    {
      "cell_type": "code",
      "metadata": {
        "id": "6EApKn6w9wTy",
        "colab_type": "code",
        "colab": {
          "base_uri": "https://localhost:8080/",
          "height": 578
        },
        "outputId": "de13fa87-8d7c-4e80-d19e-c2f541fc7a33"
      },
      "source": [
        "# build and compile the generator\n",
        "generator = build_generator()\n",
        "print('GENERATOR:')\n",
        "generator.summary()\n",
        "generator.compile(loss='binary_crossentropy', optimizer=Adam(0.0002, 0.5))"
      ],
      "execution_count": null,
      "outputs": [
        {
          "output_type": "stream",
          "text": [
            "GENERATOR:\n",
            "Model: \"model_2\"\n",
            "_________________________________________________________________\n",
            "Layer (type)                 Output Shape              Param #   \n",
            "=================================================================\n",
            "input_2 (InputLayer)         (None, 100)               0         \n",
            "_________________________________________________________________\n",
            "dense_5 (Dense)              (None, 147456)            14893056  \n",
            "_________________________________________________________________\n",
            "batch_normalization_3 (Batch (None, 147456)            589824    \n",
            "_________________________________________________________________\n",
            "leaky_re_lu_5 (LeakyReLU)    (None, 147456)            0         \n",
            "_________________________________________________________________\n",
            "reshape_1 (Reshape)          (None, 24, 24, 256)       0         \n",
            "_________________________________________________________________\n",
            "conv2d_transpose_1 (Conv2DTr (None, 24, 24, 128)       819200    \n",
            "_________________________________________________________________\n",
            "batch_normalization_4 (Batch (None, 24, 24, 128)       512       \n",
            "_________________________________________________________________\n",
            "leaky_re_lu_6 (LeakyReLU)    (None, 24, 24, 128)       0         \n",
            "_________________________________________________________________\n",
            "conv2d_transpose_2 (Conv2DTr (None, 48, 48, 64)        204800    \n",
            "_________________________________________________________________\n",
            "batch_normalization_5 (Batch (None, 48, 48, 64)        256       \n",
            "_________________________________________________________________\n",
            "leaky_re_lu_7 (LeakyReLU)    (None, 48, 48, 64)        0         \n",
            "_________________________________________________________________\n",
            "conv2d_transpose_3 (Conv2DTr (None, 96, 96, 1)         1600      \n",
            "=================================================================\n",
            "Total params: 16,509,248\n",
            "Trainable params: 16,213,952\n",
            "Non-trainable params: 295,296\n",
            "_________________________________________________________________\n"
          ],
          "name": "stdout"
        }
      ]
    },
    {
      "cell_type": "code",
      "metadata": {
        "id": "Os40vt1Q1H3w",
        "colab_type": "code",
        "colab": {
          "base_uri": "https://localhost:8080/",
          "height": 578
        },
        "outputId": "d5ed30f8-5acb-4a0f-d125-570ad7592614"
      },
      "source": [
        "# build and compile the generator\n",
        "generator = build_generator()\n",
        "print('GENERATOR:')\n",
        "generator.summary()\n",
        "generator.compile(loss='binary_crossentropy', optimizer=Adam(0.0002, 0.5))"
      ],
      "execution_count": null,
      "outputs": [
        {
          "output_type": "stream",
          "text": [
            "GENERATOR:\n",
            "Model: \"model_3\"\n",
            "_________________________________________________________________\n",
            "Layer (type)                 Output Shape              Param #   \n",
            "=================================================================\n",
            "input_3 (InputLayer)         (None, 100)               0         \n",
            "_________________________________________________________________\n",
            "dense_6 (Dense)              (None, 147456)            14893056  \n",
            "_________________________________________________________________\n",
            "batch_normalization_6 (Batch (None, 147456)            589824    \n",
            "_________________________________________________________________\n",
            "leaky_re_lu_8 (LeakyReLU)    (None, 147456)            0         \n",
            "_________________________________________________________________\n",
            "reshape_2 (Reshape)          (None, 24, 24, 256)       0         \n",
            "_________________________________________________________________\n",
            "conv2d_transpose_4 (Conv2DTr (None, 24, 24, 128)       819200    \n",
            "_________________________________________________________________\n",
            "batch_normalization_7 (Batch (None, 24, 24, 128)       512       \n",
            "_________________________________________________________________\n",
            "leaky_re_lu_9 (LeakyReLU)    (None, 24, 24, 128)       0         \n",
            "_________________________________________________________________\n",
            "conv2d_transpose_5 (Conv2DTr (None, 48, 48, 64)        204800    \n",
            "_________________________________________________________________\n",
            "batch_normalization_8 (Batch (None, 48, 48, 64)        256       \n",
            "_________________________________________________________________\n",
            "leaky_re_lu_10 (LeakyReLU)   (None, 48, 48, 64)        0         \n",
            "_________________________________________________________________\n",
            "conv2d_transpose_6 (Conv2DTr (None, 96, 96, 1)         1600      \n",
            "=================================================================\n",
            "Total params: 16,509,248\n",
            "Trainable params: 16,213,952\n",
            "Non-trainable params: 295,296\n",
            "_________________________________________________________________\n"
          ],
          "name": "stdout"
        }
      ]
    },
    {
      "cell_type": "code",
      "metadata": {
        "id": "0lXjyLKQ1H3y",
        "colab_type": "code",
        "colab": {}
      },
      "source": [
        "# feeding noise to generator\n",
        "z = Input(shape=(100,))\n",
        "img = generator(z)"
      ],
      "execution_count": null,
      "outputs": []
    },
    {
      "cell_type": "code",
      "metadata": {
        "id": "kp3M2EFM1H3z",
        "colab_type": "code",
        "colab": {}
      },
      "source": [
        "# for the combined model we will only train the generator\n",
        "discriminator.trainable = False"
      ],
      "execution_count": null,
      "outputs": []
    },
    {
      "cell_type": "code",
      "metadata": {
        "id": "Dui-g3Ll1H31",
        "colab_type": "code",
        "colab": {}
      },
      "source": [
        "# try to discriminate generated images\n",
        "valid = discriminator(img)"
      ],
      "execution_count": null,
      "outputs": []
    },
    {
      "cell_type": "code",
      "metadata": {
        "id": "w9-DmCns1H33",
        "colab_type": "code",
        "colab": {
          "base_uri": "https://localhost:8080/",
          "height": 272
        },
        "outputId": "9cc31a30-39d9-487e-8bc6-bf5ea27deb75"
      },
      "source": [
        "# the combined model (stacked generator and discriminator) takes\n",
        "# noise as input => generates images => determines validity \n",
        "combined = Model(z, valid)\n",
        "print('COMBINED:')\n",
        "combined.summary()\n",
        "combined.compile(loss='binary_crossentropy', optimizer=Adam(0.0002, 0.5))"
      ],
      "execution_count": null,
      "outputs": [
        {
          "output_type": "stream",
          "text": [
            "COMBINED:\n",
            "Model: \"model_4\"\n",
            "_________________________________________________________________\n",
            "Layer (type)                 Output Shape              Param #   \n",
            "=================================================================\n",
            "input_4 (InputLayer)         (None, 100)               0         \n",
            "_________________________________________________________________\n",
            "model_3 (Model)              (None, 96, 96, 1)         16509248  \n",
            "_________________________________________________________________\n",
            "model_1 (Model)              (None, 1)                 70944321  \n",
            "=================================================================\n",
            "Total params: 87,453,569\n",
            "Trainable params: 16,213,952\n",
            "Non-trainable params: 71,239,617\n",
            "_________________________________________________________________\n"
          ],
          "name": "stdout"
        }
      ]
    },
    {
      "cell_type": "markdown",
      "metadata": {
        "id": "oIX7nQA01H35",
        "colab_type": "text"
      },
      "source": [
        "## Training"
      ]
    },
    {
      "cell_type": "code",
      "metadata": {
        "id": "UtaRQtmX1H36",
        "colab_type": "code",
        "colab": {}
      },
      "source": [
        "# loss values for further plotting\n",
        "D_L_REAL = []\n",
        "D_L_FAKE = []\n",
        "D_L = []\n",
        "D_ACC = []\n",
        "G_L = []"
      ],
      "execution_count": null,
      "outputs": []
    },
    {
      "cell_type": "code",
      "metadata": {
        "id": "7OavuSNt1H37",
        "colab_type": "code",
        "colab": {}
      },
      "source": [
        "def train(dataset_title, epochs, batch_size=64, save_interval=50):\n",
        "\n",
        "        half_batch = int(batch_size / 2)\n",
        "        \n",
        "        for epoch in range(epochs):\n",
        "            start_time = timer(None) # timing starts from this point for \"start_time\" variable\n",
        "            # ---------------------\n",
        "            #  Train Discriminator\n",
        "            # ---------------------\n",
        "\n",
        "            # select a random half batch of images\n",
        "            idx = np.random.randint(0, dataset.shape[0], half_batch)\n",
        "            imgs = dataset[idx]\n",
        "\n",
        "            noise = np.random.normal(0, 1, (half_batch, 100))\n",
        "\n",
        "            # generate a half batch of new images\n",
        "            gen_imgs = generator.predict(noise)\n",
        "\n",
        "            # train the discriminator by feeding both real and fake (generated) images one by one\n",
        "            d_loss_real = discriminator.train_on_batch(imgs, np.ones((half_batch, 1))*0.9) # 0.9 for label smoothing\n",
        "            d_loss_fake = discriminator.train_on_batch(gen_imgs, np.zeros((half_batch, 1)))\n",
        "            d_loss = 0.5 * np.add(d_loss_real, d_loss_fake)\n",
        "\n",
        "\n",
        "            # ---------------------\n",
        "            #  Train Generator\n",
        "            # ---------------------\n",
        "\n",
        "            noise = np.random.normal(0, 1, (batch_size, 100))\n",
        "\n",
        "            # the generator wants the discriminator to label the generated samples\n",
        "            # as valid (ones)\n",
        "            valid_y = np.array([1] * 32)\n",
        "\n",
        "            # train the generator\n",
        "            g_loss = combined.train_on_batch(noise, np.ones((batch_size, 1)))\n",
        "\n",
        "            \n",
        "            # Plot the progress\n",
        "            print (\"%d [D loss: %f, acc.: %.2f%%] [G loss: %f]\" % (epoch, d_loss[0], 100*d_loss[1], g_loss))\n",
        "            \n",
        "            D_L_REAL.append(d_loss_real)\n",
        "            D_L_FAKE.append(d_loss_fake)\n",
        "            D_L.append(d_loss)\n",
        "            D_ACC.append(d_loss[1])\n",
        "            G_L.append(g_loss)\n",
        "\n",
        "            # if at save interval => save generated image samples\n",
        "            if epoch % save_interval == 0:\n",
        "                save_imgs(dataset_title, epoch)\n",
        "            timer(start_time) # timing ends here for \"start_time\" variable\n",
        "       "
      ],
      "execution_count": null,
      "outputs": []
    },
    {
      "cell_type": "code",
      "metadata": {
        "id": "OTAVqQb61H39",
        "colab_type": "code",
        "colab": {}
      },
      "source": [
        "def save_imgs(dataset_title, epoch):\n",
        "        r, c = 5, 5\n",
        "        noise = np.random.normal(0, 1, (r * c, 100))\n",
        "        gen_imgs = generator.predict(noise)\n",
        "\n",
        "        fig, axs = plt.subplots(r, c)\n",
        "        cnt = 0\n",
        "        \n",
        "        # iterate in order to create a subplot\n",
        "        for i in range(r):\n",
        "            for j in range(c):\n",
        "                if dataset_title == 'smallnorb':\n",
        "                    axs[i,j].imshow(gen_imgs[cnt, :,:,0]* 127.5 + 127.5, cmap='gray')\n",
        "                    axs[i,j].axis('off')\n",
        "                    cnt += 1\n",
        "                else:\n",
        "                    print('Please indicate the image options.')\n",
        "        \n",
        "        if not os.path.exists('images_{0}'.format(dataset_title)):\n",
        "            os.makedirs('images_{0}'.format(dataset_title))\n",
        "        \n",
        "        fig.savefig(\"images_{0}/{1}.png\".format(dataset_title, epoch))\n",
        "        plt.close()"
      ],
      "execution_count": null,
      "outputs": []
    },
    {
      "cell_type": "code",
      "metadata": {
        "id": "DfPc842s1H3_",
        "colab_type": "code",
        "colab": {}
      },
      "source": [
        "start_time = timer(None) # timing starts from this point for \"start_time\" variable\n",
        "history = train('smallnorb', epochs=3000, batch_size=64, save_interval=50)\n",
        "timer(start_time) # timing ends here for \"start_time\" variable\n",
        "generator.save('smallnorb_model.h5')"
      ],
      "execution_count": null,
      "outputs": []
    },
    {
      "cell_type": "markdown",
      "metadata": {
        "id": "FcislxZx1H4B",
        "colab_type": "text"
      },
      "source": [
        "## Visualizations"
      ]
    },
    {
      "cell_type": "code",
      "metadata": {
        "id": "LW9bnLsyO4BC",
        "colab_type": "code",
        "colab": {
          "base_uri": "https://localhost:8080/",
          "height": 324
        },
        "outputId": "d4be2e48-5beb-4bd5-ef0e-2061853fb5e4"
      },
      "source": [
        "plt.plot(D_L)\n",
        "plt.title('Discriminator results (smallnorb)')\n",
        "plt.xlabel('Epochs')\n",
        "plt.ylabel('Discriminator Loss (blue), Discriminator Accuracy (orange)')\n",
        "plt.legend(['Discriminator Loss', 'Discriminator Accuracy'])\n",
        "plt.show()"
      ],
      "execution_count": null,
      "outputs": [
        {
          "output_type": "display_data",
          "data": {
            "image/png": "[encoded data removed]",
            "text/plain": [
              "<Figure size 432x288 with 1 Axes>"
            ]
          },
          "metadata": {
            "tags": [],
            "needs_background": "light"
          }
        }
      ]
    },
    {
      "cell_type": "code",
      "metadata": {
        "id": "wkYY-uTnPBKl",
        "colab_type": "code",
        "colab": {
          "base_uri": "https://localhost:8080/",
          "height": 295
        },
        "outputId": "42c5e76f-a795-4900-a71f-0eaf482027fd"
      },
      "source": [
        "plt.plot(G_L)\n",
        "plt.title('Generator results (smallnorb)')\n",
        "plt.xlabel('Epochs')\n",
        "plt.ylabel('Generator Loss (blue)')\n",
        "plt.legend('Generator Loss')\n",
        "plt.show()"
      ],
      "execution_count": null,
      "outputs": [
        {
          "output_type": "display_data",
          "data": {
            "image/png": "[encoded data removed]",
            "text/plain": [
              "<Figure size 432x288 with 1 Axes>"
            ]
          },
          "metadata": {
            "tags": [],
            "needs_background": "light"
          }
        }
      ]
    }
  ]
}