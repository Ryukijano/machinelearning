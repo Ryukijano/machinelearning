{
  "nbformat": 4,
  "nbformat_minor": 0,
  "metadata": {
    "colab": {
      "name": "SelfCaseStudy_AEGAN_NORB_GitHub.ipynb",
      "provenance": [],
      "collapsed_sections": [],
      "authorship_tag": "ABX9TyOOHeUsEvFy3nh8NKlnDFKo",
      "include_colab_link": true
    },
    "kernelspec": {
      "name": "python3",
      "display_name": "Python 3"
    },
    "accelerator": "GPU"
  },
  "cells": [
    {
      "cell_type": "markdown",
      "metadata": {
        "id": "view-in-github",
        "colab_type": "text"
      },
      "source": [
        "<a href=\"https://colab.research.google.com/github/hsomaiya/machinelearning/blob/master/DL-GANs-NORB/AEGAN/SelfCaseStudy_AEGAN_NORB_GitHub.ipynb\" target=\"_parent\"><img src=\"https://colab.research.google.com/assets/colab-badge.svg\" alt=\"Open In Colab\"/></a>"
      ]
    },
    {
      "cell_type": "code",
      "metadata": {
        "id": "qypB7FnXFT6_",
        "colab_type": "code",
        "colab": {}
      },
      "source": [
        "# Change the directory in Google Colab\n",
        "import os\n",
        "os.chdir('/content')"
      ],
      "execution_count": 6,
      "outputs": []
    },
    {
      "cell_type": "code",
      "metadata": {
        "id": "Ydds7fO0gPjI",
        "colab_type": "code",
        "colab": {}
      },
      "source": [
        "# device check\n",
        "import tensorflow as tf # '2.2.0'\n",
        "from tensorflow.python.client import device_lib\n",
        "print('Devices:', device_lib.list_local_devices())\n",
        "\n",
        "# GPU check\n",
        "if not tf.test.gpu_device_name():\n",
        "    print('No GPU found.')\n",
        "else:\n",
        "    print('Default GPU Device: {}'.format(tf.test.gpu_device_name()))"
      ],
      "execution_count": null,
      "outputs": []
    },
    {
      "cell_type": "code",
      "metadata": {
        "id": "rWPD9QZDE-hD",
        "colab_type": "code",
        "colab": {}
      },
      "source": [
        "# Get the AEGAN code\n",
        "# A bad way as it clones entire repo\n",
        "!git clone https://github.com/hsomaiya/machinelearning.git"
      ],
      "execution_count": null,
      "outputs": []
    },
    {
      "cell_type": "code",
      "metadata": {
        "id": "4xEda5r4XLvX",
        "colab_type": "code",
        "colab": {}
      },
      "source": [
        "# Navigate to the location where AEGAN code is available\n",
        "os.chdir('/content/machinelearning/DL-GANs-NORB/AEGAN/code')"
      ],
      "execution_count": 24,
      "outputs": []
    },
    {
      "cell_type": "code",
      "metadata": {
        "id": "mjhM1XK17YKJ",
        "colab_type": "code",
        "colab": {
          "base_uri": "https://localhost:8080/",
          "height": 1000
        },
        "outputId": "63b9224d-c6b6-48a4-f0fe-88b3b387928b"
      },
      "source": [
        "# Launch the training program\n",
        "!python train.py -t \"AEGAN\" -n \"smallnorbClassThreeAEGAN\" -p 5 -l 100 -b 32 -e 150 -f \"./params/params_64.json\""
      ],
      "execution_count": null,
      "outputs": [
        {
          "output_type": "stream",
          "text": [
            "2020-06-02 12:07:55.279121: I tensorflow/stream_executor/platform/default/dso_loader.cc:44] Successfully opened dynamic library libcudart.so.10.1\n",
            "2020-06-02 12:07:57.691567: I tensorflow/stream_executor/platform/default/dso_loader.cc:44] Successfully opened dynamic library libcuda.so.1\n",
            "2020-06-02 12:07:57.715228: I tensorflow/stream_executor/cuda/cuda_gpu_executor.cc:981] successful NUMA node read from SysFS had negative value (-1), but there must be at least one NUMA node, so returning NUMA node zero\n",
            "2020-06-02 12:07:57.716189: I tensorflow/core/common_runtime/gpu/gpu_device.cc:1561] Found device 0 with properties: \n",
            "pciBusID: 0000:00:04.0 name: Tesla P100-PCIE-16GB computeCapability: 6.0\n",
            "coreClock: 1.3285GHz coreCount: 56 deviceMemorySize: 15.90GiB deviceMemoryBandwidth: 681.88GiB/s\n",
            "2020-06-02 12:07:57.716245: I tensorflow/stream_executor/platform/default/dso_loader.cc:44] Successfully opened dynamic library libcudart.so.10.1\n",
            "2020-06-02 12:07:57.718095: I tensorflow/stream_executor/platform/default/dso_loader.cc:44] Successfully opened dynamic library libcublas.so.10\n",
            "2020-06-02 12:07:57.727262: I tensorflow/stream_executor/platform/default/dso_loader.cc:44] Successfully opened dynamic library libcufft.so.10\n",
            "2020-06-02 12:07:57.727644: I tensorflow/stream_executor/platform/default/dso_loader.cc:44] Successfully opened dynamic library libcurand.so.10\n",
            "2020-06-02 12:07:57.729438: I tensorflow/stream_executor/platform/default/dso_loader.cc:44] Successfully opened dynamic library libcusolver.so.10\n",
            "2020-06-02 12:07:57.746422: I tensorflow/stream_executor/platform/default/dso_loader.cc:44] Successfully opened dynamic library libcusparse.so.10\n",
            "2020-06-02 12:07:57.760641: I tensorflow/stream_executor/platform/default/dso_loader.cc:44] Successfully opened dynamic library libcudnn.so.7\n",
            "2020-06-02 12:07:57.760837: I tensorflow/stream_executor/cuda/cuda_gpu_executor.cc:981] successful NUMA node read from SysFS had negative value (-1), but there must be at least one NUMA node, so returning NUMA node zero\n",
            "2020-06-02 12:07:57.761834: I tensorflow/stream_executor/cuda/cuda_gpu_executor.cc:981] successful NUMA node read from SysFS had negative value (-1), but there must be at least one NUMA node, so returning NUMA node zero\n",
            "2020-06-02 12:07:57.762672: I tensorflow/core/common_runtime/gpu/gpu_device.cc:1703] Adding visible gpu devices: 0\n",
            "2020-06-02 12:07:57.769641: I tensorflow/core/platform/profile_utils/cpu_utils.cc:102] CPU Frequency: 2300000000 Hz\n",
            "2020-06-02 12:07:57.769940: I tensorflow/compiler/xla/service/service.cc:168] XLA service 0x3162bc0 initialized for platform Host (this does not guarantee that XLA will be used). Devices:\n",
            "2020-06-02 12:07:57.769987: I tensorflow/compiler/xla/service/service.cc:176]   StreamExecutor device (0): Host, Default Version\n",
            "2020-06-02 12:07:57.869934: I tensorflow/stream_executor/cuda/cuda_gpu_executor.cc:981] successful NUMA node read from SysFS had negative value (-1), but there must be at least one NUMA node, so returning NUMA node zero\n",
            "2020-06-02 12:07:57.871206: I tensorflow/compiler/xla/service/service.cc:168] XLA service 0x3162d80 initialized for platform CUDA (this does not guarantee that XLA will be used). Devices:\n",
            "2020-06-02 12:07:57.871243: I tensorflow/compiler/xla/service/service.cc:176]   StreamExecutor device (0): Tesla P100-PCIE-16GB, Compute Capability 6.0\n",
            "2020-06-02 12:07:57.871465: I tensorflow/stream_executor/cuda/cuda_gpu_executor.cc:981] successful NUMA node read from SysFS had negative value (-1), but there must be at least one NUMA node, so returning NUMA node zero\n",
            "2020-06-02 12:07:57.872426: I tensorflow/core/common_runtime/gpu/gpu_device.cc:1561] Found device 0 with properties: \n",
            "pciBusID: 0000:00:04.0 name: Tesla P100-PCIE-16GB computeCapability: 6.0\n",
            "coreClock: 1.3285GHz coreCount: 56 deviceMemorySize: 15.90GiB deviceMemoryBandwidth: 681.88GiB/s\n",
            "2020-06-02 12:07:57.872501: I tensorflow/stream_executor/platform/default/dso_loader.cc:44] Successfully opened dynamic library libcudart.so.10.1\n",
            "2020-06-02 12:07:57.872552: I tensorflow/stream_executor/platform/default/dso_loader.cc:44] Successfully opened dynamic library libcublas.so.10\n",
            "2020-06-02 12:07:57.872588: I tensorflow/stream_executor/platform/default/dso_loader.cc:44] Successfully opened dynamic library libcufft.so.10\n",
            "2020-06-02 12:07:57.872625: I tensorflow/stream_executor/platform/default/dso_loader.cc:44] Successfully opened dynamic library libcurand.so.10\n",
            "2020-06-02 12:07:57.872701: I tensorflow/stream_executor/platform/default/dso_loader.cc:44] Successfully opened dynamic library libcusolver.so.10\n",
            "2020-06-02 12:07:57.872742: I tensorflow/stream_executor/platform/default/dso_loader.cc:44] Successfully opened dynamic library libcusparse.so.10\n",
            "2020-06-02 12:07:57.872778: I tensorflow/stream_executor/platform/default/dso_loader.cc:44] Successfully opened dynamic library libcudnn.so.7\n",
            "2020-06-02 12:07:57.872929: I tensorflow/stream_executor/cuda/cuda_gpu_executor.cc:981] successful NUMA node read from SysFS had negative value (-1), but there must be at least one NUMA node, so returning NUMA node zero\n",
            "2020-06-02 12:07:57.874061: I tensorflow/stream_executor/cuda/cuda_gpu_executor.cc:981] successful NUMA node read from SysFS had negative value (-1), but there must be at least one NUMA node, so returning NUMA node zero\n",
            "2020-06-02 12:07:57.875038: I tensorflow/core/common_runtime/gpu/gpu_device.cc:1703] Adding visible gpu devices: 0\n",
            "2020-06-02 12:07:57.875095: I tensorflow/stream_executor/platform/default/dso_loader.cc:44] Successfully opened dynamic library libcudart.so.10.1\n",
            "2020-06-02 12:07:58.447749: I tensorflow/core/common_runtime/gpu/gpu_device.cc:1102] Device interconnect StreamExecutor with strength 1 edge matrix:\n",
            "2020-06-02 12:07:58.447808: I tensorflow/core/common_runtime/gpu/gpu_device.cc:1108]      0 \n",
            "2020-06-02 12:07:58.447838: I tensorflow/core/common_runtime/gpu/gpu_device.cc:1121] 0:   N \n",
            "2020-06-02 12:07:58.448133: I tensorflow/stream_executor/cuda/cuda_gpu_executor.cc:981] successful NUMA node read from SysFS had negative value (-1), but there must be at least one NUMA node, so returning NUMA node zero\n",
            "2020-06-02 12:07:58.449145: I tensorflow/stream_executor/cuda/cuda_gpu_executor.cc:981] successful NUMA node read from SysFS had negative value (-1), but there must be at least one NUMA node, so returning NUMA node zero\n",
            "2020-06-02 12:07:58.450113: W tensorflow/core/common_runtime/gpu/gpu_bfc_allocator.cc:39] Overriding allow_growth setting because the TF_FORCE_GPU_ALLOW_GROWTH environment variable is set. Original config value was 0.\n",
            "2020-06-02 12:07:58.450189: I tensorflow/core/common_runtime/gpu/gpu_device.cc:1247] Created TensorFlow device (/job:localhost/replica:0/task:0/device:GPU:0 with 14974 MB memory) -> physical GPU (device: 0, name: Tesla P100-PCIE-16GB, pci bus id: 0000:00:04.0, compute capability: 6.0)\n",
            "{0: 4860, 1: 4860, 2: 4860, 3: 4860, 4: 4860}\n",
            "{0: 4860, 1: 4860, 2: 4860, 3: 4860, 4: 4860}\n",
            "2020-06-02 12:08:27.450094: I tensorflow/stream_executor/platform/default/dso_loader.cc:44] Successfully opened dynamic library libcublas.so.10\n",
            "2020-06-02 12:08:27.681927: I tensorflow/stream_executor/platform/default/dso_loader.cc:44] Successfully opened dynamic library libcudnn.so.7\n",
            "Epoch 1 [4768/4832]: Gx=1.9517; Gz=0.3090; Dx=1.1575; Dz=0.9833; Rx=0.3583; Rz=1.3250; (00:02:09)\n",
            "Epoch 2 [4768/4832]: Gx=1.7438; Gz=0.3804; Dx=0.7439; Dz=0.8428; Rx=0.2282; Rz=1.2370; (00:01:43)\n",
            "Epoch 3 [4768/4832]: Gx=1.2429; Gz=0.3012; Dx=0.7681; Dz=0.9823; Rx=0.1620; Rz=1.0893; (00:01:43)\n",
            "Epoch 4 [4768/4832]: Gx=1.1376; Gz=0.2231; Dx=0.7563; Dz=1.1110; Rx=0.1339; Rz=0.9663; (00:01:44)\n",
            "Epoch 5 [4768/4832]: Gx=1.1117; Gz=0.2163; Dx=0.7351; Dz=1.0343; Rx=0.1070; Rz=0.7727; (00:01:43)\n",
            "Epoch 6 [4768/4832]: Gx=1.1413; Gz=0.2371; Dx=0.7120; Dz=0.9587; Rx=0.1005; Rz=0.6011; (00:01:43)\n",
            "Epoch 7 [4768/4832]: Gx=1.3987; Gz=0.2590; Dx=0.6665; Dz=0.9235; Rx=0.0991; Rz=0.4650; (00:01:43)\n",
            "Epoch 8 [4768/4832]: Gx=1.5996; Gz=0.3132; Dx=0.6391; Dz=0.8549; Rx=0.1058; Rz=0.3683; (00:01:43)\n",
            "Epoch 9 [4768/4832]: Gx=1.8182; Gz=0.3700; Dx=0.6046; Dz=0.8066; Rx=0.1058; Rz=0.3215; (00:01:43)\n",
            "Epoch 10 [4768/4832]: Gx=2.0307; Gz=0.4352; Dx=0.5861; Dz=0.7689; Rx=0.1136; Rz=0.2946; (00:01:43)\n",
            "Epoch 11 [4768/4832]: Gx=1.9331; Gz=0.4654; Dx=0.6093; Dz=0.7622; Rx=0.1135; Rz=0.2611; (00:01:43)\n",
            "Epoch 12 [4768/4832]: Gx=2.1627; Gz=0.5021; Dx=0.5637; Dz=0.7377; Rx=0.1092; Rz=0.2487; (00:01:43)\n",
            "Epoch 13 [4768/4832]: Gx=2.2241; Gz=0.5536; Dx=0.5445; Dz=0.7189; Rx=0.1136; Rz=0.2524; (00:01:43)\n",
            "Epoch 14 [4768/4832]: Gx=2.3465; Gz=0.5530; Dx=0.5268; Dz=0.7310; Rx=0.1128; Rz=0.2450; (00:01:43)\n",
            "Epoch 15 [4768/4832]: Gx=2.6595; Gz=0.6057; Dx=0.5093; Dz=0.7120; Rx=0.1165; Rz=0.2530; (00:01:43)\n",
            "Epoch 16 [4768/4832]: Gx=2.7535; Gz=0.6152; Dx=0.4950; Dz=0.7240; Rx=0.1156; Rz=0.2511; (00:01:43)\n",
            "Epoch 17 [4768/4832]: Gx=2.7548; Gz=0.6756; Dx=0.4814; Dz=0.6973; Rx=0.1174; Rz=0.2473; (00:01:43)\n",
            "Epoch 18 [4768/4832]: Gx=3.0014; Gz=0.6441; Dx=0.4807; Dz=0.7216; Rx=0.1168; Rz=0.2445; (00:01:43)\n",
            "Epoch 19 [4768/4832]: Gx=2.9444; Gz=0.6896; Dx=0.4543; Dz=0.7053; Rx=0.1217; Rz=0.2435; (00:01:43)\n",
            "Epoch 20 [4768/4832]: Gx=2.8554; Gz=0.6704; Dx=0.4275; Dz=0.7279; Rx=0.1140; Rz=0.2413; (00:01:43)\n",
            "Epoch 21 [4768/4832]: Gx=3.1410; Gz=0.7050; Dx=0.4171; Dz=0.7257; Rx=0.1222; Rz=0.2510; (00:01:43)\n",
            "Epoch 22 [4768/4832]: Gx=3.2967; Gz=0.7111; Dx=0.3971; Dz=0.7209; Rx=0.1158; Rz=0.2476; (00:01:43)\n",
            "Epoch 23 [4768/4832]: Gx=3.1884; Gz=0.7097; Dx=0.4065; Dz=0.7369; Rx=0.1146; Rz=0.2580; (00:01:43)\n",
            "Epoch 24 [4768/4832]: Gx=3.2913; Gz=0.7154; Dx=0.3916; Dz=0.7498; Rx=0.1126; Rz=0.2585; (00:01:43)\n",
            "Epoch 25 [4768/4832]: Gx=3.3092; Gz=0.7398; Dx=0.3630; Dz=0.7488; Rx=0.1148; Rz=0.2617; (00:01:43)\n",
            "Epoch 26 [4768/4832]: Gx=3.2084; Gz=0.7333; Dx=0.3857; Dz=0.7834; Rx=0.1116; Rz=0.2503; (00:01:43)\n",
            "Epoch 27 [4768/4832]: Gx=3.3202; Gz=0.6810; Dx=0.3708; Dz=0.8093; Rx=0.1150; Rz=0.2612; (00:01:43)\n",
            "Epoch 28 [4768/4832]: Gx=3.4582; Gz=0.7298; Dx=0.3545; Dz=0.8286; Rx=0.1158; Rz=0.2624; (00:01:43)\n",
            "Epoch 29 [4768/4832]: Gx=3.4657; Gz=0.6742; Dx=0.3521; Dz=0.8579; Rx=0.1126; Rz=0.2625; (00:01:43)\n",
            "Epoch 30 [4768/4832]: Gx=3.2779; Gz=0.6540; Dx=0.3612; Dz=0.8596; Rx=0.1085; Rz=0.2612; (00:01:43)\n",
            "Epoch 31 [4768/4832]: Gx=3.3444; Gz=0.6705; Dx=0.3651; Dz=0.8844; Rx=0.1099; Rz=0.2650; (00:01:43)\n",
            "Epoch 32 [4768/4832]: Gx=3.1462; Gz=0.5784; Dx=0.3609; Dz=1.2005; Rx=0.1142; Rz=0.2484; (00:01:43)\n",
            "Epoch 33 [4768/4832]: Gx=3.2904; Gz=0.8107; Dx=0.4104; Dz=1.7951; Rx=0.1661; Rz=0.2312; (00:01:43)\n",
            "Epoch 34 [4768/4832]: Gx=3.2403; Gz=1.0623; Dx=0.3941; Dz=1.4935; Rx=0.1572; Rz=0.2975; (00:01:43)\n",
            "Epoch 35 [4768/4832]: Gx=2.7188; Gz=0.7330; Dx=0.4127; Dz=0.6896; Rx=0.1010; Rz=0.2221; (00:01:43)\n",
            "Epoch 36 [4768/4832]: Gx=2.7755; Gz=0.7433; Dx=0.4037; Dz=0.7062; Rx=0.1005; Rz=0.2140; (00:01:43)\n",
            "Epoch 37 [4768/4832]: Gx=3.2806; Gz=0.7450; Dx=0.3580; Dz=0.7516; Rx=0.1012; Rz=0.2233; (00:01:43)\n",
            "Epoch 38 [4768/4832]: Gx=3.1269; Gz=0.7588; Dx=0.3713; Dz=0.6736; Rx=0.0945; Rz=0.2018; (00:01:43)\n",
            "Epoch 39 [4768/4832]: Gx=3.1647; Gz=0.7812; Dx=0.3678; Dz=0.6784; Rx=0.0934; Rz=0.2014; (00:01:43)\n",
            "Epoch 40 [4768/4832]: Gx=2.8665; Gz=0.7986; Dx=0.3805; Dz=0.6684; Rx=0.0931; Rz=0.1887; (00:01:43)\n",
            "Epoch 41 [4768/4832]: Gx=3.1170; Gz=0.7872; Dx=0.3483; Dz=0.7053; Rx=0.0998; Rz=0.2101; (00:01:43)\n",
            "Epoch 42 [4768/4832]: Gx=3.0336; Gz=0.8200; Dx=0.3608; Dz=0.6828; Rx=0.0995; Rz=0.2000; (00:01:43)\n",
            "Epoch 43 [4768/4832]: Gx=3.0041; Gz=0.7807; Dx=0.3485; Dz=0.7045; Rx=0.0962; Rz=0.1996; (00:01:43)\n",
            "Epoch 44 [4768/4832]: Gx=2.7979; Gz=0.8129; Dx=0.3834; Dz=0.6567; Rx=0.0915; Rz=0.1744; (00:01:43)\n",
            "Epoch 45 [4768/4832]: Gx=2.8136; Gz=0.8123; Dx=0.3870; Dz=0.6790; Rx=0.0936; Rz=0.1751; (00:01:43)\n",
            "Epoch 46 [4768/4832]: Gx=2.9831; Gz=0.8405; Dx=0.3644; Dz=0.6732; Rx=0.0977; Rz=0.1740; (00:01:43)\n",
            "Epoch 47 [4768/4832]: Gx=2.9028; Gz=0.8106; Dx=0.3456; Dz=0.7090; Rx=0.0984; Rz=0.1710; (00:01:43)\n",
            "Epoch 48 [4768/4832]: Gx=2.8048; Gz=0.8215; Dx=0.3618; Dz=0.6956; Rx=0.0975; Rz=0.1653; (00:01:43)\n",
            "Epoch 49 [4768/4832]: Gx=3.0062; Gz=0.7998; Dx=0.3406; Dz=0.7188; Rx=0.0982; Rz=0.1719; (00:01:43)\n",
            "Epoch 50 [4768/4832]: Gx=2.9417; Gz=0.8082; Dx=0.3636; Dz=0.6740; Rx=0.1019; Rz=0.1559; (00:01:43)\n",
            "Epoch 51 [4768/4832]: Gx=2.8126; Gz=0.7983; Dx=0.3772; Dz=0.6854; Rx=0.1024; Rz=0.1624; (00:01:43)\n",
            "Epoch 52 [4768/4832]: Gx=2.8910; Gz=0.7994; Dx=0.3545; Dz=0.6939; Rx=0.0941; Rz=0.1608; (00:01:43)\n",
            "Epoch 53 [4768/4832]: Gx=2.9417; Gz=0.8337; Dx=0.3362; Dz=0.6789; Rx=0.0887; Rz=0.1551; (00:01:43)\n",
            "Epoch 54 [4768/4832]: Gx=2.7014; Gz=0.8085; Dx=0.3851; Dz=0.6786; Rx=0.0965; Rz=0.1358; (00:01:43)\n",
            "Epoch 55 [4768/4832]: Gx=2.8154; Gz=0.8013; Dx=0.3351; Dz=0.6911; Rx=0.0949; Rz=0.1304; (00:01:43)\n",
            "Epoch 56 [4768/4832]: Gx=2.9327; Gz=0.8402; Dx=0.3583; Dz=0.6666; Rx=0.1110; Rz=0.1289; (00:01:43)\n",
            "Epoch 57 [4768/4832]: Gx=3.1988; Gz=1.0320; Dx=0.3005; Dz=0.8543; Rx=0.1444; Rz=0.1563; (00:01:43)\n",
            "Epoch 58 [4768/4832]: Gx=3.1166; Gz=0.7809; Dx=0.3362; Dz=0.7197; Rx=0.1254; Rz=0.1489; (00:01:43)\n",
            "Epoch 59 [4768/4832]: Gx=3.1914; Gz=0.7823; Dx=0.3538; Dz=0.6969; Rx=0.1275; Rz=0.1305; (00:01:43)\n",
            "Epoch 60 [4768/4832]: Gx=2.9564; Gz=0.7977; Dx=0.3617; Dz=0.6826; Rx=0.1244; Rz=0.1220; (00:01:43)\n",
            "Epoch 61 [4768/4832]: Gx=2.9149; Gz=0.7682; Dx=0.3812; Dz=0.6882; Rx=0.1256; Rz=0.1345; (00:01:43)\n",
            "Epoch 62 [4768/4832]: Gx=3.0305; Gz=0.7506; Dx=0.3507; Dz=0.7207; Rx=0.1231; Rz=0.1350; (00:01:43)\n",
            "Epoch 63 [4768/4832]: Gx=2.7724; Gz=0.7991; Dx=0.3986; Dz=0.6827; Rx=0.1235; Rz=0.1260; (00:01:43)\n",
            "Epoch 64 [4768/4832]: Gx=2.9368; Gz=0.7550; Dx=0.3524; Dz=0.6825; Rx=0.1283; Rz=0.1243; (00:01:43)\n",
            "Epoch 65 [4768/4832]: Gx=2.8898; Gz=0.7735; Dx=0.3466; Dz=0.6963; Rx=0.1252; Rz=0.1177; (00:01:43)\n",
            "Epoch 66 [4768/4832]: Gx=2.8520; Gz=0.8095; Dx=0.3708; Dz=0.6798; Rx=0.1242; Rz=0.1089; (00:01:43)\n",
            "Epoch 67 [4768/4832]: Gx=2.9874; Gz=0.7673; Dx=0.3499; Dz=0.6859; Rx=0.1261; Rz=0.1132; (00:01:43)\n",
            "Epoch 68 [4768/4832]: Gx=2.8893; Gz=0.7837; Dx=0.3706; Dz=0.6848; Rx=0.1184; Rz=0.1234; (00:01:43)\n",
            "Epoch 69 [4768/4832]: Gx=2.7129; Gz=0.7783; Dx=0.3983; Dz=0.7005; Rx=0.1231; Rz=0.1234; (00:01:43)\n",
            "Epoch 70 [4768/4832]: Gx=2.7156; Gz=0.7940; Dx=0.4131; Dz=0.6720; Rx=0.1187; Rz=0.1213; (00:01:43)\n",
            "Epoch 71 [4768/4832]: Gx=2.9623; Gz=0.7695; Dx=0.3831; Dz=0.6805; Rx=0.1218; Rz=0.1317; (00:01:43)\n",
            "Epoch 72 [4768/4832]: Gx=3.0954; Gz=0.7756; Dx=0.3486; Dz=0.6874; Rx=0.1188; Rz=0.1334; (00:01:43)\n",
            "Epoch 73 [4768/4832]: Gx=2.9071; Gz=0.7748; Dx=0.3437; Dz=0.6993; Rx=0.1000; Rz=0.1233; (00:01:43)\n",
            "Epoch 74 [4768/4832]: Gx=3.0884; Gz=0.7920; Dx=0.3378; Dz=0.6884; Rx=0.0979; Rz=0.1227; (00:01:43)\n",
            "Epoch 75 [4768/4832]: Gx=3.1670; Gz=0.7408; Dx=0.3097; Dz=0.7145; Rx=0.1005; Rz=0.1204; (00:01:43)\n",
            "Epoch 76 [4768/4832]: Gx=3.1123; Gz=0.7781; Dx=0.3265; Dz=0.6907; Rx=0.1014; Rz=0.1211; (00:01:43)\n",
            "Epoch 77 [4768/4832]: Gx=2.8126; Gz=0.8032; Dx=0.3542; Dz=0.6850; Rx=0.1013; Rz=0.1110; (00:01:43)\n",
            "Epoch 78 [4768/4832]: Gx=3.0347; Gz=0.7828; Dx=0.3425; Dz=0.6861; Rx=0.1045; Rz=0.1096; (00:01:43)\n",
            "Epoch 79 [4768/4832]: Gx=2.9341; Gz=0.8131; Dx=0.3877; Dz=0.6723; Rx=0.1019; Rz=0.1047; (00:01:43)\n",
            "Epoch 80 [4768/4832]: Gx=2.7402; Gz=0.7822; Dx=0.4069; Dz=0.6789; Rx=0.1002; Rz=0.1107; (00:01:43)\n",
            "Epoch 81 [4768/4832]: Gx=2.8846; Gz=0.7822; Dx=0.3728; Dz=0.6846; Rx=0.1036; Rz=0.1101; (00:01:43)\n",
            "Epoch 82 [4768/4832]: Gx=3.0063; Gz=0.7931; Dx=0.3626; Dz=0.6773; Rx=0.1029; Rz=0.1162; (00:01:43)\n",
            "Epoch 83 [4768/4832]: Gx=3.1896; Gz=0.7463; Dx=0.3341; Dz=0.7000; Rx=0.1041; Rz=0.1227; (00:01:43)\n",
            "Epoch 84 [4768/4832]: Gx=3.0445; Gz=0.8086; Dx=0.3279; Dz=0.6749; Rx=0.1042; Rz=0.1099; (00:01:43)\n",
            "Epoch 85 [4768/4832]: Gx=2.9690; Gz=0.8250; Dx=0.3677; Dz=0.6766; Rx=0.1033; Rz=0.1069; (00:01:43)\n",
            "Epoch 86 [4768/4832]: Gx=2.9671; Gz=0.7662; Dx=0.3554; Dz=0.6903; Rx=0.1061; Rz=0.1046; (00:01:43)\n",
            "Epoch 87 [4768/4832]: Gx=2.8694; Gz=0.7871; Dx=0.3793; Dz=0.6811; Rx=0.1057; Rz=0.1007; (00:01:43)\n",
            "Epoch 88 [4768/4832]: Gx=2.6987; Gz=0.8013; Dx=0.3801; Dz=0.6799; Rx=0.1024; Rz=0.1021; (00:01:43)\n",
            "Epoch 89 [4768/4832]: Gx=2.7785; Gz=0.7954; Dx=0.3928; Dz=0.6718; Rx=0.1027; Rz=0.1047; (00:01:43)\n",
            "Epoch 90 [4768/4832]: Gx=2.8810; Gz=0.8095; Dx=0.3818; Dz=0.6711; Rx=0.1072; Rz=0.0989; (00:01:43)\n",
            "Epoch 91 [4768/4832]: Gx=3.0404; Gz=0.8196; Dx=0.3451; Dz=0.6713; Rx=0.1063; Rz=0.1038; (00:01:43)\n",
            "Epoch 92 [4768/4832]: Gx=2.9369; Gz=0.7712; Dx=0.3503; Dz=0.7015; Rx=0.1069; Rz=0.1125; (00:01:43)\n",
            "Epoch 93 [4768/4832]: Gx=2.9328; Gz=0.7981; Dx=0.3716; Dz=0.6822; Rx=0.1105; Rz=0.1143; (00:01:43)\n",
            "Epoch 94 [4768/4832]: Gx=3.0737; Gz=0.8479; Dx=0.3422; Dz=0.6627; Rx=0.1124; Rz=0.1051; (00:01:43)\n",
            "Epoch 95 [4768/4832]: Gx=2.9246; Gz=0.8310; Dx=0.3616; Dz=0.6768; Rx=0.1083; Rz=0.1073; (00:01:43)\n",
            "Epoch 96 [4768/4832]: Gx=2.8692; Gz=0.8269; Dx=0.3822; Dz=0.6748; Rx=0.1103; Rz=0.1069; (00:01:43)\n",
            "Epoch 97 [4768/4832]: Gx=3.1382; Gz=0.7974; Dx=0.3298; Dz=0.6826; Rx=0.1111; Rz=0.1030; (00:01:43)\n",
            "Epoch 98 [4768/4832]: Gx=2.9317; Gz=0.8081; Dx=0.3969; Dz=0.6927; Rx=0.1111; Rz=0.1051; (00:01:43)\n",
            "Epoch 99 [4768/4832]: Gx=2.8737; Gz=0.7618; Dx=0.3620; Dz=0.6878; Rx=0.1093; Rz=0.0974; (00:01:43)\n",
            "Epoch 100 [4768/4832]: Gx=2.8405; Gz=0.7478; Dx=0.4016; Dz=0.6989; Rx=0.1101; Rz=0.1068; (00:01:43)\n",
            "Epoch 101 [4768/4832]: Gx=3.1603; Gz=0.7908; Dx=0.3249; Dz=0.6710; Rx=0.1100; Rz=0.1024; (00:01:43)\n",
            "Epoch 102 [4768/4832]: Gx=2.8919; Gz=0.8064; Dx=0.4012; Dz=0.6750; Rx=0.1089; Rz=0.0969; (00:01:43)\n",
            "Epoch 103 [4768/4832]: Gx=2.9095; Gz=0.8108; Dx=0.3823; Dz=0.6640; Rx=0.1047; Rz=0.1010; (00:01:43)\n",
            "Epoch 104 [4768/4832]: Gx=2.9414; Gz=0.7769; Dx=0.3813; Dz=0.6804; Rx=0.1052; Rz=0.1007; (00:01:43)\n",
            "Epoch 105 [4768/4832]: Gx=2.9065; Gz=0.8217; Dx=0.3765; Dz=0.6697; Rx=0.1101; Rz=0.0989; (00:01:43)\n",
            "Epoch 106 [4768/4832]: Gx=2.9319; Gz=0.8416; Dx=0.3916; Dz=0.6517; Rx=0.1097; Rz=0.0978; (00:01:43)\n",
            "Epoch 107 [4768/4832]: Gx=2.9821; Gz=0.8077; Dx=0.3577; Dz=0.6732; Rx=0.1092; Rz=0.1020; (00:01:43)\n",
            "Epoch 108 [4768/4832]: Gx=2.9644; Gz=0.7972; Dx=0.3588; Dz=0.6803; Rx=0.1088; Rz=0.0980; (00:01:43)\n",
            "Epoch 109 [4768/4832]: Gx=2.9551; Gz=0.8102; Dx=0.3579; Dz=0.6743; Rx=0.1074; Rz=0.1005; (00:01:43)\n",
            "Epoch 110 [4768/4832]: Gx=3.0147; Gz=0.7870; Dx=0.3692; Dz=0.6796; Rx=0.1068; Rz=0.1006; (00:01:43)\n",
            "Epoch 111 [4768/4832]: Gx=2.8362; Gz=0.7828; Dx=0.3690; Dz=0.6736; Rx=0.1067; Rz=0.0916; (00:01:43)\n",
            "Epoch 112 [4768/4832]: Gx=2.9910; Gz=0.8043; Dx=0.3388; Dz=0.6720; Rx=0.1110; Rz=0.0919; (00:01:43)\n",
            "Epoch 113 [4768/4832]: Gx=3.0861; Gz=0.8308; Dx=0.3513; Dz=0.6655; Rx=0.1061; Rz=0.0926; (00:01:43)\n",
            "Epoch 114 [4768/4832]: Gx=2.8362; Gz=0.8334; Dx=0.3839; Dz=0.6672; Rx=0.1048; Rz=0.0931; (00:01:43)\n",
            "Epoch 115 [4768/4832]: Gx=2.9093; Gz=0.7796; Dx=0.3860; Dz=0.6821; Rx=0.1058; Rz=0.0969; (00:01:43)\n",
            "Epoch 116 [4768/4832]: Gx=3.0255; Gz=0.7687; Dx=0.3589; Dz=0.6759; Rx=0.1071; Rz=0.0939; (00:01:43)\n",
            "Epoch 117 [4768/4832]: Gx=2.9828; Gz=0.7887; Dx=0.3676; Dz=0.6751; Rx=0.1067; Rz=0.0924; (00:01:43)\n",
            "Epoch 118 [4768/4832]: Gx=2.5269; Gz=0.8116; Dx=0.4212; Dz=0.6700; Rx=0.1071; Rz=0.0904; (00:01:43)\n",
            "Epoch 119 [4768/4832]: Gx=2.8292; Gz=0.8179; Dx=0.3787; Dz=0.6644; Rx=0.1073; Rz=0.0953; (00:01:43)\n",
            "Epoch 120 [4768/4832]: Gx=2.9502; Gz=0.7892; Dx=0.3673; Dz=0.6802; Rx=0.1109; Rz=0.1035; (00:01:43)\n",
            "Epoch 121 [4768/4832]: Gx=3.0114; Gz=0.7901; Dx=0.3449; Dz=0.6883; Rx=0.1107; Rz=0.1018; (00:01:43)\n",
            "Epoch 122 [4768/4832]: Gx=3.0167; Gz=0.7852; Dx=0.3647; Dz=0.6926; Rx=0.1150; Rz=0.1071; (00:01:43)\n",
            "Epoch 123 [4768/4832]: Gx=2.9207; Gz=0.7930; Dx=0.3597; Dz=0.6894; Rx=0.1136; Rz=0.1013; (00:01:43)\n",
            "Epoch 124 [4768/4832]: Gx=3.0009; Gz=0.8086; Dx=0.3681; Dz=0.6789; Rx=0.1098; Rz=0.0973; (00:01:43)\n",
            "Epoch 125 [4768/4832]: Gx=2.9435; Gz=0.8234; Dx=0.3639; Dz=0.6581; Rx=0.1069; Rz=0.0936; (00:01:43)\n",
            "Epoch 126 [4768/4832]: Gx=2.9990; Gz=0.8148; Dx=0.3564; Dz=0.6686; Rx=0.1114; Rz=0.0956; (00:01:43)\n",
            "Epoch 127 [4768/4832]: Gx=2.9841; Gz=0.8694; Dx=0.3568; Dz=0.6630; Rx=0.1146; Rz=0.0972; (00:01:43)\n",
            "Epoch 128 [4768/4832]: Gx=2.9303; Gz=0.8529; Dx=0.3831; Dz=0.6618; Rx=0.1147; Rz=0.1029; (00:01:43)\n",
            "Epoch 129 [4768/4832]: Gx=2.9873; Gz=0.8163; Dx=0.3561; Dz=0.6692; Rx=0.1102; Rz=0.1005; (00:01:43)\n",
            "Epoch 130 [4768/4832]: Gx=2.9890; Gz=0.7853; Dx=0.3442; Dz=0.6855; Rx=0.1157; Rz=0.1035; (00:01:43)\n",
            "Epoch 131 [4768/4832]: Gx=3.0082; Gz=0.7915; Dx=0.3427; Dz=0.6988; Rx=0.1175; Rz=0.1046; (00:01:43)\n",
            "Epoch 132 [4768/4832]: Gx=2.9027; Gz=0.8241; Dx=0.3823; Dz=0.6800; Rx=0.1176; Rz=0.1029; (00:01:43)\n",
            "Epoch 133 [4768/4832]: Gx=2.9876; Gz=0.7942; Dx=0.3462; Dz=0.6769; Rx=0.1192; Rz=0.0978; (00:01:43)\n",
            "Epoch 134 [4768/4832]: Gx=3.0569; Gz=0.8358; Dx=0.3364; Dz=0.6706; Rx=0.1154; Rz=0.0932; (00:01:43)\n",
            "Epoch 135 [4768/4832]: Gx=3.1642; Gz=0.8696; Dx=0.3371; Dz=0.6547; Rx=0.1156; Rz=0.0939; (00:01:43)\n",
            "Epoch 136 [4768/4832]: Gx=3.0363; Gz=0.8182; Dx=0.3514; Dz=0.6592; Rx=0.1160; Rz=0.0928; (00:01:43)\n",
            "Epoch 137 [4768/4832]: Gx=2.7914; Gz=0.8378; Dx=0.3861; Dz=0.6511; Rx=0.1114; Rz=0.0889; (00:01:43)\n",
            "Epoch 138 [4768/4832]: Gx=2.9722; Gz=0.8620; Dx=0.3594; Dz=0.6521; Rx=0.1047; Rz=0.0911; (00:01:43)\n",
            "Epoch 139 [4768/4832]: Gx=2.9374; Gz=0.8613; Dx=0.3656; Dz=0.6616; Rx=0.1123; Rz=0.0914; (00:01:43)\n",
            "Epoch 140 [4768/4832]: Gx=2.7538; Gz=0.8197; Dx=0.4044; Dz=0.6843; Rx=0.1143; Rz=0.0933; (00:01:43)\n",
            "Epoch 141 [4768/4832]: Gx=3.0063; Gz=0.8200; Dx=0.3814; Dz=0.6832; Rx=0.1181; Rz=0.1000; (00:01:43)\n",
            "Epoch 142 [4768/4832]: Gx=3.1527; Gz=0.8374; Dx=0.3534; Dz=0.6830; Rx=0.1136; Rz=0.0961; (00:01:43)\n",
            "Epoch 143 [4768/4832]: Gx=2.9518; Gz=0.8441; Dx=0.3640; Dz=0.6756; Rx=0.1134; Rz=0.0942; (00:01:43)\n",
            "Epoch 144 [4768/4832]: Gx=2.9802; Gz=0.8247; Dx=0.3606; Dz=0.6774; Rx=0.1116; Rz=0.0970; (00:01:43)\n",
            "Epoch 145 [4768/4832]: Gx=2.9076; Gz=0.8560; Dx=0.3876; Dz=0.6635; Rx=0.1078; Rz=0.0939; (00:01:43)\n",
            "Epoch 146 [4768/4832]: Gx=2.9568; Gz=0.8653; Dx=0.3711; Dz=0.6621; Rx=0.1069; Rz=0.0879; (00:01:43)\n",
            "Epoch 147 [4768/4832]: Gx=2.8907; Gz=0.7839; Dx=0.3803; Dz=0.6981; Rx=0.1066; Rz=0.0931; (00:01:43)\n",
            "Epoch 148 [4768/4832]: Gx=2.9587; Gz=0.8390; Dx=0.3615; Dz=0.6676; Rx=0.1080; Rz=0.0857; (00:01:43)\n",
            "Epoch 149 [4768/4832]: Gx=2.8457; Gz=0.8666; Dx=0.4091; Dz=0.6546; Rx=0.1166; Rz=0.0895; (00:01:43)\n",
            "Epoch 150 [4768/4832]: Gx=3.1153; Gz=0.8334; Dx=0.3663; Dz=0.6687; Rx=0.1178; Rz=0.1015; (00:01:43)\n"
          ],
          "name": "stdout"
        }
      ]
    },
    {
      "cell_type": "code",
      "metadata": {
        "id": "9CwjbjTg4rsA",
        "colab_type": "code",
        "colab": {}
      },
      "source": [
        "# Navigate to parent directory\n",
        "os.chdir('/content/machinelearning/DL-GANs-NORB')"
      ],
      "execution_count": null,
      "outputs": []
    },
    {
      "cell_type": "code",
      "metadata": {
        "id": "UxsmuUHxyOOu",
        "colab_type": "code",
        "colab": {}
      },
      "source": [
        "# Zip the folder as it contains the result and code\n",
        "!zip -rqq AEGAN.zip AEGAN"
      ],
      "execution_count": null,
      "outputs": []
    },
    {
      "cell_type": "code",
      "metadata": {
        "id": "3benSBVZ6ZIh",
        "colab_type": "code",
        "colab": {}
      },
      "source": [
        "# Download the result and code\n",
        "try:\n",
        "  from google.colab import files\n",
        "except ImportError:\n",
        "   pass\n",
        "else:\n",
        "  files.download('AEGAN.zip')"
      ],
      "execution_count": null,
      "outputs": []
    }
  ]
}